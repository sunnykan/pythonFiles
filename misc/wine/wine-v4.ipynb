{
 "cells": [
  {
   "cell_type": "markdown",
   "metadata": {},
   "source": [
    "#### Analysis using cross validation of a combined dataset of white and red wines"
   ]
  },
  {
   "cell_type": "code",
   "execution_count": 1,
   "metadata": {},
   "outputs": [],
   "source": [
    "import pandas as pd\n",
    "import numpy as np\n",
    "import matplotlib.pyplot as plt\n",
    "%matplotlib inline\n",
    "import seaborn as sns\n",
    "from scipy import stats\n",
    "from math import log\n",
    "\n",
    "from sklearn.model_selection import train_test_split, GridSearchCV\n",
    "from sklearn.linear_model import LogisticRegression, LinearRegression\n",
    "from sklearn.metrics import (confusion_matrix, precision_recall_fscore_support, matthews_corrcoef,\n",
    "                             roc_curve, accuracy_score, r2_score, classification_report, roc_auc_score, \n",
    "                             precision_recall_curve)\n",
    "from sklearn.preprocessing import StandardScaler\n",
    "from sklearn.dummy import DummyClassifier\n",
    "from sklearn.svm import SVC\n",
    "from sklearn.neighbors import KNeighborsClassifier\n",
    "from sklearn.tree import DecisionTreeClassifier\n",
    "from sklearn.ensemble import RandomForestClassifier"
   ]
  },
  {
   "cell_type": "code",
   "execution_count": 2,
   "metadata": {},
   "outputs": [],
   "source": [
    "sns.set_palette(\"Accent\")\n",
    "sns.set_style(\"white\")\n",
    "#sns.despine()\n",
    "\n",
    "plt_canvas_default = plt.rcParams['figure.figsize'] # save default canvas size"
   ]
  },
  {
   "cell_type": "markdown",
   "metadata": {},
   "source": [
    "Data source: [Wine Quality Data Set](https://archive.ics.uci.edu/ml/datasets/Wine+Quality)"
   ]
  },
  {
   "cell_type": "code",
   "execution_count": 3,
   "metadata": {},
   "outputs": [
    {
     "data": {
      "text/plain": [
       "(1599, 13)"
      ]
     },
     "execution_count": 3,
     "metadata": {},
     "output_type": "execute_result"
    }
   ],
   "source": [
    "redwine = pd.read_csv(\"./winequality-red.csv\", sep = ';')\n",
    "redwine = redwine.assign(color = \"red\")\n",
    "redwine.shape"
   ]
  },
  {
   "cell_type": "code",
   "execution_count": 4,
   "metadata": {},
   "outputs": [
    {
     "data": {
      "text/plain": [
       "(4898, 13)"
      ]
     },
     "execution_count": 4,
     "metadata": {},
     "output_type": "execute_result"
    }
   ],
   "source": [
    "whitewine = pd.read_csv(\"./winequality-white.csv\", sep = ';')\n",
    "whitewine = whitewine.assign(color = \"white\")\n",
    "whitewine.shape"
   ]
  },
  {
   "cell_type": "markdown",
   "metadata": {},
   "source": [
    "Append the two datasets together. Create a binary rating variable from quality which is coded as 'good' for quality >= 7 and 'bad' otherwise."
   ]
  },
  {
   "cell_type": "code",
   "execution_count": 5,
   "metadata": {},
   "outputs": [
    {
     "data": {
      "text/plain": [
       "(6497, 14)"
      ]
     },
     "execution_count": 5,
     "metadata": {},
     "output_type": "execute_result"
    }
   ],
   "source": [
    "wine = pd.concat([redwine, whitewine])\n",
    "wine = wine.assign(rating = np.where(wine.quality >= 7, \"good\", \"bad\"))\n",
    "wine.shape"
   ]
  },
  {
   "cell_type": "code",
   "execution_count": 6,
   "metadata": {},
   "outputs": [
    {
     "data": {
      "text/html": [
       "<div>\n",
       "<style scoped>\n",
       "    .dataframe tbody tr th:only-of-type {\n",
       "        vertical-align: middle;\n",
       "    }\n",
       "\n",
       "    .dataframe tbody tr th {\n",
       "        vertical-align: top;\n",
       "    }\n",
       "\n",
       "    .dataframe thead th {\n",
       "        text-align: right;\n",
       "    }\n",
       "</style>\n",
       "<table border=\"1\" class=\"dataframe\">\n",
       "  <thead>\n",
       "    <tr style=\"text-align: right;\">\n",
       "      <th>quality</th>\n",
       "      <th>3</th>\n",
       "      <th>4</th>\n",
       "      <th>5</th>\n",
       "      <th>6</th>\n",
       "      <th>7</th>\n",
       "      <th>8</th>\n",
       "      <th>9</th>\n",
       "      <th>All</th>\n",
       "    </tr>\n",
       "    <tr>\n",
       "      <th>rating</th>\n",
       "      <th></th>\n",
       "      <th></th>\n",
       "      <th></th>\n",
       "      <th></th>\n",
       "      <th></th>\n",
       "      <th></th>\n",
       "      <th></th>\n",
       "      <th></th>\n",
       "    </tr>\n",
       "  </thead>\n",
       "  <tbody>\n",
       "    <tr>\n",
       "      <th>bad</th>\n",
       "      <td>30</td>\n",
       "      <td>216</td>\n",
       "      <td>2138</td>\n",
       "      <td>2836</td>\n",
       "      <td>0</td>\n",
       "      <td>0</td>\n",
       "      <td>0</td>\n",
       "      <td>5220</td>\n",
       "    </tr>\n",
       "    <tr>\n",
       "      <th>good</th>\n",
       "      <td>0</td>\n",
       "      <td>0</td>\n",
       "      <td>0</td>\n",
       "      <td>0</td>\n",
       "      <td>1079</td>\n",
       "      <td>193</td>\n",
       "      <td>5</td>\n",
       "      <td>1277</td>\n",
       "    </tr>\n",
       "    <tr>\n",
       "      <th>All</th>\n",
       "      <td>30</td>\n",
       "      <td>216</td>\n",
       "      <td>2138</td>\n",
       "      <td>2836</td>\n",
       "      <td>1079</td>\n",
       "      <td>193</td>\n",
       "      <td>5</td>\n",
       "      <td>6497</td>\n",
       "    </tr>\n",
       "  </tbody>\n",
       "</table>\n",
       "</div>"
      ],
      "text/plain": [
       "quality   3    4     5     6     7    8  9   All\n",
       "rating                                          \n",
       "bad      30  216  2138  2836     0    0  0  5220\n",
       "good      0    0     0     0  1079  193  5  1277\n",
       "All      30  216  2138  2836  1079  193  5  6497"
      ]
     },
     "execution_count": 6,
     "metadata": {},
     "output_type": "execute_result"
    }
   ],
   "source": [
    "pd.crosstab(wine.rating, wine.quality, margins=True)"
   ]
  },
  {
   "cell_type": "code",
   "execution_count": 7,
   "metadata": {},
   "outputs": [
    {
     "data": {
      "text/plain": [
       "Index(['fixed_acidity', 'volatile_acidity', 'citric_acid', 'residual_sugar',\n",
       "       'chlorides', 'free_sulfur_dioxide', 'total_sulfur_dioxide', 'density',\n",
       "       'pH', 'sulphates', 'alcohol', 'quality', 'color', 'rating'],\n",
       "      dtype='object')"
      ]
     },
     "execution_count": 7,
     "metadata": {},
     "output_type": "execute_result"
    }
   ],
   "source": [
    "# clean up column names\n",
    "wine.columns = ['_'.join(col.split()) for col in wine.columns]\n",
    "wine.columns"
   ]
  },
  {
   "cell_type": "code",
   "execution_count": 8,
   "metadata": {},
   "outputs": [
    {
     "data": {
      "text/plain": [
       "fixed_acidity           float64\n",
       "volatile_acidity        float64\n",
       "citric_acid             float64\n",
       "residual_sugar          float64\n",
       "chlorides               float64\n",
       "free_sulfur_dioxide     float64\n",
       "total_sulfur_dioxide    float64\n",
       "density                 float64\n",
       "pH                      float64\n",
       "sulphates               float64\n",
       "alcohol                 float64\n",
       "quality                   int64\n",
       "color                    object\n",
       "rating                   object\n",
       "dtype: object"
      ]
     },
     "execution_count": 8,
     "metadata": {},
     "output_type": "execute_result"
    }
   ],
   "source": [
    "wine.dtypes"
   ]
  },
  {
   "cell_type": "code",
   "execution_count": 9,
   "metadata": {},
   "outputs": [
    {
     "data": {
      "text/plain": [
       "((5197, 13), (1300, 13), (5197,), (1300,))"
      ]
     },
     "execution_count": 9,
     "metadata": {},
     "output_type": "execute_result"
    }
   ],
   "source": [
    "xtrain, xtest, ytrain, ytest = train_test_split(wine.iloc[:,:-1], wine.iloc[:,-1], test_size = 0.2, random_state = 0)\n",
    "xtrain.shape, xtest.shape, ytrain.shape, ytest.shape"
   ]
  },
  {
   "cell_type": "code",
   "execution_count": 10,
   "metadata": {},
   "outputs": [
    {
     "data": {
      "text/html": [
       "<div>\n",
       "<style scoped>\n",
       "    .dataframe tbody tr th:only-of-type {\n",
       "        vertical-align: middle;\n",
       "    }\n",
       "\n",
       "    .dataframe tbody tr th {\n",
       "        vertical-align: top;\n",
       "    }\n",
       "\n",
       "    .dataframe thead th {\n",
       "        text-align: right;\n",
       "    }\n",
       "</style>\n",
       "<table border=\"1\" class=\"dataframe\">\n",
       "  <thead>\n",
       "    <tr style=\"text-align: right;\">\n",
       "      <th></th>\n",
       "      <th>fixed_acidity</th>\n",
       "      <th>volatile_acidity</th>\n",
       "      <th>citric_acid</th>\n",
       "      <th>residual_sugar</th>\n",
       "      <th>chlorides</th>\n",
       "      <th>free_sulfur_dioxide</th>\n",
       "      <th>total_sulfur_dioxide</th>\n",
       "      <th>density</th>\n",
       "      <th>pH</th>\n",
       "      <th>sulphates</th>\n",
       "      <th>alcohol</th>\n",
       "      <th>quality</th>\n",
       "    </tr>\n",
       "  </thead>\n",
       "  <tbody>\n",
       "    <tr>\n",
       "      <th>count</th>\n",
       "      <td>5197.000000</td>\n",
       "      <td>5197.000000</td>\n",
       "      <td>5197.000000</td>\n",
       "      <td>5197.000000</td>\n",
       "      <td>5197.000000</td>\n",
       "      <td>5197.000000</td>\n",
       "      <td>5197.000000</td>\n",
       "      <td>5197.000000</td>\n",
       "      <td>5197.000000</td>\n",
       "      <td>5197.000000</td>\n",
       "      <td>5197.000000</td>\n",
       "      <td>5197.000000</td>\n",
       "    </tr>\n",
       "    <tr>\n",
       "      <th>mean</th>\n",
       "      <td>7.211112</td>\n",
       "      <td>0.340331</td>\n",
       "      <td>0.318917</td>\n",
       "      <td>5.402030</td>\n",
       "      <td>0.056147</td>\n",
       "      <td>30.570906</td>\n",
       "      <td>115.927266</td>\n",
       "      <td>0.994687</td>\n",
       "      <td>3.218037</td>\n",
       "      <td>0.531995</td>\n",
       "      <td>10.485645</td>\n",
       "      <td>5.817972</td>\n",
       "    </tr>\n",
       "    <tr>\n",
       "      <th>std</th>\n",
       "      <td>1.287543</td>\n",
       "      <td>0.165619</td>\n",
       "      <td>0.145061</td>\n",
       "      <td>4.664513</td>\n",
       "      <td>0.035135</td>\n",
       "      <td>17.966702</td>\n",
       "      <td>56.803135</td>\n",
       "      <td>0.002927</td>\n",
       "      <td>0.160284</td>\n",
       "      <td>0.149929</td>\n",
       "      <td>1.185198</td>\n",
       "      <td>0.871210</td>\n",
       "    </tr>\n",
       "    <tr>\n",
       "      <th>min</th>\n",
       "      <td>3.800000</td>\n",
       "      <td>0.080000</td>\n",
       "      <td>0.000000</td>\n",
       "      <td>0.600000</td>\n",
       "      <td>0.009000</td>\n",
       "      <td>2.000000</td>\n",
       "      <td>6.000000</td>\n",
       "      <td>0.987110</td>\n",
       "      <td>2.720000</td>\n",
       "      <td>0.220000</td>\n",
       "      <td>8.000000</td>\n",
       "      <td>3.000000</td>\n",
       "    </tr>\n",
       "    <tr>\n",
       "      <th>25%</th>\n",
       "      <td>6.400000</td>\n",
       "      <td>0.230000</td>\n",
       "      <td>0.250000</td>\n",
       "      <td>1.800000</td>\n",
       "      <td>0.038000</td>\n",
       "      <td>17.000000</td>\n",
       "      <td>77.000000</td>\n",
       "      <td>0.992400</td>\n",
       "      <td>3.110000</td>\n",
       "      <td>0.430000</td>\n",
       "      <td>9.500000</td>\n",
       "      <td>5.000000</td>\n",
       "    </tr>\n",
       "    <tr>\n",
       "      <th>50%</th>\n",
       "      <td>7.000000</td>\n",
       "      <td>0.290000</td>\n",
       "      <td>0.310000</td>\n",
       "      <td>3.000000</td>\n",
       "      <td>0.047000</td>\n",
       "      <td>29.000000</td>\n",
       "      <td>118.000000</td>\n",
       "      <td>0.994890</td>\n",
       "      <td>3.210000</td>\n",
       "      <td>0.510000</td>\n",
       "      <td>10.300000</td>\n",
       "      <td>6.000000</td>\n",
       "    </tr>\n",
       "    <tr>\n",
       "      <th>75%</th>\n",
       "      <td>7.700000</td>\n",
       "      <td>0.400000</td>\n",
       "      <td>0.390000</td>\n",
       "      <td>8.100000</td>\n",
       "      <td>0.065000</td>\n",
       "      <td>41.000000</td>\n",
       "      <td>156.000000</td>\n",
       "      <td>0.996950</td>\n",
       "      <td>3.320000</td>\n",
       "      <td>0.600000</td>\n",
       "      <td>11.300000</td>\n",
       "      <td>6.000000</td>\n",
       "    </tr>\n",
       "    <tr>\n",
       "      <th>max</th>\n",
       "      <td>15.900000</td>\n",
       "      <td>1.580000</td>\n",
       "      <td>1.660000</td>\n",
       "      <td>31.600000</td>\n",
       "      <td>0.611000</td>\n",
       "      <td>289.000000</td>\n",
       "      <td>440.000000</td>\n",
       "      <td>1.010300</td>\n",
       "      <td>4.010000</td>\n",
       "      <td>2.000000</td>\n",
       "      <td>14.900000</td>\n",
       "      <td>9.000000</td>\n",
       "    </tr>\n",
       "  </tbody>\n",
       "</table>\n",
       "</div>"
      ],
      "text/plain": [
       "       fixed_acidity  volatile_acidity  citric_acid  residual_sugar  \\\n",
       "count    5197.000000       5197.000000  5197.000000     5197.000000   \n",
       "mean        7.211112          0.340331     0.318917        5.402030   \n",
       "std         1.287543          0.165619     0.145061        4.664513   \n",
       "min         3.800000          0.080000     0.000000        0.600000   \n",
       "25%         6.400000          0.230000     0.250000        1.800000   \n",
       "50%         7.000000          0.290000     0.310000        3.000000   \n",
       "75%         7.700000          0.400000     0.390000        8.100000   \n",
       "max        15.900000          1.580000     1.660000       31.600000   \n",
       "\n",
       "         chlorides  free_sulfur_dioxide  total_sulfur_dioxide      density  \\\n",
       "count  5197.000000          5197.000000           5197.000000  5197.000000   \n",
       "mean      0.056147            30.570906            115.927266     0.994687   \n",
       "std       0.035135            17.966702             56.803135     0.002927   \n",
       "min       0.009000             2.000000              6.000000     0.987110   \n",
       "25%       0.038000            17.000000             77.000000     0.992400   \n",
       "50%       0.047000            29.000000            118.000000     0.994890   \n",
       "75%       0.065000            41.000000            156.000000     0.996950   \n",
       "max       0.611000           289.000000            440.000000     1.010300   \n",
       "\n",
       "                pH    sulphates      alcohol      quality  \n",
       "count  5197.000000  5197.000000  5197.000000  5197.000000  \n",
       "mean      3.218037     0.531995    10.485645     5.817972  \n",
       "std       0.160284     0.149929     1.185198     0.871210  \n",
       "min       2.720000     0.220000     8.000000     3.000000  \n",
       "25%       3.110000     0.430000     9.500000     5.000000  \n",
       "50%       3.210000     0.510000    10.300000     6.000000  \n",
       "75%       3.320000     0.600000    11.300000     6.000000  \n",
       "max       4.010000     2.000000    14.900000     9.000000  "
      ]
     },
     "execution_count": 10,
     "metadata": {},
     "output_type": "execute_result"
    }
   ],
   "source": [
    "xtrain.describe()"
   ]
  },
  {
   "cell_type": "markdown",
   "metadata": {},
   "source": [
    "Many of the variables appear to have extreme values. We can examine boxplots to identify them visually."
   ]
  },
  {
   "cell_type": "code",
   "execution_count": 11,
   "metadata": {},
   "outputs": [],
   "source": [
    "def plot_features(feature):\n",
    "    fig, (ax1, ax2) = plt.subplots(2, 1, sharex = True)\n",
    "    sns.boxplot(x=feature, ax=ax1)\n",
    "    sns.kdeplot(feature, ax=ax2)"
   ]
  },
  {
   "cell_type": "code",
   "execution_count": 12,
   "metadata": {},
   "outputs": [
    {
     "data": {
      "image/png": "[encoded data removed]",
      "text/plain": [
       "<Figure size 432x288 with 2 Axes>"
      ]
     },
     "metadata": {},
     "output_type": "display_data"
    },
    {
     "data": {
      "image/png": "[encoded data removed]",
      "text/plain": [
       "<Figure size 432x288 with 2 Axes>"
      ]
     },
     "metadata": {},
     "output_type": "display_data"
    },
    {
     "data": {
      "image/png": "[encoded data removed]",
      "text/plain": [
       "<Figure size 432x288 with 2 Axes>"
      ]
     },
     "metadata": {},
     "output_type": "display_data"
    },
    {
     "data": {
      "image/png": "[encoded data removed]",
      "text/plain": [
       "<Figure size 432x288 with 2 Axes>"
      ]
     },
     "metadata": {},
     "output_type": "display_data"
    },
    {
     "data": {
      "image/png": "[encoded data removed]",
      "text/plain": [
       "<Figure size 432x288 with 2 Axes>"
      ]
     },
     "metadata": {},
     "output_type": "display_data"
    },
    {
     "data": {
      "image/png": "[encoded data removed]",
      "text/plain": [
       "<Figure size 432x288 with 2 Axes>"
      ]
     },
     "metadata": {},
     "output_type": "display_data"
    },
    {
     "data": {
      "image/png": "[encoded data removed]",
      "text/plain": [
       "<Figure size 432x288 with 2 Axes>"
      ]
     },
     "metadata": {},
     "output_type": "display_data"
    },
    {
     "data": {
      "image/png": "[encoded data removed]",
      "text/plain": [
       "<Figure size 432x288 with 2 Axes>"
      ]
     },
     "metadata": {},
     "output_type": "display_data"
    },
    {
     "data": {
      "image/png": "[encoded data removed]",
      "text/plain": [
       "<Figure size 432x288 with 2 Axes>"
      ]
     },
     "metadata": {},
     "output_type": "display_data"
    },
    {
     "data": {
      "image/png": "[encoded data removed]",
      "text/plain": [
       "<Figure size 432x288 with 2 Axes>"
      ]
     },
     "metadata": {},
     "output_type": "display_data"
    }
   ],
   "source": [
    "features = xtrain.columns.values.tolist()\n",
    "for f in features[:-3]:\n",
    "    plot_features(xtrain[f])"
   ]
  },
  {
   "cell_type": "markdown",
   "metadata": {},
   "source": [
    "Except for alcohol, density and ph, the plots show a right skew in the data quite clearly . A log transformation of volatile acidity and fixed acidity makes the data more normal. Other variables have some extreme values - citric acid and total sulfur dioxide, for example. We retain them, for now."
   ]
  },
  {
   "cell_type": "code",
   "execution_count": 13,
   "metadata": {},
   "outputs": [],
   "source": [
    "# log transformation of acidity variables\n",
    "xtrain[\"fixed_acidity\"] = xtrain.fixed_acidity.apply(lambda x: log(x))\n",
    "xtrain[\"volatile_acidity\"] = xtrain.volatile_acidity.apply(lambda x: log(x))\n",
    "\n",
    "xtest[\"fixed_acidity\"] = xtest.fixed_acidity.apply(lambda x: log(x))\n",
    "xtest[\"volatile_acidity\"] = xtest.volatile_acidity.apply(lambda x: log(x))"
   ]
  },
  {
   "cell_type": "code",
   "execution_count": 14,
   "metadata": {},
   "outputs": [
    {
     "data": {
      "text/plain": [
       "<matplotlib.axes._subplots.AxesSubplot at 0x11afe72e8>"
      ]
     },
     "execution_count": 14,
     "metadata": {},
     "output_type": "execute_result"
    },
    {
     "data": {
      "image/png": "[encoded data removed]",
      "text/plain": [
       "<Figure size 432x288 with 2 Axes>"
      ]
     },
     "metadata": {},
     "output_type": "display_data"
    }
   ],
   "source": [
    "fig, (ax1, ax2) = plt.subplots(2, 1, sharex = True)\n",
    "sns.boxplot(x=xtrain.fixed_acidity, ax=ax1)\n",
    "sns.kdeplot(xtrain.fixed_acidity, ax=ax2)"
   ]
  },
  {
   "cell_type": "code",
   "execution_count": 15,
   "metadata": {},
   "outputs": [
    {
     "data": {
      "text/plain": [
       "<matplotlib.axes._subplots.AxesSubplot at 0x11b074978>"
      ]
     },
     "execution_count": 15,
     "metadata": {},
     "output_type": "execute_result"
    },
    {
     "data": {
      "image/png": "[encoded data removed]",
      "text/plain": [
       "<Figure size 432x288 with 2 Axes>"
      ]
     },
     "metadata": {},
     "output_type": "display_data"
    }
   ],
   "source": [
    "fig, (ax1, ax2) = plt.subplots(2, 1, sharex = True)\n",
    "sns.boxplot(x=xtrain.volatile_acidity, ax=ax1)\n",
    "sns.kdeplot(xtrain.volatile_acidity, ax=ax2)"
   ]
  },
  {
   "cell_type": "markdown",
   "metadata": {},
   "source": [
    "What about wine quality?"
   ]
  },
  {
   "cell_type": "code",
   "execution_count": 16,
   "metadata": {},
   "outputs": [
    {
     "data": {
      "text/plain": [
       "bad     0.802963\n",
       "good    0.197037\n",
       "Name: rating, dtype: float64"
      ]
     },
     "execution_count": 16,
     "metadata": {},
     "output_type": "execute_result"
    }
   ],
   "source": [
    "ytrain.value_counts()/ytrain.value_counts().sum()"
   ]
  },
  {
   "cell_type": "markdown",
   "metadata": {},
   "source": [
    "Only about 20 percent of the wines are rated as good"
   ]
  },
  {
   "cell_type": "markdown",
   "metadata": {},
   "source": [
    "We can look at information classified by color of wine."
   ]
  },
  {
   "cell_type": "code",
   "execution_count": 17,
   "metadata": {},
   "outputs": [
    {
     "data": {
      "text/plain": [
       "white    0.752165\n",
       "red      0.247835\n",
       "Name: color, dtype: float64"
      ]
     },
     "execution_count": 17,
     "metadata": {},
     "output_type": "execute_result"
    }
   ],
   "source": [
    "xtrain.color.value_counts()/xtrain.color.value_counts().sum()"
   ]
  },
  {
   "cell_type": "code",
   "execution_count": 18,
   "metadata": {},
   "outputs": [
    {
     "data": {
      "text/html": [
       "<div>\n",
       "<style scoped>\n",
       "    .dataframe tbody tr th:only-of-type {\n",
       "        vertical-align: middle;\n",
       "    }\n",
       "\n",
       "    .dataframe tbody tr th {\n",
       "        vertical-align: top;\n",
       "    }\n",
       "\n",
       "    .dataframe thead th {\n",
       "        text-align: right;\n",
       "    }\n",
       "</style>\n",
       "<table border=\"1\" class=\"dataframe\">\n",
       "  <thead>\n",
       "    <tr style=\"text-align: right;\">\n",
       "      <th>quality</th>\n",
       "      <th>3</th>\n",
       "      <th>4</th>\n",
       "      <th>5</th>\n",
       "      <th>6</th>\n",
       "      <th>7</th>\n",
       "      <th>8</th>\n",
       "      <th>9</th>\n",
       "      <th>All</th>\n",
       "    </tr>\n",
       "    <tr>\n",
       "      <th>color</th>\n",
       "      <th></th>\n",
       "      <th></th>\n",
       "      <th></th>\n",
       "      <th></th>\n",
       "      <th></th>\n",
       "      <th></th>\n",
       "      <th></th>\n",
       "      <th></th>\n",
       "    </tr>\n",
       "  </thead>\n",
       "  <tbody>\n",
       "    <tr>\n",
       "      <th>red</th>\n",
       "      <td>9</td>\n",
       "      <td>40</td>\n",
       "      <td>557</td>\n",
       "      <td>493</td>\n",
       "      <td>173</td>\n",
       "      <td>16</td>\n",
       "      <td>0</td>\n",
       "      <td>1288</td>\n",
       "    </tr>\n",
       "    <tr>\n",
       "      <th>white</th>\n",
       "      <td>14</td>\n",
       "      <td>128</td>\n",
       "      <td>1168</td>\n",
       "      <td>1764</td>\n",
       "      <td>695</td>\n",
       "      <td>136</td>\n",
       "      <td>4</td>\n",
       "      <td>3909</td>\n",
       "    </tr>\n",
       "    <tr>\n",
       "      <th>All</th>\n",
       "      <td>23</td>\n",
       "      <td>168</td>\n",
       "      <td>1725</td>\n",
       "      <td>2257</td>\n",
       "      <td>868</td>\n",
       "      <td>152</td>\n",
       "      <td>4</td>\n",
       "      <td>5197</td>\n",
       "    </tr>\n",
       "  </tbody>\n",
       "</table>\n",
       "</div>"
      ],
      "text/plain": [
       "quality   3    4     5     6    7    8  9   All\n",
       "color                                          \n",
       "red       9   40   557   493  173   16  0  1288\n",
       "white    14  128  1168  1764  695  136  4  3909\n",
       "All      23  168  1725  2257  868  152  4  5197"
      ]
     },
     "execution_count": 18,
     "metadata": {},
     "output_type": "execute_result"
    }
   ],
   "source": [
    "pd.crosstab(xtrain.color, xtrain.quality, margins=True)"
   ]
  },
  {
   "cell_type": "code",
   "execution_count": 19,
   "metadata": {},
   "outputs": [
    {
     "data": {
      "text/html": [
       "<div>\n",
       "<style scoped>\n",
       "    .dataframe tbody tr th:only-of-type {\n",
       "        vertical-align: middle;\n",
       "    }\n",
       "\n",
       "    .dataframe tbody tr th {\n",
       "        vertical-align: top;\n",
       "    }\n",
       "\n",
       "    .dataframe thead th {\n",
       "        text-align: right;\n",
       "    }\n",
       "</style>\n",
       "<table border=\"1\" class=\"dataframe\">\n",
       "  <thead>\n",
       "    <tr style=\"text-align: right;\">\n",
       "      <th>rating</th>\n",
       "      <th>bad</th>\n",
       "      <th>good</th>\n",
       "      <th>All</th>\n",
       "    </tr>\n",
       "    <tr>\n",
       "      <th>color</th>\n",
       "      <th></th>\n",
       "      <th></th>\n",
       "      <th></th>\n",
       "    </tr>\n",
       "  </thead>\n",
       "  <tbody>\n",
       "    <tr>\n",
       "      <th>red</th>\n",
       "      <td>0.211468</td>\n",
       "      <td>0.036367</td>\n",
       "      <td>0.247835</td>\n",
       "    </tr>\n",
       "    <tr>\n",
       "      <th>white</th>\n",
       "      <td>0.591495</td>\n",
       "      <td>0.160670</td>\n",
       "      <td>0.752165</td>\n",
       "    </tr>\n",
       "    <tr>\n",
       "      <th>All</th>\n",
       "      <td>0.802963</td>\n",
       "      <td>0.197037</td>\n",
       "      <td>1.000000</td>\n",
       "    </tr>\n",
       "  </tbody>\n",
       "</table>\n",
       "</div>"
      ],
      "text/plain": [
       "rating       bad      good       All\n",
       "color                               \n",
       "red     0.211468  0.036367  0.247835\n",
       "white   0.591495  0.160670  0.752165\n",
       "All     0.802963  0.197037  1.000000"
      ]
     },
     "execution_count": 19,
     "metadata": {},
     "output_type": "execute_result"
    }
   ],
   "source": [
    "pd.crosstab(xtrain.color, ytrain, margins=True, normalize='all')"
   ]
  },
  {
   "cell_type": "markdown",
   "metadata": {},
   "source": [
    "We can see that about 75% of the data is comprised of white wines. Most wines are rated 5, 6, or 7 and no red wines are rated 9 - the highest rating. Only four white wines have the highest rating. The joint distribution shows that about 16% of the wines are white and rated good."
   ]
  },
  {
   "cell_type": "markdown",
   "metadata": {},
   "source": [
    "We can look at the correlation table for the features."
   ]
  },
  {
   "cell_type": "code",
   "execution_count": 20,
   "metadata": {},
   "outputs": [
    {
     "data": {
      "text/html": [
       "<div>\n",
       "<style scoped>\n",
       "    .dataframe tbody tr th:only-of-type {\n",
       "        vertical-align: middle;\n",
       "    }\n",
       "\n",
       "    .dataframe tbody tr th {\n",
       "        vertical-align: top;\n",
       "    }\n",
       "\n",
       "    .dataframe thead th {\n",
       "        text-align: right;\n",
       "    }\n",
       "</style>\n",
       "<table border=\"1\" class=\"dataframe\">\n",
       "  <thead>\n",
       "    <tr style=\"text-align: right;\">\n",
       "      <th></th>\n",
       "      <th>fixed_acidity</th>\n",
       "      <th>volatile_acidity</th>\n",
       "      <th>citric_acid</th>\n",
       "      <th>residual_sugar</th>\n",
       "      <th>chlorides</th>\n",
       "      <th>free_sulfur_dioxide</th>\n",
       "      <th>total_sulfur_dioxide</th>\n",
       "      <th>density</th>\n",
       "      <th>pH</th>\n",
       "      <th>sulphates</th>\n",
       "      <th>alcohol</th>\n",
       "      <th>quality</th>\n",
       "    </tr>\n",
       "  </thead>\n",
       "  <tbody>\n",
       "    <tr>\n",
       "      <th>fixed_acidity</th>\n",
       "      <td>1.000000</td>\n",
       "      <td>NaN</td>\n",
       "      <td>0.310885</td>\n",
       "      <td>NaN</td>\n",
       "      <td>0.296102</td>\n",
       "      <td>-0.270569</td>\n",
       "      <td>-0.308047</td>\n",
       "      <td>0.470897</td>\n",
       "      <td>-0.279308</td>\n",
       "      <td>0.286530</td>\n",
       "      <td>NaN</td>\n",
       "      <td>NaN</td>\n",
       "    </tr>\n",
       "    <tr>\n",
       "      <th>volatile_acidity</th>\n",
       "      <td>NaN</td>\n",
       "      <td>1.000000</td>\n",
       "      <td>-0.339389</td>\n",
       "      <td>NaN</td>\n",
       "      <td>0.361947</td>\n",
       "      <td>-0.335573</td>\n",
       "      <td>-0.376481</td>\n",
       "      <td>0.267283</td>\n",
       "      <td>NaN</td>\n",
       "      <td>NaN</td>\n",
       "      <td>NaN</td>\n",
       "      <td>-0.256634</td>\n",
       "    </tr>\n",
       "    <tr>\n",
       "      <th>citric_acid</th>\n",
       "      <td>0.310885</td>\n",
       "      <td>-0.339389</td>\n",
       "      <td>1.000000</td>\n",
       "      <td>NaN</td>\n",
       "      <td>NaN</td>\n",
       "      <td>NaN</td>\n",
       "      <td>NaN</td>\n",
       "      <td>NaN</td>\n",
       "      <td>-0.342338</td>\n",
       "      <td>NaN</td>\n",
       "      <td>NaN</td>\n",
       "      <td>NaN</td>\n",
       "    </tr>\n",
       "    <tr>\n",
       "      <th>residual_sugar</th>\n",
       "      <td>NaN</td>\n",
       "      <td>NaN</td>\n",
       "      <td>NaN</td>\n",
       "      <td>1.000000</td>\n",
       "      <td>NaN</td>\n",
       "      <td>0.410065</td>\n",
       "      <td>0.498982</td>\n",
       "      <td>0.540720</td>\n",
       "      <td>-0.271736</td>\n",
       "      <td>NaN</td>\n",
       "      <td>-0.374520</td>\n",
       "      <td>NaN</td>\n",
       "    </tr>\n",
       "    <tr>\n",
       "      <th>chlorides</th>\n",
       "      <td>0.296102</td>\n",
       "      <td>0.361947</td>\n",
       "      <td>NaN</td>\n",
       "      <td>NaN</td>\n",
       "      <td>1.000000</td>\n",
       "      <td>NaN</td>\n",
       "      <td>-0.273946</td>\n",
       "      <td>0.367768</td>\n",
       "      <td>NaN</td>\n",
       "      <td>0.385715</td>\n",
       "      <td>-0.257137</td>\n",
       "      <td>NaN</td>\n",
       "    </tr>\n",
       "    <tr>\n",
       "      <th>free_sulfur_dioxide</th>\n",
       "      <td>-0.270569</td>\n",
       "      <td>-0.335573</td>\n",
       "      <td>NaN</td>\n",
       "      <td>0.410065</td>\n",
       "      <td>NaN</td>\n",
       "      <td>1.000000</td>\n",
       "      <td>0.722476</td>\n",
       "      <td>NaN</td>\n",
       "      <td>NaN</td>\n",
       "      <td>NaN</td>\n",
       "      <td>NaN</td>\n",
       "      <td>NaN</td>\n",
       "    </tr>\n",
       "    <tr>\n",
       "      <th>total_sulfur_dioxide</th>\n",
       "      <td>-0.308047</td>\n",
       "      <td>-0.376481</td>\n",
       "      <td>NaN</td>\n",
       "      <td>0.498982</td>\n",
       "      <td>-0.273946</td>\n",
       "      <td>0.722476</td>\n",
       "      <td>1.000000</td>\n",
       "      <td>NaN</td>\n",
       "      <td>NaN</td>\n",
       "      <td>-0.275214</td>\n",
       "      <td>-0.272537</td>\n",
       "      <td>NaN</td>\n",
       "    </tr>\n",
       "    <tr>\n",
       "      <th>density</th>\n",
       "      <td>0.470897</td>\n",
       "      <td>0.267283</td>\n",
       "      <td>NaN</td>\n",
       "      <td>0.540720</td>\n",
       "      <td>0.367768</td>\n",
       "      <td>NaN</td>\n",
       "      <td>NaN</td>\n",
       "      <td>1.000000</td>\n",
       "      <td>NaN</td>\n",
       "      <td>0.260673</td>\n",
       "      <td>-0.702969</td>\n",
       "      <td>-0.310885</td>\n",
       "    </tr>\n",
       "    <tr>\n",
       "      <th>pH</th>\n",
       "      <td>-0.279308</td>\n",
       "      <td>NaN</td>\n",
       "      <td>-0.342338</td>\n",
       "      <td>-0.271736</td>\n",
       "      <td>NaN</td>\n",
       "      <td>NaN</td>\n",
       "      <td>NaN</td>\n",
       "      <td>NaN</td>\n",
       "      <td>1.000000</td>\n",
       "      <td>NaN</td>\n",
       "      <td>NaN</td>\n",
       "      <td>NaN</td>\n",
       "    </tr>\n",
       "    <tr>\n",
       "      <th>sulphates</th>\n",
       "      <td>0.286530</td>\n",
       "      <td>NaN</td>\n",
       "      <td>NaN</td>\n",
       "      <td>NaN</td>\n",
       "      <td>0.385715</td>\n",
       "      <td>NaN</td>\n",
       "      <td>-0.275214</td>\n",
       "      <td>0.260673</td>\n",
       "      <td>NaN</td>\n",
       "      <td>1.000000</td>\n",
       "      <td>NaN</td>\n",
       "      <td>NaN</td>\n",
       "    </tr>\n",
       "    <tr>\n",
       "      <th>alcohol</th>\n",
       "      <td>NaN</td>\n",
       "      <td>NaN</td>\n",
       "      <td>NaN</td>\n",
       "      <td>-0.374520</td>\n",
       "      <td>-0.257137</td>\n",
       "      <td>NaN</td>\n",
       "      <td>-0.272537</td>\n",
       "      <td>-0.702969</td>\n",
       "      <td>NaN</td>\n",
       "      <td>NaN</td>\n",
       "      <td>1.000000</td>\n",
       "      <td>0.444530</td>\n",
       "    </tr>\n",
       "    <tr>\n",
       "      <th>quality</th>\n",
       "      <td>NaN</td>\n",
       "      <td>-0.256634</td>\n",
       "      <td>NaN</td>\n",
       "      <td>NaN</td>\n",
       "      <td>NaN</td>\n",
       "      <td>NaN</td>\n",
       "      <td>NaN</td>\n",
       "      <td>-0.310885</td>\n",
       "      <td>NaN</td>\n",
       "      <td>NaN</td>\n",
       "      <td>0.444530</td>\n",
       "      <td>1.000000</td>\n",
       "    </tr>\n",
       "  </tbody>\n",
       "</table>\n",
       "</div>"
      ],
      "text/plain": [
       "                      fixed_acidity  volatile_acidity  citric_acid  \\\n",
       "fixed_acidity              1.000000               NaN     0.310885   \n",
       "volatile_acidity                NaN          1.000000    -0.339389   \n",
       "citric_acid                0.310885         -0.339389     1.000000   \n",
       "residual_sugar                  NaN               NaN          NaN   \n",
       "chlorides                  0.296102          0.361947          NaN   \n",
       "free_sulfur_dioxide       -0.270569         -0.335573          NaN   \n",
       "total_sulfur_dioxide      -0.308047         -0.376481          NaN   \n",
       "density                    0.470897          0.267283          NaN   \n",
       "pH                        -0.279308               NaN    -0.342338   \n",
       "sulphates                  0.286530               NaN          NaN   \n",
       "alcohol                         NaN               NaN          NaN   \n",
       "quality                         NaN         -0.256634          NaN   \n",
       "\n",
       "                      residual_sugar  chlorides  free_sulfur_dioxide  \\\n",
       "fixed_acidity                    NaN   0.296102            -0.270569   \n",
       "volatile_acidity                 NaN   0.361947            -0.335573   \n",
       "citric_acid                      NaN        NaN                  NaN   \n",
       "residual_sugar              1.000000        NaN             0.410065   \n",
       "chlorides                        NaN   1.000000                  NaN   \n",
       "free_sulfur_dioxide         0.410065        NaN             1.000000   \n",
       "total_sulfur_dioxide        0.498982  -0.273946             0.722476   \n",
       "density                     0.540720   0.367768                  NaN   \n",
       "pH                         -0.271736        NaN                  NaN   \n",
       "sulphates                        NaN   0.385715                  NaN   \n",
       "alcohol                    -0.374520  -0.257137                  NaN   \n",
       "quality                          NaN        NaN                  NaN   \n",
       "\n",
       "                      total_sulfur_dioxide   density        pH  sulphates  \\\n",
       "fixed_acidity                    -0.308047  0.470897 -0.279308   0.286530   \n",
       "volatile_acidity                 -0.376481  0.267283       NaN        NaN   \n",
       "citric_acid                            NaN       NaN -0.342338        NaN   \n",
       "residual_sugar                    0.498982  0.540720 -0.271736        NaN   \n",
       "chlorides                        -0.273946  0.367768       NaN   0.385715   \n",
       "free_sulfur_dioxide               0.722476       NaN       NaN        NaN   \n",
       "total_sulfur_dioxide              1.000000       NaN       NaN  -0.275214   \n",
       "density                                NaN  1.000000       NaN   0.260673   \n",
       "pH                                     NaN       NaN  1.000000        NaN   \n",
       "sulphates                        -0.275214  0.260673       NaN   1.000000   \n",
       "alcohol                          -0.272537 -0.702969       NaN        NaN   \n",
       "quality                                NaN -0.310885       NaN        NaN   \n",
       "\n",
       "                       alcohol   quality  \n",
       "fixed_acidity              NaN       NaN  \n",
       "volatile_acidity           NaN -0.256634  \n",
       "citric_acid                NaN       NaN  \n",
       "residual_sugar       -0.374520       NaN  \n",
       "chlorides            -0.257137       NaN  \n",
       "free_sulfur_dioxide        NaN       NaN  \n",
       "total_sulfur_dioxide -0.272537       NaN  \n",
       "density              -0.702969 -0.310885  \n",
       "pH                         NaN       NaN  \n",
       "sulphates                  NaN       NaN  \n",
       "alcohol               1.000000  0.444530  \n",
       "quality               0.444530  1.000000  "
      ]
     },
     "execution_count": 20,
     "metadata": {},
     "output_type": "execute_result"
    }
   ],
   "source": [
    "corr = xtrain.corr()[(xtrain.corr() > 0.25) | (xtrain.corr() < -0.25)]\n",
    "corr"
   ]
  },
  {
   "cell_type": "code",
   "execution_count": 21,
   "metadata": {},
   "outputs": [
    {
     "data": {
      "image/png": "[encoded data removed]",
      "text/plain": [
       "<Figure size 792x648 with 2 Axes>"
      ]
     },
     "metadata": {},
     "output_type": "display_data"
    }
   ],
   "source": [
    "# visualize the table\n",
    "mask = np.zeros_like(corr, dtype=np.bool)\n",
    "mask[np.triu_indices_from(mask)] = True\n",
    "f, ax = plt.subplots(figsize=(11, 9))\n",
    "cmap = sns.diverging_palette(220, 10, as_cmap=True)\n",
    "sns.heatmap(corr, mask=mask, cmap=cmap, vmax=.3, center=0,\n",
    "            square=True, linewidths=.5, cbar_kws={\"shrink\": .5});"
   ]
  },
  {
   "cell_type": "markdown",
   "metadata": {},
   "source": [
    "Only correlations above 0.25 or below -0.25 are shown in the table and the corresponding plot. Quality appears to be somewhat correlated with volatile acidity, density and alcohol. The correlations between total sulphur dioxide and free sulphur dioxide; and density and alcohol are above 0.7. Further, density is correlated with most other variables.\n",
    "\n",
    "If we regress density on all predictors we get a R-square of 94% (not shown). We drop the variable from the analysis to avoid problems with collinearity. 'color' and 'quality' are also dropped."
   ]
  },
  {
   "cell_type": "code",
   "execution_count": 22,
   "metadata": {},
   "outputs": [],
   "source": [
    "xtrain.drop(columns = ['density'], inplace = True);\n",
    "xtest.drop(columns = ['density'], inplace = True);\n",
    "\n",
    "xtrain.drop(columns = ['color'], inplace = True);\n",
    "xtest.drop(columns = ['color'], inplace = True);\n",
    "\n",
    "xtrain.drop(columns = ['quality'], inplace = True);\n",
    "xtest.drop(columns = ['quality'], inplace = True);"
   ]
  },
  {
   "cell_type": "markdown",
   "metadata": {},
   "source": [
    "We can look plots of the predictors against the binary response 'rating'. "
   ]
  },
  {
   "cell_type": "code",
   "execution_count": 23,
   "metadata": {},
   "outputs": [
    {
     "data": {
      "image/png": "[encoded data removed]",
      "text/plain": [
       "<Figure size 1440x1080 with 10 Axes>"
      ]
     },
     "metadata": {},
     "output_type": "display_data"
    }
   ],
   "source": [
    "plt.rcParams['figure.figsize'] = [20, 15]\n",
    "features = xtrain.columns.values.tolist()        \n",
    "\n",
    "fig = plt.figure()\n",
    "fig.subplots_adjust(hspace=0.2, wspace=0.5)\n",
    "\n",
    "for i, feature in enumerate(features):\n",
    "    ax = fig.add_subplot(2, 5, i+1)\n",
    "    sns.boxplot(x=ytrain, y=xtrain[feature], ax=ax)\n",
    "    \n",
    "plt.rcParams['figure.figsize'] = plt_canvas_default #reset canvas to default"
   ]
  },
  {
   "cell_type": "markdown",
   "metadata": {},
   "source": [
    "Alcohol appears to discriminate the most between 'bad' and 'good' while volatile acidity shows a slight difference. Some of the others may be affected by the presence of extreme values."
   ]
  },
  {
   "cell_type": "markdown",
   "metadata": {},
   "source": [
    "Before starting our analysis, we standardize the predictors."
   ]
  },
  {
   "cell_type": "code",
   "execution_count": 24,
   "metadata": {},
   "outputs": [],
   "source": [
    "stdsc = StandardScaler()\n",
    "xtrain_std = stdsc.fit_transform(xtrain)\n",
    "xtest_std = stdsc.transform(xtest)\n",
    "\n",
    "ytrain = ytrain.values\n",
    "ytest = ytest.values"
   ]
  },
  {
   "cell_type": "markdown",
   "metadata": {},
   "source": [
    "#### Baseline model\n",
    "These are the errors one would get if we classified based on majority class. Any model one builds should perform better than baseline."
   ]
  },
  {
   "cell_type": "code",
   "execution_count": 25,
   "metadata": {},
   "outputs": [
    {
     "name": "stdout",
     "output_type": "stream",
     "text": [
      "Error from baseline classifier predicting most frequent label in training set = 0.197\n"
     ]
    }
   ],
   "source": [
    "clf = DummyClassifier(strategy='most_frequent', random_state=0)\n",
    "\n",
    "clf.fit(xtrain_std, ytrain)\n",
    "print(f\"Error from baseline classifier predicting most frequent label in training set = {round(1 - clf.score(xtrain_std, ytrain), ndigits = 4)}\")"
   ]
  },
  {
   "cell_type": "markdown",
   "metadata": {},
   "source": [
    "#### Logistic grid search with cross validation\n",
    "\n",
    "The logistic grid search with cross validation fits several logisitic models with different values for the tuning parameter C (= 1/alpha) for both l1 (lasso) and l2 (ridge) penalties; it averages each combination over the set number of folds and reports the one with the minimum average error. A high C (low alpha) is equivalent to a logistic model with no regularization penalty while a low C is a null model."
   ]
  },
  {
   "cell_type": "markdown",
   "metadata": {},
   "source": [
    "Create a parameter grid: there are two penalties and seven values of C which will give us 14 models. The cv parameter controls the number of folds in the cross validation; here it is set to 10."
   ]
  },
  {
   "cell_type": "code",
   "execution_count": 26,
   "metadata": {},
   "outputs": [],
   "source": [
    "penalty = ['l1', 'l2']\n",
    "alphas = np.logspace(-4, -0.5, 30)\n",
    "C = 1/alphas\n",
    "params = dict(C = C, penalty = penalty)"
   ]
  },
  {
   "cell_type": "code",
   "execution_count": 27,
   "metadata": {},
   "outputs": [],
   "source": [
    "nfolds = 10\n",
    "\n",
    "lr_mod = LogisticRegression(solver = \"liblinear\", max_iter = 1000, random_state = 0)\n",
    "clf = GridSearchCV(estimator = lr_mod, param_grid = params, cv = nfolds, verbose = 0)\n",
    "clf.fit(xtrain_std, ytrain);"
   ]
  },
  {
   "cell_type": "code",
   "execution_count": 28,
   "metadata": {},
   "outputs": [
    {
     "name": "stdout",
     "output_type": "stream",
     "text": [
      "parameter settings that gave the best result: {'C': 7.278953843983146, 'penalty': 'l1'}\n",
      "mean cross validated score (accuracy) = 0.8177794881662498\n"
     ]
    }
   ],
   "source": [
    "print(f\"parameter settings that gave the best result: {clf.best_params_}\")\n",
    "print(f\"mean cross validated score (accuracy) = {clf.best_score_}\")"
   ]
  },
  {
   "cell_type": "markdown",
   "metadata": {},
   "source": [
    "The recommended model is one with l1 penalty and C = 7.279 (alpha = 0.137). The high C indicates that the model is not very different from one without regularization as shown below. Accuracy of the model is only slightly better than baseline."
   ]
  },
  {
   "cell_type": "code",
   "execution_count": 29,
   "metadata": {},
   "outputs": [
    {
     "name": "stdout",
     "output_type": "stream",
     "text": [
      "Accuracy from logistic without regularization = 0.817009813353858\n"
     ]
    }
   ],
   "source": [
    "# high C = no regularization\n",
    "lr0 = LogisticRegression(solver = 'liblinear', penalty='l1', C=1e5, \n",
    "                         class_weight=None, random_state=0, max_iter=1000, verbose=0)\n",
    "lr0.fit(xtrain_std, ytrain)\n",
    "print(f\"Accuracy from logistic without regularization = {lr0.score(xtrain_std, ytrain)}\")"
   ]
  },
  {
   "cell_type": "markdown",
   "metadata": {},
   "source": [
    "We can look at a plot of the mean cross validated score returned for every value of alpha (1/C) for a logistic model with l1 penalty."
   ]
  },
  {
   "cell_type": "code",
   "execution_count": 30,
   "metadata": {},
   "outputs": [
    {
     "data": {
      "image/png": "[encoded data removed]",
      "text/plain": [
       "<Figure size 576x432 with 1 Axes>"
      ]
     },
     "metadata": {},
     "output_type": "display_data"
    }
   ],
   "source": [
    "# https://scikit-learn.org/stable/auto_examples/exercises/plot_cv_diabetes.html#sphx-glr-auto-examples-exercises-plot-cv-diabetes-py\n",
    "# note that we are still using training data \n",
    "scores = clf.cv_results_['mean_test_score'][::2] #picks out l1 penalty results\n",
    "scores_std = clf.cv_results_['std_test_score'][::2]\n",
    "plt.figure().set_size_inches(8, 6)\n",
    "plt.semilogx(alphas, scores)\n",
    "\n",
    "std_error = scores_std / np.sqrt(nfolds)\n",
    "\n",
    "plt.semilogx(alphas, scores + std_error, 'b--')\n",
    "plt.semilogx(alphas, scores - std_error, 'b--')\n",
    "\n",
    "plt.fill_between(alphas, scores + std_error, scores - std_error, alpha = 0.2)\n",
    "\n",
    "plt.ylabel('CV score +/- std error')\n",
    "plt.xlabel('alpha')\n",
    "plt.axhline(np.max(scores), linestyle = '--', color = '.5')\n",
    "plt.xlim([alphas[0], alphas[-1]]);"
   ]
  },
  {
   "cell_type": "code",
   "execution_count": 31,
   "metadata": {},
   "outputs": [],
   "source": [
    "lr_best_model = clf.best_estimator_"
   ]
  },
  {
   "cell_type": "markdown",
   "metadata": {},
   "source": [
    "#### Support Vector Classifier\n",
    "\n",
    "Next we try a Support Vector Classifier with cross validation. We set up the parameters and initialize the SVC object. C is the cost of misclassification: when C is small, there is high bias and low variance because the margin is wide and many observations may violate the margin. Gamma determines the influence of given training example with a large gamma leading to high bias and low variance."
   ]
  },
  {
   "cell_type": "code",
   "execution_count": 32,
   "metadata": {},
   "outputs": [],
   "source": [
    "C = [0.01, 0.1, 1.0, 5.0, 10.0]\n",
    "gamma = [0.1, 0.5, 1, 2, 3]\n",
    "\n",
    "grid_values = {'C': C, 'gamma': gamma}"
   ]
  },
  {
   "cell_type": "code",
   "execution_count": 33,
   "metadata": {},
   "outputs": [],
   "source": [
    "nfolds = 10\n",
    "svc = SVC(kernel = 'rbf', random_state = 0)\n",
    "clf = GridSearchCV(svc, grid_values, cv = nfolds)\n",
    "clf.fit(xtrain_std, ytrain);"
   ]
  },
  {
   "cell_type": "code",
   "execution_count": 34,
   "metadata": {},
   "outputs": [
    {
     "name": "stdout",
     "output_type": "stream",
     "text": [
      "parameter settings that gave the best result: {'C': 10.0, 'gamma': 2}\n",
      "mean cross validated score (accuracy) = 0.8778141235328074\n"
     ]
    }
   ],
   "source": [
    "print(f\"parameter settings that gave the best result: {clf.best_params_}\")\n",
    "print(f\"mean cross validated score (accuracy) = {clf.best_score_}\")"
   ]
  },
  {
   "cell_type": "markdown",
   "metadata": {},
   "source": [
    "With the SVC we are doing better than in the case of the logistic with an accuracy of around 0.878. Cross validation selects a model with C = 10 and gamma = 2."
   ]
  },
  {
   "cell_type": "code",
   "execution_count": 35,
   "metadata": {},
   "outputs": [],
   "source": [
    "svc_best_model = clf.best_estimator_"
   ]
  },
  {
   "cell_type": "markdown",
   "metadata": {},
   "source": [
    "#### KNN Classifier"
   ]
  },
  {
   "cell_type": "markdown",
   "metadata": {},
   "source": [
    "In a KNN classifier, the parameter to be selected by cross validation is the number of neigbours. We pass a vector of odd values from 1 to 13."
   ]
  },
  {
   "cell_type": "code",
   "execution_count": 36,
   "metadata": {},
   "outputs": [],
   "source": [
    "k = np.arange(1, 15, 2)\n",
    "parameters = {'n_neighbors': k}"
   ]
  },
  {
   "cell_type": "code",
   "execution_count": 37,
   "metadata": {},
   "outputs": [],
   "source": [
    "knn_mod = KNeighborsClassifier()\n",
    "clf = GridSearchCV(knn_mod, parameters, cv = 10)\n",
    "clf.fit(xtrain_std, ytrain);"
   ]
  },
  {
   "cell_type": "code",
   "execution_count": 38,
   "metadata": {},
   "outputs": [
    {
     "name": "stdout",
     "output_type": "stream",
     "text": [
      "parameter settings that gave the best result: {'n_neighbors': 1}\n",
      "mean cross validated score (accuracy) = 0.8535693669424668\n"
     ]
    }
   ],
   "source": [
    "print(f\"parameter settings that gave the best result: {clf.best_params_}\")\n",
    "print(f\"mean cross validated score (accuracy) = {clf.best_score_}\")"
   ]
  },
  {
   "cell_type": "markdown",
   "metadata": {},
   "source": [
    "The accuracy of the KNN classifier is less than that of the SVC but greater than the logistic. The optimal number of neighbors selected by cross validation is 1."
   ]
  },
  {
   "cell_type": "code",
   "execution_count": 39,
   "metadata": {},
   "outputs": [],
   "source": [
    "knn_best_model = clf.best_estimator_"
   ]
  },
  {
   "cell_type": "markdown",
   "metadata": {},
   "source": [
    "#### Random Forests"
   ]
  },
  {
   "cell_type": "markdown",
   "metadata": {},
   "source": [
    "In the Random Forests method, several trees are constucted by sampling repeatedly from the original data. Several parameters can be tuned including the number of trees, the depth of each tree, the minimum number of samples required to split a node, etc. We set up the parameters and initialize the model object."
   ]
  },
  {
   "cell_type": "code",
   "execution_count": 40,
   "metadata": {},
   "outputs": [
    {
     "data": {
      "text/plain": [
       "{'n_estimators': [25, 50, 75, 100, 125, 150],\n",
       " 'max_depth': [5, 10, 15, 20, 25, 30],\n",
       " 'min_samples_split': [2, 5, 10]}"
      ]
     },
     "execution_count": 40,
     "metadata": {},
     "output_type": "execute_result"
    }
   ],
   "source": [
    "samples_split = [2, 5, 10]\n",
    "depth = [5, 10, 15, 20, 25, 30]\n",
    "trees = [25, 50, 75, 100, 125, 150]\n",
    "\n",
    "param_grid = {'n_estimators': trees, 'max_depth': depth, 'min_samples_split': samples_split}\n",
    "param_grid"
   ]
  },
  {
   "cell_type": "code",
   "execution_count": 41,
   "metadata": {},
   "outputs": [],
   "source": [
    "rf_mod = RandomForestClassifier(random_state = 0)\n",
    "clf = GridSearchCV(rf_mod, param_grid = param_grid, cv = 10)\n",
    "clf.fit(xtrain_std, ytrain);"
   ]
  },
  {
   "cell_type": "code",
   "execution_count": 42,
   "metadata": {},
   "outputs": [
    {
     "name": "stdout",
     "output_type": "stream",
     "text": [
      "parameter settings that gave the best result: {'max_depth': 15, 'min_samples_split': 2, 'n_estimators': 150}\n",
      "mean cross validated score (accuracy) = 0.8853184529536271\n"
     ]
    }
   ],
   "source": [
    "print(f\"parameter settings that gave the best result: {clf.best_params_}\")\n",
    "print(f\"mean cross validated score (accuracy) = {clf.best_score_}\")"
   ]
  },
  {
   "cell_type": "markdown",
   "metadata": {},
   "source": [
    "With the random forests method, we get the highest accuracy we have seen so far. "
   ]
  },
  {
   "cell_type": "code",
   "execution_count": 43,
   "metadata": {},
   "outputs": [],
   "source": [
    "rf_best_model = clf.best_estimator_"
   ]
  },
  {
   "cell_type": "markdown",
   "metadata": {},
   "source": [
    "We can look at which features are deemed important by the classifier."
   ]
  },
  {
   "cell_type": "code",
   "execution_count": 44,
   "metadata": {},
   "outputs": [
    {
     "data": {
      "text/plain": [
       "[('alcohol', 0.20497942148357887),\n",
       " ('chlorides', 0.1005365087018857),\n",
       " ('volatile_acidity', 0.09609932698936062),\n",
       " ('total_sulfur_dioxide', 0.09258030850552959),\n",
       " ('sulphates', 0.0901851819730662),\n",
       " ('residual_sugar', 0.08891738788739648),\n",
       " ('pH', 0.08608819332064854),\n",
       " ('free_sulfur_dioxide', 0.08344256345018078),\n",
       " ('citric_acid', 0.08129194030058126),\n",
       " ('fixed_acidity', 0.07587916738777205)]"
      ]
     },
     "execution_count": 44,
     "metadata": {},
     "output_type": "execute_result"
    }
   ],
   "source": [
    "importances = sorted(list(zip(list(xtrain.columns), clf.best_estimator_.feature_importances_)), key = lambda x: x[1], reverse = True)\n",
    "importances"
   ]
  },
  {
   "cell_type": "markdown",
   "metadata": {},
   "source": [
    "Unsuprisingly, alcohol is the most important predictor."
   ]
  },
  {
   "cell_type": "markdown",
   "metadata": {},
   "source": [
    "#### Decision Tree Classifier\n",
    "\n",
    "Although random forests method gives us a higher accuracy score, it is a time consuming procedure and it is not interpretable. We can try a simple decision tree classifier. We set up the parameters and initialize the method object."
   ]
  },
  {
   "cell_type": "code",
   "execution_count": 45,
   "metadata": {},
   "outputs": [],
   "source": [
    "param_grid = {\n",
    "              \"min_samples_split\": [2, 10, 20],\n",
    "              \"max_depth\": [None, 2, 5, 10],\n",
    "              \"min_samples_leaf\": [1, 5, 10],\n",
    "              \"max_leaf_nodes\": [None, 5, 10, 20],\n",
    "              }"
   ]
  },
  {
   "cell_type": "code",
   "execution_count": 46,
   "metadata": {},
   "outputs": [],
   "source": [
    "dtree = DecisionTreeClassifier(random_state = 0)\n",
    "clf = GridSearchCV(dtree, param_grid = param_grid, cv = 10);\n",
    "clf.fit(xtrain_std, ytrain);"
   ]
  },
  {
   "cell_type": "code",
   "execution_count": 47,
   "metadata": {},
   "outputs": [
    {
     "name": "stdout",
     "output_type": "stream",
     "text": [
      "parameter settings that gave the best result: {'max_depth': None, 'max_leaf_nodes': None, 'min_samples_leaf': 1, 'min_samples_split': 2}\n",
      "mean cross validated score (accuracy) = 0.8345199153357706\n"
     ]
    }
   ],
   "source": [
    "print(f\"parameter settings that gave the best result: {clf.best_params_}\")\n",
    "print(f\"mean cross validated score (accuracy) = {clf.best_score_}\")"
   ]
  },
  {
   "cell_type": "markdown",
   "metadata": {},
   "source": [
    "It does worse than the random forests classifier but is still better than the logistic with l1 penalty."
   ]
  },
  {
   "cell_type": "code",
   "execution_count": 48,
   "metadata": {},
   "outputs": [],
   "source": [
    "dtree_best_model = clf.best_estimator_"
   ]
  },
  {
   "cell_type": "markdown",
   "metadata": {},
   "source": [
    "As discussed previously, many of the variables have extreme values and it may be useful to refit the models without these values to check how they affect the models. It may also be worthwhile to explore interactions and non-linear effects. These are not attempted here."
   ]
  },
  {
   "cell_type": "markdown",
   "metadata": {},
   "source": [
    "#### Running best model on the test set\n",
    "The random forest method is the one with the highest accuracy. We will now use it on the test set and evaluate its performance."
   ]
  },
  {
   "cell_type": "code",
   "execution_count": 49,
   "metadata": {},
   "outputs": [
    {
     "data": {
      "text/plain": [
       "RandomForestClassifier(bootstrap=True, class_weight=None, criterion='gini',\n",
       "                       max_depth=15, max_features='auto', max_leaf_nodes=None,\n",
       "                       min_impurity_decrease=0.0, min_impurity_split=None,\n",
       "                       min_samples_leaf=1, min_samples_split=2,\n",
       "                       min_weight_fraction_leaf=0.0, n_estimators=150,\n",
       "                       n_jobs=None, oob_score=False, random_state=0, verbose=0,\n",
       "                       warm_start=False)"
      ]
     },
     "execution_count": 49,
     "metadata": {},
     "output_type": "execute_result"
    }
   ],
   "source": [
    "rf_best_model"
   ]
  },
  {
   "cell_type": "code",
   "execution_count": 50,
   "metadata": {},
   "outputs": [],
   "source": [
    "ytrue, ypred = ytest, rf_best_model.predict(xtest_std)"
   ]
  },
  {
   "cell_type": "code",
   "execution_count": 51,
   "metadata": {},
   "outputs": [
    {
     "name": "stdout",
     "output_type": "stream",
     "text": [
      "              precision    recall  f1-score   support\n",
      "\n",
      "         bad       0.90      0.96      0.93      1047\n",
      "        good       0.77      0.55      0.65       253\n",
      "\n",
      "    accuracy                           0.88      1300\n",
      "   macro avg       0.84      0.76      0.79      1300\n",
      "weighted avg       0.87      0.88      0.87      1300\n",
      "\n"
     ]
    }
   ],
   "source": [
    "print(classification_report(ytrue, ypred))"
   ]
  },
  {
   "cell_type": "markdown",
   "metadata": {},
   "source": [
    "The various metrics precision, recall and accuracy can also be calculated from the confusion matrix."
   ]
  },
  {
   "cell_type": "code",
   "execution_count": 52,
   "metadata": {},
   "outputs": [
    {
     "data": {
      "text/plain": [
       "array([[1006,   41],\n",
       "       [ 113,  140]])"
      ]
     },
     "execution_count": 52,
     "metadata": {},
     "output_type": "execute_result"
    }
   ],
   "source": [
    "cm = confusion_matrix(ytrue, ypred)\n",
    "cm"
   ]
  },
  {
   "cell_type": "code",
   "execution_count": 53,
   "metadata": {},
   "outputs": [
    {
     "data": {
      "text/plain": [
       "(1006, 41, 113, 140)"
      ]
     },
     "execution_count": 53,
     "metadata": {},
     "output_type": "execute_result"
    }
   ],
   "source": [
    "tn, fp, fn, tp = cm.ravel() #flatten the matrix\n",
    "tn, fp, fn, tp"
   ]
  },
  {
   "cell_type": "code",
   "execution_count": 54,
   "metadata": {},
   "outputs": [
    {
     "name": "stdout",
     "output_type": "stream",
     "text": [
      "precision = 0.773\n",
      "recall = 0.553\n",
      "accuracy = 0.882\n"
     ]
    }
   ],
   "source": [
    "print(f\"precision = {round(tp/(tp + fp), ndigits = 3)}\")\n",
    "print(f\"recall = {round(tp/(tp + fn), ndigits = 3)}\")\n",
    "print(f\"accuracy = {round((tp + tn)/(tn + fp + fn + tp), ndigits = 3)}\")"
   ]
  },
  {
   "cell_type": "markdown",
   "metadata": {},
   "source": [
    "With the default threshold of 0.5, our model gives us an accuracy of 0.882 which is the same as the one we got from the 10-fold cross validation on the training data. We can look at two more measures for assessing the classifier.\n",
    "\n",
    "The mcc ranges from -1 (completely incorrect) to +1 (completely correct)."
   ]
  },
  {
   "cell_type": "code",
   "execution_count": 55,
   "metadata": {},
   "outputs": [
    {
     "name": "stdout",
     "output_type": "stream",
     "text": [
      "Matthews correlation coefficient: 0.588\n"
     ]
    }
   ],
   "source": [
    "mcc = matthews_corrcoef(ytrue, ypred)\n",
    "print(f\"Matthews correlation coefficient: {mcc:.3}\")"
   ]
  },
  {
   "cell_type": "markdown",
   "metadata": {},
   "source": [
    "The ROC curve shows a plot of the true positive rate (recall) versus the false positive rate at various thresholds - the default is 0.5 but we can vary the thresholds."
   ]
  },
  {
   "cell_type": "code",
   "execution_count": 56,
   "metadata": {},
   "outputs": [
    {
     "name": "stdout",
     "output_type": "stream",
     "text": [
      "Area under ROC: 0.924\n"
     ]
    }
   ],
   "source": [
    "probas_ = rf_best_model.predict_proba(xtest_std)\n",
    "fpr, tpr, thresholds = roc_curve(ytrue, probas_[:, 1], pos_label='good')\n",
    "roc_auc = roc_auc_score(ytrue, probas_[:, 1])\n",
    "print(f\"Area under ROC: {roc_auc:.3}\")"
   ]
  },
  {
   "cell_type": "code",
   "execution_count": 57,
   "metadata": {},
   "outputs": [
    {
     "data": {
      "image/png": "[encoded data removed]",
      "text/plain": [
       "<Figure size 432x288 with 1 Axes>"
      ]
     },
     "metadata": {},
     "output_type": "display_data"
    }
   ],
   "source": [
    "ax = sns.lineplot(fpr, tpr, label = f\"auc= {round(roc_auc, ndigits = 3)}\")\n",
    "ax.set(xlabel = 'False Positive Rate', ylabel='True Positive Rate')\n",
    "\n",
    "ax.grid()\n",
    "ax.set_axisbelow(True)\n",
    "ax.grid(linestyle='-', linewidth='0.5', color='red')\n",
    "ax.minorticks_on()\n",
    "ax.grid(which='major', linestyle='-', linewidth='0.3', color='red')\n",
    "ax.grid(which='minor', linestyle=':', linewidth='0.5', color='black')\n",
    "\n",
    "plt.legend(loc = 4)\n",
    "plt.show()"
   ]
  },
  {
   "cell_type": "markdown",
   "metadata": {},
   "source": [
    "The true positive rate is the recall but in the wine example, we may be more interested in increasing precision: in other words, we would like to reduce false positives which might reduce recall. Mistakenly classifying a bad wine as good may be considered a worse mistake than misclassifying a good wine. The reported precision is 0.773 which is based on the default threshold of 0.5; we can increase the threshold to get higher precision.  \n",
    "\n",
    "We can look a confusion matrices at different thresholds - the default is 0.5."
   ]
  },
  {
   "cell_type": "code",
   "execution_count": 58,
   "metadata": {},
   "outputs": [],
   "source": [
    "ypred = np.where(probas_ >= 0.5, \"good\", \"bad\")"
   ]
  },
  {
   "cell_type": "code",
   "execution_count": 59,
   "metadata": {},
   "outputs": [
    {
     "name": "stdout",
     "output_type": "stream",
     "text": [
      "threshold = 0.7\n",
      "confusion matrix:\n",
      "[[1038    9]\n",
      " [ 167   86]]\n",
      "precision = 0.905\n",
      "recall = 0.34\n",
      "matthews corr coef: 0.504\n",
      "accuracy = 0.865\n",
      "-------------------------\n",
      "threshold = 0.75\n",
      "confusion matrix:\n",
      "[[1040    7]\n",
      " [ 181   72]]\n",
      "precision = 0.911\n",
      "recall = 0.285\n",
      "matthews corr coef: 0.461\n",
      "accuracy = 0.855\n",
      "-------------------------\n",
      "threshold = 0.8\n",
      "confusion matrix:\n",
      "[[1042    5]\n",
      " [ 197   56]]\n",
      "precision = 0.918\n",
      "recall = 0.221\n",
      "matthews corr coef: 0.405\n",
      "accuracy = 0.845\n",
      "-------------------------\n",
      "threshold = 0.85\n",
      "confusion matrix:\n",
      "[[1047    0]\n",
      " [ 215   38]]\n",
      "precision = 1.0\n",
      "recall = 0.15\n",
      "matthews corr coef: 0.353\n",
      "accuracy = 0.835\n",
      "-------------------------\n"
     ]
    }
   ],
   "source": [
    "for threshold in [0.70, 0.75, 0.80, 0.85]:\n",
    "    print(f\"threshold = {threshold}\")\n",
    "    ypred = np.where(probas_ >= threshold, \"good\", \"bad\")\n",
    "    cm = confusion_matrix(ytrue, ypred[:,1])\n",
    "    print(f\"confusion matrix:\")\n",
    "    print(cm)\n",
    "    \n",
    "    tn, fp, fn, tp = cm.ravel() #flatten the matrix\n",
    "    \n",
    "    print(f\"precision = {round(tp/(tp + fp), ndigits = 3)}\")\n",
    "    print(f\"recall = {round(tp/(tp + fn), ndigits = 3)}\")\n",
    "    \n",
    "    mcc = matthews_corrcoef(ytrue, ypred[:,1])\n",
    "    print(f\"matthews corr coef: {mcc:.3}\")\n",
    "\n",
    "    print(f\"accuracy = {round((tp + tn)/(tn + fp + fn + tp), ndigits = 3)}\")\n",
    "    \n",
    "    print(\"-------------------------\")"
   ]
  },
  {
   "cell_type": "markdown",
   "metadata": {},
   "source": [
    "We can see that increasing the threshold improves precision (100% around a threshold of 0.83) but recall and accuracy suffer. We can look at a plot of precision versus recall which essentially visuallizes the previous calculation by varying thresholds."
   ]
  },
  {
   "cell_type": "code",
   "execution_count": 60,
   "metadata": {},
   "outputs": [],
   "source": [
    "precision, recall, thresholds = precision_recall_curve(ytrue, probas_[:, 1], pos_label='good')"
   ]
  },
  {
   "cell_type": "code",
   "execution_count": 61,
   "metadata": {},
   "outputs": [
    {
     "data": {
      "image/png": "[encoded data removed]",
      "text/plain": [
       "<Figure size 432x432 with 1 Axes>"
      ]
     },
     "metadata": {},
     "output_type": "display_data"
    }
   ],
   "source": [
    "plt.rcParams['figure.figsize'] = [6, 6]\n",
    "ax1 = sns.lineplot(precision, recall)\n",
    "ax1.set(xlabel = 'Precision', ylabel='Recall')\n",
    "\n",
    "ax1.grid()\n",
    "ax1.set_axisbelow(True)\n",
    "ax1.grid(linestyle='-', linewidth='0.5', color='red')\n",
    "ax1.minorticks_on()\n",
    "ax1.grid(which='major', linestyle='-', linewidth='0.3', color='red')\n",
    "ax1.grid(which='minor', linestyle=':', linewidth='0.5', color='black')\n",
    "\n",
    "plt.rcParams['figure.figsize'] = plt_canvas_default"
   ]
  },
  {
   "cell_type": "code",
   "execution_count": null,
   "metadata": {},
   "outputs": [],
   "source": []
  }
 ],
 "metadata": {
  "kernel_info": {
   "name": "py37"
  },
  "kernelspec": {
   "display_name": "py37",
   "language": "python",
   "name": "py37"
  },
  "language_info": {
   "codemirror_mode": {
    "name": "ipython",
    "version": 3
   },
   "file_extension": ".py",
   "mimetype": "text/x-python",
   "name": "python",
   "nbconvert_exporter": "python",
   "pygments_lexer": "ipython3",
   "version": "3.7.3"
  },
  "nteract": {
   "version": "0.14.3"
  }
 },
 "nbformat": 4,
 "nbformat_minor": 2
}
