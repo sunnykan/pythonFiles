{
 "cells": [
  {
   "cell_type": "code",
   "execution_count": 2,
   "metadata": {},
   "outputs": [],
   "source": [
    "import pandas as pd\n",
    "from pyarrow import feather\n",
    "\n",
    "import re\n",
    "import os\n",
    "import subprocess\n",
    "import numpy as np"
   ]
  },
  {
   "cell_type": "markdown",
   "metadata": {},
   "source": [
    "### TORONTO"
   ]
  },
  {
   "cell_type": "code",
   "execution_count": 49,
   "metadata": {},
   "outputs": [
    {
     "data": {
      "text/plain": [
       "['feather-data/2014Q4_to_2015Q3_Bike_Share_Toronto_Ridership.xlsx',\n",
       " 'feather-data/2016_Bike_Share_Toronto_Ridership_Q3.xlsx',\n",
       " 'feather-data/2016_Bike_Share_Toronto_Ridership_Q4.xlsx',\n",
       " 'feather-data/2017_BikeShare_Data.zip']"
      ]
     },
     "execution_count": 49,
     "metadata": {},
     "output_type": "execute_result"
    }
   ],
   "source": [
    "tor_files = subprocess.getoutput('ls feather-data/*.*').split('\\n')\n",
    "tor_files"
   ]
  },
  {
   "cell_type": "raw",
   "metadata": {},
   "source": [
    "'2014Q4_to_2015Q3_Bike_Share_Toronto_Ridership.xlsx' not used because it is based on a different data collection methodology.\n",
    "\n",
    "df.isnull().values.any()\n",
    "dt[(dt.isna().values)]"
   ]
  },
  {
   "cell_type": "code",
   "execution_count": 50,
   "metadata": {},
   "outputs": [],
   "source": [
    "os.rename('feather-data/2016_Bike_Share_Toronto_Ridership_Q3.xlsx', 'feather-data/toronto_2016Q3.xlsx')\n",
    "os.rename('feather-data/2016_Bike_Share_Toronto_Ridership_Q4.xlsx', 'feather-data/toronto_2016Q4.xlsx')"
   ]
  },
  {
   "cell_type": "code",
   "execution_count": 51,
   "metadata": {},
   "outputs": [],
   "source": [
    "def xlsxtofeather(fname):\n",
    "    with open(fname, 'rb') as f: \n",
    "        df_xl = pd.read_excel(f)\n",
    "        print(fname)\n",
    "        print(df.columns)\n",
    "        print(df.shape)\n",
    "        print(df.isnull().values.any())\n",
    "        fname = fname.split('.')[0]\n",
    "        feather.write_feather(df_xl, f'{fname}.feather')"
   ]
  },
  {
   "cell_type": "code",
   "execution_count": 52,
   "metadata": {},
   "outputs": [
    {
     "name": "stdout",
     "output_type": "stream",
     "text": [
      "feather-data/toronto_2016Q3.xlsx\n",
      "Index(['org', 'name', 'items_df9', 'spend_df9'], dtype='object')\n",
      "(50, 4)\n",
      "False\n"
     ]
    }
   ],
   "source": [
    "xlsxtofeather('feather-data/toronto_2016Q3.xlsx')"
   ]
  },
  {
   "cell_type": "code",
   "execution_count": 159,
   "metadata": {},
   "outputs": [
    {
     "data": {
      "text/plain": [
       "True"
      ]
     },
     "execution_count": 159,
     "metadata": {},
     "output_type": "execute_result"
    }
   ],
   "source": [
    "df = feather.read_feather('feather-data/toronto_2016Q3.feather')\n",
    "df.isnull().values.any()"
   ]
  },
  {
   "cell_type": "code",
   "execution_count": 160,
   "metadata": {},
   "outputs": [
    {
     "data": {
      "text/html": [
       "<div>\n",
       "<style scoped>\n",
       "    .dataframe tbody tr th:only-of-type {\n",
       "        vertical-align: middle;\n",
       "    }\n",
       "\n",
       "    .dataframe tbody tr th {\n",
       "        vertical-align: top;\n",
       "    }\n",
       "\n",
       "    .dataframe thead th {\n",
       "        text-align: right;\n",
       "    }\n",
       "</style>\n",
       "<table border=\"1\" class=\"dataframe\">\n",
       "  <thead>\n",
       "    <tr style=\"text-align: right;\">\n",
       "      <th></th>\n",
       "      <th>trip_id</th>\n",
       "      <th>trip_start_time</th>\n",
       "      <th>trip_stop_time</th>\n",
       "      <th>trip_duration_seconds</th>\n",
       "      <th>from_station_name</th>\n",
       "      <th>to_station_name</th>\n",
       "      <th>user_type</th>\n",
       "    </tr>\n",
       "  </thead>\n",
       "  <tbody>\n",
       "    <tr>\n",
       "      <th>23240</th>\n",
       "      <td>459742</td>\n",
       "      <td>2016-09-30 16:05:00</td>\n",
       "      <td>2016-09-30 17:24:00</td>\n",
       "      <td>4736</td>\n",
       "      <td>King St W / Bay St (West Side)</td>\n",
       "      <td>None</td>\n",
       "      <td>Member</td>\n",
       "    </tr>\n",
       "    <tr>\n",
       "      <th>136325</th>\n",
       "      <td>457065</td>\n",
       "      <td>2016-09-29 22:08:00</td>\n",
       "      <td>2016-09-29 22:13:00</td>\n",
       "      <td>282</td>\n",
       "      <td>None</td>\n",
       "      <td>Queens Quay W / Dan Leckie Way</td>\n",
       "      <td>Member</td>\n",
       "    </tr>\n",
       "    <tr>\n",
       "      <th>343349</th>\n",
       "      <td>459793</td>\n",
       "      <td>2016-09-30 16:17:00</td>\n",
       "      <td>2016-09-30 16:30:00</td>\n",
       "      <td>790</td>\n",
       "      <td>None</td>\n",
       "      <td>Bathurst St / Fort York Blvd</td>\n",
       "      <td>Member</td>\n",
       "    </tr>\n",
       "    <tr>\n",
       "      <th>367761</th>\n",
       "      <td>459636</td>\n",
       "      <td>2016-09-30 15:33:00</td>\n",
       "      <td>2016-09-30 15:46:00</td>\n",
       "      <td>760</td>\n",
       "      <td>Queens Quay W / Lower Simcoe St</td>\n",
       "      <td>None</td>\n",
       "      <td>Casual</td>\n",
       "    </tr>\n",
       "    <tr>\n",
       "      <th>367939</th>\n",
       "      <td>461287</td>\n",
       "      <td>2016-09-30 21:11:00</td>\n",
       "      <td>2016-09-30 21:46:00</td>\n",
       "      <td>2110</td>\n",
       "      <td>None</td>\n",
       "      <td>Queens Quay W / Lower Simcoe St</td>\n",
       "      <td>Casual</td>\n",
       "    </tr>\n",
       "  </tbody>\n",
       "</table>\n",
       "</div>"
      ],
      "text/plain": [
       "        trip_id     trip_start_time      trip_stop_time  \\\n",
       "23240    459742 2016-09-30 16:05:00 2016-09-30 17:24:00   \n",
       "136325   457065 2016-09-29 22:08:00 2016-09-29 22:13:00   \n",
       "343349   459793 2016-09-30 16:17:00 2016-09-30 16:30:00   \n",
       "367761   459636 2016-09-30 15:33:00 2016-09-30 15:46:00   \n",
       "367939   461287 2016-09-30 21:11:00 2016-09-30 21:46:00   \n",
       "\n",
       "        trip_duration_seconds                from_station_name  \\\n",
       "23240                    4736   King St W / Bay St (West Side)   \n",
       "136325                    282                             None   \n",
       "343349                    790                             None   \n",
       "367761                    760  Queens Quay W / Lower Simcoe St   \n",
       "367939                   2110                             None   \n",
       "\n",
       "                        to_station_name user_type  \n",
       "23240                              None    Member  \n",
       "136325   Queens Quay W / Dan Leckie Way    Member  \n",
       "343349     Bathurst St / Fort York Blvd    Member  \n",
       "367761                             None    Casual  \n",
       "367939  Queens Quay W / Lower Simcoe St    Casual  "
      ]
     },
     "execution_count": 160,
     "metadata": {},
     "output_type": "execute_result"
    }
   ],
   "source": [
    "df[df.isnull().values]"
   ]
  },
  {
   "cell_type": "code",
   "execution_count": 161,
   "metadata": {},
   "outputs": [
    {
     "data": {
      "text/plain": [
       "((367957, 7), (367962, 7))"
      ]
     },
     "execution_count": 161,
     "metadata": {},
     "output_type": "execute_result"
    }
   ],
   "source": [
    "df_no_missing = df.dropna()\n",
    "df_no_missing.shape, df.shape"
   ]
  },
  {
   "cell_type": "code",
   "execution_count": 162,
   "metadata": {},
   "outputs": [],
   "source": [
    "feather.write_feather(df_no_missing, 'feather-data/toronto_2016Q3.feather')"
   ]
  },
  {
   "cell_type": "code",
   "execution_count": 163,
   "metadata": {},
   "outputs": [
    {
     "data": {
      "text/plain": [
       "False"
      ]
     },
     "execution_count": 163,
     "metadata": {},
     "output_type": "execute_result"
    }
   ],
   "source": [
    "df_no_missing.isnull().values.any()"
   ]
  },
  {
   "cell_type": "code",
   "execution_count": null,
   "metadata": {},
   "outputs": [],
   "source": []
  },
  {
   "cell_type": "code",
   "execution_count": 53,
   "metadata": {},
   "outputs": [],
   "source": [
    "df_xl = pd.read_excel('feather-data/toronto_2016Q4.xlsx', dtype = {'trip_start_time': 'object'})"
   ]
  },
  {
   "cell_type": "code",
   "execution_count": 56,
   "metadata": {},
   "outputs": [],
   "source": [
    "df_xl.to_csv('feather-data/toronto_2016Q4.csv')"
   ]
  },
  {
   "cell_type": "code",
   "execution_count": 57,
   "metadata": {},
   "outputs": [
    {
     "name": "stdout",
     "output_type": "stream",
     "text": [
      "Index(['trip_id', 'trip_start_time', 'trip_stop_time', 'trip_duration_seconds',\n",
      "       'from_station_name', 'to_station_name', 'user_type'],\n",
      "      dtype='object')\n",
      "(217569, 7)\n",
      "True\n"
     ]
    }
   ],
   "source": [
    "print(df_xl.columns)\n",
    "print(df_xl.shape)\n",
    "print(df_xl.isnull().values.any())"
   ]
  },
  {
   "cell_type": "code",
   "execution_count": 76,
   "metadata": {},
   "outputs": [],
   "source": [
    "from zipfile import PyZipFile\n",
    "\n",
    "pzf = PyZipFile('feather-data/2017_BikeShare_Data.zip')\n",
    "pzf.extractall('./feather-data')"
   ]
  },
  {
   "cell_type": "code",
   "execution_count": 77,
   "metadata": {},
   "outputs": [
    {
     "name": "stdout",
     "output_type": "stream",
     "text": [
      "Bikeshare Ridership (2017 Q1).csv\n",
      "Bikeshare Ridership (2017 Q2).csv\n",
      "Bikeshare Ridership (2017 Q3).csv\n",
      "Bikeshare Ridership (2017 Q4).csv\n",
      "~$ke Share Toronto Ridership_Approval to Publish Form.docx\n"
     ]
    }
   ],
   "source": [
    "!ls feather-data/'2017 Data'"
   ]
  },
  {
   "cell_type": "code",
   "execution_count": 78,
   "metadata": {},
   "outputs": [],
   "source": [
    "! mv feather-data/'2017 Data'/*.* feather-data"
   ]
  },
  {
   "cell_type": "code",
   "execution_count": 79,
   "metadata": {},
   "outputs": [
    {
     "name": "stdout",
     "output_type": "stream",
     "text": [
      "2014Q4_to_2015Q3_Bike_Share_Toronto_Ridership.xlsx\n",
      "\u001b[34m2017 Data\u001b[m\u001b[m\n",
      "2017_BikeShare_Data.zip\n",
      "Bikeshare Ridership (2017 Q1).csv\n",
      "Bikeshare Ridership (2017 Q2).csv\n",
      "Bikeshare Ridership (2017 Q3).csv\n",
      "Bikeshare Ridership (2017 Q4).csv\n",
      "toronto_2016Q3.feather\n",
      "toronto_2016Q3.xlsx\n",
      "toronto_2016Q4.csv\n",
      "toronto_2016Q4.xlsx\n",
      "~$ke Share Toronto Ridership_Approval to Publish Form.docx\n"
     ]
    }
   ],
   "source": [
    "!ls feather-data"
   ]
  },
  {
   "cell_type": "code",
   "execution_count": 80,
   "metadata": {},
   "outputs": [],
   "source": [
    "os.rename('feather-data/Bikeshare Ridership (2017 Q1).csv', 'feather-data/toronto_2017Q1.csv')\n",
    "os.rename('feather-data/Bikeshare Ridership (2017 Q2).csv', 'feather-data/toronto_2017Q2.csv')\n",
    "os.rename('feather-data/Bikeshare Ridership (2017 Q3).csv', 'feather-data/toronto_2017Q3.csv')\n",
    "os.rename('feather-data/Bikeshare Ridership (2017 Q4).csv', 'feather-data/toronto_2017Q4.csv');"
   ]
  },
  {
   "cell_type": "code",
   "execution_count": 83,
   "metadata": {},
   "outputs": [],
   "source": [
    "def csvtofeather(fname):\n",
    "    print(fname)\n",
    "    with open(fname, 'rb') as f: \n",
    "        df_csv = pd.read_csv(f)\n",
    "        print(fname)\n",
    "        print(df_csv.columns)\n",
    "        print(df_csv.shape)\n",
    "        print(df_csv.isnull().values.any())\n",
    "        fname = fname.split('.')[0]\n",
    "        feather.write_feather(df_csv, f'{fname}.feather')"
   ]
  },
  {
   "cell_type": "code",
   "execution_count": 84,
   "metadata": {},
   "outputs": [
    {
     "data": {
      "text/plain": [
       "['feather-data/toronto_2016Q4.csv',\n",
       " 'feather-data/toronto_2017Q1.csv',\n",
       " 'feather-data/toronto_2017Q2.csv',\n",
       " 'feather-data/toronto_2017Q3.csv',\n",
       " 'feather-data/toronto_2017Q4.csv']"
      ]
     },
     "execution_count": 84,
     "metadata": {},
     "output_type": "execute_result"
    }
   ],
   "source": [
    "tor_files = subprocess.getoutput('ls feather-data/*.csv').split('\\n')\n",
    "tor_files"
   ]
  },
  {
   "cell_type": "code",
   "execution_count": 87,
   "metadata": {},
   "outputs": [
    {
     "name": "stdout",
     "output_type": "stream",
     "text": [
      "feather-data/toronto_2016Q4.csv\n",
      "feather-data/toronto_2016Q4.csv\n",
      "Index(['Unnamed: 0', 'trip_id', 'trip_start_time', 'trip_stop_time',\n",
      "       'trip_duration_seconds', 'from_station_name', 'to_station_name',\n",
      "       'user_type'],\n",
      "      dtype='object')\n",
      "(217569, 8)\n",
      "True\n",
      "feather-data/toronto_2017Q1.csv\n",
      "feather-data/toronto_2017Q1.csv\n",
      "Index(['trip_id', 'trip_start_time', 'trip_stop_time', 'trip_duration_seconds',\n",
      "       'from_station_id', 'from_station_name', 'to_station_id',\n",
      "       'to_station_name', 'user_type'],\n",
      "      dtype='object')\n",
      "(132123, 9)\n",
      "False\n",
      "feather-data/toronto_2017Q2.csv\n",
      "feather-data/toronto_2017Q2.csv\n",
      "Index(['trip_id', 'trip_start_time', 'trip_stop_time', 'trip_duration_seconds',\n",
      "       'from_station_id', 'from_station_name', 'to_station_id',\n",
      "       'to_station_name', 'user_type'],\n",
      "      dtype='object')\n",
      "(333353, 9)\n",
      "False\n",
      "feather-data/toronto_2017Q3.csv\n",
      "feather-data/toronto_2017Q3.csv\n",
      "Index(['trip_id', 'trip_start_time', 'trip_stop_time', 'trip_duration_seconds',\n",
      "       'from_station_name', 'to_station_name', 'user_type'],\n",
      "      dtype='object')\n",
      "(663488, 7)\n",
      "False\n",
      "feather-data/toronto_2017Q4.csv\n",
      "feather-data/toronto_2017Q4.csv\n",
      "Index(['trip_id', 'trip_start_time', 'trip_stop_time', 'trip_duration_seconds',\n",
      "       'from_station_name', 'to_station_name', 'user_type'],\n",
      "      dtype='object')\n",
      "(363405, 7)\n",
      "True\n"
     ]
    }
   ],
   "source": [
    "for file in tor_files:\n",
    "    csvtofeather(file)"
   ]
  },
  {
   "cell_type": "code",
   "execution_count": 120,
   "metadata": {},
   "outputs": [],
   "source": [
    "# remove column 0 in feather-data/toronto_2016Q4.csv\n",
    "df = feather.read_feather('feather-data/toronto_2016Q4.feather')\n",
    "df.drop(['Unnamed: 0'], inplace = True, axis = 1)"
   ]
  },
  {
   "cell_type": "code",
   "execution_count": 90,
   "metadata": {},
   "outputs": [
    {
     "data": {
      "text/plain": [
       "Index(['trip_id', 'trip_start_time', 'trip_stop_time', 'trip_duration_seconds',\n",
       "       'from_station_name', 'to_station_name', 'user_type'],\n",
       "      dtype='object')"
      ]
     },
     "execution_count": 90,
     "metadata": {},
     "output_type": "execute_result"
    }
   ],
   "source": [
    "df.columns"
   ]
  },
  {
   "cell_type": "code",
   "execution_count": 92,
   "metadata": {},
   "outputs": [],
   "source": [
    "feather.write_feather(df, 'feather-data/toronto_2016Q4.feather')"
   ]
  },
  {
   "cell_type": "code",
   "execution_count": 93,
   "metadata": {},
   "outputs": [
    {
     "data": {
      "text/plain": [
       "True"
      ]
     },
     "execution_count": 93,
     "metadata": {},
     "output_type": "execute_result"
    }
   ],
   "source": [
    "df.isnull().values.any()"
   ]
  },
  {
   "cell_type": "code",
   "execution_count": 96,
   "metadata": {},
   "outputs": [
    {
     "data": {
      "text/html": [
       "<div>\n",
       "<style scoped>\n",
       "    .dataframe tbody tr th:only-of-type {\n",
       "        vertical-align: middle;\n",
       "    }\n",
       "\n",
       "    .dataframe tbody tr th {\n",
       "        vertical-align: top;\n",
       "    }\n",
       "\n",
       "    .dataframe thead th {\n",
       "        text-align: right;\n",
       "    }\n",
       "</style>\n",
       "<table border=\"1\" class=\"dataframe\">\n",
       "  <thead>\n",
       "    <tr style=\"text-align: right;\">\n",
       "      <th></th>\n",
       "      <th>trip_id</th>\n",
       "      <th>trip_start_time</th>\n",
       "      <th>trip_stop_time</th>\n",
       "      <th>trip_duration_seconds</th>\n",
       "      <th>from_station_name</th>\n",
       "      <th>to_station_name</th>\n",
       "      <th>user_type</th>\n",
       "    </tr>\n",
       "  </thead>\n",
       "  <tbody>\n",
       "    <tr>\n",
       "      <th>0</th>\n",
       "      <td>462305</td>\n",
       "      <td>2016-01-10 00:00:00</td>\n",
       "      <td>2016-01-10 00:07:00</td>\n",
       "      <td>394</td>\n",
       "      <td>Queens Quay W / Dan Leckie Way</td>\n",
       "      <td>Fort York Blvd / Garrison Rd</td>\n",
       "      <td>Casual</td>\n",
       "    </tr>\n",
       "    <tr>\n",
       "      <th>1</th>\n",
       "      <td>462306</td>\n",
       "      <td>2016-01-10 00:00:00</td>\n",
       "      <td>2016-01-10 00:09:00</td>\n",
       "      <td>533</td>\n",
       "      <td>Sherbourne St / Wellesley St</td>\n",
       "      <td>Edward St / Yonge St</td>\n",
       "      <td>Member</td>\n",
       "    </tr>\n",
       "    <tr>\n",
       "      <th>2</th>\n",
       "      <td>462307</td>\n",
       "      <td>2016-01-10 00:00:00</td>\n",
       "      <td>2016-01-10 00:07:00</td>\n",
       "      <td>383</td>\n",
       "      <td>Queens Quay W / Dan Leckie Way</td>\n",
       "      <td>Fort York Blvd / Garrison Rd</td>\n",
       "      <td>Casual</td>\n",
       "    </tr>\n",
       "    <tr>\n",
       "      <th>3</th>\n",
       "      <td>462308</td>\n",
       "      <td>2016-01-10 00:01:00</td>\n",
       "      <td>2016-01-10 00:27:00</td>\n",
       "      <td>1557</td>\n",
       "      <td>Cherry St / Distillery Ln</td>\n",
       "      <td>Fort York  Blvd / Capreol Crt</td>\n",
       "      <td>Casual</td>\n",
       "    </tr>\n",
       "    <tr>\n",
       "      <th>4</th>\n",
       "      <td>462309</td>\n",
       "      <td>2016-01-10 00:01:00</td>\n",
       "      <td>2016-01-10 00:27:00</td>\n",
       "      <td>1547</td>\n",
       "      <td>Cherry St / Distillery Ln</td>\n",
       "      <td>Fort York  Blvd / Capreol Crt</td>\n",
       "      <td>Casual</td>\n",
       "    </tr>\n",
       "  </tbody>\n",
       "</table>\n",
       "</div>"
      ],
      "text/plain": [
       "   trip_id      trip_start_time       trip_stop_time  trip_duration_seconds  \\\n",
       "0   462305  2016-01-10 00:00:00  2016-01-10 00:07:00                    394   \n",
       "1   462306  2016-01-10 00:00:00  2016-01-10 00:09:00                    533   \n",
       "2   462307  2016-01-10 00:00:00  2016-01-10 00:07:00                    383   \n",
       "3   462308  2016-01-10 00:01:00  2016-01-10 00:27:00                   1557   \n",
       "4   462309  2016-01-10 00:01:00  2016-01-10 00:27:00                   1547   \n",
       "\n",
       "                from_station_name                to_station_name user_type  \n",
       "0  Queens Quay W / Dan Leckie Way   Fort York Blvd / Garrison Rd    Casual  \n",
       "1    Sherbourne St / Wellesley St           Edward St / Yonge St    Member  \n",
       "2  Queens Quay W / Dan Leckie Way   Fort York Blvd / Garrison Rd    Casual  \n",
       "3       Cherry St / Distillery Ln  Fort York  Blvd / Capreol Crt    Casual  \n",
       "4       Cherry St / Distillery Ln  Fort York  Blvd / Capreol Crt    Casual  "
      ]
     },
     "execution_count": 96,
     "metadata": {},
     "output_type": "execute_result"
    }
   ],
   "source": [
    "df.head()"
   ]
  },
  {
   "cell_type": "code",
   "execution_count": 108,
   "metadata": {},
   "outputs": [
    {
     "data": {
      "text/html": [
       "<div>\n",
       "<style scoped>\n",
       "    .dataframe tbody tr th:only-of-type {\n",
       "        vertical-align: middle;\n",
       "    }\n",
       "\n",
       "    .dataframe tbody tr th {\n",
       "        vertical-align: top;\n",
       "    }\n",
       "\n",
       "    .dataframe thead th {\n",
       "        text-align: right;\n",
       "    }\n",
       "</style>\n",
       "<table border=\"1\" class=\"dataframe\">\n",
       "  <thead>\n",
       "    <tr style=\"text-align: right;\">\n",
       "      <th></th>\n",
       "      <th>trip_id</th>\n",
       "      <th>trip_start_time</th>\n",
       "      <th>trip_stop_time</th>\n",
       "      <th>trip_duration_seconds</th>\n",
       "      <th>from_station_name</th>\n",
       "      <th>to_station_name</th>\n",
       "      <th>user_type</th>\n",
       "    </tr>\n",
       "  </thead>\n",
       "  <tbody>\n",
       "    <tr>\n",
       "      <th>159</th>\n",
       "      <td>462477</td>\n",
       "      <td>2016-01-10 00:54:00</td>\n",
       "      <td>2016-01-10 01:12:00</td>\n",
       "      <td>1057</td>\n",
       "      <td>Church St / Alexander St</td>\n",
       "      <td>None</td>\n",
       "      <td>Member</td>\n",
       "    </tr>\n",
       "    <tr>\n",
       "      <th>1995</th>\n",
       "      <td>464586</td>\n",
       "      <td>2016-01-10 22:20:00</td>\n",
       "      <td>2016-01-10 22:40:00</td>\n",
       "      <td>1226</td>\n",
       "      <td>None</td>\n",
       "      <td>King St W / Stafford St</td>\n",
       "      <td>Member</td>\n",
       "    </tr>\n",
       "    <tr>\n",
       "      <th>3397</th>\n",
       "      <td>466039</td>\n",
       "      <td>2016-02-10 08:27:00</td>\n",
       "      <td>2016-02-10 08:32:00</td>\n",
       "      <td>324</td>\n",
       "      <td>Simcoe St / Wellington St W</td>\n",
       "      <td>None</td>\n",
       "      <td>Casual</td>\n",
       "    </tr>\n",
       "    <tr>\n",
       "      <th>3512</th>\n",
       "      <td>466166</td>\n",
       "      <td>2016-02-10 11:15:00</td>\n",
       "      <td>2016-02-10 11:23:00</td>\n",
       "      <td>469</td>\n",
       "      <td>None</td>\n",
       "      <td>Union Station</td>\n",
       "      <td>Casual</td>\n",
       "    </tr>\n",
       "  </tbody>\n",
       "</table>\n",
       "</div>"
      ],
      "text/plain": [
       "      trip_id      trip_start_time       trip_stop_time  \\\n",
       "159    462477  2016-01-10 00:54:00  2016-01-10 01:12:00   \n",
       "1995   464586  2016-01-10 22:20:00  2016-01-10 22:40:00   \n",
       "3397   466039  2016-02-10 08:27:00  2016-02-10 08:32:00   \n",
       "3512   466166  2016-02-10 11:15:00  2016-02-10 11:23:00   \n",
       "\n",
       "      trip_duration_seconds            from_station_name  \\\n",
       "159                    1057     Church St / Alexander St   \n",
       "1995                   1226                         None   \n",
       "3397                    324  Simcoe St / Wellington St W   \n",
       "3512                    469                         None   \n",
       "\n",
       "              to_station_name user_type  \n",
       "159                      None    Member  \n",
       "1995  King St W / Stafford St    Member  \n",
       "3397                     None    Casual  \n",
       "3512            Union Station    Casual  "
      ]
     },
     "execution_count": 108,
     "metadata": {},
     "output_type": "execute_result"
    }
   ],
   "source": [
    "df[(df.isna().values)]"
   ]
  },
  {
   "cell_type": "code",
   "execution_count": 109,
   "metadata": {},
   "outputs": [],
   "source": [
    "df_no_missing = df.dropna()"
   ]
  },
  {
   "cell_type": "code",
   "execution_count": 110,
   "metadata": {},
   "outputs": [
    {
     "data": {
      "text/plain": [
       "(217565, 7)"
      ]
     },
     "execution_count": 110,
     "metadata": {},
     "output_type": "execute_result"
    }
   ],
   "source": [
    "df_no_missing.shape"
   ]
  },
  {
   "cell_type": "code",
   "execution_count": 111,
   "metadata": {},
   "outputs": [
    {
     "data": {
      "text/plain": [
       "(217569, 7)"
      ]
     },
     "execution_count": 111,
     "metadata": {},
     "output_type": "execute_result"
    }
   ],
   "source": [
    "df.shape"
   ]
  },
  {
   "cell_type": "code",
   "execution_count": 118,
   "metadata": {},
   "outputs": [
    {
     "data": {
      "text/plain": [
       "False"
      ]
     },
     "execution_count": 118,
     "metadata": {},
     "output_type": "execute_result"
    }
   ],
   "source": [
    "df_no_missing.isnull().values.any()"
   ]
  },
  {
   "cell_type": "code",
   "execution_count": 119,
   "metadata": {},
   "outputs": [],
   "source": [
    "feather.write_feather(df_no_missing, 'feather-data/toronto_2016Q4.feather')"
   ]
  },
  {
   "cell_type": "code",
   "execution_count": 124,
   "metadata": {},
   "outputs": [],
   "source": [
    "df = feather.read_feather('feather-data/toronto_2017Q4.feather')"
   ]
  },
  {
   "cell_type": "code",
   "execution_count": 125,
   "metadata": {},
   "outputs": [
    {
     "data": {
      "text/plain": [
       "True"
      ]
     },
     "execution_count": 125,
     "metadata": {},
     "output_type": "execute_result"
    }
   ],
   "source": [
    "df.isnull().values.any()"
   ]
  },
  {
   "cell_type": "code",
   "execution_count": 126,
   "metadata": {},
   "outputs": [
    {
     "data": {
      "text/plain": [
       "(363405, 7)"
      ]
     },
     "execution_count": 126,
     "metadata": {},
     "output_type": "execute_result"
    }
   ],
   "source": [
    "df.shape"
   ]
  },
  {
   "cell_type": "code",
   "execution_count": 127,
   "metadata": {},
   "outputs": [
    {
     "data": {
      "text/html": [
       "<div>\n",
       "<style scoped>\n",
       "    .dataframe tbody tr th:only-of-type {\n",
       "        vertical-align: middle;\n",
       "    }\n",
       "\n",
       "    .dataframe tbody tr th {\n",
       "        vertical-align: top;\n",
       "    }\n",
       "\n",
       "    .dataframe thead th {\n",
       "        text-align: right;\n",
       "    }\n",
       "</style>\n",
       "<table border=\"1\" class=\"dataframe\">\n",
       "  <thead>\n",
       "    <tr style=\"text-align: right;\">\n",
       "      <th></th>\n",
       "      <th>trip_id</th>\n",
       "      <th>trip_start_time</th>\n",
       "      <th>trip_stop_time</th>\n",
       "      <th>trip_duration_seconds</th>\n",
       "      <th>from_station_name</th>\n",
       "      <th>to_station_name</th>\n",
       "      <th>user_type</th>\n",
       "    </tr>\n",
       "  </thead>\n",
       "  <tbody>\n",
       "    <tr>\n",
       "      <th>295638</th>\n",
       "      <td>2302635</td>\n",
       "      <td>11/29/17 05:53:54</td>\n",
       "      <td>NULLNULL</td>\n",
       "      <td>0</td>\n",
       "      <td>Seaton St / Dundas St E</td>\n",
       "      <td>None</td>\n",
       "      <td>Casual</td>\n",
       "    </tr>\n",
       "  </tbody>\n",
       "</table>\n",
       "</div>"
      ],
      "text/plain": [
       "        trip_id    trip_start_time trip_stop_time  trip_duration_seconds  \\\n",
       "295638  2302635  11/29/17 05:53:54       NULLNULL                      0   \n",
       "\n",
       "              from_station_name to_station_name user_type  \n",
       "295638  Seaton St / Dundas St E            None    Casual  "
      ]
     },
     "execution_count": 127,
     "metadata": {},
     "output_type": "execute_result"
    }
   ],
   "source": [
    "df[(df.isna().values)]"
   ]
  },
  {
   "cell_type": "code",
   "execution_count": 128,
   "metadata": {},
   "outputs": [],
   "source": [
    "df_no_missing = df.dropna()"
   ]
  },
  {
   "cell_type": "code",
   "execution_count": 129,
   "metadata": {},
   "outputs": [
    {
     "data": {
      "text/plain": [
       "(363404, 7)"
      ]
     },
     "execution_count": 129,
     "metadata": {},
     "output_type": "execute_result"
    }
   ],
   "source": [
    "df_no_missing.shape"
   ]
  },
  {
   "cell_type": "code",
   "execution_count": 130,
   "metadata": {},
   "outputs": [],
   "source": [
    "feather.write_feather(df_no_missing, 'feather-data/toronto_2017Q4.feather')"
   ]
  },
  {
   "cell_type": "code",
   "execution_count": 131,
   "metadata": {},
   "outputs": [
    {
     "data": {
      "text/plain": [
       "False"
      ]
     },
     "execution_count": 131,
     "metadata": {},
     "output_type": "execute_result"
    }
   ],
   "source": [
    "df_no_missing.isnull().values.any()"
   ]
  },
  {
   "cell_type": "code",
   "execution_count": 134,
   "metadata": {},
   "outputs": [
    {
     "data": {
      "text/plain": [
       "['feather-data/toronto_2016Q3.feather',\n",
       " 'feather-data/toronto_2016Q4.feather',\n",
       " 'feather-data/toronto_2017Q1.feather',\n",
       " 'feather-data/toronto_2017Q2.feather',\n",
       " 'feather-data/toronto_2017Q3.feather',\n",
       " 'feather-data/toronto_2017Q4.feather']"
      ]
     },
     "execution_count": 134,
     "metadata": {},
     "output_type": "execute_result"
    }
   ],
   "source": [
    "tor_files = subprocess.getoutput('ls feather-data/*.feather').split('\\n')\n",
    "tor_files"
   ]
  },
  {
   "cell_type": "code",
   "execution_count": 164,
   "metadata": {},
   "outputs": [
    {
     "name": "stdout",
     "output_type": "stream",
     "text": [
      "feather-data/toronto_2016Q3.feather\n",
      "False\n",
      "feather-data/toronto_2016Q4.feather\n",
      "False\n",
      "feather-data/toronto_2017Q1.feather\n",
      "False\n",
      "feather-data/toronto_2017Q2.feather\n",
      "False\n",
      "feather-data/toronto_2017Q3.feather\n",
      "False\n",
      "feather-data/toronto_2017Q4.feather\n",
      "False\n"
     ]
    }
   ],
   "source": [
    "list_stations_all = []\n",
    "\n",
    "for file in tor_files:\n",
    "    print(file)\n",
    "    df = feather.read_feather(file)\n",
    "    print(df.isnull().values.any())\n",
    "    stations_set = df[['from_station_name', 'to_station_name']].values.ravel()\n",
    "    list_stations_all.extend(stations_set)"
   ]
  },
  {
   "cell_type": "code",
   "execution_count": 166,
   "metadata": {},
   "outputs": [
    {
     "data": {
      "text/plain": [
       "4155780"
      ]
     },
     "execution_count": 166,
     "metadata": {},
     "output_type": "execute_result"
    }
   ],
   "source": [
    "len(list_stations_all)"
   ]
  },
  {
   "cell_type": "code",
   "execution_count": 171,
   "metadata": {},
   "outputs": [],
   "source": [
    "# https://stackoverflow.com/questions/30773911/union-of-multiple-sets-in-python\n",
    "tor_stations_set = set(list_stations_all)"
   ]
  },
  {
   "cell_type": "code",
   "execution_count": 172,
   "metadata": {},
   "outputs": [
    {
     "data": {
      "text/plain": [
       "293"
      ]
     },
     "execution_count": 172,
     "metadata": {},
     "output_type": "execute_result"
    }
   ],
   "source": [
    "len(tor_stations_set)"
   ]
  },
  {
   "cell_type": "code",
   "execution_count": 173,
   "metadata": {},
   "outputs": [
    {
     "data": {
      "text/html": [
       "<div>\n",
       "<style scoped>\n",
       "    .dataframe tbody tr th:only-of-type {\n",
       "        vertical-align: middle;\n",
       "    }\n",
       "\n",
       "    .dataframe tbody tr th {\n",
       "        vertical-align: top;\n",
       "    }\n",
       "\n",
       "    .dataframe thead th {\n",
       "        text-align: right;\n",
       "    }\n",
       "</style>\n",
       "<table border=\"1\" class=\"dataframe\">\n",
       "  <thead>\n",
       "    <tr style=\"text-align: right;\">\n",
       "      <th></th>\n",
       "      <th>intersection</th>\n",
       "      <th>city</th>\n",
       "    </tr>\n",
       "  </thead>\n",
       "  <tbody>\n",
       "    <tr>\n",
       "      <th>0</th>\n",
       "      <td>King St W / Spadina Ave</td>\n",
       "      <td>tor</td>\n",
       "    </tr>\n",
       "    <tr>\n",
       "      <th>1</th>\n",
       "      <td>519 Church St - SMART</td>\n",
       "      <td>tor</td>\n",
       "    </tr>\n",
       "    <tr>\n",
       "      <th>2</th>\n",
       "      <td>51 Parliament St</td>\n",
       "      <td>tor</td>\n",
       "    </tr>\n",
       "    <tr>\n",
       "      <th>3</th>\n",
       "      <td>25 York St (ACC/Union Station South)</td>\n",
       "      <td>tor</td>\n",
       "    </tr>\n",
       "    <tr>\n",
       "      <th>4</th>\n",
       "      <td>Liberty St / Fraser Ave Green P</td>\n",
       "      <td>tor</td>\n",
       "    </tr>\n",
       "  </tbody>\n",
       "</table>\n",
       "</div>"
      ],
      "text/plain": [
       "                           intersection city\n",
       "0               King St W / Spadina Ave  tor\n",
       "1                 519 Church St - SMART  tor\n",
       "2                      51 Parliament St  tor\n",
       "3  25 York St (ACC/Union Station South)  tor\n",
       "4       Liberty St / Fraser Ave Green P  tor"
      ]
     },
     "execution_count": 173,
     "metadata": {},
     "output_type": "execute_result"
    }
   ],
   "source": [
    "tor_stations = pd.DataFrame(tor_stations_set, columns = ['intersection'])\n",
    "tor_stations['city'] = 'tor'\n",
    "tor_stations.head()"
   ]
  },
  {
   "cell_type": "code",
   "execution_count": 175,
   "metadata": {},
   "outputs": [
    {
     "data": {
      "text/html": [
       "<div>\n",
       "<style scoped>\n",
       "    .dataframe tbody tr th:only-of-type {\n",
       "        vertical-align: middle;\n",
       "    }\n",
       "\n",
       "    .dataframe tbody tr th {\n",
       "        vertical-align: top;\n",
       "    }\n",
       "\n",
       "    .dataframe thead th {\n",
       "        text-align: right;\n",
       "    }\n",
       "</style>\n",
       "<table border=\"1\" class=\"dataframe\">\n",
       "  <thead>\n",
       "    <tr style=\"text-align: right;\">\n",
       "      <th></th>\n",
       "      <th>code</th>\n",
       "      <th>intersection</th>\n",
       "      <th>city</th>\n",
       "    </tr>\n",
       "  </thead>\n",
       "  <tbody>\n",
       "    <tr>\n",
       "      <th>0</th>\n",
       "      <td>7000</td>\n",
       "      <td>King St W / Spadina Ave</td>\n",
       "      <td>tor</td>\n",
       "    </tr>\n",
       "    <tr>\n",
       "      <th>1</th>\n",
       "      <td>7001</td>\n",
       "      <td>519 Church St - SMART</td>\n",
       "      <td>tor</td>\n",
       "    </tr>\n",
       "    <tr>\n",
       "      <th>2</th>\n",
       "      <td>7002</td>\n",
       "      <td>51 Parliament St</td>\n",
       "      <td>tor</td>\n",
       "    </tr>\n",
       "    <tr>\n",
       "      <th>3</th>\n",
       "      <td>7003</td>\n",
       "      <td>25 York St (ACC/Union Station South)</td>\n",
       "      <td>tor</td>\n",
       "    </tr>\n",
       "    <tr>\n",
       "      <th>4</th>\n",
       "      <td>7004</td>\n",
       "      <td>Liberty St / Fraser Ave Green P</td>\n",
       "      <td>tor</td>\n",
       "    </tr>\n",
       "  </tbody>\n",
       "</table>\n",
       "</div>"
      ],
      "text/plain": [
       "   code                          intersection city\n",
       "0  7000               King St W / Spadina Ave  tor\n",
       "1  7001                 519 Church St - SMART  tor\n",
       "2  7002                      51 Parliament St  tor\n",
       "3  7003  25 York St (ACC/Union Station South)  tor\n",
       "4  7004       Liberty St / Fraser Ave Green P  tor"
      ]
     },
     "execution_count": 175,
     "metadata": {},
     "output_type": "execute_result"
    }
   ],
   "source": [
    "#Assign codes to stations\n",
    "tor_stations.insert(0, 'code', range(7000, 7000 + len(tor_stations)))\n",
    "tor_stations.head()"
   ]
  },
  {
   "cell_type": "code",
   "execution_count": 176,
   "metadata": {},
   "outputs": [
    {
     "data": {
      "text/plain": [
       "code             int64\n",
       "intersection    object\n",
       "city            object\n",
       "dtype: object"
      ]
     },
     "execution_count": 176,
     "metadata": {},
     "output_type": "execute_result"
    }
   ],
   "source": [
    "tor_stations.dtypes"
   ]
  },
  {
   "cell_type": "code",
   "execution_count": 177,
   "metadata": {},
   "outputs": [
    {
     "data": {
      "text/plain": [
       "code            object\n",
       "intersection    object\n",
       "city            object\n",
       "dtype: object"
      ]
     },
     "execution_count": 177,
     "metadata": {},
     "output_type": "execute_result"
    }
   ],
   "source": [
    "tor_stations['code'] = tor_stations.code.astype('str')\n",
    "tor_stations.dtypes"
   ]
  },
  {
   "cell_type": "code",
   "execution_count": 178,
   "metadata": {},
   "outputs": [],
   "source": [
    "tor_stations_copy = tor_stations.copy() # copy used to merge codes into original data files"
   ]
  },
  {
   "cell_type": "code",
   "execution_count": 179,
   "metadata": {},
   "outputs": [
    {
     "data": {
      "text/html": [
       "<div>\n",
       "<style scoped>\n",
       "    .dataframe tbody tr th:only-of-type {\n",
       "        vertical-align: middle;\n",
       "    }\n",
       "\n",
       "    .dataframe tbody tr th {\n",
       "        vertical-align: top;\n",
       "    }\n",
       "\n",
       "    .dataframe thead th {\n",
       "        text-align: right;\n",
       "    }\n",
       "</style>\n",
       "<table border=\"1\" class=\"dataframe\">\n",
       "  <thead>\n",
       "    <tr style=\"text-align: right;\">\n",
       "      <th></th>\n",
       "      <th>code</th>\n",
       "      <th>intersection</th>\n",
       "      <th>city</th>\n",
       "    </tr>\n",
       "  </thead>\n",
       "  <tbody>\n",
       "    <tr>\n",
       "      <th>0</th>\n",
       "      <td>7000</td>\n",
       "      <td>King St W &amp; Spadina Ave</td>\n",
       "      <td>tor</td>\n",
       "    </tr>\n",
       "    <tr>\n",
       "      <th>1</th>\n",
       "      <td>7001</td>\n",
       "      <td>519 Church St - SMART</td>\n",
       "      <td>tor</td>\n",
       "    </tr>\n",
       "    <tr>\n",
       "      <th>2</th>\n",
       "      <td>7002</td>\n",
       "      <td>51 Parliament St</td>\n",
       "      <td>tor</td>\n",
       "    </tr>\n",
       "    <tr>\n",
       "      <th>3</th>\n",
       "      <td>7003</td>\n",
       "      <td>25 York St (ACC&amp;Union Station South)</td>\n",
       "      <td>tor</td>\n",
       "    </tr>\n",
       "    <tr>\n",
       "      <th>4</th>\n",
       "      <td>7004</td>\n",
       "      <td>Liberty St &amp; Fraser Ave Green P</td>\n",
       "      <td>tor</td>\n",
       "    </tr>\n",
       "  </tbody>\n",
       "</table>\n",
       "</div>"
      ],
      "text/plain": [
       "   code                          intersection city\n",
       "0  7000               King St W & Spadina Ave  tor\n",
       "1  7001                 519 Church St - SMART  tor\n",
       "2  7002                      51 Parliament St  tor\n",
       "3  7003  25 York St (ACC&Union Station South)  tor\n",
       "4  7004       Liberty St & Fraser Ave Green P  tor"
      ]
     },
     "execution_count": 179,
     "metadata": {},
     "output_type": "execute_result"
    }
   ],
   "source": [
    "tor_stations['intersection'] = tor_stations['intersection'].str.replace('/','&')\n",
    "tor_stations.head()"
   ]
  },
  {
   "cell_type": "code",
   "execution_count": 180,
   "metadata": {},
   "outputs": [
    {
     "name": "stdout",
     "output_type": "stream",
     "text": [
      "519 Church St - SMART\n",
      "51 Parliament St\n",
      "Martin Goodman Trail (Marilyn Bell Park)\n",
      "Donlands Station\n",
      "424 Wellington St W\n",
      "Jimmie Simpson Park (Queen St E)\n",
      "Woodbine Subway Green P (Cedarvale Ave)\n",
      "Exhibition GO (Atlantic Ave)\n",
      "Base Station\n",
      "Castle Frank Station\n",
      "Metro Hall Plaza\n",
      "161 Bleecker St (South of Wellesley)\n",
      "Riverdale Park North (Broadview Ave)\n",
      "The Royal Ontario Museum (Bloor St Entrance)\n",
      "Sunnyside - Gus Ryder Pool\n",
      "Mary McCormick Rec Centre (Sheridan Ave)\n",
      "Summerhill Station\n",
      "Bathurst Subway Station\n",
      "Exhibition GO Station\n",
      "Lansdowne Subway Green P\n",
      "Fringe Next Stage - 7219\n",
      "111 Bond St (North of Dundas St E)  - SMART\n",
      "Chorley Park - SMART\n",
      "Taddle Creek Park\n",
      "HTO Park (Queens Quay W)\n",
      "Landsdowne Subway Green P\n",
      "Union Station\n",
      "Central Tech  (Harbord St)\n",
      "Riverdale Park South (Broadview Ave)\n",
      "Humber Bay Shores Park East\n",
      "College Park South\n",
      "80 Clinton St (North of College)\n",
      "424 Wellington St. W\n",
      "High Park Subway Station\n",
      "Pape Subway Green P\n",
      "Chester Station\n",
      "HTO Park (Queen's Quay W)\n",
      "Dufferin Gate - SMART\n",
      "Humber Bay Shores Park West\n",
      "Toronto Eaton Centre (Yonge St)\n",
      "Victoria Park Subway Station - SMART\n"
     ]
    }
   ],
   "source": [
    "#check for any addresses that do not match the pattern of (street name & street name)\n",
    "\n",
    "pattern = re.compile(\"^((?!&).)*$\")\n",
    "for addr in tor_stations.intersection:\n",
    "    m = pattern.search(addr)\n",
    "    if m is not None:\n",
    "        print(m.group(0))"
   ]
  },
  {
   "cell_type": "code",
   "execution_count": 181,
   "metadata": {},
   "outputs": [
    {
     "data": {
      "text/html": [
       "<div>\n",
       "<style scoped>\n",
       "    .dataframe tbody tr th:only-of-type {\n",
       "        vertical-align: middle;\n",
       "    }\n",
       "\n",
       "    .dataframe tbody tr th {\n",
       "        vertical-align: top;\n",
       "    }\n",
       "\n",
       "    .dataframe thead th {\n",
       "        text-align: right;\n",
       "    }\n",
       "</style>\n",
       "<table border=\"1\" class=\"dataframe\">\n",
       "  <thead>\n",
       "    <tr style=\"text-align: right;\">\n",
       "      <th></th>\n",
       "      <th>code</th>\n",
       "      <th>intersection</th>\n",
       "      <th>city</th>\n",
       "    </tr>\n",
       "  </thead>\n",
       "  <tbody>\n",
       "    <tr>\n",
       "      <th>283</th>\n",
       "      <td>7283</td>\n",
       "      <td>Dundonald St &amp; Church St</td>\n",
       "      <td>tor</td>\n",
       "    </tr>\n",
       "    <tr>\n",
       "      <th>284</th>\n",
       "      <td>7284</td>\n",
       "      <td>King &amp; Cowan Ave</td>\n",
       "      <td>tor</td>\n",
       "    </tr>\n",
       "    <tr>\n",
       "      <th>285</th>\n",
       "      <td>7285</td>\n",
       "      <td>Beverly St &amp; College St</td>\n",
       "      <td>tor</td>\n",
       "    </tr>\n",
       "    <tr>\n",
       "      <th>286</th>\n",
       "      <td>7286</td>\n",
       "      <td>Borden St &amp; Bloor St W</td>\n",
       "      <td>tor</td>\n",
       "    </tr>\n",
       "    <tr>\n",
       "      <th>287</th>\n",
       "      <td>7287</td>\n",
       "      <td>Yonge St &amp; Dundonald St</td>\n",
       "      <td>tor</td>\n",
       "    </tr>\n",
       "    <tr>\n",
       "      <th>288</th>\n",
       "      <td>7288</td>\n",
       "      <td>Trinity St &amp;Front St E</td>\n",
       "      <td>tor</td>\n",
       "    </tr>\n",
       "    <tr>\n",
       "      <th>289</th>\n",
       "      <td>7289</td>\n",
       "      <td>Rusholme Park Cres &amp; College St</td>\n",
       "      <td>tor</td>\n",
       "    </tr>\n",
       "    <tr>\n",
       "      <th>290</th>\n",
       "      <td>7290</td>\n",
       "      <td>Danforth Ave &amp; Barrington Ave</td>\n",
       "      <td>tor</td>\n",
       "    </tr>\n",
       "    <tr>\n",
       "      <th>291</th>\n",
       "      <td>7291</td>\n",
       "      <td>McGill St &amp; Church St</td>\n",
       "      <td>tor</td>\n",
       "    </tr>\n",
       "    <tr>\n",
       "      <th>292</th>\n",
       "      <td>7292</td>\n",
       "      <td>Bloor St W &amp; Shaw Ave</td>\n",
       "      <td>tor</td>\n",
       "    </tr>\n",
       "  </tbody>\n",
       "</table>\n",
       "</div>"
      ],
      "text/plain": [
       "     code                     intersection city\n",
       "283  7283         Dundonald St & Church St  tor\n",
       "284  7284                 King & Cowan Ave  tor\n",
       "285  7285          Beverly St & College St  tor\n",
       "286  7286           Borden St & Bloor St W  tor\n",
       "287  7287          Yonge St & Dundonald St  tor\n",
       "288  7288           Trinity St &Front St E  tor\n",
       "289  7289  Rusholme Park Cres & College St  tor\n",
       "290  7290    Danforth Ave & Barrington Ave  tor\n",
       "291  7291            McGill St & Church St  tor\n",
       "292  7292            Bloor St W & Shaw Ave  tor"
      ]
     },
     "execution_count": 181,
     "metadata": {},
     "output_type": "execute_result"
    }
   ],
   "source": [
    "# remove the word SMART from address\n",
    "# https://pandas.pydata.org/pandas-docs/stable/reference/api/pandas.Series.str.replace.html\n",
    "repl = lambda m: m.group(0)[:-8]\n",
    "tor_stations.intersection = tor_stations.intersection.str.replace(r\"[\\w|\\s]* - SMART\", repl)"
   ]
  },
  {
   "cell_type": "code",
   "execution_count": 185,
   "metadata": {},
   "outputs": [
    {
     "data": {
      "text/html": [
       "<div>\n",
       "<style scoped>\n",
       "    .dataframe tbody tr th:only-of-type {\n",
       "        vertical-align: middle;\n",
       "    }\n",
       "\n",
       "    .dataframe tbody tr th {\n",
       "        vertical-align: top;\n",
       "    }\n",
       "\n",
       "    .dataframe thead th {\n",
       "        text-align: right;\n",
       "    }\n",
       "</style>\n",
       "<table border=\"1\" class=\"dataframe\">\n",
       "  <thead>\n",
       "    <tr style=\"text-align: right;\">\n",
       "      <th></th>\n",
       "      <th>code</th>\n",
       "      <th>intersection</th>\n",
       "      <th>city</th>\n",
       "    </tr>\n",
       "  </thead>\n",
       "  <tbody>\n",
       "    <tr>\n",
       "      <th>265</th>\n",
       "      <td>7265</td>\n",
       "      <td>Victoria Park Subway Station</td>\n",
       "      <td>tor</td>\n",
       "    </tr>\n",
       "  </tbody>\n",
       "</table>\n",
       "</div>"
      ],
      "text/plain": [
       "     code                  intersection city\n",
       "265  7265  Victoria Park Subway Station  tor"
      ]
     },
     "execution_count": 185,
     "metadata": {},
     "output_type": "execute_result"
    }
   ],
   "source": [
    "tor_stations.query(\"intersection == 'Victoria Park Subway Station'\")"
   ]
  },
  {
   "cell_type": "code",
   "execution_count": 186,
   "metadata": {},
   "outputs": [
    {
     "data": {
      "text/plain": [
       "0                 King St W & Spadina Ave\n",
       "1                           519 Church St\n",
       "2                        51 Parliament St\n",
       "3    25 York St (ACC&Union Station South)\n",
       "4         Liberty St & Fraser Ave Green P\n",
       "Name: intersection, dtype: object"
      ]
     },
     "execution_count": 186,
     "metadata": {},
     "output_type": "execute_result"
    }
   ],
   "source": [
    "tor_inter = tor_stations['intersection']\n",
    "tor_inter[:5]"
   ]
  },
  {
   "cell_type": "code",
   "execution_count": 196,
   "metadata": {},
   "outputs": [],
   "source": [
    "def geocode_city_intersection(intersections, city, apikey):\n",
    "    pause = [1, 2, 3]\n",
    "    latlong = []\n",
    "\n",
    "    client = GeocodioClient(apikey)\n",
    "\n",
    "    for intersection in intersections:\n",
    "        location = client.geocode(f'{intersection}, {city}, Canada')\n",
    "        latlong.append(location.coords)\n",
    "\n",
    "        sleep(choice(pause))\n",
    "    return latlong"
   ]
  },
  {
   "cell_type": "code",
   "execution_count": 197,
   "metadata": {},
   "outputs": [],
   "source": [
    "from geocodio import GeocodioClient\n",
    "from time import sleep\n",
    "from random import choice\n",
    "\n",
    "apikey = API-KEY # insert\n",
    "city = 'Toronto'\n",
    "\n",
    "latlong_list = geocode_city_intersection(tor_inter, city, apikey)"
   ]
  },
  {
   "cell_type": "code",
   "execution_count": 199,
   "metadata": {},
   "outputs": [
    {
     "data": {
      "text/plain": [
       "293"
      ]
     },
     "execution_count": 199,
     "metadata": {},
     "output_type": "execute_result"
    }
   ],
   "source": [
    "len(latlong_list)"
   ]
  },
  {
   "cell_type": "code",
   "execution_count": 201,
   "metadata": {},
   "outputs": [
    {
     "data": {
      "text/html": [
       "<div>\n",
       "<style scoped>\n",
       "    .dataframe tbody tr th:only-of-type {\n",
       "        vertical-align: middle;\n",
       "    }\n",
       "\n",
       "    .dataframe tbody tr th {\n",
       "        vertical-align: top;\n",
       "    }\n",
       "\n",
       "    .dataframe thead th {\n",
       "        text-align: right;\n",
       "    }\n",
       "</style>\n",
       "<table border=\"1\" class=\"dataframe\">\n",
       "  <thead>\n",
       "    <tr style=\"text-align: right;\">\n",
       "      <th></th>\n",
       "      <th>code</th>\n",
       "      <th>intersection</th>\n",
       "      <th>city</th>\n",
       "      <th>latitude</th>\n",
       "      <th>longitude</th>\n",
       "    </tr>\n",
       "  </thead>\n",
       "  <tbody>\n",
       "    <tr>\n",
       "      <th>0</th>\n",
       "      <td>7000</td>\n",
       "      <td>King St W &amp; Spadina Ave</td>\n",
       "      <td>tor</td>\n",
       "      <td>43.250575</td>\n",
       "      <td>-79.833498</td>\n",
       "    </tr>\n",
       "    <tr>\n",
       "      <th>1</th>\n",
       "      <td>7001</td>\n",
       "      <td>519 Church St</td>\n",
       "      <td>tor</td>\n",
       "      <td>43.666552</td>\n",
       "      <td>-79.380943</td>\n",
       "    </tr>\n",
       "    <tr>\n",
       "      <th>2</th>\n",
       "      <td>7002</td>\n",
       "      <td>51 Parliament St</td>\n",
       "      <td>tor</td>\n",
       "      <td>43.651951</td>\n",
       "      <td>-79.362142</td>\n",
       "    </tr>\n",
       "    <tr>\n",
       "      <th>3</th>\n",
       "      <td>7003</td>\n",
       "      <td>25 York St (ACC&amp;Union Station South)</td>\n",
       "      <td>tor</td>\n",
       "      <td>43.643432</td>\n",
       "      <td>-79.381214</td>\n",
       "    </tr>\n",
       "    <tr>\n",
       "      <th>4</th>\n",
       "      <td>7004</td>\n",
       "      <td>Liberty St &amp; Fraser Ave Green P</td>\n",
       "      <td>tor</td>\n",
       "      <td>43.637585</td>\n",
       "      <td>-79.424121</td>\n",
       "    </tr>\n",
       "  </tbody>\n",
       "</table>\n",
       "</div>"
      ],
      "text/plain": [
       "   code                          intersection city   latitude  longitude\n",
       "0  7000               King St W & Spadina Ave  tor  43.250575 -79.833498\n",
       "1  7001                         519 Church St  tor  43.666552 -79.380943\n",
       "2  7002                      51 Parliament St  tor  43.651951 -79.362142\n",
       "3  7003  25 York St (ACC&Union Station South)  tor  43.643432 -79.381214\n",
       "4  7004       Liberty St & Fraser Ave Green P  tor  43.637585 -79.424121"
      ]
     },
     "execution_count": 201,
     "metadata": {},
     "output_type": "execute_result"
    }
   ],
   "source": [
    "tor_stations.reset_index(drop = True, inplace = True)\n",
    "tor_stations = pd.concat([tor_stations, pd.DataFrame(latlong_list, columns=['latitude', 'longitude'])], axis = 1)\n",
    "tor_stations.head()"
   ]
  },
  {
   "cell_type": "code",
   "execution_count": 202,
   "metadata": {},
   "outputs": [],
   "source": [
    "feather.write_feather(tor_stations, 'feather-data/tor_stations.feather')"
   ]
  },
  {
   "cell_type": "code",
   "execution_count": 220,
   "metadata": {},
   "outputs": [],
   "source": [
    "df_ft = feather.read_feather('feather-data/toronto_2017Q4.feather')\n",
    "from_df = pd.merge(df_ft, tor_stations_copy, \n",
    "                   left_on='from_station_name', right_on='intersection', \n",
    "                   how = 'inner')"
   ]
  },
  {
   "cell_type": "code",
   "execution_count": 221,
   "metadata": {},
   "outputs": [
    {
     "data": {
      "text/html": [
       "<div>\n",
       "<style scoped>\n",
       "    .dataframe tbody tr th:only-of-type {\n",
       "        vertical-align: middle;\n",
       "    }\n",
       "\n",
       "    .dataframe tbody tr th {\n",
       "        vertical-align: top;\n",
       "    }\n",
       "\n",
       "    .dataframe thead th {\n",
       "        text-align: right;\n",
       "    }\n",
       "</style>\n",
       "<table border=\"1\" class=\"dataframe\">\n",
       "  <thead>\n",
       "    <tr style=\"text-align: right;\">\n",
       "      <th></th>\n",
       "      <th>trip_id</th>\n",
       "      <th>trip_start_time</th>\n",
       "      <th>trip_stop_time</th>\n",
       "      <th>trip_duration_seconds</th>\n",
       "      <th>from_station_name</th>\n",
       "      <th>to_station_name</th>\n",
       "      <th>user_type</th>\n",
       "      <th>code</th>\n",
       "      <th>intersection</th>\n",
       "      <th>city</th>\n",
       "    </tr>\n",
       "  </thead>\n",
       "  <tbody>\n",
       "    <tr>\n",
       "      <th>363399</th>\n",
       "      <td>2382800</td>\n",
       "      <td>12/30/17 13:34:31</td>\n",
       "      <td>12/30/17 13:40:28</td>\n",
       "      <td>357</td>\n",
       "      <td>Church St  / Wood St</td>\n",
       "      <td>Bloor St W / Balmuto St</td>\n",
       "      <td>Member</td>\n",
       "      <td>7282</td>\n",
       "      <td>Church St  / Wood St</td>\n",
       "      <td>tor</td>\n",
       "    </tr>\n",
       "    <tr>\n",
       "      <th>363400</th>\n",
       "      <td>2383025</td>\n",
       "      <td>12/30/17 17:57:25</td>\n",
       "      <td>12/30/17 18:05:40</td>\n",
       "      <td>495</td>\n",
       "      <td>Church St  / Wood St</td>\n",
       "      <td>Carlton St / Parliament St</td>\n",
       "      <td>Member</td>\n",
       "      <td>7282</td>\n",
       "      <td>Church St  / Wood St</td>\n",
       "      <td>tor</td>\n",
       "    </tr>\n",
       "    <tr>\n",
       "      <th>363401</th>\n",
       "      <td>2383309</td>\n",
       "      <td>12/31/17 12:47:25</td>\n",
       "      <td>12/31/17 12:53:07</td>\n",
       "      <td>342</td>\n",
       "      <td>Church St  / Wood St</td>\n",
       "      <td>161 Bleecker St (South of Wellesley)</td>\n",
       "      <td>Member</td>\n",
       "      <td>7282</td>\n",
       "      <td>Church St  / Wood St</td>\n",
       "      <td>tor</td>\n",
       "    </tr>\n",
       "    <tr>\n",
       "      <th>363402</th>\n",
       "      <td>2383593</td>\n",
       "      <td>12/31/17 19:07:02</td>\n",
       "      <td>12/31/17 19:12:40</td>\n",
       "      <td>338</td>\n",
       "      <td>Church St  / Wood St</td>\n",
       "      <td>Sherbourne St / Wellesley St E</td>\n",
       "      <td>Member</td>\n",
       "      <td>7282</td>\n",
       "      <td>Church St  / Wood St</td>\n",
       "      <td>tor</td>\n",
       "    </tr>\n",
       "    <tr>\n",
       "      <th>363403</th>\n",
       "      <td>2314950</td>\n",
       "      <td>12/01/17 14:43:54</td>\n",
       "      <td>12/01/17 14:44:02</td>\n",
       "      <td>8</td>\n",
       "      <td>Base Station</td>\n",
       "      <td>Base Station</td>\n",
       "      <td>Member</td>\n",
       "      <td>7036</td>\n",
       "      <td>Base Station</td>\n",
       "      <td>tor</td>\n",
       "    </tr>\n",
       "  </tbody>\n",
       "</table>\n",
       "</div>"
      ],
      "text/plain": [
       "        trip_id    trip_start_time     trip_stop_time  trip_duration_seconds  \\\n",
       "363399  2382800  12/30/17 13:34:31  12/30/17 13:40:28                    357   \n",
       "363400  2383025  12/30/17 17:57:25  12/30/17 18:05:40                    495   \n",
       "363401  2383309  12/31/17 12:47:25  12/31/17 12:53:07                    342   \n",
       "363402  2383593  12/31/17 19:07:02  12/31/17 19:12:40                    338   \n",
       "363403  2314950  12/01/17 14:43:54  12/01/17 14:44:02                      8   \n",
       "\n",
       "           from_station_name                       to_station_name user_type  \\\n",
       "363399  Church St  / Wood St               Bloor St W / Balmuto St    Member   \n",
       "363400  Church St  / Wood St            Carlton St / Parliament St    Member   \n",
       "363401  Church St  / Wood St  161 Bleecker St (South of Wellesley)    Member   \n",
       "363402  Church St  / Wood St        Sherbourne St / Wellesley St E    Member   \n",
       "363403          Base Station                          Base Station    Member   \n",
       "\n",
       "        code          intersection city  \n",
       "363399  7282  Church St  / Wood St  tor  \n",
       "363400  7282  Church St  / Wood St  tor  \n",
       "363401  7282  Church St  / Wood St  tor  \n",
       "363402  7282  Church St  / Wood St  tor  \n",
       "363403  7036          Base Station  tor  "
      ]
     },
     "execution_count": 221,
     "metadata": {},
     "output_type": "execute_result"
    }
   ],
   "source": [
    "from_df.tail()"
   ]
  },
  {
   "cell_type": "code",
   "execution_count": 223,
   "metadata": {},
   "outputs": [],
   "source": [
    "to_df = pd.merge(from_df, tor_stations_copy, \n",
    "                   left_on='to_station_name', right_on='intersection', \n",
    "                   how = 'left', suffixes=('_left', '_right'))"
   ]
  },
  {
   "cell_type": "code",
   "execution_count": 224,
   "metadata": {},
   "outputs": [
    {
     "data": {
      "text/html": [
       "<div>\n",
       "<style scoped>\n",
       "    .dataframe tbody tr th:only-of-type {\n",
       "        vertical-align: middle;\n",
       "    }\n",
       "\n",
       "    .dataframe tbody tr th {\n",
       "        vertical-align: top;\n",
       "    }\n",
       "\n",
       "    .dataframe thead th {\n",
       "        text-align: right;\n",
       "    }\n",
       "</style>\n",
       "<table border=\"1\" class=\"dataframe\">\n",
       "  <thead>\n",
       "    <tr style=\"text-align: right;\">\n",
       "      <th></th>\n",
       "      <th>trip_id</th>\n",
       "      <th>trip_start_time</th>\n",
       "      <th>trip_stop_time</th>\n",
       "      <th>trip_duration_seconds</th>\n",
       "      <th>from_station_name</th>\n",
       "      <th>to_station_name</th>\n",
       "      <th>user_type</th>\n",
       "      <th>code_left</th>\n",
       "      <th>intersection_left</th>\n",
       "      <th>city_left</th>\n",
       "      <th>code_right</th>\n",
       "      <th>intersection_right</th>\n",
       "      <th>city_right</th>\n",
       "    </tr>\n",
       "  </thead>\n",
       "  <tbody>\n",
       "    <tr>\n",
       "      <th>363399</th>\n",
       "      <td>2382800</td>\n",
       "      <td>12/30/17 13:34:31</td>\n",
       "      <td>12/30/17 13:40:28</td>\n",
       "      <td>357</td>\n",
       "      <td>Church St  / Wood St</td>\n",
       "      <td>Bloor St W / Balmuto St</td>\n",
       "      <td>Member</td>\n",
       "      <td>7282</td>\n",
       "      <td>Church St  / Wood St</td>\n",
       "      <td>tor</td>\n",
       "      <td>7128</td>\n",
       "      <td>Bloor St W / Balmuto St</td>\n",
       "      <td>tor</td>\n",
       "    </tr>\n",
       "    <tr>\n",
       "      <th>363400</th>\n",
       "      <td>2383025</td>\n",
       "      <td>12/30/17 17:57:25</td>\n",
       "      <td>12/30/17 18:05:40</td>\n",
       "      <td>495</td>\n",
       "      <td>Church St  / Wood St</td>\n",
       "      <td>Carlton St / Parliament St</td>\n",
       "      <td>Member</td>\n",
       "      <td>7282</td>\n",
       "      <td>Church St  / Wood St</td>\n",
       "      <td>tor</td>\n",
       "      <td>7205</td>\n",
       "      <td>Carlton St / Parliament St</td>\n",
       "      <td>tor</td>\n",
       "    </tr>\n",
       "    <tr>\n",
       "      <th>363401</th>\n",
       "      <td>2383309</td>\n",
       "      <td>12/31/17 12:47:25</td>\n",
       "      <td>12/31/17 12:53:07</td>\n",
       "      <td>342</td>\n",
       "      <td>Church St  / Wood St</td>\n",
       "      <td>161 Bleecker St (South of Wellesley)</td>\n",
       "      <td>Member</td>\n",
       "      <td>7282</td>\n",
       "      <td>Church St  / Wood St</td>\n",
       "      <td>tor</td>\n",
       "      <td>7050</td>\n",
       "      <td>161 Bleecker St (South of Wellesley)</td>\n",
       "      <td>tor</td>\n",
       "    </tr>\n",
       "    <tr>\n",
       "      <th>363402</th>\n",
       "      <td>2383593</td>\n",
       "      <td>12/31/17 19:07:02</td>\n",
       "      <td>12/31/17 19:12:40</td>\n",
       "      <td>338</td>\n",
       "      <td>Church St  / Wood St</td>\n",
       "      <td>Sherbourne St / Wellesley St E</td>\n",
       "      <td>Member</td>\n",
       "      <td>7282</td>\n",
       "      <td>Church St  / Wood St</td>\n",
       "      <td>tor</td>\n",
       "      <td>7267</td>\n",
       "      <td>Sherbourne St / Wellesley St E</td>\n",
       "      <td>tor</td>\n",
       "    </tr>\n",
       "    <tr>\n",
       "      <th>363403</th>\n",
       "      <td>2314950</td>\n",
       "      <td>12/01/17 14:43:54</td>\n",
       "      <td>12/01/17 14:44:02</td>\n",
       "      <td>8</td>\n",
       "      <td>Base Station</td>\n",
       "      <td>Base Station</td>\n",
       "      <td>Member</td>\n",
       "      <td>7036</td>\n",
       "      <td>Base Station</td>\n",
       "      <td>tor</td>\n",
       "      <td>7036</td>\n",
       "      <td>Base Station</td>\n",
       "      <td>tor</td>\n",
       "    </tr>\n",
       "  </tbody>\n",
       "</table>\n",
       "</div>"
      ],
      "text/plain": [
       "        trip_id    trip_start_time     trip_stop_time  trip_duration_seconds  \\\n",
       "363399  2382800  12/30/17 13:34:31  12/30/17 13:40:28                    357   \n",
       "363400  2383025  12/30/17 17:57:25  12/30/17 18:05:40                    495   \n",
       "363401  2383309  12/31/17 12:47:25  12/31/17 12:53:07                    342   \n",
       "363402  2383593  12/31/17 19:07:02  12/31/17 19:12:40                    338   \n",
       "363403  2314950  12/01/17 14:43:54  12/01/17 14:44:02                      8   \n",
       "\n",
       "           from_station_name                       to_station_name user_type  \\\n",
       "363399  Church St  / Wood St               Bloor St W / Balmuto St    Member   \n",
       "363400  Church St  / Wood St            Carlton St / Parliament St    Member   \n",
       "363401  Church St  / Wood St  161 Bleecker St (South of Wellesley)    Member   \n",
       "363402  Church St  / Wood St        Sherbourne St / Wellesley St E    Member   \n",
       "363403          Base Station                          Base Station    Member   \n",
       "\n",
       "       code_left     intersection_left city_left code_right  \\\n",
       "363399      7282  Church St  / Wood St       tor       7128   \n",
       "363400      7282  Church St  / Wood St       tor       7205   \n",
       "363401      7282  Church St  / Wood St       tor       7050   \n",
       "363402      7282  Church St  / Wood St       tor       7267   \n",
       "363403      7036          Base Station       tor       7036   \n",
       "\n",
       "                          intersection_right city_right  \n",
       "363399               Bloor St W / Balmuto St        tor  \n",
       "363400            Carlton St / Parliament St        tor  \n",
       "363401  161 Bleecker St (South of Wellesley)        tor  \n",
       "363402        Sherbourne St / Wellesley St E        tor  \n",
       "363403                          Base Station        tor  "
      ]
     },
     "execution_count": 224,
     "metadata": {},
     "output_type": "execute_result"
    }
   ],
   "source": [
    "to_df.tail()"
   ]
  },
  {
   "cell_type": "code",
   "execution_count": 228,
   "metadata": {},
   "outputs": [
    {
     "data": {
      "text/html": [
       "<div>\n",
       "<style scoped>\n",
       "    .dataframe tbody tr th:only-of-type {\n",
       "        vertical-align: middle;\n",
       "    }\n",
       "\n",
       "    .dataframe tbody tr th {\n",
       "        vertical-align: top;\n",
       "    }\n",
       "\n",
       "    .dataframe thead th {\n",
       "        text-align: right;\n",
       "    }\n",
       "</style>\n",
       "<table border=\"1\" class=\"dataframe\">\n",
       "  <thead>\n",
       "    <tr style=\"text-align: right;\">\n",
       "      <th></th>\n",
       "      <th>trip_id</th>\n",
       "      <th>trip_start_time</th>\n",
       "      <th>trip_stop_time</th>\n",
       "      <th>trip_duration_seconds</th>\n",
       "      <th>user_type</th>\n",
       "      <th>code_left</th>\n",
       "      <th>code_right</th>\n",
       "      <th>city_right</th>\n",
       "    </tr>\n",
       "  </thead>\n",
       "  <tbody>\n",
       "    <tr>\n",
       "      <th>0</th>\n",
       "      <td>1971685</td>\n",
       "      <td>10/01/17 00:00:01</td>\n",
       "      <td>10/01/17 00:14:10</td>\n",
       "      <td>849</td>\n",
       "      <td>Member</td>\n",
       "      <td>7202</td>\n",
       "      <td>7149</td>\n",
       "      <td>tor</td>\n",
       "    </tr>\n",
       "    <tr>\n",
       "      <th>1</th>\n",
       "      <td>1971699</td>\n",
       "      <td>10/01/17 00:03:26</td>\n",
       "      <td>10/01/17 00:12:20</td>\n",
       "      <td>534</td>\n",
       "      <td>Member</td>\n",
       "      <td>7202</td>\n",
       "      <td>7003</td>\n",
       "      <td>tor</td>\n",
       "    </tr>\n",
       "    <tr>\n",
       "      <th>2</th>\n",
       "      <td>1971782</td>\n",
       "      <td>10/01/17 00:26:35</td>\n",
       "      <td>10/01/17 00:29:52</td>\n",
       "      <td>197</td>\n",
       "      <td>Casual</td>\n",
       "      <td>7202</td>\n",
       "      <td>7240</td>\n",
       "      <td>tor</td>\n",
       "    </tr>\n",
       "    <tr>\n",
       "      <th>3</th>\n",
       "      <td>1971893</td>\n",
       "      <td>10/01/17 00:57:21</td>\n",
       "      <td>10/01/17 01:46:53</td>\n",
       "      <td>2972</td>\n",
       "      <td>Casual</td>\n",
       "      <td>7202</td>\n",
       "      <td>7153</td>\n",
       "      <td>tor</td>\n",
       "    </tr>\n",
       "    <tr>\n",
       "      <th>4</th>\n",
       "      <td>1971894</td>\n",
       "      <td>10/01/17 00:57:24</td>\n",
       "      <td>10/01/17 01:47:18</td>\n",
       "      <td>2994</td>\n",
       "      <td>Casual</td>\n",
       "      <td>7202</td>\n",
       "      <td>7153</td>\n",
       "      <td>tor</td>\n",
       "    </tr>\n",
       "  </tbody>\n",
       "</table>\n",
       "</div>"
      ],
      "text/plain": [
       "   trip_id    trip_start_time     trip_stop_time  trip_duration_seconds  \\\n",
       "0  1971685  10/01/17 00:00:01  10/01/17 00:14:10                    849   \n",
       "1  1971699  10/01/17 00:03:26  10/01/17 00:12:20                    534   \n",
       "2  1971782  10/01/17 00:26:35  10/01/17 00:29:52                    197   \n",
       "3  1971893  10/01/17 00:57:21  10/01/17 01:46:53                   2972   \n",
       "4  1971894  10/01/17 00:57:24  10/01/17 01:47:18                   2994   \n",
       "\n",
       "  user_type code_left code_right city_right  \n",
       "0    Member      7202       7149        tor  \n",
       "1    Member      7202       7003        tor  \n",
       "2    Casual      7202       7240        tor  \n",
       "3    Casual      7202       7153        tor  \n",
       "4    Casual      7202       7153        tor  "
      ]
     },
     "execution_count": 228,
     "metadata": {},
     "output_type": "execute_result"
    }
   ],
   "source": [
    "df = to_df.copy()\n",
    "df.drop(['from_station_name', 'to_station_name', 'intersection_left', 'city_left', 'intersection_right'], axis = 1, inplace = True)\n",
    "df.head()"
   ]
  },
  {
   "cell_type": "code",
   "execution_count": 229,
   "metadata": {},
   "outputs": [
    {
     "data": {
      "text/html": [
       "<div>\n",
       "<style scoped>\n",
       "    .dataframe tbody tr th:only-of-type {\n",
       "        vertical-align: middle;\n",
       "    }\n",
       "\n",
       "    .dataframe tbody tr th {\n",
       "        vertical-align: top;\n",
       "    }\n",
       "\n",
       "    .dataframe thead th {\n",
       "        text-align: right;\n",
       "    }\n",
       "</style>\n",
       "<table border=\"1\" class=\"dataframe\">\n",
       "  <thead>\n",
       "    <tr style=\"text-align: right;\">\n",
       "      <th></th>\n",
       "      <th>trip_id</th>\n",
       "      <th>trip_start_time</th>\n",
       "      <th>start_station_code</th>\n",
       "      <th>trip_stop_time</th>\n",
       "      <th>end_station_code</th>\n",
       "      <th>trip_duration_seconds</th>\n",
       "      <th>membership_type</th>\n",
       "      <th>city</th>\n",
       "    </tr>\n",
       "  </thead>\n",
       "  <tbody>\n",
       "    <tr>\n",
       "      <th>0</th>\n",
       "      <td>1971685</td>\n",
       "      <td>10/01/17 00:00:01</td>\n",
       "      <td>7202</td>\n",
       "      <td>10/01/17 00:14:10</td>\n",
       "      <td>7149</td>\n",
       "      <td>849</td>\n",
       "      <td>1</td>\n",
       "      <td>tor</td>\n",
       "    </tr>\n",
       "    <tr>\n",
       "      <th>1</th>\n",
       "      <td>1971699</td>\n",
       "      <td>10/01/17 00:03:26</td>\n",
       "      <td>7202</td>\n",
       "      <td>10/01/17 00:12:20</td>\n",
       "      <td>7003</td>\n",
       "      <td>534</td>\n",
       "      <td>1</td>\n",
       "      <td>tor</td>\n",
       "    </tr>\n",
       "    <tr>\n",
       "      <th>2</th>\n",
       "      <td>1971782</td>\n",
       "      <td>10/01/17 00:26:35</td>\n",
       "      <td>7202</td>\n",
       "      <td>10/01/17 00:29:52</td>\n",
       "      <td>7240</td>\n",
       "      <td>197</td>\n",
       "      <td>0</td>\n",
       "      <td>tor</td>\n",
       "    </tr>\n",
       "    <tr>\n",
       "      <th>3</th>\n",
       "      <td>1971893</td>\n",
       "      <td>10/01/17 00:57:21</td>\n",
       "      <td>7202</td>\n",
       "      <td>10/01/17 01:46:53</td>\n",
       "      <td>7153</td>\n",
       "      <td>2972</td>\n",
       "      <td>0</td>\n",
       "      <td>tor</td>\n",
       "    </tr>\n",
       "    <tr>\n",
       "      <th>4</th>\n",
       "      <td>1971894</td>\n",
       "      <td>10/01/17 00:57:24</td>\n",
       "      <td>7202</td>\n",
       "      <td>10/01/17 01:47:18</td>\n",
       "      <td>7153</td>\n",
       "      <td>2994</td>\n",
       "      <td>0</td>\n",
       "      <td>tor</td>\n",
       "    </tr>\n",
       "  </tbody>\n",
       "</table>\n",
       "</div>"
      ],
      "text/plain": [
       "   trip_id    trip_start_time start_station_code     trip_stop_time  \\\n",
       "0  1971685  10/01/17 00:00:01               7202  10/01/17 00:14:10   \n",
       "1  1971699  10/01/17 00:03:26               7202  10/01/17 00:12:20   \n",
       "2  1971782  10/01/17 00:26:35               7202  10/01/17 00:29:52   \n",
       "3  1971893  10/01/17 00:57:21               7202  10/01/17 01:46:53   \n",
       "4  1971894  10/01/17 00:57:24               7202  10/01/17 01:47:18   \n",
       "\n",
       "  end_station_code  trip_duration_seconds membership_type city  \n",
       "0             7149                    849               1  tor  \n",
       "1             7003                    534               1  tor  \n",
       "2             7240                    197               0  tor  \n",
       "3             7153                   2972               0  tor  \n",
       "4             7153                   2994               0  tor  "
      ]
     },
     "execution_count": 229,
     "metadata": {},
     "output_type": "execute_result"
    }
   ],
   "source": [
    "df = df[['trip_id', 'trip_start_time', 'code_left', \n",
    "               'trip_stop_time', 'code_right', 'trip_duration_seconds', 'user_type', 'city_right']]\n",
    "df.columns = ['trip_id', 'trip_start_time', 'start_station_code', \n",
    "               'trip_stop_time', 'end_station_code', 'trip_duration_seconds', 'membership_type', 'city']\n",
    "df.membership_type = np.where(df.membership_type == \"Member\", '1', '0')\n",
    "df.head()"
   ]
  },
  {
   "cell_type": "code",
   "execution_count": 243,
   "metadata": {},
   "outputs": [
    {
     "name": "stdout",
     "output_type": "stream",
     "text": [
      "0\n"
     ]
    }
   ],
   "source": [
    "print(len(df.query('trip_duration_seconds == 0')))"
   ]
  },
  {
   "cell_type": "code",
   "execution_count": 319,
   "metadata": {},
   "outputs": [],
   "source": [
    "def clean_tor(fname):\n",
    "    print(fname)\n",
    "    \n",
    "    df_ftr = feather.read_feather(fname)\n",
    "    print(df_ftr.columns)\n",
    "    print(df_ftr.shape)\n",
    "    print(df_ftr.dtypes)\n",
    "    \n",
    "    from_df = pd.merge(df_ftr, tor_stations_copy, \n",
    "                   left_on='from_station_name', right_on='intersection', \n",
    "                   how = 'inner')\n",
    "    \n",
    "    to_df = pd.merge(from_df, tor_stations_copy, \n",
    "                   left_on='to_station_name', right_on='intersection', \n",
    "                   how = 'left', suffixes=('_left', '_right'))\n",
    "    \n",
    "    df = to_df.copy()\n",
    "    df.drop(['trip_id', 'from_station_name', 'to_station_name', 'intersection_left', 'city_left', 'intersection_right'], axis = 1, inplace = True)\n",
    "    \n",
    "    df = df[['trip_start_time', 'code_left', \n",
    "               'trip_stop_time', 'code_right', 'trip_duration_seconds', 'user_type', 'city_right']]\n",
    "    df.columns = ['trip_start_time', 'start_station_code', \n",
    "               'trip_stop_time', 'end_station_code', 'trip_duration_seconds', 'membership_type', 'city']\n",
    "    \n",
    "    df['membership_type'] = np.where(df.membership_type == \"Member\", '1', '0')\n",
    "    df['trip_start_time'] = pd.to_datetime(df.trip_start_time)\n",
    "    df['trip_stop_time'] = pd.to_datetime(df.trip_stop_time)\n",
    "    \n",
    "    print(df.columns)\n",
    "    print(df.shape)\n",
    "    print(df.dtypes)\n",
    "    print(len(df.query('trip_duration_seconds == 0')))\n",
    "    print(df.isnull().values.any())\n",
    "    print(\"-----------------------------------------------------------------------------------\")\n",
    "    \n",
    "    feather.write_feather(df, fname)"
   ]
  },
  {
   "cell_type": "code",
   "execution_count": 320,
   "metadata": {},
   "outputs": [
    {
     "data": {
      "text/plain": [
       "['feather-data/toronto_2016Q3.feather',\n",
       " 'feather-data/toronto_2016Q4.feather',\n",
       " 'feather-data/toronto_2017Q1.feather',\n",
       " 'feather-data/toronto_2017Q2.feather',\n",
       " 'feather-data/toronto_2017Q3.feather',\n",
       " 'feather-data/toronto_2017Q4.feather']"
      ]
     },
     "execution_count": 320,
     "metadata": {},
     "output_type": "execute_result"
    }
   ],
   "source": [
    "tor_files = subprocess.getoutput('ls feather-data/t*.feather').split('\\n')\n",
    "tor_files[1:]"
   ]
  },
  {
   "cell_type": "code",
   "execution_count": 321,
   "metadata": {},
   "outputs": [
    {
     "name": "stdout",
     "output_type": "stream",
     "text": [
      "feather-data/toronto_2016Q3.feather\n",
      "Index(['trip_id', 'trip_start_time', 'trip_stop_time', 'trip_duration_seconds',\n",
      "       'from_station_name', 'to_station_name', 'user_type'],\n",
      "      dtype='object')\n",
      "(367957, 7)\n",
      "trip_id                           int64\n",
      "trip_start_time          datetime64[ns]\n",
      "trip_stop_time           datetime64[ns]\n",
      "trip_duration_seconds             int64\n",
      "from_station_name                object\n",
      "to_station_name                  object\n",
      "user_type                        object\n",
      "dtype: object\n",
      "Index(['trip_start_time', 'start_station_code', 'trip_stop_time',\n",
      "       'end_station_code', 'trip_duration_seconds', 'membership_type', 'city'],\n",
      "      dtype='object')\n",
      "(367957, 7)\n",
      "trip_start_time          datetime64[ns]\n",
      "start_station_code               object\n",
      "trip_stop_time           datetime64[ns]\n",
      "end_station_code                 object\n",
      "trip_duration_seconds             int64\n",
      "membership_type                  object\n",
      "city                             object\n",
      "dtype: object\n",
      "0\n",
      "False\n",
      "-----------------------------------------------------------------------------------\n",
      "feather-data/toronto_2016Q4.feather\n",
      "Index(['trip_id', 'trip_start_time', 'trip_stop_time', 'trip_duration_seconds',\n",
      "       'from_station_name', 'to_station_name', 'user_type'],\n",
      "      dtype='object')\n",
      "(217565, 7)\n",
      "trip_id                   int64\n",
      "trip_start_time          object\n",
      "trip_stop_time           object\n",
      "trip_duration_seconds     int64\n",
      "from_station_name        object\n",
      "to_station_name          object\n",
      "user_type                object\n",
      "dtype: object\n",
      "Index(['trip_start_time', 'start_station_code', 'trip_stop_time',\n",
      "       'end_station_code', 'trip_duration_seconds', 'membership_type', 'city'],\n",
      "      dtype='object')\n",
      "(217565, 7)\n",
      "trip_start_time          datetime64[ns]\n",
      "start_station_code               object\n",
      "trip_stop_time           datetime64[ns]\n",
      "end_station_code                 object\n",
      "trip_duration_seconds             int64\n",
      "membership_type                  object\n",
      "city                             object\n",
      "dtype: object\n",
      "0\n",
      "False\n",
      "-----------------------------------------------------------------------------------\n",
      "feather-data/toronto_2017Q1.feather\n",
      "Index(['trip_id', 'trip_start_time', 'trip_stop_time', 'trip_duration_seconds',\n",
      "       'from_station_id', 'from_station_name', 'to_station_id',\n",
      "       'to_station_name', 'user_type'],\n",
      "      dtype='object')\n",
      "(132123, 9)\n",
      "trip_id                   int64\n",
      "trip_start_time          object\n",
      "trip_stop_time           object\n",
      "trip_duration_seconds     int64\n",
      "from_station_id           int64\n",
      "from_station_name        object\n",
      "to_station_id             int64\n",
      "to_station_name          object\n",
      "user_type                object\n",
      "dtype: object\n",
      "Index(['trip_start_time', 'start_station_code', 'trip_stop_time',\n",
      "       'end_station_code', 'trip_duration_seconds', 'membership_type', 'city'],\n",
      "      dtype='object')\n",
      "(132123, 7)\n",
      "trip_start_time          datetime64[ns]\n",
      "start_station_code               object\n",
      "trip_stop_time           datetime64[ns]\n",
      "end_station_code                 object\n",
      "trip_duration_seconds             int64\n",
      "membership_type                  object\n",
      "city                             object\n",
      "dtype: object\n",
      "0\n",
      "False\n",
      "-----------------------------------------------------------------------------------\n",
      "feather-data/toronto_2017Q2.feather\n",
      "Index(['trip_id', 'trip_start_time', 'trip_stop_time', 'trip_duration_seconds',\n",
      "       'from_station_id', 'from_station_name', 'to_station_id',\n",
      "       'to_station_name', 'user_type'],\n",
      "      dtype='object')\n",
      "(333353, 9)\n",
      "trip_id                   int64\n",
      "trip_start_time          object\n",
      "trip_stop_time           object\n",
      "trip_duration_seconds     int64\n",
      "from_station_id           int64\n",
      "from_station_name        object\n",
      "to_station_id             int64\n",
      "to_station_name          object\n",
      "user_type                object\n",
      "dtype: object\n",
      "Index(['trip_start_time', 'start_station_code', 'trip_stop_time',\n",
      "       'end_station_code', 'trip_duration_seconds', 'membership_type', 'city'],\n",
      "      dtype='object')\n",
      "(333353, 7)\n",
      "trip_start_time          datetime64[ns]\n",
      "start_station_code               object\n",
      "trip_stop_time           datetime64[ns]\n",
      "end_station_code                 object\n",
      "trip_duration_seconds             int64\n",
      "membership_type                  object\n",
      "city                             object\n",
      "dtype: object\n",
      "0\n",
      "False\n",
      "-----------------------------------------------------------------------------------\n",
      "feather-data/toronto_2017Q3.feather\n",
      "Index(['trip_id', 'trip_start_time', 'trip_stop_time', 'trip_duration_seconds',\n",
      "       'from_station_name', 'to_station_name', 'user_type'],\n",
      "      dtype='object')\n",
      "(663488, 7)\n",
      "trip_id                   int64\n",
      "trip_start_time          object\n",
      "trip_stop_time           object\n",
      "trip_duration_seconds     int64\n",
      "from_station_name        object\n",
      "to_station_name          object\n",
      "user_type                object\n",
      "dtype: object\n",
      "Index(['trip_start_time', 'start_station_code', 'trip_stop_time',\n",
      "       'end_station_code', 'trip_duration_seconds', 'membership_type', 'city'],\n",
      "      dtype='object')\n",
      "(663488, 7)\n",
      "trip_start_time          datetime64[ns]\n",
      "start_station_code               object\n",
      "trip_stop_time           datetime64[ns]\n",
      "end_station_code                 object\n",
      "trip_duration_seconds             int64\n",
      "membership_type                  object\n",
      "city                             object\n",
      "dtype: object\n",
      "0\n",
      "False\n",
      "-----------------------------------------------------------------------------------\n",
      "feather-data/toronto_2017Q4.feather\n",
      "Index(['trip_id', 'trip_start_time', 'trip_stop_time', 'trip_duration_seconds',\n",
      "       'from_station_name', 'to_station_name', 'user_type'],\n",
      "      dtype='object')\n",
      "(363404, 7)\n",
      "trip_id                   int64\n",
      "trip_start_time          object\n",
      "trip_stop_time           object\n",
      "trip_duration_seconds     int64\n",
      "from_station_name        object\n",
      "to_station_name          object\n",
      "user_type                object\n",
      "dtype: object\n",
      "Index(['trip_start_time', 'start_station_code', 'trip_stop_time',\n",
      "       'end_station_code', 'trip_duration_seconds', 'membership_type', 'city'],\n",
      "      dtype='object')\n",
      "(363404, 7)\n",
      "trip_start_time          datetime64[ns]\n",
      "start_station_code               object\n",
      "trip_stop_time           datetime64[ns]\n",
      "end_station_code                 object\n",
      "trip_duration_seconds             int64\n",
      "membership_type                  object\n",
      "city                             object\n",
      "dtype: object\n",
      "0\n",
      "False\n",
      "-----------------------------------------------------------------------------------\n"
     ]
    }
   ],
   "source": [
    "for file in tor_files[1:]:\n",
    "    clean_tor(file)"
   ]
  },
  {
   "cell_type": "markdown",
   "metadata": {},
   "source": [
    "### MONTREAL"
   ]
  },
  {
   "cell_type": "code",
   "execution_count": 250,
   "metadata": {},
   "outputs": [
    {
     "data": {
      "text/plain": [
       "['feather-data/BixiMontrealRentals2014.zip',\n",
       " 'feather-data/BixiMontrealRentals2015.zip',\n",
       " 'feather-data/BixiMontrealRentals2016.zip',\n",
       " 'feather-data/BixiMontrealRentals2017.zip',\n",
       " 'feather-data/BixiMontrealRentals2018.zip']"
      ]
     },
     "execution_count": 250,
     "metadata": {},
     "output_type": "execute_result"
    }
   ],
   "source": [
    "zipped_files = subprocess.getoutput('ls feather-data/*.zip').split('\\n')\n",
    "zipped_files"
   ]
  },
  {
   "cell_type": "code",
   "execution_count": 251,
   "metadata": {},
   "outputs": [],
   "source": [
    "for zip_file in zipped_files:\n",
    "    pzf = PyZipFile(zip_file)\n",
    "    pzf.extractall('./feather-data')"
   ]
  },
  {
   "cell_type": "code",
   "execution_count": 252,
   "metadata": {},
   "outputs": [
    {
     "name": "stdout",
     "output_type": "stream",
     "text": [
      "\u001b[34m2017\u001b[m\u001b[m                        OD_2018-08.csv\n",
      "\u001b[34mBixiMontrealRentals2014\u001b[m\u001b[m     OD_2018-09.csv\n",
      "BixiMontrealRentals2014.zip OD_2018-10.csv\n",
      "\u001b[34mBixiMontrealRentals2015\u001b[m\u001b[m     OD_2018-11.csv\n",
      "BixiMontrealRentals2015.zip Stations_2018.csv\n",
      "\u001b[34mBixiMontrealRentals2016\u001b[m\u001b[m     tor_stations.feather\n",
      "BixiMontrealRentals2016.zip toronto_2016Q3.feather\n",
      "BixiMontrealRentals2017.zip toronto_2016Q4.feather\n",
      "BixiMontrealRentals2018.zip toronto_2017Q1.feather\n",
      "OD_2018-04.csv              toronto_2017Q2.feather\n",
      "OD_2018-05.csv              toronto_2017Q3.feather\n",
      "OD_2018-06.csv              toronto_2017Q4.feather\n",
      "OD_2018-07.csv\n"
     ]
    }
   ],
   "source": [
    "!ls feather-data"
   ]
  },
  {
   "cell_type": "code",
   "execution_count": 253,
   "metadata": {},
   "outputs": [],
   "source": [
    "# move extracted files from individual folders into data folder\n",
    "! mv feather-data/BixiMontrealRentals2014/*.* feather-data\n",
    "! mv feather-data/BixiMontrealRentals2015/*.* feather-data\n",
    "! mv feather-data/BixiMontrealRentals2016/*.* feather-data\n",
    "! mv feather-data/2017/*.* feather-data"
   ]
  },
  {
   "cell_type": "code",
   "execution_count": 256,
   "metadata": {},
   "outputs": [
    {
     "name": "stdout",
     "output_type": "stream",
     "text": [
      "feather-data/OD_2014-04.csv    feather-data/OD_2016-11.csv\n",
      "feather-data/OD_2014-05.csv    feather-data/OD_2017-04.csv\n",
      "feather-data/OD_2014-06.csv    feather-data/OD_2017-05.csv\n",
      "feather-data/OD_2014-07.csv    feather-data/OD_2017-06.csv\n",
      "feather-data/OD_2014-08.csv    feather-data/OD_2017-07.csv\n",
      "feather-data/OD_2014-09.csv    feather-data/OD_2017-08.csv\n",
      "feather-data/OD_2014-10.csv    feather-data/OD_2017-09.csv\n",
      "feather-data/OD_2014-11.csv    feather-data/OD_2017-10.csv\n",
      "feather-data/OD_2015-04.csv    feather-data/OD_2017-11.csv\n",
      "feather-data/OD_2015-05.csv    feather-data/OD_2018-04.csv\n",
      "feather-data/OD_2015-06.csv    feather-data/OD_2018-05.csv\n",
      "feather-data/OD_2015-07.csv    feather-data/OD_2018-06.csv\n",
      "feather-data/OD_2015-08.csv    feather-data/OD_2018-07.csv\n",
      "feather-data/OD_2015-09.csv    feather-data/OD_2018-08.csv\n",
      "feather-data/OD_2015-10.csv    feather-data/OD_2018-09.csv\n",
      "feather-data/OD_2015-11.csv    feather-data/OD_2018-10.csv\n",
      "feather-data/OD_2016-04.csv    feather-data/OD_2018-11.csv\n",
      "feather-data/OD_2016-05.csv    feather-data/Stations_2014.csv\n",
      "feather-data/OD_2016-06.csv    feather-data/Stations_2015.csv\n",
      "feather-data/OD_2016-07.csv    feather-data/Stations_2016.csv\n",
      "feather-data/OD_2016-08.csv    feather-data/Stations_2017.csv\n",
      "feather-data/OD_2016-09.csv    feather-data/Stations_2018.csv\n",
      "feather-data/OD_2016-10.csv\n"
     ]
    }
   ],
   "source": [
    "!ls feather-data/*.csv"
   ]
  },
  {
   "cell_type": "code",
   "execution_count": 257,
   "metadata": {},
   "outputs": [],
   "source": [
    "for fname in os.listdir('feather-data/'):\n",
    "    if fname.startswith('OD'):\n",
    "        os.rename(f'feather-data/{fname}', f'feather-data/{fname}'.replace('feather-data/OD', 'feather-data/montreal'))"
   ]
  },
  {
   "cell_type": "code",
   "execution_count": 258,
   "metadata": {},
   "outputs": [
    {
     "name": "stdout",
     "output_type": "stream",
     "text": [
      "feather-data/Stations_2014.csv    feather-data/montreal_2016-06.csv\n",
      "feather-data/Stations_2015.csv    feather-data/montreal_2016-07.csv\n",
      "feather-data/Stations_2016.csv    feather-data/montreal_2016-08.csv\n",
      "feather-data/Stations_2017.csv    feather-data/montreal_2016-09.csv\n",
      "feather-data/Stations_2018.csv    feather-data/montreal_2016-10.csv\n",
      "feather-data/montreal_2014-04.csv feather-data/montreal_2016-11.csv\n",
      "feather-data/montreal_2014-05.csv feather-data/montreal_2017-04.csv\n",
      "feather-data/montreal_2014-06.csv feather-data/montreal_2017-05.csv\n",
      "feather-data/montreal_2014-07.csv feather-data/montreal_2017-06.csv\n",
      "feather-data/montreal_2014-08.csv feather-data/montreal_2017-07.csv\n",
      "feather-data/montreal_2014-09.csv feather-data/montreal_2017-08.csv\n",
      "feather-data/montreal_2014-10.csv feather-data/montreal_2017-09.csv\n",
      "feather-data/montreal_2014-11.csv feather-data/montreal_2017-10.csv\n",
      "feather-data/montreal_2015-04.csv feather-data/montreal_2017-11.csv\n",
      "feather-data/montreal_2015-05.csv feather-data/montreal_2018-04.csv\n",
      "feather-data/montreal_2015-06.csv feather-data/montreal_2018-05.csv\n",
      "feather-data/montreal_2015-07.csv feather-data/montreal_2018-06.csv\n",
      "feather-data/montreal_2015-08.csv feather-data/montreal_2018-07.csv\n",
      "feather-data/montreal_2015-09.csv feather-data/montreal_2018-08.csv\n",
      "feather-data/montreal_2015-10.csv feather-data/montreal_2018-09.csv\n",
      "feather-data/montreal_2015-11.csv feather-data/montreal_2018-10.csv\n",
      "feather-data/montreal_2016-04.csv feather-data/montreal_2018-11.csv\n",
      "feather-data/montreal_2016-05.csv\n"
     ]
    }
   ],
   "source": [
    "!ls feather-data/*.csv"
   ]
  },
  {
   "cell_type": "code",
   "execution_count": 259,
   "metadata": {},
   "outputs": [],
   "source": [
    "for fname in os.listdir('feather-data/'):\n",
    "    if fname.startswith('S'):\n",
    "        os.rename(f'feather-data/{fname}', f'feather-data/{fname}'.replace('feather-data/Stations', 'feather-data/montreal_stations'))"
   ]
  },
  {
   "cell_type": "code",
   "execution_count": 260,
   "metadata": {},
   "outputs": [
    {
     "name": "stdout",
     "output_type": "stream",
     "text": [
      "feather-data/montreal_2014-04.csv       feather-data/montreal_2016-11.csv\n",
      "feather-data/montreal_2014-05.csv       feather-data/montreal_2017-04.csv\n",
      "feather-data/montreal_2014-06.csv       feather-data/montreal_2017-05.csv\n",
      "feather-data/montreal_2014-07.csv       feather-data/montreal_2017-06.csv\n",
      "feather-data/montreal_2014-08.csv       feather-data/montreal_2017-07.csv\n",
      "feather-data/montreal_2014-09.csv       feather-data/montreal_2017-08.csv\n",
      "feather-data/montreal_2014-10.csv       feather-data/montreal_2017-09.csv\n",
      "feather-data/montreal_2014-11.csv       feather-data/montreal_2017-10.csv\n",
      "feather-data/montreal_2015-04.csv       feather-data/montreal_2017-11.csv\n",
      "feather-data/montreal_2015-05.csv       feather-data/montreal_2018-04.csv\n",
      "feather-data/montreal_2015-06.csv       feather-data/montreal_2018-05.csv\n",
      "feather-data/montreal_2015-07.csv       feather-data/montreal_2018-06.csv\n",
      "feather-data/montreal_2015-08.csv       feather-data/montreal_2018-07.csv\n",
      "feather-data/montreal_2015-09.csv       feather-data/montreal_2018-08.csv\n",
      "feather-data/montreal_2015-10.csv       feather-data/montreal_2018-09.csv\n",
      "feather-data/montreal_2015-11.csv       feather-data/montreal_2018-10.csv\n",
      "feather-data/montreal_2016-04.csv       feather-data/montreal_2018-11.csv\n",
      "feather-data/montreal_2016-05.csv       feather-data/montreal_stations_2014.csv\n",
      "feather-data/montreal_2016-06.csv       feather-data/montreal_stations_2015.csv\n",
      "feather-data/montreal_2016-07.csv       feather-data/montreal_stations_2016.csv\n",
      "feather-data/montreal_2016-08.csv       feather-data/montreal_stations_2017.csv\n",
      "feather-data/montreal_2016-09.csv       feather-data/montreal_stations_2018.csv\n",
      "feather-data/montreal_2016-10.csv\n"
     ]
    }
   ],
   "source": [
    "!ls feather-data/*.csv"
   ]
  },
  {
   "cell_type": "code",
   "execution_count": 262,
   "metadata": {},
   "outputs": [
    {
     "data": {
      "text/plain": [
       "['feather-data/montreal_2014-04.csv',\n",
       " 'feather-data/montreal_2014-05.csv',\n",
       " 'feather-data/montreal_2014-06.csv',\n",
       " 'feather-data/montreal_2014-07.csv',\n",
       " 'feather-data/montreal_2014-08.csv',\n",
       " 'feather-data/montreal_2014-09.csv',\n",
       " 'feather-data/montreal_2014-10.csv',\n",
       " 'feather-data/montreal_2014-11.csv',\n",
       " 'feather-data/montreal_2015-04.csv',\n",
       " 'feather-data/montreal_2015-05.csv',\n",
       " 'feather-data/montreal_2015-06.csv',\n",
       " 'feather-data/montreal_2015-07.csv',\n",
       " 'feather-data/montreal_2015-08.csv',\n",
       " 'feather-data/montreal_2015-09.csv',\n",
       " 'feather-data/montreal_2015-10.csv',\n",
       " 'feather-data/montreal_2015-11.csv',\n",
       " 'feather-data/montreal_2016-04.csv',\n",
       " 'feather-data/montreal_2016-05.csv',\n",
       " 'feather-data/montreal_2016-06.csv',\n",
       " 'feather-data/montreal_2016-07.csv',\n",
       " 'feather-data/montreal_2016-08.csv',\n",
       " 'feather-data/montreal_2016-09.csv',\n",
       " 'feather-data/montreal_2016-10.csv',\n",
       " 'feather-data/montreal_2016-11.csv',\n",
       " 'feather-data/montreal_2017-04.csv',\n",
       " 'feather-data/montreal_2017-05.csv',\n",
       " 'feather-data/montreal_2017-06.csv',\n",
       " 'feather-data/montreal_2017-07.csv',\n",
       " 'feather-data/montreal_2017-08.csv',\n",
       " 'feather-data/montreal_2017-09.csv',\n",
       " 'feather-data/montreal_2017-10.csv',\n",
       " 'feather-data/montreal_2017-11.csv',\n",
       " 'feather-data/montreal_2018-04.csv',\n",
       " 'feather-data/montreal_2018-05.csv',\n",
       " 'feather-data/montreal_2018-06.csv',\n",
       " 'feather-data/montreal_2018-07.csv',\n",
       " 'feather-data/montreal_2018-08.csv',\n",
       " 'feather-data/montreal_2018-09.csv',\n",
       " 'feather-data/montreal_2018-10.csv',\n",
       " 'feather-data/montreal_2018-11.csv',\n",
       " 'feather-data/montreal_stations_2014.csv',\n",
       " 'feather-data/montreal_stations_2015.csv',\n",
       " 'feather-data/montreal_stations_2016.csv',\n",
       " 'feather-data/montreal_stations_2017.csv',\n",
       " 'feather-data/montreal_stations_2018.csv']"
      ]
     },
     "execution_count": 262,
     "metadata": {},
     "output_type": "execute_result"
    }
   ],
   "source": [
    "csv_files = subprocess.getoutput('ls feather-data/*.csv').split('\\n')\n",
    "csv_files"
   ]
  },
  {
   "cell_type": "code",
   "execution_count": 263,
   "metadata": {},
   "outputs": [
    {
     "name": "stdout",
     "output_type": "stream",
     "text": [
      "feather-data/montreal_2014-04.csv\n",
      "feather-data/montreal_2014-04.csv\n",
      "Index(['start_date', 'start_station_code', 'end_date', 'end_station_code',\n",
      "       'duration_sec', 'is_member'],\n",
      "      dtype='object')\n",
      "(108264, 6)\n",
      "False\n",
      "feather-data/montreal_2014-05.csv\n",
      "feather-data/montreal_2014-05.csv\n",
      "Index(['start_date', 'start_station_code', 'end_date', 'end_station_code',\n",
      "       'duration_sec', 'is_member'],\n",
      "      dtype='object')\n",
      "(455261, 6)\n",
      "False\n",
      "feather-data/montreal_2014-06.csv\n",
      "feather-data/montreal_2014-06.csv\n",
      "Index(['start_date', 'start_station_code', 'end_date', 'end_station_code',\n",
      "       'duration_sec', 'is_member'],\n",
      "      dtype='object')\n",
      "(525863, 6)\n",
      "False\n",
      "feather-data/montreal_2014-07.csv\n",
      "feather-data/montreal_2014-07.csv\n",
      "Index(['start_date', 'start_station_code', 'end_date', 'end_station_code',\n",
      "       'duration_sec', 'is_member'],\n",
      "      dtype='object')\n",
      "(569352, 6)\n",
      "False\n",
      "feather-data/montreal_2014-08.csv\n",
      "feather-data/montreal_2014-08.csv\n",
      "Index(['start_date', 'start_station_code', 'end_date', 'end_station_code',\n",
      "       'duration_sec', 'is_member'],\n",
      "      dtype='object')\n",
      "(556780, 6)\n",
      "False\n",
      "feather-data/montreal_2014-09.csv\n",
      "feather-data/montreal_2014-09.csv\n",
      "Index(['start_date', 'start_station_code', 'end_date', 'end_station_code',\n",
      "       'duration_sec', 'is_member'],\n",
      "      dtype='object')\n",
      "(477545, 6)\n",
      "False\n",
      "feather-data/montreal_2014-10.csv\n",
      "feather-data/montreal_2014-10.csv\n",
      "Index(['start_date', 'start_station_code', 'end_date', 'end_station_code',\n",
      "       'duration_sec', 'is_member'],\n",
      "      dtype='object')\n",
      "(331818, 6)\n",
      "False\n",
      "feather-data/montreal_2014-11.csv\n",
      "feather-data/montreal_2014-11.csv\n",
      "Index(['start_date', 'start_station_code', 'end_date', 'end_station_code',\n",
      "       'duration_sec', 'is_member'],\n",
      "      dtype='object')\n",
      "(111393, 6)\n",
      "False\n",
      "feather-data/montreal_2015-04.csv\n",
      "feather-data/montreal_2015-04.csv\n",
      "Index(['start_date', 'start_station_code', 'end_date', 'end_station_code',\n",
      "       'duration_sec', 'is_member'],\n",
      "      dtype='object')\n",
      "(150271, 6)\n",
      "False\n",
      "feather-data/montreal_2015-05.csv\n",
      "feather-data/montreal_2015-05.csv\n",
      "Index(['start_date', 'start_station_code', 'end_date', 'end_station_code',\n",
      "       'duration_sec', 'is_member'],\n",
      "      dtype='object')\n",
      "(545678, 6)\n",
      "False\n",
      "feather-data/montreal_2015-06.csv\n",
      "feather-data/montreal_2015-06.csv\n",
      "Index(['start_date', 'start_station_code', 'end_date', 'end_station_code',\n",
      "       'duration_sec', 'is_member'],\n",
      "      dtype='object')\n",
      "(547238, 6)\n",
      "False\n",
      "feather-data/montreal_2015-07.csv\n",
      "feather-data/montreal_2015-07.csv\n",
      "Index(['start_date', 'start_station_code', 'end_date', 'end_station_code',\n",
      "       'duration_sec', 'is_member'],\n",
      "      dtype='object')\n",
      "(620865, 6)\n",
      "False\n",
      "feather-data/montreal_2015-08.csv\n",
      "feather-data/montreal_2015-08.csv\n",
      "Index(['start_date', 'start_station_code', 'end_date', 'end_station_code',\n",
      "       'duration_sec', 'is_member'],\n",
      "      dtype='object')\n",
      "(597505, 6)\n",
      "False\n",
      "feather-data/montreal_2015-09.csv\n",
      "feather-data/montreal_2015-09.csv\n",
      "Index(['start_date', 'start_station_code', 'end_date', 'end_station_code',\n",
      "       'duration_sec', 'is_member'],\n",
      "      dtype='object')\n",
      "(523322, 6)\n",
      "False\n",
      "feather-data/montreal_2015-10.csv\n",
      "feather-data/montreal_2015-10.csv\n",
      "Index(['start_date', 'start_station_code', 'end_date', 'end_station_code',\n",
      "       'duration_sec', 'is_member'],\n",
      "      dtype='object')\n",
      "(332597, 6)\n",
      "False\n",
      "feather-data/montreal_2015-11.csv\n",
      "feather-data/montreal_2015-11.csv\n",
      "Index(['start_date', 'start_station_code', 'end_date', 'end_station_code',\n",
      "       'duration_sec', 'is_member'],\n",
      "      dtype='object')\n",
      "(126407, 6)\n",
      "False\n",
      "feather-data/montreal_2016-04.csv\n",
      "feather-data/montreal_2016-04.csv\n",
      "Index(['start_date', 'start_station_code', 'end_date', 'end_station_code',\n",
      "       'duration_sec', 'is_member'],\n",
      "      dtype='object')\n",
      "(194514, 6)\n",
      "False\n",
      "feather-data/montreal_2016-05.csv\n",
      "feather-data/montreal_2016-05.csv\n",
      "Index(['start_date', 'start_station_code', 'end_date', 'end_station_code',\n",
      "       'duration_sec', 'is_member'],\n",
      "      dtype='object')\n",
      "(573739, 6)\n",
      "False\n",
      "feather-data/montreal_2016-06.csv\n",
      "feather-data/montreal_2016-06.csv\n",
      "Index(['start_date', 'start_station_code', 'end_date', 'end_station_code',\n",
      "       'duration_sec', 'is_member'],\n",
      "      dtype='object')\n",
      "(645448, 6)\n",
      "False\n",
      "feather-data/montreal_2016-07.csv\n",
      "feather-data/montreal_2016-07.csv\n",
      "Index(['start_date', 'start_station_code', 'end_date', 'end_station_code',\n",
      "       'duration_sec', 'is_member'],\n",
      "      dtype='object')\n",
      "(716335, 6)\n",
      "False\n",
      "feather-data/montreal_2016-08.csv\n",
      "feather-data/montreal_2016-08.csv\n",
      "Index(['start_date', 'start_station_code', 'end_date', 'end_station_code',\n",
      "       'duration_sec', 'is_member'],\n",
      "      dtype='object')\n",
      "(688174, 6)\n",
      "False\n",
      "feather-data/montreal_2016-09.csv\n",
      "feather-data/montreal_2016-09.csv\n",
      "Index(['start_date', 'start_station_code', 'end_date', 'end_station_code',\n",
      "       'duration_sec', 'is_member'],\n",
      "      dtype='object')\n",
      "(632218, 6)\n",
      "False\n",
      "feather-data/montreal_2016-10.csv\n",
      "feather-data/montreal_2016-10.csv\n",
      "Index(['start_date', 'start_station_code', 'end_date', 'end_station_code',\n",
      "       'duration_sec', 'is_member'],\n",
      "      dtype='object')\n",
      "(397707, 6)\n",
      "False\n",
      "feather-data/montreal_2016-11.csv\n",
      "feather-data/montreal_2016-11.csv\n",
      "Index(['start_date', 'start_station_code', 'end_date', 'end_station_code',\n",
      "       'duration_sec', 'is_member'],\n",
      "      dtype='object')\n",
      "(151945, 6)\n",
      "False\n",
      "feather-data/montreal_2017-04.csv\n",
      "feather-data/montreal_2017-04.csv\n",
      "Index(['start_date', 'start_station_code', 'end_date', 'end_station_code',\n",
      "       'duration_sec', 'is_member'],\n",
      "      dtype='object')\n",
      "(196327, 6)\n",
      "False\n",
      "feather-data/montreal_2017-05.csv\n",
      "feather-data/montreal_2017-05.csv\n",
      "Index(['start_date', 'start_station_code', 'end_date', 'end_station_code',\n",
      "       'duration_sec', 'is_member'],\n",
      "      dtype='object')\n",
      "(589852, 6)\n",
      "False\n",
      "feather-data/montreal_2017-06.csv\n",
      "feather-data/montreal_2017-06.csv\n",
      "Index(['start_date', 'start_station_code', 'end_date', 'end_station_code',\n",
      "       'duration_sec', 'is_member'],\n",
      "      dtype='object')\n",
      "(748078, 6)\n",
      "False\n",
      "feather-data/montreal_2017-07.csv\n",
      "feather-data/montreal_2017-07.csv\n",
      "Index(['start_date', 'start_station_code', 'end_date', 'end_station_code',\n",
      "       'duration_sec', 'is_member'],\n",
      "      dtype='object')\n",
      "(877338, 6)\n",
      "False\n",
      "feather-data/montreal_2017-08.csv\n",
      "feather-data/montreal_2017-08.csv\n",
      "Index(['start_date', 'start_station_code', 'end_date', 'end_station_code',\n",
      "       'duration_sec', 'is_member'],\n",
      "      dtype='object')\n",
      "(859471, 6)\n",
      "False\n",
      "feather-data/montreal_2017-09.csv\n",
      "feather-data/montreal_2017-09.csv\n",
      "Index(['start_date', 'start_station_code', 'end_date', 'end_station_code',\n",
      "       'duration_sec', 'is_member'],\n",
      "      dtype='object')\n",
      "(747633, 6)\n",
      "False\n",
      "feather-data/montreal_2017-10.csv\n",
      "feather-data/montreal_2017-10.csv\n",
      "Index(['start_date', 'start_station_code', 'end_date', 'end_station_code',\n",
      "       'duration_sec', 'is_member'],\n",
      "      dtype='object')\n",
      "(569930, 6)\n",
      "False\n",
      "feather-data/montreal_2017-11.csv\n",
      "feather-data/montreal_2017-11.csv\n",
      "Index(['start_date', 'start_station_code', 'end_date', 'end_station_code',\n",
      "       'duration_sec', 'is_member'],\n",
      "      dtype='object')\n",
      "(151728, 6)\n",
      "False\n",
      "feather-data/montreal_2018-04.csv\n",
      "feather-data/montreal_2018-04.csv\n",
      "Index(['start_date', 'start_station_code', 'end_date', 'end_station_code',\n",
      "       'duration_sec', 'is_member'],\n",
      "      dtype='object')\n",
      "(236982, 6)\n",
      "False\n",
      "feather-data/montreal_2018-05.csv\n",
      "feather-data/montreal_2018-05.csv\n",
      "Index(['start_date', 'start_station_code', 'end_date', 'end_station_code',\n",
      "       'duration_sec', 'is_member'],\n",
      "      dtype='object')\n",
      "(811910, 6)\n",
      "False\n",
      "feather-data/montreal_2018-06.csv\n",
      "feather-data/montreal_2018-06.csv\n",
      "Index(['start_date', 'start_station_code', 'end_date', 'end_station_code',\n",
      "       'duration_sec', 'is_member'],\n",
      "      dtype='object')\n",
      "(888470, 6)\n",
      "False\n",
      "feather-data/montreal_2018-07.csv\n",
      "feather-data/montreal_2018-07.csv\n",
      "Index(['start_date', 'start_station_code', 'end_date', 'end_station_code',\n",
      "       'duration_sec', 'is_member'],\n",
      "      dtype='object')\n",
      "(953031, 6)\n",
      "False\n",
      "feather-data/montreal_2018-08.csv\n",
      "feather-data/montreal_2018-08.csv\n",
      "Index(['start_date', 'start_station_code', 'end_date', 'end_station_code',\n",
      "       'duration_sec', 'is_member'],\n",
      "      dtype='object')\n",
      "(956790, 6)\n",
      "False\n",
      "feather-data/montreal_2018-09.csv\n",
      "feather-data/montreal_2018-09.csv\n",
      "Index(['start_date', 'start_station_code', 'end_date', 'end_station_code',\n",
      "       'duration_sec', 'is_member'],\n",
      "      dtype='object')\n",
      "(797520, 6)\n",
      "False\n",
      "feather-data/montreal_2018-10.csv\n",
      "feather-data/montreal_2018-10.csv\n",
      "Index(['start_date', 'start_station_code', 'end_date', 'end_station_code',\n",
      "       'duration_sec', 'is_member'],\n",
      "      dtype='object')\n",
      "(488490, 6)\n",
      "False\n",
      "feather-data/montreal_2018-11.csv\n",
      "feather-data/montreal_2018-11.csv\n",
      "Index(['start_date', 'start_station_code', 'end_date', 'end_station_code',\n",
      "       'duration_sec', 'is_member'],\n",
      "      dtype='object')\n",
      "(144348, 6)\n",
      "False\n",
      "feather-data/montreal_stations_2014.csv\n",
      "feather-data/montreal_stations_2014.csv\n",
      "Index(['code', 'name', 'latitude', 'longitude'], dtype='object')\n",
      "(459, 4)\n",
      "False\n",
      "feather-data/montreal_stations_2015.csv\n",
      "feather-data/montreal_stations_2015.csv\n",
      "Index(['code', 'name', 'latitude', 'longitude'], dtype='object')\n",
      "(460, 4)\n",
      "False\n",
      "feather-data/montreal_stations_2016.csv\n",
      "feather-data/montreal_stations_2016.csv\n",
      "Index(['code', 'name', 'latitude', 'longitude'], dtype='object')\n",
      "(465, 4)\n",
      "False\n",
      "feather-data/montreal_stations_2017.csv\n",
      "feather-data/montreal_stations_2017.csv\n",
      "Index(['code', 'name', 'latitude', 'longitude'], dtype='object')\n",
      "(546, 4)\n",
      "False\n",
      "feather-data/montreal_stations_2018.csv\n",
      "feather-data/montreal_stations_2018.csv\n",
      "Index(['code', 'name', 'latitude', 'longitude'], dtype='object')\n",
      "(552, 4)\n",
      "False\n"
     ]
    }
   ],
   "source": [
    "for file in csv_files:\n",
    "    csvtofeather(file)"
   ]
  },
  {
   "cell_type": "code",
   "execution_count": 305,
   "metadata": {},
   "outputs": [
    {
     "data": {
      "text/plain": [
       "['feather-data/montreal_stations_2014.feather',\n",
       " 'feather-data/montreal_stations_2015.feather',\n",
       " 'feather-data/montreal_stations_2016.feather',\n",
       " 'feather-data/montreal_stations_2017.feather',\n",
       " 'feather-data/montreal_stations_2018.feather']"
      ]
     },
     "execution_count": 305,
     "metadata": {},
     "output_type": "execute_result"
    }
   ],
   "source": [
    "mtl_st_files = subprocess.getoutput('ls feather-data/m*s*.feather').split('\\n')\n",
    "mtl_st_files"
   ]
  },
  {
   "cell_type": "code",
   "execution_count": 306,
   "metadata": {},
   "outputs": [
    {
     "data": {
      "text/html": [
       "<div>\n",
       "<style scoped>\n",
       "    .dataframe tbody tr th:only-of-type {\n",
       "        vertical-align: middle;\n",
       "    }\n",
       "\n",
       "    .dataframe tbody tr th {\n",
       "        vertical-align: top;\n",
       "    }\n",
       "\n",
       "    .dataframe thead th {\n",
       "        text-align: right;\n",
       "    }\n",
       "</style>\n",
       "<table border=\"1\" class=\"dataframe\">\n",
       "  <thead>\n",
       "    <tr style=\"text-align: right;\">\n",
       "      <th></th>\n",
       "      <th>code</th>\n",
       "      <th>name</th>\n",
       "      <th>latitude</th>\n",
       "      <th>longitude</th>\n",
       "    </tr>\n",
       "  </thead>\n",
       "  <tbody>\n",
       "    <tr>\n",
       "      <th>0</th>\n",
       "      <td>7015</td>\n",
       "      <td>LaSalle / 4e avenue</td>\n",
       "      <td>45.430740</td>\n",
       "      <td>-73.591911</td>\n",
       "    </tr>\n",
       "    <tr>\n",
       "      <th>1</th>\n",
       "      <td>6714</td>\n",
       "      <td>LaSalle / Sénécal</td>\n",
       "      <td>45.434434</td>\n",
       "      <td>-73.586694</td>\n",
       "    </tr>\n",
       "    <tr>\n",
       "      <th>2</th>\n",
       "      <td>6712</td>\n",
       "      <td>LaSalle / Crawford</td>\n",
       "      <td>45.437914</td>\n",
       "      <td>-73.582740</td>\n",
       "    </tr>\n",
       "    <tr>\n",
       "      <th>3</th>\n",
       "      <td>6715</td>\n",
       "      <td>Natatorium (LaSalle / Rolland)</td>\n",
       "      <td>45.444408</td>\n",
       "      <td>-73.575568</td>\n",
       "    </tr>\n",
       "    <tr>\n",
       "      <th>4</th>\n",
       "      <td>7048</td>\n",
       "      <td>Métro Angrignon</td>\n",
       "      <td>45.446534</td>\n",
       "      <td>-73.603541</td>\n",
       "    </tr>\n",
       "  </tbody>\n",
       "</table>\n",
       "</div>"
      ],
      "text/plain": [
       "   code                            name   latitude  longitude\n",
       "0  7015             LaSalle / 4e avenue  45.430740 -73.591911\n",
       "1  6714               LaSalle / Sénécal  45.434434 -73.586694\n",
       "2  6712              LaSalle / Crawford  45.437914 -73.582740\n",
       "3  6715  Natatorium (LaSalle / Rolland)  45.444408 -73.575568\n",
       "4  7048                 Métro Angrignon  45.446534 -73.603541"
      ]
     },
     "execution_count": 306,
     "metadata": {},
     "output_type": "execute_result"
    }
   ],
   "source": [
    "df = feather.read_feather('feather-data/montreal_stations_2017.feather')\n",
    "df.head()"
   ]
  },
  {
   "cell_type": "code",
   "execution_count": 307,
   "metadata": {},
   "outputs": [
    {
     "data": {
      "text/html": [
       "<div>\n",
       "<style scoped>\n",
       "    .dataframe tbody tr th:only-of-type {\n",
       "        vertical-align: middle;\n",
       "    }\n",
       "\n",
       "    .dataframe tbody tr th {\n",
       "        vertical-align: top;\n",
       "    }\n",
       "\n",
       "    .dataframe thead th {\n",
       "        text-align: right;\n",
       "    }\n",
       "</style>\n",
       "<table border=\"1\" class=\"dataframe\">\n",
       "  <thead>\n",
       "    <tr style=\"text-align: right;\">\n",
       "      <th></th>\n",
       "      <th>code</th>\n",
       "      <th>name</th>\n",
       "      <th>latitude</th>\n",
       "      <th>longitude</th>\n",
       "    </tr>\n",
       "  </thead>\n",
       "  <tbody>\n",
       "    <tr>\n",
       "      <th>0</th>\n",
       "      <td>6209</td>\n",
       "      <td>Milton / Clark</td>\n",
       "      <td>45.512520</td>\n",
       "      <td>-73.570620</td>\n",
       "    </tr>\n",
       "    <tr>\n",
       "      <th>1</th>\n",
       "      <td>6436</td>\n",
       "      <td>Côte St-Antoine / Clarke</td>\n",
       "      <td>45.486452</td>\n",
       "      <td>-73.595234</td>\n",
       "    </tr>\n",
       "    <tr>\n",
       "      <th>2</th>\n",
       "      <td>6214</td>\n",
       "      <td>Square St-Louis</td>\n",
       "      <td>45.517350</td>\n",
       "      <td>-73.569060</td>\n",
       "    </tr>\n",
       "    <tr>\n",
       "      <th>3</th>\n",
       "      <td>6248</td>\n",
       "      <td>St-Dominique / Rachel</td>\n",
       "      <td>45.518593</td>\n",
       "      <td>-73.581566</td>\n",
       "    </tr>\n",
       "    <tr>\n",
       "      <th>4</th>\n",
       "      <td>6164</td>\n",
       "      <td>Chambord / Laurier</td>\n",
       "      <td>45.532955</td>\n",
       "      <td>-73.584194</td>\n",
       "    </tr>\n",
       "  </tbody>\n",
       "</table>\n",
       "</div>"
      ],
      "text/plain": [
       "   code                      name   latitude  longitude\n",
       "0  6209            Milton / Clark  45.512520 -73.570620\n",
       "1  6436  Côte St-Antoine / Clarke  45.486452 -73.595234\n",
       "2  6214           Square St-Louis  45.517350 -73.569060\n",
       "3  6248     St-Dominique / Rachel  45.518593 -73.581566\n",
       "4  6164        Chambord / Laurier  45.532955 -73.584194"
      ]
     },
     "execution_count": 307,
     "metadata": {},
     "output_type": "execute_result"
    }
   ],
   "source": [
    "mtl_stations = pd.DataFrame()\n",
    "for file in mtl_st_files:\n",
    "    mtl_stations = pd.concat([mtl_stations, feather.read_feather(file)], axis = 0, sort = False)\n",
    "\n",
    "mtl_stations.head()"
   ]
  },
  {
   "cell_type": "code",
   "execution_count": 308,
   "metadata": {},
   "outputs": [
    {
     "data": {
      "text/html": [
       "<div>\n",
       "<style scoped>\n",
       "    .dataframe tbody tr th:only-of-type {\n",
       "        vertical-align: middle;\n",
       "    }\n",
       "\n",
       "    .dataframe tbody tr th {\n",
       "        vertical-align: top;\n",
       "    }\n",
       "\n",
       "    .dataframe thead th {\n",
       "        text-align: right;\n",
       "    }\n",
       "</style>\n",
       "<table border=\"1\" class=\"dataframe\">\n",
       "  <thead>\n",
       "    <tr style=\"text-align: right;\">\n",
       "      <th></th>\n",
       "      <th>code</th>\n",
       "      <th>name</th>\n",
       "      <th>latitude</th>\n",
       "      <th>longitude</th>\n",
       "      <th>city</th>\n",
       "    </tr>\n",
       "  </thead>\n",
       "  <tbody>\n",
       "    <tr>\n",
       "      <th>0</th>\n",
       "      <td>6209</td>\n",
       "      <td>Milton / Clark</td>\n",
       "      <td>45.512520</td>\n",
       "      <td>-73.570620</td>\n",
       "      <td>mtl</td>\n",
       "    </tr>\n",
       "    <tr>\n",
       "      <th>1</th>\n",
       "      <td>6436</td>\n",
       "      <td>Côte St-Antoine / Clarke</td>\n",
       "      <td>45.486452</td>\n",
       "      <td>-73.595234</td>\n",
       "      <td>mtl</td>\n",
       "    </tr>\n",
       "    <tr>\n",
       "      <th>2</th>\n",
       "      <td>6214</td>\n",
       "      <td>Square St-Louis</td>\n",
       "      <td>45.517350</td>\n",
       "      <td>-73.569060</td>\n",
       "      <td>mtl</td>\n",
       "    </tr>\n",
       "    <tr>\n",
       "      <th>3</th>\n",
       "      <td>6248</td>\n",
       "      <td>St-Dominique / Rachel</td>\n",
       "      <td>45.518593</td>\n",
       "      <td>-73.581566</td>\n",
       "      <td>mtl</td>\n",
       "    </tr>\n",
       "    <tr>\n",
       "      <th>4</th>\n",
       "      <td>6164</td>\n",
       "      <td>Chambord / Laurier</td>\n",
       "      <td>45.532955</td>\n",
       "      <td>-73.584194</td>\n",
       "      <td>mtl</td>\n",
       "    </tr>\n",
       "  </tbody>\n",
       "</table>\n",
       "</div>"
      ],
      "text/plain": [
       "   code                      name   latitude  longitude city\n",
       "0  6209            Milton / Clark  45.512520 -73.570620  mtl\n",
       "1  6436  Côte St-Antoine / Clarke  45.486452 -73.595234  mtl\n",
       "2  6214           Square St-Louis  45.517350 -73.569060  mtl\n",
       "3  6248     St-Dominique / Rachel  45.518593 -73.581566  mtl\n",
       "4  6164        Chambord / Laurier  45.532955 -73.584194  mtl"
      ]
     },
     "execution_count": 308,
     "metadata": {},
     "output_type": "execute_result"
    }
   ],
   "source": [
    "mtl_stations.drop_duplicates('code', keep = 'first', inplace = True)\n",
    "mtl_stations.reset_index(drop = True, inplace = True)\n",
    "\n",
    "mtl_stations['city'] = 'mtl'\n",
    "mtl_stations['code'] = mtl_stations.code.astype('str')\n",
    "\n",
    "mtl_stations.head()"
   ]
  },
  {
   "cell_type": "code",
   "execution_count": 309,
   "metadata": {},
   "outputs": [
    {
     "data": {
      "text/plain": [
       "False"
      ]
     },
     "execution_count": 309,
     "metadata": {},
     "output_type": "execute_result"
    }
   ],
   "source": [
    "mtl_stations.isna().values.any()"
   ]
  },
  {
   "cell_type": "code",
   "execution_count": 310,
   "metadata": {},
   "outputs": [
    {
     "data": {
      "text/plain": [
       "code          object\n",
       "name          object\n",
       "latitude     float64\n",
       "longitude    float64\n",
       "city          object\n",
       "dtype: object"
      ]
     },
     "execution_count": 310,
     "metadata": {},
     "output_type": "execute_result"
    }
   ],
   "source": [
    "mtl_stations.dtypes"
   ]
  },
  {
   "cell_type": "code",
   "execution_count": 311,
   "metadata": {},
   "outputs": [
    {
     "data": {
      "text/plain": [
       "Index(['code', 'intersection', 'latitude', 'longitude', 'city'], dtype='object')"
      ]
     },
     "execution_count": 311,
     "metadata": {},
     "output_type": "execute_result"
    }
   ],
   "source": [
    "mtl_stations.rename(columns = {'name':'intersection'}, inplace = True)\n",
    "mtl_stations['intersection'] = mtl_stations.intersection.str.replace('/', '&')\n",
    "\n",
    "mtl_stations.columns"
   ]
  },
  {
   "cell_type": "code",
   "execution_count": 312,
   "metadata": {},
   "outputs": [
    {
     "name": "stdout",
     "output_type": "stream",
     "text": [
      "Square St-Louis\n",
      "Parc Jeanne Mance (monument George-Étienne Cartier)\n",
      "Quai de la navette fluviale\n",
      "Square Phillips\n",
      "Square Victoria\n",
      "Square Phillips 2\n",
      "Métro Longueuil - Université de Sherbrooke\n",
      "Collège Édouard-Montpetit\n",
      "Victoria Hall\n",
      "Parc Plage\n",
      "Marché Maisonneuve\n",
      "Hôpital général juif\n",
      "Place Longueuil\n",
      "Marché Atwater\n",
      "Place du Commerce\n",
      "Complexe sportif Claude-Robillard (Émile-Journault)\n",
      "Métro Jean-Drapeau\n",
      "Casino de Montréal\n",
      "La Ronde\n",
      "Métro Angrignon\n",
      "Édouard-Montpetit (Université de Montréal)\n",
      "Gare Canora\n",
      "Parc Plage\n"
     ]
    }
   ],
   "source": [
    "# take another look at addresses that are not intersections\n",
    "pattern = re.compile(\"^((?!&).)*$\")\n",
    "for addr in mtl_stations.intersection:\n",
    "    m = pattern.search(addr)\n",
    "    if m is not None:\n",
    "        print(m.group(0))"
   ]
  },
  {
   "cell_type": "code",
   "execution_count": 313,
   "metadata": {},
   "outputs": [],
   "source": [
    "feather.write_feather(mtl_stations, 'feather-data/mtl_stations.feather')"
   ]
  },
  {
   "cell_type": "code",
   "execution_count": 46,
   "metadata": {},
   "outputs": [
    {
     "data": {
      "text/html": [
       "<div>\n",
       "<style scoped>\n",
       "    .dataframe tbody tr th:only-of-type {\n",
       "        vertical-align: middle;\n",
       "    }\n",
       "\n",
       "    .dataframe tbody tr th {\n",
       "        vertical-align: top;\n",
       "    }\n",
       "\n",
       "    .dataframe thead th {\n",
       "        text-align: right;\n",
       "    }\n",
       "</style>\n",
       "<table border=\"1\" class=\"dataframe\">\n",
       "  <thead>\n",
       "    <tr style=\"text-align: right;\">\n",
       "      <th></th>\n",
       "      <th>start_date</th>\n",
       "      <th>start_station_code</th>\n",
       "      <th>end_date</th>\n",
       "      <th>end_station_code</th>\n",
       "      <th>duration_sec</th>\n",
       "      <th>is_member</th>\n",
       "    </tr>\n",
       "  </thead>\n",
       "  <tbody>\n",
       "    <tr>\n",
       "      <th>0</th>\n",
       "      <td>2018-11-01 00:00</td>\n",
       "      <td>6280</td>\n",
       "      <td>2018-11-01 00:14</td>\n",
       "      <td>6197</td>\n",
       "      <td>838</td>\n",
       "      <td>0</td>\n",
       "    </tr>\n",
       "    <tr>\n",
       "      <th>1</th>\n",
       "      <td>2018-11-01 00:00</td>\n",
       "      <td>6175</td>\n",
       "      <td>2018-11-01 00:06</td>\n",
       "      <td>6117</td>\n",
       "      <td>346</td>\n",
       "      <td>1</td>\n",
       "    </tr>\n",
       "    <tr>\n",
       "      <th>2</th>\n",
       "      <td>2018-11-01 00:00</td>\n",
       "      <td>6401</td>\n",
       "      <td>2018-11-01 00:16</td>\n",
       "      <td>6104</td>\n",
       "      <td>963</td>\n",
       "      <td>1</td>\n",
       "    </tr>\n",
       "    <tr>\n",
       "      <th>3</th>\n",
       "      <td>2018-11-01 00:01</td>\n",
       "      <td>7069</td>\n",
       "      <td>2018-11-01 00:11</td>\n",
       "      <td>6112</td>\n",
       "      <td>582</td>\n",
       "      <td>1</td>\n",
       "    </tr>\n",
       "    <tr>\n",
       "      <th>4</th>\n",
       "      <td>2018-11-01 00:01</td>\n",
       "      <td>6080</td>\n",
       "      <td>2018-11-01 00:09</td>\n",
       "      <td>6724</td>\n",
       "      <td>459</td>\n",
       "      <td>1</td>\n",
       "    </tr>\n",
       "  </tbody>\n",
       "</table>\n",
       "</div>"
      ],
      "text/plain": [
       "         start_date  start_station_code          end_date  end_station_code  \\\n",
       "0  2018-11-01 00:00                6280  2018-11-01 00:14              6197   \n",
       "1  2018-11-01 00:00                6175  2018-11-01 00:06              6117   \n",
       "2  2018-11-01 00:00                6401  2018-11-01 00:16              6104   \n",
       "3  2018-11-01 00:01                7069  2018-11-01 00:11              6112   \n",
       "4  2018-11-01 00:01                6080  2018-11-01 00:09              6724   \n",
       "\n",
       "   duration_sec  is_member  \n",
       "0           838          0  \n",
       "1           346          1  \n",
       "2           963          1  \n",
       "3           582          1  \n",
       "4           459          1  "
      ]
     },
     "execution_count": 46,
     "metadata": {},
     "output_type": "execute_result"
    }
   ],
   "source": [
    "df = feather.read_feather('feather-data/montreal_2018-11.feather')\n",
    "df.head()"
   ]
  },
  {
   "cell_type": "code",
   "execution_count": 49,
   "metadata": {},
   "outputs": [],
   "source": [
    "def clean_mtl(fnames):\n",
    "    for f in fnames:\n",
    "        dft = feather.read_feather(f)\n",
    "        print(f)\n",
    "        print(dft.dtypes)\n",
    "        print(dft.shape)\n",
    "        print(dft.isna().values.any())\n",
    "        \n",
    "        dft['city'] = 'mtl'\n",
    "        dft.columns = ['trip_start_time', 'start_station_code', 'trip_stop_time', \n",
    "                       'end_station_code', 'trip_duration_seconds', 'membership_type', 'city']\n",
    "        \n",
    "        dft['trip_start_time'] = pd.to_datetime(dft.trip_start_time)\n",
    "        dft['trip_stop_time'] = pd.to_datetime(dft.trip_stop_time)\n",
    "        \n",
    "        dft['start_station_code'] = dft.start_station_code.astype('str')\n",
    "        dft['end_station_code'] = dft.end_station_code.astype('str')\n",
    "        dft['membership_type'] = dft.membership_type.astype('str')\n",
    "\n",
    "        print(dft.dtypes)\n",
    "        print(dft.shape)\n",
    "\n",
    "        print(len(dft.query('trip_duration_seconds == 0')))\n",
    "        print(dft.isnull().values.any())\n",
    "        \n",
    "        feather.write_feather(dft, f)"
   ]
  },
  {
   "cell_type": "code",
   "execution_count": 50,
   "metadata": {},
   "outputs": [
    {
     "data": {
      "text/plain": [
       "['feather-data/montreal_2014-04.feather',\n",
       " 'feather-data/montreal_2014-05.feather',\n",
       " 'feather-data/montreal_2014-06.feather',\n",
       " 'feather-data/montreal_2014-07.feather',\n",
       " 'feather-data/montreal_2014-08.feather',\n",
       " 'feather-data/montreal_2014-09.feather',\n",
       " 'feather-data/montreal_2014-10.feather',\n",
       " 'feather-data/montreal_2014-11.feather',\n",
       " 'feather-data/montreal_2015-04.feather',\n",
       " 'feather-data/montreal_2015-05.feather',\n",
       " 'feather-data/montreal_2015-06.feather',\n",
       " 'feather-data/montreal_2015-07.feather',\n",
       " 'feather-data/montreal_2015-08.feather',\n",
       " 'feather-data/montreal_2015-09.feather',\n",
       " 'feather-data/montreal_2015-10.feather',\n",
       " 'feather-data/montreal_2015-11.feather',\n",
       " 'feather-data/montreal_2016-04.feather',\n",
       " 'feather-data/montreal_2016-05.feather',\n",
       " 'feather-data/montreal_2016-06.feather',\n",
       " 'feather-data/montreal_2016-07.feather',\n",
       " 'feather-data/montreal_2016-08.feather',\n",
       " 'feather-data/montreal_2016-09.feather',\n",
       " 'feather-data/montreal_2016-10.feather',\n",
       " 'feather-data/montreal_2016-11.feather',\n",
       " 'feather-data/montreal_2017-04.feather',\n",
       " 'feather-data/montreal_2017-05.feather',\n",
       " 'feather-data/montreal_2017-06.feather',\n",
       " 'feather-data/montreal_2017-07.feather',\n",
       " 'feather-data/montreal_2017-08.feather',\n",
       " 'feather-data/montreal_2017-09.feather',\n",
       " 'feather-data/montreal_2017-10.feather',\n",
       " 'feather-data/montreal_2017-11.feather',\n",
       " 'feather-data/montreal_2018-04.feather',\n",
       " 'feather-data/montreal_2018-05.feather',\n",
       " 'feather-data/montreal_2018-06.feather',\n",
       " 'feather-data/montreal_2018-07.feather',\n",
       " 'feather-data/montreal_2018-08.feather',\n",
       " 'feather-data/montreal_2018-09.feather',\n",
       " 'feather-data/montreal_2018-10.feather',\n",
       " 'feather-data/montreal_2018-11.feather']"
      ]
     },
     "execution_count": 50,
     "metadata": {},
     "output_type": "execute_result"
    }
   ],
   "source": [
    "mtl_files = subprocess.getoutput('ls feather-data/m*.feather').split('\\n')\n",
    "mtl_files[:-6]"
   ]
  },
  {
   "cell_type": "code",
   "execution_count": 51,
   "metadata": {},
   "outputs": [
    {
     "name": "stdout",
     "output_type": "stream",
     "text": [
      "feather-data/montreal_2014-04.feather\n",
      "start_date            object\n",
      "start_station_code     int64\n",
      "end_date              object\n",
      "end_station_code       int64\n",
      "duration_sec           int64\n",
      "is_member              int64\n",
      "dtype: object\n",
      "(108264, 6)\n",
      "False\n",
      "trip_start_time          datetime64[ns]\n",
      "start_station_code               object\n",
      "trip_stop_time           datetime64[ns]\n",
      "end_station_code                 object\n",
      "trip_duration_seconds             int64\n",
      "membership_type                  object\n",
      "city                             object\n",
      "dtype: object\n",
      "(108264, 7)\n",
      "0\n",
      "False\n",
      "feather-data/montreal_2014-05.feather\n",
      "start_date            object\n",
      "start_station_code     int64\n",
      "end_date              object\n",
      "end_station_code       int64\n",
      "duration_sec           int64\n",
      "is_member              int64\n",
      "dtype: object\n",
      "(455261, 6)\n",
      "False\n",
      "trip_start_time          datetime64[ns]\n",
      "start_station_code               object\n",
      "trip_stop_time           datetime64[ns]\n",
      "end_station_code                 object\n",
      "trip_duration_seconds             int64\n",
      "membership_type                  object\n",
      "city                             object\n",
      "dtype: object\n",
      "(455261, 7)\n",
      "0\n",
      "False\n",
      "feather-data/montreal_2014-06.feather\n",
      "start_date            object\n",
      "start_station_code     int64\n",
      "end_date              object\n",
      "end_station_code       int64\n",
      "duration_sec           int64\n",
      "is_member              int64\n",
      "dtype: object\n",
      "(525863, 6)\n",
      "False\n",
      "trip_start_time          datetime64[ns]\n",
      "start_station_code               object\n",
      "trip_stop_time           datetime64[ns]\n",
      "end_station_code                 object\n",
      "trip_duration_seconds             int64\n",
      "membership_type                  object\n",
      "city                             object\n",
      "dtype: object\n",
      "(525863, 7)\n",
      "0\n",
      "False\n",
      "feather-data/montreal_2014-07.feather\n",
      "start_date            object\n",
      "start_station_code     int64\n",
      "end_date              object\n",
      "end_station_code       int64\n",
      "duration_sec           int64\n",
      "is_member              int64\n",
      "dtype: object\n",
      "(569352, 6)\n",
      "False\n",
      "trip_start_time          datetime64[ns]\n",
      "start_station_code               object\n",
      "trip_stop_time           datetime64[ns]\n",
      "end_station_code                 object\n",
      "trip_duration_seconds             int64\n",
      "membership_type                  object\n",
      "city                             object\n",
      "dtype: object\n",
      "(569352, 7)\n",
      "0\n",
      "False\n",
      "feather-data/montreal_2014-08.feather\n",
      "start_date            object\n",
      "start_station_code     int64\n",
      "end_date              object\n",
      "end_station_code       int64\n",
      "duration_sec           int64\n",
      "is_member              int64\n",
      "dtype: object\n",
      "(556780, 6)\n",
      "False\n",
      "trip_start_time          datetime64[ns]\n",
      "start_station_code               object\n",
      "trip_stop_time           datetime64[ns]\n",
      "end_station_code                 object\n",
      "trip_duration_seconds             int64\n",
      "membership_type                  object\n",
      "city                             object\n",
      "dtype: object\n",
      "(556780, 7)\n",
      "0\n",
      "False\n",
      "feather-data/montreal_2014-09.feather\n",
      "start_date            object\n",
      "start_station_code     int64\n",
      "end_date              object\n",
      "end_station_code       int64\n",
      "duration_sec           int64\n",
      "is_member              int64\n",
      "dtype: object\n",
      "(477545, 6)\n",
      "False\n",
      "trip_start_time          datetime64[ns]\n",
      "start_station_code               object\n",
      "trip_stop_time           datetime64[ns]\n",
      "end_station_code                 object\n",
      "trip_duration_seconds             int64\n",
      "membership_type                  object\n",
      "city                             object\n",
      "dtype: object\n",
      "(477545, 7)\n",
      "0\n",
      "False\n",
      "feather-data/montreal_2014-10.feather\n",
      "start_date            object\n",
      "start_station_code     int64\n",
      "end_date              object\n",
      "end_station_code       int64\n",
      "duration_sec           int64\n",
      "is_member              int64\n",
      "dtype: object\n",
      "(331818, 6)\n",
      "False\n",
      "trip_start_time          datetime64[ns]\n",
      "start_station_code               object\n",
      "trip_stop_time           datetime64[ns]\n",
      "end_station_code                 object\n",
      "trip_duration_seconds             int64\n",
      "membership_type                  object\n",
      "city                             object\n",
      "dtype: object\n",
      "(331818, 7)\n",
      "0\n",
      "False\n",
      "feather-data/montreal_2014-11.feather\n",
      "start_date            object\n",
      "start_station_code     int64\n",
      "end_date              object\n",
      "end_station_code       int64\n",
      "duration_sec           int64\n",
      "is_member              int64\n",
      "dtype: object\n",
      "(111393, 6)\n",
      "False\n",
      "trip_start_time          datetime64[ns]\n",
      "start_station_code               object\n",
      "trip_stop_time           datetime64[ns]\n",
      "end_station_code                 object\n",
      "trip_duration_seconds             int64\n",
      "membership_type                  object\n",
      "city                             object\n",
      "dtype: object\n",
      "(111393, 7)\n",
      "0\n",
      "False\n",
      "feather-data/montreal_2015-04.feather\n",
      "start_date            object\n",
      "start_station_code     int64\n",
      "end_date              object\n",
      "end_station_code       int64\n",
      "duration_sec           int64\n",
      "is_member              int64\n",
      "dtype: object\n",
      "(150271, 6)\n",
      "False\n",
      "trip_start_time          datetime64[ns]\n",
      "start_station_code               object\n",
      "trip_stop_time           datetime64[ns]\n",
      "end_station_code                 object\n",
      "trip_duration_seconds             int64\n",
      "membership_type                  object\n",
      "city                             object\n",
      "dtype: object\n",
      "(150271, 7)\n",
      "0\n",
      "False\n",
      "feather-data/montreal_2015-05.feather\n",
      "start_date            object\n",
      "start_station_code     int64\n",
      "end_date              object\n",
      "end_station_code       int64\n",
      "duration_sec           int64\n",
      "is_member              int64\n",
      "dtype: object\n",
      "(545678, 6)\n",
      "False\n",
      "trip_start_time          datetime64[ns]\n",
      "start_station_code               object\n",
      "trip_stop_time           datetime64[ns]\n",
      "end_station_code                 object\n",
      "trip_duration_seconds             int64\n",
      "membership_type                  object\n",
      "city                             object\n",
      "dtype: object\n",
      "(545678, 7)\n",
      "0\n",
      "False\n",
      "feather-data/montreal_2015-06.feather\n",
      "start_date            object\n",
      "start_station_code     int64\n",
      "end_date              object\n",
      "end_station_code       int64\n",
      "duration_sec           int64\n",
      "is_member              int64\n",
      "dtype: object\n",
      "(547238, 6)\n",
      "False\n",
      "trip_start_time          datetime64[ns]\n",
      "start_station_code               object\n",
      "trip_stop_time           datetime64[ns]\n",
      "end_station_code                 object\n",
      "trip_duration_seconds             int64\n",
      "membership_type                  object\n",
      "city                             object\n",
      "dtype: object\n",
      "(547238, 7)\n",
      "0\n",
      "False\n",
      "feather-data/montreal_2015-07.feather\n",
      "start_date            object\n",
      "start_station_code     int64\n",
      "end_date              object\n",
      "end_station_code       int64\n",
      "duration_sec           int64\n",
      "is_member              int64\n",
      "dtype: object\n",
      "(620865, 6)\n",
      "False\n",
      "trip_start_time          datetime64[ns]\n",
      "start_station_code               object\n",
      "trip_stop_time           datetime64[ns]\n",
      "end_station_code                 object\n",
      "trip_duration_seconds             int64\n",
      "membership_type                  object\n",
      "city                             object\n",
      "dtype: object\n",
      "(620865, 7)\n",
      "0\n",
      "False\n",
      "feather-data/montreal_2015-08.feather\n",
      "start_date            object\n",
      "start_station_code     int64\n",
      "end_date              object\n",
      "end_station_code       int64\n",
      "duration_sec           int64\n",
      "is_member              int64\n",
      "dtype: object\n",
      "(597505, 6)\n",
      "False\n",
      "trip_start_time          datetime64[ns]\n",
      "start_station_code               object\n",
      "trip_stop_time           datetime64[ns]\n",
      "end_station_code                 object\n",
      "trip_duration_seconds             int64\n",
      "membership_type                  object\n",
      "city                             object\n",
      "dtype: object\n",
      "(597505, 7)\n",
      "0\n",
      "False\n",
      "feather-data/montreal_2015-09.feather\n",
      "start_date            object\n",
      "start_station_code     int64\n",
      "end_date              object\n",
      "end_station_code       int64\n",
      "duration_sec           int64\n",
      "is_member              int64\n",
      "dtype: object\n",
      "(523322, 6)\n",
      "False\n",
      "trip_start_time          datetime64[ns]\n",
      "start_station_code               object\n",
      "trip_stop_time           datetime64[ns]\n",
      "end_station_code                 object\n",
      "trip_duration_seconds             int64\n",
      "membership_type                  object\n",
      "city                             object\n",
      "dtype: object\n",
      "(523322, 7)\n",
      "0\n",
      "False\n",
      "feather-data/montreal_2015-10.feather\n",
      "start_date            object\n",
      "start_station_code     int64\n",
      "end_date              object\n",
      "end_station_code       int64\n",
      "duration_sec           int64\n",
      "is_member              int64\n",
      "dtype: object\n",
      "(332597, 6)\n",
      "False\n",
      "trip_start_time          datetime64[ns]\n",
      "start_station_code               object\n",
      "trip_stop_time           datetime64[ns]\n",
      "end_station_code                 object\n",
      "trip_duration_seconds             int64\n",
      "membership_type                  object\n",
      "city                             object\n",
      "dtype: object\n",
      "(332597, 7)\n",
      "0\n",
      "False\n",
      "feather-data/montreal_2015-11.feather\n",
      "start_date            object\n",
      "start_station_code     int64\n",
      "end_date              object\n",
      "end_station_code       int64\n",
      "duration_sec           int64\n",
      "is_member              int64\n",
      "dtype: object\n",
      "(126407, 6)\n",
      "False\n",
      "trip_start_time          datetime64[ns]\n",
      "start_station_code               object\n",
      "trip_stop_time           datetime64[ns]\n",
      "end_station_code                 object\n",
      "trip_duration_seconds             int64\n",
      "membership_type                  object\n",
      "city                             object\n",
      "dtype: object\n",
      "(126407, 7)\n",
      "0\n",
      "False\n",
      "feather-data/montreal_2016-04.feather\n",
      "start_date            object\n",
      "start_station_code     int64\n",
      "end_date              object\n",
      "end_station_code       int64\n",
      "duration_sec           int64\n",
      "is_member              int64\n",
      "dtype: object\n",
      "(194514, 6)\n",
      "False\n",
      "trip_start_time          datetime64[ns]\n",
      "start_station_code               object\n",
      "trip_stop_time           datetime64[ns]\n",
      "end_station_code                 object\n",
      "trip_duration_seconds             int64\n",
      "membership_type                  object\n",
      "city                             object\n",
      "dtype: object\n",
      "(194514, 7)\n",
      "0\n",
      "False\n",
      "feather-data/montreal_2016-05.feather\n",
      "start_date            object\n",
      "start_station_code     int64\n",
      "end_date              object\n",
      "end_station_code       int64\n",
      "duration_sec           int64\n",
      "is_member              int64\n",
      "dtype: object\n",
      "(573739, 6)\n",
      "False\n",
      "trip_start_time          datetime64[ns]\n",
      "start_station_code               object\n",
      "trip_stop_time           datetime64[ns]\n",
      "end_station_code                 object\n",
      "trip_duration_seconds             int64\n",
      "membership_type                  object\n",
      "city                             object\n",
      "dtype: object\n",
      "(573739, 7)\n",
      "0\n",
      "False\n",
      "feather-data/montreal_2016-06.feather\n",
      "start_date            object\n",
      "start_station_code     int64\n",
      "end_date              object\n",
      "end_station_code       int64\n",
      "duration_sec           int64\n",
      "is_member              int64\n",
      "dtype: object\n",
      "(645448, 6)\n",
      "False\n",
      "trip_start_time          datetime64[ns]\n",
      "start_station_code               object\n",
      "trip_stop_time           datetime64[ns]\n",
      "end_station_code                 object\n",
      "trip_duration_seconds             int64\n",
      "membership_type                  object\n",
      "city                             object\n",
      "dtype: object\n",
      "(645448, 7)\n",
      "0\n",
      "False\n",
      "feather-data/montreal_2016-07.feather\n",
      "start_date            object\n",
      "start_station_code     int64\n",
      "end_date              object\n",
      "end_station_code       int64\n",
      "duration_sec           int64\n",
      "is_member              int64\n",
      "dtype: object\n",
      "(716335, 6)\n",
      "False\n",
      "trip_start_time          datetime64[ns]\n",
      "start_station_code               object\n",
      "trip_stop_time           datetime64[ns]\n",
      "end_station_code                 object\n",
      "trip_duration_seconds             int64\n",
      "membership_type                  object\n",
      "city                             object\n",
      "dtype: object\n",
      "(716335, 7)\n",
      "0\n",
      "False\n",
      "feather-data/montreal_2016-08.feather\n",
      "start_date            object\n",
      "start_station_code     int64\n",
      "end_date              object\n",
      "end_station_code       int64\n",
      "duration_sec           int64\n",
      "is_member              int64\n",
      "dtype: object\n",
      "(688174, 6)\n",
      "False\n",
      "trip_start_time          datetime64[ns]\n",
      "start_station_code               object\n",
      "trip_stop_time           datetime64[ns]\n",
      "end_station_code                 object\n",
      "trip_duration_seconds             int64\n",
      "membership_type                  object\n",
      "city                             object\n",
      "dtype: object\n",
      "(688174, 7)\n",
      "0\n",
      "False\n",
      "feather-data/montreal_2016-09.feather\n",
      "start_date            object\n",
      "start_station_code     int64\n",
      "end_date              object\n",
      "end_station_code       int64\n",
      "duration_sec           int64\n",
      "is_member              int64\n",
      "dtype: object\n",
      "(632218, 6)\n",
      "False\n",
      "trip_start_time          datetime64[ns]\n",
      "start_station_code               object\n",
      "trip_stop_time           datetime64[ns]\n",
      "end_station_code                 object\n",
      "trip_duration_seconds             int64\n",
      "membership_type                  object\n",
      "city                             object\n",
      "dtype: object\n",
      "(632218, 7)\n",
      "0\n",
      "False\n",
      "feather-data/montreal_2016-10.feather\n",
      "start_date            object\n",
      "start_station_code     int64\n",
      "end_date              object\n",
      "end_station_code       int64\n",
      "duration_sec           int64\n",
      "is_member              int64\n",
      "dtype: object\n",
      "(397707, 6)\n",
      "False\n",
      "trip_start_time          datetime64[ns]\n",
      "start_station_code               object\n",
      "trip_stop_time           datetime64[ns]\n",
      "end_station_code                 object\n",
      "trip_duration_seconds             int64\n",
      "membership_type                  object\n",
      "city                             object\n",
      "dtype: object\n",
      "(397707, 7)\n",
      "0\n",
      "False\n",
      "feather-data/montreal_2016-11.feather\n",
      "start_date            object\n",
      "start_station_code     int64\n",
      "end_date              object\n",
      "end_station_code       int64\n",
      "duration_sec           int64\n",
      "is_member              int64\n",
      "dtype: object\n",
      "(151945, 6)\n",
      "False\n",
      "trip_start_time          datetime64[ns]\n",
      "start_station_code               object\n",
      "trip_stop_time           datetime64[ns]\n",
      "end_station_code                 object\n",
      "trip_duration_seconds             int64\n",
      "membership_type                  object\n",
      "city                             object\n",
      "dtype: object\n",
      "(151945, 7)\n",
      "0\n",
      "False\n",
      "feather-data/montreal_2017-04.feather\n",
      "start_date            object\n",
      "start_station_code     int64\n",
      "end_date              object\n",
      "end_station_code       int64\n",
      "duration_sec           int64\n",
      "is_member              int64\n",
      "dtype: object\n",
      "(196327, 6)\n",
      "False\n",
      "trip_start_time          datetime64[ns]\n",
      "start_station_code               object\n",
      "trip_stop_time           datetime64[ns]\n",
      "end_station_code                 object\n",
      "trip_duration_seconds             int64\n",
      "membership_type                  object\n",
      "city                             object\n",
      "dtype: object\n",
      "(196327, 7)\n",
      "0\n",
      "False\n",
      "feather-data/montreal_2017-05.feather\n",
      "start_date            object\n",
      "start_station_code     int64\n",
      "end_date              object\n",
      "end_station_code       int64\n",
      "duration_sec           int64\n",
      "is_member              int64\n",
      "dtype: object\n",
      "(589852, 6)\n",
      "False\n",
      "trip_start_time          datetime64[ns]\n",
      "start_station_code               object\n",
      "trip_stop_time           datetime64[ns]\n",
      "end_station_code                 object\n",
      "trip_duration_seconds             int64\n",
      "membership_type                  object\n",
      "city                             object\n",
      "dtype: object\n",
      "(589852, 7)\n",
      "0\n",
      "False\n",
      "feather-data/montreal_2017-06.feather\n",
      "start_date            object\n",
      "start_station_code     int64\n",
      "end_date              object\n",
      "end_station_code       int64\n",
      "duration_sec           int64\n",
      "is_member              int64\n",
      "dtype: object\n",
      "(748078, 6)\n",
      "False\n",
      "trip_start_time          datetime64[ns]\n",
      "start_station_code               object\n",
      "trip_stop_time           datetime64[ns]\n",
      "end_station_code                 object\n",
      "trip_duration_seconds             int64\n",
      "membership_type                  object\n",
      "city                             object\n",
      "dtype: object\n",
      "(748078, 7)\n",
      "0\n",
      "False\n",
      "feather-data/montreal_2017-07.feather\n",
      "start_date            object\n",
      "start_station_code     int64\n",
      "end_date              object\n",
      "end_station_code       int64\n",
      "duration_sec           int64\n",
      "is_member              int64\n",
      "dtype: object\n",
      "(877338, 6)\n",
      "False\n",
      "trip_start_time          datetime64[ns]\n",
      "start_station_code               object\n",
      "trip_stop_time           datetime64[ns]\n",
      "end_station_code                 object\n",
      "trip_duration_seconds             int64\n",
      "membership_type                  object\n",
      "city                             object\n",
      "dtype: object\n",
      "(877338, 7)\n",
      "0\n",
      "False\n",
      "feather-data/montreal_2017-08.feather\n",
      "start_date            object\n",
      "start_station_code     int64\n",
      "end_date              object\n",
      "end_station_code       int64\n",
      "duration_sec           int64\n",
      "is_member              int64\n",
      "dtype: object\n",
      "(859471, 6)\n",
      "False\n",
      "trip_start_time          datetime64[ns]\n",
      "start_station_code               object\n",
      "trip_stop_time           datetime64[ns]\n",
      "end_station_code                 object\n",
      "trip_duration_seconds             int64\n",
      "membership_type                  object\n",
      "city                             object\n",
      "dtype: object\n",
      "(859471, 7)\n",
      "0\n",
      "False\n",
      "feather-data/montreal_2017-09.feather\n",
      "start_date            object\n",
      "start_station_code     int64\n",
      "end_date              object\n",
      "end_station_code       int64\n",
      "duration_sec           int64\n",
      "is_member              int64\n",
      "dtype: object\n",
      "(747633, 6)\n",
      "False\n",
      "trip_start_time          datetime64[ns]\n",
      "start_station_code               object\n",
      "trip_stop_time           datetime64[ns]\n",
      "end_station_code                 object\n",
      "trip_duration_seconds             int64\n",
      "membership_type                  object\n",
      "city                             object\n",
      "dtype: object\n",
      "(747633, 7)\n",
      "0\n",
      "False\n",
      "feather-data/montreal_2017-10.feather\n",
      "start_date            object\n",
      "start_station_code     int64\n",
      "end_date              object\n",
      "end_station_code       int64\n",
      "duration_sec           int64\n",
      "is_member              int64\n",
      "dtype: object\n",
      "(569930, 6)\n",
      "False\n",
      "trip_start_time          datetime64[ns]\n",
      "start_station_code               object\n",
      "trip_stop_time           datetime64[ns]\n",
      "end_station_code                 object\n",
      "trip_duration_seconds             int64\n",
      "membership_type                  object\n",
      "city                             object\n",
      "dtype: object\n",
      "(569930, 7)\n",
      "0\n",
      "False\n",
      "feather-data/montreal_2017-11.feather\n",
      "start_date            object\n",
      "start_station_code     int64\n",
      "end_date              object\n",
      "end_station_code       int64\n",
      "duration_sec           int64\n",
      "is_member              int64\n",
      "dtype: object\n",
      "(151728, 6)\n",
      "False\n",
      "trip_start_time          datetime64[ns]\n",
      "start_station_code               object\n",
      "trip_stop_time           datetime64[ns]\n",
      "end_station_code                 object\n",
      "trip_duration_seconds             int64\n",
      "membership_type                  object\n",
      "city                             object\n",
      "dtype: object\n",
      "(151728, 7)\n",
      "0\n",
      "False\n",
      "feather-data/montreal_2018-04.feather\n",
      "start_date            object\n",
      "start_station_code     int64\n",
      "end_date              object\n",
      "end_station_code       int64\n",
      "duration_sec           int64\n",
      "is_member              int64\n",
      "dtype: object\n",
      "(236982, 6)\n",
      "False\n",
      "trip_start_time          datetime64[ns]\n",
      "start_station_code               object\n",
      "trip_stop_time           datetime64[ns]\n",
      "end_station_code                 object\n",
      "trip_duration_seconds             int64\n",
      "membership_type                  object\n",
      "city                             object\n",
      "dtype: object\n",
      "(236982, 7)\n",
      "0\n",
      "False\n",
      "feather-data/montreal_2018-05.feather\n",
      "start_date            object\n",
      "start_station_code     int64\n",
      "end_date              object\n",
      "end_station_code       int64\n",
      "duration_sec           int64\n",
      "is_member              int64\n",
      "dtype: object\n",
      "(811910, 6)\n",
      "False\n",
      "trip_start_time          datetime64[ns]\n",
      "start_station_code               object\n",
      "trip_stop_time           datetime64[ns]\n",
      "end_station_code                 object\n",
      "trip_duration_seconds             int64\n",
      "membership_type                  object\n",
      "city                             object\n",
      "dtype: object\n",
      "(811910, 7)\n",
      "0\n",
      "False\n",
      "feather-data/montreal_2018-06.feather\n",
      "start_date            object\n",
      "start_station_code     int64\n",
      "end_date              object\n",
      "end_station_code       int64\n",
      "duration_sec           int64\n",
      "is_member              int64\n",
      "dtype: object\n",
      "(888470, 6)\n",
      "False\n",
      "trip_start_time          datetime64[ns]\n",
      "start_station_code               object\n",
      "trip_stop_time           datetime64[ns]\n",
      "end_station_code                 object\n",
      "trip_duration_seconds             int64\n",
      "membership_type                  object\n",
      "city                             object\n",
      "dtype: object\n",
      "(888470, 7)\n",
      "0\n",
      "False\n",
      "feather-data/montreal_2018-07.feather\n",
      "start_date            object\n",
      "start_station_code     int64\n",
      "end_date              object\n",
      "end_station_code       int64\n",
      "duration_sec           int64\n",
      "is_member              int64\n",
      "dtype: object\n",
      "(953031, 6)\n",
      "False\n",
      "trip_start_time          datetime64[ns]\n",
      "start_station_code               object\n",
      "trip_stop_time           datetime64[ns]\n",
      "end_station_code                 object\n",
      "trip_duration_seconds             int64\n",
      "membership_type                  object\n",
      "city                             object\n",
      "dtype: object\n",
      "(953031, 7)\n",
      "0\n",
      "False\n",
      "feather-data/montreal_2018-08.feather\n",
      "start_date            object\n",
      "start_station_code     int64\n",
      "end_date              object\n",
      "end_station_code       int64\n",
      "duration_sec           int64\n",
      "is_member              int64\n",
      "dtype: object\n",
      "(956790, 6)\n",
      "False\n",
      "trip_start_time          datetime64[ns]\n",
      "start_station_code               object\n",
      "trip_stop_time           datetime64[ns]\n",
      "end_station_code                 object\n",
      "trip_duration_seconds             int64\n",
      "membership_type                  object\n",
      "city                             object\n",
      "dtype: object\n",
      "(956790, 7)\n",
      "0\n",
      "False\n",
      "feather-data/montreal_2018-09.feather\n",
      "start_date            object\n",
      "start_station_code     int64\n",
      "end_date              object\n",
      "end_station_code       int64\n",
      "duration_sec           int64\n",
      "is_member              int64\n",
      "dtype: object\n",
      "(797520, 6)\n",
      "False\n",
      "trip_start_time          datetime64[ns]\n",
      "start_station_code               object\n",
      "trip_stop_time           datetime64[ns]\n",
      "end_station_code                 object\n",
      "trip_duration_seconds             int64\n",
      "membership_type                  object\n",
      "city                             object\n",
      "dtype: object\n",
      "(797520, 7)\n",
      "0\n",
      "False\n",
      "feather-data/montreal_2018-10.feather\n",
      "start_date            object\n",
      "start_station_code     int64\n",
      "end_date              object\n",
      "end_station_code       int64\n",
      "duration_sec           int64\n",
      "is_member              int64\n",
      "dtype: object\n",
      "(488490, 6)\n",
      "False\n",
      "trip_start_time          datetime64[ns]\n",
      "start_station_code               object\n",
      "trip_stop_time           datetime64[ns]\n",
      "end_station_code                 object\n",
      "trip_duration_seconds             int64\n",
      "membership_type                  object\n",
      "city                             object\n",
      "dtype: object\n",
      "(488490, 7)\n",
      "0\n",
      "False\n",
      "feather-data/montreal_2018-11.feather\n",
      "start_date            object\n",
      "start_station_code     int64\n",
      "end_date              object\n",
      "end_station_code       int64\n",
      "duration_sec           int64\n",
      "is_member              int64\n",
      "dtype: object\n",
      "(144348, 6)\n",
      "False\n",
      "trip_start_time          datetime64[ns]\n",
      "start_station_code               object\n",
      "trip_stop_time           datetime64[ns]\n",
      "end_station_code                 object\n",
      "trip_duration_seconds             int64\n",
      "membership_type                  object\n",
      "city                             object\n",
      "dtype: object\n",
      "(144348, 7)\n",
      "0\n",
      "False\n"
     ]
    }
   ],
   "source": [
    "clean_mtl(mtl_files[:-6])"
   ]
  },
  {
   "cell_type": "markdown",
   "metadata": {},
   "source": [
    "### Vancouver"
   ]
  },
  {
   "cell_type": "code",
   "execution_count": 329,
   "metadata": {},
   "outputs": [
    {
     "data": {
      "text/plain": [
       "['feather-data/vancouver_2017.xlsx',\n",
       " 'feather-data/vancouver_2018-01.xlsx',\n",
       " 'feather-data/vancouver_2018-02.xlsx',\n",
       " 'feather-data/vancouver_2018-03.xlsx',\n",
       " 'feather-data/vancouver_2018-04.xlsx',\n",
       " 'feather-data/vancouver_2018-05.xlsx',\n",
       " 'feather-data/vancouver_2018-06.xlsx',\n",
       " 'feather-data/vancouver_2018-07.xlsx',\n",
       " 'feather-data/vancouver_2018-08.xlsx',\n",
       " 'feather-data/vancouver_2018-09.xlsx',\n",
       " 'feather-data/vancouver_2018-10.xlsx',\n",
       " 'feather-data/vancouver_2018-11.xlsx']"
      ]
     },
     "execution_count": 329,
     "metadata": {},
     "output_type": "execute_result"
    }
   ],
   "source": [
    "for fname in os.listdir('feather-data/'):\n",
    "    if fname.startswith('Mobi'):\n",
    "        os.rename(f'feather-data/{fname}', f'feather-data/{fname}'.replace('feather-data/Mobi_System_Data', 'feather-data/vancouver'))\n",
    "\n",
    "xlsx_files = subprocess.getoutput('ls feather-data/*.xlsx').split('\\n')\n",
    "xlsx_files"
   ]
  },
  {
   "cell_type": "code",
   "execution_count": 330,
   "metadata": {},
   "outputs": [
    {
     "name": "stdout",
     "output_type": "stream",
     "text": [
      "feather-data/vancouver_2017.xlsx\n",
      "Index(['start_date', 'start_station_code', 'end_date', 'end_station_code',\n",
      "       'duration_sec', 'is_member'],\n",
      "      dtype='object')\n",
      "(108264, 6)\n",
      "False\n",
      "feather-data/vancouver_2018-01.xlsx\n",
      "Index(['start_date', 'start_station_code', 'end_date', 'end_station_code',\n",
      "       'duration_sec', 'is_member'],\n",
      "      dtype='object')\n",
      "(108264, 6)\n",
      "False\n",
      "feather-data/vancouver_2018-02.xlsx\n",
      "Index(['start_date', 'start_station_code', 'end_date', 'end_station_code',\n",
      "       'duration_sec', 'is_member'],\n",
      "      dtype='object')\n",
      "(108264, 6)\n",
      "False\n",
      "feather-data/vancouver_2018-03.xlsx\n",
      "Index(['start_date', 'start_station_code', 'end_date', 'end_station_code',\n",
      "       'duration_sec', 'is_member'],\n",
      "      dtype='object')\n",
      "(108264, 6)\n",
      "False\n",
      "feather-data/vancouver_2018-04.xlsx\n",
      "Index(['start_date', 'start_station_code', 'end_date', 'end_station_code',\n",
      "       'duration_sec', 'is_member'],\n",
      "      dtype='object')\n",
      "(108264, 6)\n",
      "False\n",
      "feather-data/vancouver_2018-05.xlsx\n",
      "Index(['start_date', 'start_station_code', 'end_date', 'end_station_code',\n",
      "       'duration_sec', 'is_member'],\n",
      "      dtype='object')\n",
      "(108264, 6)\n",
      "False\n",
      "feather-data/vancouver_2018-06.xlsx\n",
      "Index(['start_date', 'start_station_code', 'end_date', 'end_station_code',\n",
      "       'duration_sec', 'is_member'],\n",
      "      dtype='object')\n",
      "(108264, 6)\n",
      "False\n",
      "feather-data/vancouver_2018-07.xlsx\n",
      "Index(['start_date', 'start_station_code', 'end_date', 'end_station_code',\n",
      "       'duration_sec', 'is_member'],\n",
      "      dtype='object')\n",
      "(108264, 6)\n",
      "False\n",
      "feather-data/vancouver_2018-08.xlsx\n",
      "Index(['start_date', 'start_station_code', 'end_date', 'end_station_code',\n",
      "       'duration_sec', 'is_member'],\n",
      "      dtype='object')\n",
      "(108264, 6)\n",
      "False\n",
      "feather-data/vancouver_2018-09.xlsx\n",
      "Index(['start_date', 'start_station_code', 'end_date', 'end_station_code',\n",
      "       'duration_sec', 'is_member'],\n",
      "      dtype='object')\n",
      "(108264, 6)\n",
      "False\n",
      "feather-data/vancouver_2018-10.xlsx\n",
      "Index(['start_date', 'start_station_code', 'end_date', 'end_station_code',\n",
      "       'duration_sec', 'is_member'],\n",
      "      dtype='object')\n",
      "(108264, 6)\n",
      "False\n",
      "feather-data/vancouver_2018-11.xlsx\n",
      "Index(['start_date', 'start_station_code', 'end_date', 'end_station_code',\n",
      "       'duration_sec', 'is_member'],\n",
      "      dtype='object')\n",
      "(108264, 6)\n",
      "False\n"
     ]
    }
   ],
   "source": [
    "for file in xlsx_files:\n",
    "    xlsxtofeather(file)"
   ]
  },
  {
   "cell_type": "code",
   "execution_count": 332,
   "metadata": {},
   "outputs": [
    {
     "data": {
      "text/plain": [
       "['feather-data/vancouver_2018-12.csv',\n",
       " 'feather-data/vancouver_2019-01.csv',\n",
       " 'feather-data/vancouver_2019-02.csv',\n",
       " 'feather-data/vancouver_2019-03.csv']"
      ]
     },
     "execution_count": 332,
     "metadata": {},
     "output_type": "execute_result"
    }
   ],
   "source": [
    "csv_files = subprocess.getoutput('ls feather-data/*.csv').split('\\n')\n",
    "csv_files"
   ]
  },
  {
   "cell_type": "code",
   "execution_count": 333,
   "metadata": {},
   "outputs": [
    {
     "name": "stdout",
     "output_type": "stream",
     "text": [
      "feather-data/vancouver_2018-12.csv\n",
      "feather-data/vancouver_2018-12.csv\n",
      "Index(['Departure', 'Return', 'Account', 'Bike', 'Departure station',\n",
      "       'Return station', 'Membership type', 'Covered distance (m)',\n",
      "       'Duration (sec.)', 'Departure battery voltage (mV)',\n",
      "       'Return battery voltage (mV)', 'Departure temperature (C)',\n",
      "       'Return temperature (C)', 'Stopover duration (sec.)',\n",
      "       'Number of stopovers'],\n",
      "      dtype='object')\n",
      "(27581, 15)\n",
      "True\n",
      "feather-data/vancouver_2019-01.csv\n"
     ]
    },
    {
     "name": "stderr",
     "output_type": "stream",
     "text": [
      "/usr/local/miniconda3/envs/py37/lib/python3.7/site-packages/IPython/core/interactiveshell.py:3214: DtypeWarning: Columns (15) have mixed types. Specify dtype option on import or set low_memory=False.\n",
      "  if (yield from self.run_code(code, result)):\n"
     ]
    },
    {
     "name": "stdout",
     "output_type": "stream",
     "text": [
      "feather-data/vancouver_2019-01.csv\n",
      "Index(['Departure', 'Return', 'Account', 'Bike', 'Departure station',\n",
      "       'Return station', 'Membership type', 'Covered distance (m)',\n",
      "       'Duration (sec.)', 'Departure battery voltage (mV)',\n",
      "       'Return battery voltage (mV)', 'Departure temperature (C)',\n",
      "       'Return temperature (C)', 'Stopover duration', 'Number of stopovers',\n",
      "       'Manager'],\n",
      "      dtype='object')\n",
      "(36750, 16)\n",
      "True\n",
      "feather-data/vancouver_2019-02.csv\n",
      "feather-data/vancouver_2019-02.csv\n",
      "Index(['Departure', 'Return', 'Account', 'Bike', 'Departure station',\n",
      "       'Return station', 'Membership Type', 'Covered distance (m)',\n",
      "       'Duration (sec.)', 'Departure battery voltage (mV)',\n",
      "       'Return battery voltage (mV)', 'Departure temperature (C)',\n",
      "       'Return temperature (C)', 'Stopover duration', 'Number of stopovers'],\n",
      "      dtype='object')\n",
      "(26103, 15)\n",
      "True\n",
      "feather-data/vancouver_2019-03.csv\n",
      "feather-data/vancouver_2019-03.csv\n",
      "Index(['Departure', 'Return', 'Account', 'Bike', 'Departure station',\n",
      "       'Return station', 'Membership type', 'Covered distance (m)',\n",
      "       'Duration (sec.)', 'Departure battery voltage (mV)',\n",
      "       'Return battery voltage (mV)', 'Departure temperature (C)',\n",
      "       'Return temperature (C)', 'Stopover duration (sec.)',\n",
      "       'Number of stopovers', 'Manager'],\n",
      "      dtype='object')\n",
      "(57459, 16)\n",
      "True\n"
     ]
    }
   ],
   "source": [
    "for file in csv_files:\n",
    "    csvtofeather(file)"
   ]
  },
  {
   "cell_type": "code",
   "execution_count": 334,
   "metadata": {},
   "outputs": [
    {
     "data": {
      "text/plain": [
       "['feather-data/vancouver_2018-12.csv',\n",
       " 'feather-data/vancouver_2019-01.csv',\n",
       " 'feather-data/vancouver_2019-02.csv',\n",
       " 'feather-data/vancouver_2019-03.csv']"
      ]
     },
     "execution_count": 334,
     "metadata": {},
     "output_type": "execute_result"
    }
   ],
   "source": [
    "csv_files"
   ]
  },
  {
   "cell_type": "code",
   "execution_count": 374,
   "metadata": {},
   "outputs": [
    {
     "name": "stdout",
     "output_type": "stream",
     "text": [
      "False\n"
     ]
    }
   ],
   "source": [
    "df = feather.read_feather('feather-data/vancouver_2018-12.feather')\n",
    "df = df[(~df[\"Return\"].isnull())]\n",
    "print(df[\"Return\"].isna().values.any())\n"
   ]
  },
  {
   "cell_type": "code",
   "execution_count": 383,
   "metadata": {},
   "outputs": [
    {
     "name": "stdout",
     "output_type": "stream",
     "text": [
      "feather-data/vancouver_2017.feather    feather-data/vancouver_2018-08.feather\n",
      "feather-data/vancouver_2018-01.feather feather-data/vancouver_2018-09.feather\n",
      "feather-data/vancouver_2018-02.feather feather-data/vancouver_2018-10.feather\n",
      "feather-data/vancouver_2018-03.feather feather-data/vancouver_2018-11.feather\n",
      "feather-data/vancouver_2018-04.feather feather-data/vancouver_2018-12.feather\n",
      "feather-data/vancouver_2018-05.feather feather-data/vancouver_2019-01.feather\n",
      "feather-data/vancouver_2018-06.feather feather-data/vancouver_2019-02.feather\n",
      "feather-data/vancouver_2018-07.feather feather-data/vancouver_2019-03.feather\n"
     ]
    }
   ],
   "source": [
    "! ls feather-data/v*.f*"
   ]
  },
  {
   "cell_type": "code",
   "execution_count": 386,
   "metadata": {},
   "outputs": [
    {
     "data": {
      "text/plain": [
       "(573706, 15)"
      ]
     },
     "execution_count": 386,
     "metadata": {},
     "output_type": "execute_result"
    }
   ],
   "source": [
    "df = feather.read_feather('feather-data/vancouver_2017.feather')\n",
    "df = df[df['Duration (sec.)'] != 0]"
   ]
  },
  {
   "cell_type": "code",
   "execution_count": 393,
   "metadata": {},
   "outputs": [
    {
     "data": {
      "text/plain": [
       "Departure                         datetime64[ns]\n",
       "Return                            datetime64[ns]\n",
       "Account                                   object\n",
       "Bike                                     float64\n",
       "Departure station                         object\n",
       "Return station                            object\n",
       "Membership type                           object\n",
       "Covered distance (m)                     float64\n",
       "Duration (sec.)                            int64\n",
       "Departure battery voltage (mV)             int64\n",
       "Return battery voltage (mV)                int64\n",
       "Departure temperature (°C)                 int64\n",
       "Return temperature (°C)                    int64\n",
       "Stopover duration (sec.)                   int64\n",
       "Number of stopovers                        int64\n",
       "dtype: object"
      ]
     },
     "execution_count": 393,
     "metadata": {},
     "output_type": "execute_result"
    }
   ],
   "source": [
    "df.dtypes"
   ]
  },
  {
   "cell_type": "code",
   "execution_count": 395,
   "metadata": {},
   "outputs": [
    {
     "data": {
      "text/plain": [
       "['feather-data/vancouver_2017.feather',\n",
       " 'feather-data/vancouver_2018-01.feather',\n",
       " 'feather-data/vancouver_2018-02.feather',\n",
       " 'feather-data/vancouver_2018-03.feather',\n",
       " 'feather-data/vancouver_2018-04.feather',\n",
       " 'feather-data/vancouver_2018-05.feather',\n",
       " 'feather-data/vancouver_2018-06.feather',\n",
       " 'feather-data/vancouver_2018-07.feather',\n",
       " 'feather-data/vancouver_2018-08.feather',\n",
       " 'feather-data/vancouver_2018-09.feather',\n",
       " 'feather-data/vancouver_2018-10.feather',\n",
       " 'feather-data/vancouver_2018-11.feather',\n",
       " 'feather-data/vancouver_2018-12.feather',\n",
       " 'feather-data/vancouver_2019-01.feather',\n",
       " 'feather-data/vancouver_2019-02.feather',\n",
       " 'feather-data/vancouver_2019-03.feather']"
      ]
     },
     "execution_count": 395,
     "metadata": {},
     "output_type": "execute_result"
    }
   ],
   "source": [
    "van_files = subprocess.getoutput('ls feather-data/v*.feather').split('\\n')\n",
    "van_files"
   ]
  },
  {
   "cell_type": "code",
   "execution_count": 397,
   "metadata": {},
   "outputs": [
    {
     "name": "stdout",
     "output_type": "stream",
     "text": [
      "feather-data/vancouver_2017.feather\n",
      "(573706, 15)\n",
      "(573538, 15)\n",
      "feather-data/vancouver_2018-01.feather\n",
      "(20392, 15)\n",
      "(20391, 15)\n",
      "feather-data/vancouver_2018-02.feather\n",
      "(22264, 15)\n",
      "(22257, 15)\n",
      "feather-data/vancouver_2018-03.feather\n",
      "(36804, 15)\n",
      "(36802, 15)\n",
      "feather-data/vancouver_2018-04.feather\n",
      "(42653, 15)\n",
      "(42641, 15)\n",
      "feather-data/vancouver_2018-05.feather\n",
      "(88514, 15)\n",
      "(88491, 15)\n",
      "feather-data/vancouver_2018-06.feather\n",
      "(87458, 15)\n",
      "(87435, 15)\n",
      "feather-data/vancouver_2018-07.feather\n",
      "(114420, 15)\n",
      "(114368, 15)\n",
      "feather-data/vancouver_2018-08.feather\n",
      "(111014, 15)\n",
      "(110994, 15)\n",
      "feather-data/vancouver_2018-09.feather\n",
      "(77479, 17)\n",
      "(77451, 17)\n",
      "feather-data/vancouver_2018-10.feather\n",
      "(65291, 15)\n",
      "(65219, 15)\n",
      "feather-data/vancouver_2018-11.feather\n",
      "(39248, 15)\n",
      "(39230, 15)\n",
      "feather-data/vancouver_2018-12.feather\n",
      "(27580, 15)\n",
      "(27563, 15)\n",
      "feather-data/vancouver_2019-01.feather\n",
      "(36750, 16)\n",
      "(36725, 16)\n",
      "feather-data/vancouver_2019-02.feather\n",
      "(26103, 15)\n",
      "(26095, 15)\n",
      "feather-data/vancouver_2019-03.feather\n",
      "(57459, 16)\n",
      "(57442, 16)\n"
     ]
    }
   ],
   "source": [
    "list_stations_all = []\n",
    "\n",
    "for file in van_files:\n",
    "    print(file)\n",
    "    df = feather.read_feather(file)\n",
    "    print(df.shape)\n",
    "    \n",
    "    df = df[df['Duration (sec.)'] != 0]\n",
    "    print(df.shape)\n",
    "    \n",
    "    stations_set = df[['Departure station', 'Return station']].values.ravel()\n",
    "    list_stations_all.extend(stations_set)\n",
    "    \n",
    "    feather.write_feather(df, file)"
   ]
  },
  {
   "cell_type": "code",
   "execution_count": 399,
   "metadata": {},
   "outputs": [
    {
     "data": {
      "text/plain": [
       "2853284"
      ]
     },
     "execution_count": 399,
     "metadata": {},
     "output_type": "execute_result"
    }
   ],
   "source": [
    "len(list_stations_all)"
   ]
  },
  {
   "cell_type": "code",
   "execution_count": 429,
   "metadata": {},
   "outputs": [
    {
     "data": {
      "text/html": [
       "<div>\n",
       "<style scoped>\n",
       "    .dataframe tbody tr th:only-of-type {\n",
       "        vertical-align: middle;\n",
       "    }\n",
       "\n",
       "    .dataframe tbody tr th {\n",
       "        vertical-align: top;\n",
       "    }\n",
       "\n",
       "    .dataframe thead th {\n",
       "        text-align: right;\n",
       "    }\n",
       "</style>\n",
       "<table border=\"1\" class=\"dataframe\">\n",
       "  <thead>\n",
       "    <tr style=\"text-align: right;\">\n",
       "      <th></th>\n",
       "      <th>intersection</th>\n",
       "      <th>city</th>\n",
       "    </tr>\n",
       "  </thead>\n",
       "  <tbody>\n",
       "    <tr>\n",
       "      <th>0</th>\n",
       "      <td>0278 15th &amp; Victoria</td>\n",
       "      <td>van</td>\n",
       "    </tr>\n",
       "    <tr>\n",
       "      <th>1</th>\n",
       "      <td>0273 Victoria &amp; 4th</td>\n",
       "      <td>van</td>\n",
       "    </tr>\n",
       "    <tr>\n",
       "      <th>2</th>\n",
       "      <td>0171 5th &amp; Yukon</td>\n",
       "      <td>van</td>\n",
       "    </tr>\n",
       "    <tr>\n",
       "      <th>3</th>\n",
       "      <td>0047 Chilco &amp; Beach</td>\n",
       "      <td>van</td>\n",
       "    </tr>\n",
       "    <tr>\n",
       "      <th>4</th>\n",
       "      <td>0154 Kitsilano Beach Park</td>\n",
       "      <td>van</td>\n",
       "    </tr>\n",
       "  </tbody>\n",
       "</table>\n",
       "</div>"
      ],
      "text/plain": [
       "                intersection city\n",
       "0       0278 15th & Victoria  van\n",
       "1        0273 Victoria & 4th  van\n",
       "2           0171 5th & Yukon  van\n",
       "3        0047 Chilco & Beach  van\n",
       "4  0154 Kitsilano Beach Park  van"
      ]
     },
     "execution_count": 429,
     "metadata": {},
     "output_type": "execute_result"
    }
   ],
   "source": [
    "van_stations_set = set(list_stations_all)\n",
    "van_stations = pd.DataFrame(van_stations_set, columns = ['intersection'])\n",
    "van_stations['city'] = 'van'\n",
    "van_stations.head()"
   ]
  },
  {
   "cell_type": "code",
   "execution_count": 430,
   "metadata": {},
   "outputs": [
    {
     "data": {
      "text/plain": [
       "211"
      ]
     },
     "execution_count": 430,
     "metadata": {},
     "output_type": "execute_result"
    }
   ],
   "source": [
    "len(van_stations)"
   ]
  },
  {
   "cell_type": "code",
   "execution_count": 431,
   "metadata": {},
   "outputs": [],
   "source": [
    "van_stations['code'], van_stations['intersection'] = van_stations['intersection'].str.split(' ', 1).str\n"
   ]
  },
  {
   "cell_type": "code",
   "execution_count": 432,
   "metadata": {},
   "outputs": [
    {
     "data": {
      "text/html": [
       "<div>\n",
       "<style scoped>\n",
       "    .dataframe tbody tr th:only-of-type {\n",
       "        vertical-align: middle;\n",
       "    }\n",
       "\n",
       "    .dataframe tbody tr th {\n",
       "        vertical-align: top;\n",
       "    }\n",
       "\n",
       "    .dataframe thead th {\n",
       "        text-align: right;\n",
       "    }\n",
       "</style>\n",
       "<table border=\"1\" class=\"dataframe\">\n",
       "  <thead>\n",
       "    <tr style=\"text-align: right;\">\n",
       "      <th></th>\n",
       "      <th>code</th>\n",
       "      <th>intersection</th>\n",
       "      <th>city</th>\n",
       "    </tr>\n",
       "  </thead>\n",
       "  <tbody>\n",
       "    <tr>\n",
       "      <th>0</th>\n",
       "      <td>0278</td>\n",
       "      <td>15th &amp; Victoria</td>\n",
       "      <td>van</td>\n",
       "    </tr>\n",
       "    <tr>\n",
       "      <th>1</th>\n",
       "      <td>0273</td>\n",
       "      <td>Victoria &amp; 4th</td>\n",
       "      <td>van</td>\n",
       "    </tr>\n",
       "    <tr>\n",
       "      <th>2</th>\n",
       "      <td>0171</td>\n",
       "      <td>5th &amp; Yukon</td>\n",
       "      <td>van</td>\n",
       "    </tr>\n",
       "    <tr>\n",
       "      <th>3</th>\n",
       "      <td>0047</td>\n",
       "      <td>Chilco &amp; Beach</td>\n",
       "      <td>van</td>\n",
       "    </tr>\n",
       "    <tr>\n",
       "      <th>4</th>\n",
       "      <td>0154</td>\n",
       "      <td>Kitsilano Beach Park</td>\n",
       "      <td>van</td>\n",
       "    </tr>\n",
       "  </tbody>\n",
       "</table>\n",
       "</div>"
      ],
      "text/plain": [
       "   code          intersection city\n",
       "0  0278       15th & Victoria  van\n",
       "1  0273        Victoria & 4th  van\n",
       "2  0171           5th & Yukon  van\n",
       "3  0047        Chilco & Beach  van\n",
       "4  0154  Kitsilano Beach Park  van"
      ]
     },
     "execution_count": 432,
     "metadata": {},
     "output_type": "execute_result"
    }
   ],
   "source": [
    "van_stations = van_stations[['code', 'intersection', 'city']]\n",
    "van_stations.head()"
   ]
  },
  {
   "cell_type": "code",
   "execution_count": 441,
   "metadata": {},
   "outputs": [],
   "source": [
    "van_stations = van_stations[(~van_stations['code'].isnull())]"
   ]
  },
  {
   "cell_type": "code",
   "execution_count": 443,
   "metadata": {},
   "outputs": [
    {
     "data": {
      "text/plain": [
       "(210, 3)"
      ]
     },
     "execution_count": 443,
     "metadata": {},
     "output_type": "execute_result"
    }
   ],
   "source": [
    "van_stations.shape"
   ]
  },
  {
   "cell_type": "code",
   "execution_count": 444,
   "metadata": {},
   "outputs": [],
   "source": [
    "van_inter = van_stations['intersection']"
   ]
  },
  {
   "cell_type": "code",
   "execution_count": 445,
   "metadata": {},
   "outputs": [
    {
     "name": "stdout",
     "output_type": "stream",
     "text": [
      "Kitsilano Beach Park\n",
      "station for tests\n",
      "Coal Harbour Community Centre\n",
      "David Lam Park - West\n",
      "Stanley Park - Information Booth\n",
      "Stanley Park - Vancouver Aquarium\n",
      "Shaw Tower\n",
      "Balancer Bike Check In\n",
      "HQ Workshop\n",
      "Aquatic Centre\n",
      "Vanier Park\n",
      "Olympic Village Station - Parking Lot\n",
      "Britannia Parking Lot\n",
      "Science World\n",
      "Stanley Park - Second Beach South\n",
      "WareHouse Workshop\n",
      "Sunset Beach West\n",
      "Creekside Park North\n",
      "Vancouver Art Gallery - North Plaza\n",
      "Canada Place\n",
      "Temporary Events Station\n",
      "Olympic Village Station\n",
      "Stamp's Landing\n",
      "Olympic Village Station\n",
      "HQ Workshop\n",
      "Stanley Park - Totem Poles\n",
      "Granville Island Public Market\n",
      "Yaletown-Roundhouse Station\n",
      "Stanley Park - Second Beach North\n",
      "Burrard Station\n",
      "Bike Production\n",
      "Smoove_test_4\n",
      "Smoove_test_5\n",
      "Balancer Bike Check In\n",
      "Temporary Station - Marketing Events\n",
      "South False Creek Seawall\n",
      "Olympic Village Station\n"
     ]
    }
   ],
   "source": [
    "pattern = re.compile(\"^((?!&).)*$\")\n",
    "for addr in van_inter:\n",
    "    m = pattern.search(addr)\n",
    "    if m is not None:\n",
    "        print(m.group(0))"
   ]
  },
  {
   "cell_type": "code",
   "execution_count": 446,
   "metadata": {},
   "outputs": [],
   "source": [
    "city = 'Vancouver'\n",
    "\n",
    "latlong_list = geocode_city_intersection(van_inter, city, apikey)"
   ]
  },
  {
   "cell_type": "code",
   "execution_count": 448,
   "metadata": {},
   "outputs": [
    {
     "data": {
      "text/plain": [
       "210"
      ]
     },
     "execution_count": 448,
     "metadata": {},
     "output_type": "execute_result"
    }
   ],
   "source": [
    "len(latlong_list)"
   ]
  },
  {
   "cell_type": "code",
   "execution_count": 449,
   "metadata": {},
   "outputs": [
    {
     "data": {
      "text/html": [
       "<div>\n",
       "<style scoped>\n",
       "    .dataframe tbody tr th:only-of-type {\n",
       "        vertical-align: middle;\n",
       "    }\n",
       "\n",
       "    .dataframe tbody tr th {\n",
       "        vertical-align: top;\n",
       "    }\n",
       "\n",
       "    .dataframe thead th {\n",
       "        text-align: right;\n",
       "    }\n",
       "</style>\n",
       "<table border=\"1\" class=\"dataframe\">\n",
       "  <thead>\n",
       "    <tr style=\"text-align: right;\">\n",
       "      <th></th>\n",
       "      <th>code</th>\n",
       "      <th>intersection</th>\n",
       "      <th>city</th>\n",
       "      <th>latitude</th>\n",
       "      <th>longitude</th>\n",
       "    </tr>\n",
       "  </thead>\n",
       "  <tbody>\n",
       "    <tr>\n",
       "      <th>0</th>\n",
       "      <td>0278</td>\n",
       "      <td>15th &amp; Victoria</td>\n",
       "      <td>van</td>\n",
       "      <td>49.249660</td>\n",
       "      <td>-123.119340</td>\n",
       "    </tr>\n",
       "    <tr>\n",
       "      <th>1</th>\n",
       "      <td>0273</td>\n",
       "      <td>Victoria &amp; 4th</td>\n",
       "      <td>van</td>\n",
       "      <td>49.266851</td>\n",
       "      <td>-123.065820</td>\n",
       "    </tr>\n",
       "    <tr>\n",
       "      <th>2</th>\n",
       "      <td>0171</td>\n",
       "      <td>5th &amp; Yukon</td>\n",
       "      <td>van</td>\n",
       "      <td>49.249660</td>\n",
       "      <td>-123.119340</td>\n",
       "    </tr>\n",
       "    <tr>\n",
       "      <th>3</th>\n",
       "      <td>0047</td>\n",
       "      <td>Chilco &amp; Beach</td>\n",
       "      <td>van</td>\n",
       "      <td>49.292318</td>\n",
       "      <td>-123.139984</td>\n",
       "    </tr>\n",
       "    <tr>\n",
       "      <th>4</th>\n",
       "      <td>0154</td>\n",
       "      <td>Kitsilano Beach Park</td>\n",
       "      <td>van</td>\n",
       "      <td>49.249660</td>\n",
       "      <td>-123.119340</td>\n",
       "    </tr>\n",
       "  </tbody>\n",
       "</table>\n",
       "</div>"
      ],
      "text/plain": [
       "   code          intersection city   latitude   longitude\n",
       "0  0278       15th & Victoria  van  49.249660 -123.119340\n",
       "1  0273        Victoria & 4th  van  49.266851 -123.065820\n",
       "2  0171           5th & Yukon  van  49.249660 -123.119340\n",
       "3  0047        Chilco & Beach  van  49.292318 -123.139984\n",
       "4  0154  Kitsilano Beach Park  van  49.249660 -123.119340"
      ]
     },
     "execution_count": 449,
     "metadata": {},
     "output_type": "execute_result"
    }
   ],
   "source": [
    "van_stations.reset_index(drop = True, inplace = True)\n",
    "van_stations = pd.concat([van_stations, pd.DataFrame(latlong_list, columns=['latitude', 'longitude'])], axis = 1)\n",
    "van_stations.head()"
   ]
  },
  {
   "cell_type": "code",
   "execution_count": 450,
   "metadata": {},
   "outputs": [],
   "source": [
    "feather.write_feather(van_stations, 'feather-data/van_stations.feather')"
   ]
  },
  {
   "cell_type": "code",
   "execution_count": 472,
   "metadata": {},
   "outputs": [],
   "source": [
    "def clean_van(fnames):\n",
    "    \n",
    "    for f in fnames:\n",
    "        dft = feather.read_feather(f)\n",
    "        print(f)\n",
    "        print(dft.shape)\n",
    "        \n",
    "        dft['city'] = 'van'\n",
    "        dft.columns = ['trip_start_time', 'trip_stop_time', 'account_id', 'bike_id', \n",
    "                       'start_station', 'end_station', 'membership_type', 'covered_distance_meters', \n",
    "                       'trip_duration_seconds', 'departure_battery_voltage_millivolts', 'return_battery_voltage_millivolts', \n",
    "                       'departure_temperature_celsius', 'return_temperature_celsius', 'stopover_duration_seconds', \n",
    "                       'number_of_stopovers', 'city']\n",
    "\n",
    "        dft['start_station_code'], dft['start_station'] = dft['start_station'].str.split(' ', 1).str\n",
    "        dft['end_station_code'], dft['end_station'] = dft['end_station'].str.split(' ', 1).str\n",
    "\n",
    "        dft['trip_start_time'] = pd.to_datetime(dft.trip_start_time)\n",
    "        dft['trip_stop_time'] = pd.to_datetime(dft.trip_stop_time)\n",
    "        \n",
    "        feather.write_feather(dft, '_'.join([f.split('.')[0], 'xtr']) + '.feather')\n",
    "\n",
    "        dft.membership_type = np.where((dft.membership_type == \"24 Hour\") | (dft.membership_type == \"Archived Day\"), '0', '1')\n",
    "\n",
    "        dft = dft[['trip_start_time', 'start_station_code', 'trip_stop_time', \n",
    "                                   'end_station_code', 'trip_duration_seconds', 'membership_type', 'city']]\n",
    "\n",
    "        print(dft.dtypes)\n",
    "        print(dft.shape)\n",
    "        feather.write_feather(dft, f)"
   ]
  },
  {
   "cell_type": "code",
   "execution_count": 473,
   "metadata": {},
   "outputs": [
    {
     "data": {
      "text/plain": [
       "['feather-data/vancouver_2017.feather',\n",
       " 'feather-data/vancouver_2018-01.feather',\n",
       " 'feather-data/vancouver_2018-02.feather',\n",
       " 'feather-data/vancouver_2018-03.feather',\n",
       " 'feather-data/vancouver_2018-04.feather',\n",
       " 'feather-data/vancouver_2018-05.feather',\n",
       " 'feather-data/vancouver_2018-06.feather',\n",
       " 'feather-data/vancouver_2018-07.feather',\n",
       " 'feather-data/vancouver_2018-08.feather',\n",
       " 'feather-data/vancouver_2018-09.feather',\n",
       " 'feather-data/vancouver_2018-10.feather',\n",
       " 'feather-data/vancouver_2018-11.feather',\n",
       " 'feather-data/vancouver_2018-12.feather',\n",
       " 'feather-data/vancouver_2019-01.feather',\n",
       " 'feather-data/vancouver_2019-02.feather',\n",
       " 'feather-data/vancouver_2019-03.feather']"
      ]
     },
     "execution_count": 473,
     "metadata": {},
     "output_type": "execute_result"
    }
   ],
   "source": [
    "van_files = subprocess.getoutput('ls feather-data/v*.feather').split('\\n')\n",
    "van_files[1:]"
   ]
  },
  {
   "cell_type": "raw",
   "metadata": {},
   "source": [
    "clean_van(van_files[1:])\n",
    "\n",
    "feather-data/vancouver_2017.feather\n",
    "(573538, 15)\n",
    "trip_start_time          datetime64[ns]\n",
    "start_station_code               object\n",
    "trip_stop_time           datetime64[ns]\n",
    "end_station_code                 object\n",
    "trip_duration_seconds             int64\n",
    "membership_type                  object\n",
    "city                             object\n",
    "dtype: object\n",
    "(573538, 7)\n",
    "feather-data/vancouver_2018-01.feather\n",
    "(20391, 15)\n",
    "trip_start_time          datetime64[ns]\n",
    "start_station_code               object\n",
    "trip_stop_time           datetime64[ns]\n",
    "end_station_code                 object\n",
    "trip_duration_seconds             int64\n",
    "membership_type                  object\n",
    "city                             object\n",
    "dtype: object\n",
    "(20391, 7)\n",
    "feather-data/vancouver_2018-02.feather\n",
    "(22257, 15)\n",
    "trip_start_time          datetime64[ns]\n",
    "start_station_code               object\n",
    "trip_stop_time           datetime64[ns]\n",
    "end_station_code                 object\n",
    "trip_duration_seconds             int64\n",
    "membership_type                  object\n",
    "city                             object\n",
    "dtype: object\n",
    "(22257, 7)\n",
    "feather-data/vancouver_2018-03.feather\n",
    "(36802, 15)\n",
    "trip_start_time          datetime64[ns]\n",
    "start_station_code               object\n",
    "trip_stop_time           datetime64[ns]\n",
    "end_station_code                 object\n",
    "trip_duration_seconds             int64\n",
    "membership_type                  object\n",
    "city                             object\n",
    "dtype: object\n",
    "(36802, 7)\n",
    "feather-data/vancouver_2018-04.feather\n",
    "(42641, 15)\n",
    "trip_start_time          datetime64[ns]\n",
    "start_station_code               object\n",
    "trip_stop_time           datetime64[ns]\n",
    "end_station_code                 object\n",
    "trip_duration_seconds             int64\n",
    "membership_type                  object\n",
    "city                             object\n",
    "dtype: object\n",
    "(42641, 7)\n",
    "feather-data/vancouver_2018-05.feather\n",
    "(88491, 15)\n",
    "trip_start_time          datetime64[ns]\n",
    "start_station_code               object\n",
    "trip_stop_time           datetime64[ns]\n",
    "end_station_code                 object\n",
    "trip_duration_seconds             int64\n",
    "membership_type                  object\n",
    "city                             object\n",
    "dtype: object\n",
    "(88491, 7)\n",
    "feather-data/vancouver_2018-06.feather\n",
    "(87435, 15)\n",
    "trip_start_time          datetime64[ns]\n",
    "start_station_code               object\n",
    "trip_stop_time           datetime64[ns]\n",
    "end_station_code                 object\n",
    "trip_duration_seconds             int64\n",
    "membership_type                  object\n",
    "city                             object\n",
    "dtype: object\n",
    "(87435, 7)\n",
    "feather-data/vancouver_2018-07.feather\n",
    "(114368, 15)\n",
    "trip_start_time          datetime64[ns]\n",
    "start_station_code               object\n",
    "trip_stop_time           datetime64[ns]\n",
    "end_station_code                 object\n",
    "trip_duration_seconds             int64\n",
    "membership_type                  object\n",
    "city                             object\n",
    "dtype: object\n",
    "(114368, 7)\n",
    "feather-data/vancouver_2018-08.feather\n",
    "(110994, 15)\n",
    "trip_start_time          datetime64[ns]\n",
    "start_station_code               object\n",
    "trip_stop_time           datetime64[ns]\n",
    "end_station_code                 object\n",
    "trip_duration_seconds             int64\n",
    "membership_type                  object\n",
    "city                             object\n",
    "dtype: object\n",
    "(110994, 7)"
   ]
  },
  {
   "cell_type": "code",
   "execution_count": 475,
   "metadata": {},
   "outputs": [],
   "source": [
    "# Stopped because of error in feather-data/vancouver_2018-09.feather"
   ]
  },
  {
   "cell_type": "code",
   "execution_count": 477,
   "metadata": {},
   "outputs": [
    {
     "data": {
      "text/plain": [
       "Index(['Departure', 'Return', 'Account', 'Bike', 'Departure station',\n",
       "       'Return station', 'Membership type', 'Covered distance (m)',\n",
       "       'Duration (sec.)', 'Departure battery voltage (mV)',\n",
       "       'Return battery voltage (mV)', 'Departure temperature (°C)',\n",
       "       'Return temperature (°C)', 'Departure slot', 'Return slot',\n",
       "       'Stopover duration (sec.)', 'Number of stopovers'],\n",
       "      dtype='object')"
      ]
     },
     "execution_count": 477,
     "metadata": {},
     "output_type": "execute_result"
    }
   ],
   "source": [
    "df = feather.read_feather('feather-data/vancouver_2018-09.feather')\n",
    "df.columns"
   ]
  },
  {
   "cell_type": "code",
   "execution_count": 478,
   "metadata": {},
   "outputs": [],
   "source": [
    "df.drop(['Departure slot', 'Return slot'], axis = 1, inplace = True)"
   ]
  },
  {
   "cell_type": "code",
   "execution_count": 480,
   "metadata": {},
   "outputs": [],
   "source": [
    "feather.write_feather(df, 'feather-data/vancouver_2018-09.feather')"
   ]
  },
  {
   "cell_type": "code",
   "execution_count": 483,
   "metadata": {},
   "outputs": [
    {
     "data": {
      "text/plain": [
       "Index(['Departure', 'Return', 'Account', 'Bike', 'Departure station',\n",
       "       'Return station', 'Membership Type', 'Covered distance (m)',\n",
       "       'Duration (sec.)', 'Departure battery voltage (mV)',\n",
       "       'Return battery voltage (mV)', 'Departure temperature (°C)',\n",
       "       'Return temperature (°C)', 'Stopover duration (sec.)',\n",
       "       'Number of stopovers'],\n",
       "      dtype='object')"
      ]
     },
     "execution_count": 483,
     "metadata": {},
     "output_type": "execute_result"
    }
   ],
   "source": [
    "df = feather.read_feather('feather-data/vancouver_2018-10.feather')\n",
    "df.columns"
   ]
  },
  {
   "cell_type": "code",
   "execution_count": 484,
   "metadata": {},
   "outputs": [
    {
     "data": {
      "text/plain": [
       "Index(['Departure', 'Return', 'Account', 'Bike', 'Departure station',\n",
       "       'Return station', 'Membership type', 'Covered distance (m)',\n",
       "       'Duration (sec.)', 'Departure battery voltage (mV)',\n",
       "       'Return battery voltage (mV)', 'Departure temperature (deg C)',\n",
       "       'Return temperature (deg C)', 'Stopover duration (sec.)',\n",
       "       'Number of stopovers'],\n",
       "      dtype='object')"
      ]
     },
     "execution_count": 484,
     "metadata": {},
     "output_type": "execute_result"
    }
   ],
   "source": [
    "df = feather.read_feather('feather-data/vancouver_2018-11.feather')\n",
    "df.columns"
   ]
  },
  {
   "cell_type": "code",
   "execution_count": 485,
   "metadata": {},
   "outputs": [
    {
     "data": {
      "text/plain": [
       "Index(['Departure', 'Return', 'Account', 'Bike', 'Departure station',\n",
       "       'Return station', 'Membership type', 'Covered distance (m)',\n",
       "       'Duration (sec.)', 'Departure battery voltage (mV)',\n",
       "       'Return battery voltage (mV)', 'Departure temperature (C)',\n",
       "       'Return temperature (C)', 'Stopover duration (sec.)',\n",
       "       'Number of stopovers'],\n",
       "      dtype='object')"
      ]
     },
     "execution_count": 485,
     "metadata": {},
     "output_type": "execute_result"
    }
   ],
   "source": [
    "df = feather.read_feather('feather-data/vancouver_2018-12.feather')\n",
    "df.columns"
   ]
  },
  {
   "cell_type": "code",
   "execution_count": 488,
   "metadata": {},
   "outputs": [
    {
     "data": {
      "text/plain": [
       "Index(['Departure', 'Return', 'Account', 'Bike', 'Departure station',\n",
       "       'Return station', 'Membership type', 'Covered distance (m)',\n",
       "       'Duration (sec.)', 'Departure battery voltage (mV)',\n",
       "       'Return battery voltage (mV)', 'Departure temperature (C)',\n",
       "       'Return temperature (C)', 'Stopover duration', 'Number of stopovers',\n",
       "       'Manager'],\n",
       "      dtype='object')"
      ]
     },
     "execution_count": 488,
     "metadata": {},
     "output_type": "execute_result"
    }
   ],
   "source": [
    "df = feather.read_feather('feather-data/vancouver_2019-01.feather')\n",
    "df.columns"
   ]
  },
  {
   "cell_type": "code",
   "execution_count": 489,
   "metadata": {},
   "outputs": [],
   "source": [
    "df.drop(['Manager'], axis = 1, inplace = True)"
   ]
  },
  {
   "cell_type": "code",
   "execution_count": 492,
   "metadata": {},
   "outputs": [],
   "source": [
    "feather.write_feather(df, 'feather-data/vancouver_2019-01.feather')"
   ]
  },
  {
   "cell_type": "code",
   "execution_count": 493,
   "metadata": {},
   "outputs": [
    {
     "data": {
      "text/plain": [
       "Index(['Departure', 'Return', 'Account', 'Bike', 'Departure station',\n",
       "       'Return station', 'Membership Type', 'Covered distance (m)',\n",
       "       'Duration (sec.)', 'Departure battery voltage (mV)',\n",
       "       'Return battery voltage (mV)', 'Departure temperature (C)',\n",
       "       'Return temperature (C)', 'Stopover duration', 'Number of stopovers'],\n",
       "      dtype='object')"
      ]
     },
     "execution_count": 493,
     "metadata": {},
     "output_type": "execute_result"
    }
   ],
   "source": [
    "df = feather.read_feather('feather-data/vancouver_2019-02.feather')\n",
    "df.columns"
   ]
  },
  {
   "cell_type": "code",
   "execution_count": 494,
   "metadata": {},
   "outputs": [
    {
     "data": {
      "text/plain": [
       "Index(['Departure', 'Return', 'Account', 'Bike', 'Departure station',\n",
       "       'Return station', 'Membership type', 'Covered distance (m)',\n",
       "       'Duration (sec.)', 'Departure battery voltage (mV)',\n",
       "       'Return battery voltage (mV)', 'Departure temperature (C)',\n",
       "       'Return temperature (C)', 'Stopover duration (sec.)',\n",
       "       'Number of stopovers', 'Manager'],\n",
       "      dtype='object')"
      ]
     },
     "execution_count": 494,
     "metadata": {},
     "output_type": "execute_result"
    }
   ],
   "source": [
    "df = feather.read_feather('feather-data/vancouver_2019-03.feather')\n",
    "df.columns"
   ]
  },
  {
   "cell_type": "code",
   "execution_count": 495,
   "metadata": {},
   "outputs": [],
   "source": [
    "df.drop(['Manager'], axis = 1, inplace = True)"
   ]
  },
  {
   "cell_type": "code",
   "execution_count": 496,
   "metadata": {},
   "outputs": [],
   "source": [
    "feather.write_feather(df, 'feather-data/vancouver_2019-03.feather')"
   ]
  },
  {
   "cell_type": "code",
   "execution_count": 500,
   "metadata": {},
   "outputs": [
    {
     "data": {
      "text/plain": [
       "['feather-data/vancouver_2018-09.feather',\n",
       " 'feather-data/vancouver_2018-10.feather',\n",
       " 'feather-data/vancouver_2018-11.feather',\n",
       " 'feather-data/vancouver_2018-12.feather',\n",
       " 'feather-data/vancouver_2019-01.feather',\n",
       " 'feather-data/vancouver_2019-02.feather',\n",
       " 'feather-data/vancouver_2019-03.feather']"
      ]
     },
     "execution_count": 500,
     "metadata": {},
     "output_type": "execute_result"
    }
   ],
   "source": [
    "van_files[10:]"
   ]
  },
  {
   "cell_type": "code",
   "execution_count": 501,
   "metadata": {},
   "outputs": [
    {
     "name": "stdout",
     "output_type": "stream",
     "text": [
      "feather-data/vancouver_2018-09.feather\n",
      "(77451, 15)\n",
      "trip_start_time          datetime64[ns]\n",
      "start_station_code               object\n",
      "trip_stop_time           datetime64[ns]\n",
      "end_station_code                 object\n",
      "trip_duration_seconds             int64\n",
      "membership_type                  object\n",
      "city                             object\n",
      "dtype: object\n",
      "(77451, 7)\n",
      "feather-data/vancouver_2018-10.feather\n",
      "(65219, 15)\n",
      "trip_start_time          datetime64[ns]\n",
      "start_station_code               object\n",
      "trip_stop_time           datetime64[ns]\n",
      "end_station_code                 object\n",
      "trip_duration_seconds             int64\n",
      "membership_type                  object\n",
      "city                             object\n",
      "dtype: object\n",
      "(65219, 7)\n",
      "feather-data/vancouver_2018-11.feather\n",
      "(39230, 15)\n",
      "trip_start_time          datetime64[ns]\n",
      "start_station_code               object\n",
      "trip_stop_time           datetime64[ns]\n",
      "end_station_code                 object\n",
      "trip_duration_seconds             int64\n",
      "membership_type                  object\n",
      "city                             object\n",
      "dtype: object\n",
      "(39230, 7)\n",
      "feather-data/vancouver_2018-12.feather\n",
      "(27563, 15)\n",
      "trip_start_time          object\n",
      "start_station_code       object\n",
      "trip_stop_time           object\n",
      "end_station_code         object\n",
      "trip_duration_seconds     int64\n",
      "membership_type          object\n",
      "city                     object\n",
      "dtype: object\n",
      "(27563, 7)\n",
      "feather-data/vancouver_2019-01.feather\n",
      "(36725, 15)\n",
      "trip_start_time          object\n",
      "start_station_code       object\n",
      "trip_stop_time           object\n",
      "end_station_code         object\n",
      "trip_duration_seconds     int64\n",
      "membership_type          object\n",
      "city                     object\n",
      "dtype: object\n",
      "(36725, 7)\n",
      "feather-data/vancouver_2019-02.feather\n",
      "(26095, 15)\n",
      "trip_start_time          object\n",
      "start_station_code       object\n",
      "trip_stop_time           object\n",
      "end_station_code         object\n",
      "trip_duration_seconds     int64\n",
      "membership_type          object\n",
      "city                     object\n",
      "dtype: object\n",
      "(26095, 7)\n",
      "feather-data/vancouver_2019-03.feather\n",
      "(57442, 15)\n",
      "trip_start_time          object\n",
      "start_station_code       object\n",
      "trip_stop_time           object\n",
      "end_station_code         object\n",
      "trip_duration_seconds     int64\n",
      "membership_type          object\n",
      "city                     object\n",
      "dtype: object\n",
      "(57442, 7)\n"
     ]
    }
   ],
   "source": [
    "clean_van(van_files[10:])"
   ]
  },
  {
   "cell_type": "code",
   "execution_count": 53,
   "metadata": {},
   "outputs": [],
   "source": [
    "def check_dates(fnames):\n",
    "    for f in fnames:\n",
    "        print(f)\n",
    "        df = feather.read_feather(f)\n",
    "        print(df[['trip_start_time', 'trip_stop_time']].describe())\n",
    "        print('--------------------------------------------------')"
   ]
  },
  {
   "cell_type": "code",
   "execution_count": 511,
   "metadata": {},
   "outputs": [
    {
     "name": "stdout",
     "output_type": "stream",
     "text": [
      "feather-data/vancouver_2017.feather\n",
      "            trip_start_time       trip_stop_time\n",
      "count                573538               573538\n",
      "unique                 8476                 8474\n",
      "top     2017-07-01 15:00:00  2017-07-05 18:00:00\n",
      "freq                    402                  395\n",
      "first   2017-01-01 00:00:00  2017-01-01 01:00:00\n",
      "last    2018-01-01 00:00:00  2018-01-03 09:00:00\n",
      "--------------------------------------------------\n",
      "feather-data/vancouver_2018-01.feather\n",
      "            trip_start_time       trip_stop_time\n",
      "count                 20391                20391\n",
      "unique                  697                  696\n",
      "top     2018-01-22 17:00:00  2018-01-10 09:00:00\n",
      "freq                    132                  135\n",
      "first   2018-01-01 00:00:00  2018-01-01 00:00:00\n",
      "last    2018-02-01 00:00:00  2018-02-01 09:00:00\n",
      "--------------------------------------------------\n",
      "feather-data/vancouver_2018-02.feather\n",
      "            trip_start_time       trip_stop_time\n",
      "count                 22257                22257\n",
      "unique                  624                  629\n",
      "top     2018-02-10 16:00:00  2018-02-10 16:00:00\n",
      "freq                    149                  153\n",
      "first   2018-02-01 00:00:00  2018-02-01 00:00:00\n",
      "last    2018-03-01 00:00:00  2018-03-01 07:00:00\n",
      "--------------------------------------------------\n",
      "feather-data/vancouver_2018-03.feather\n",
      "            trip_start_time       trip_stop_time\n",
      "count                 36802                36802\n",
      "unique                  702                  701\n",
      "top     2018-03-11 15:00:00  2018-03-21 18:00:00\n",
      "freq                    238                  227\n",
      "first   2018-03-01 00:00:00  2018-03-01 00:00:00\n",
      "last    2018-04-01 00:00:00  2018-04-01 11:00:00\n",
      "--------------------------------------------------\n",
      "feather-data/vancouver_2018-04.feather\n",
      "            trip_start_time       trip_stop_time\n",
      "count                 42641                42641\n",
      "unique                  683                  688\n",
      "top     2018-04-26 18:00:00  2018-04-26 18:00:00\n",
      "freq                    316                  321\n",
      "first   2018-04-01 00:00:00  2018-04-01 00:00:00\n",
      "last    2018-05-01 00:00:00  2018-05-01 09:00:00\n",
      "--------------------------------------------------\n",
      "feather-data/vancouver_2018-05.feather\n",
      "            trip_start_time       trip_stop_time\n",
      "count                 88491                88491\n",
      "unique                  720                  726\n",
      "top     2018-05-23 17:00:00  2018-05-26 17:00:00\n",
      "freq                    385                  410\n",
      "first   2018-05-01 00:00:00  2018-05-01 00:00:00\n",
      "last    2018-06-01 00:00:00  2018-06-01 11:00:00\n",
      "--------------------------------------------------\n",
      "feather-data/vancouver_2018-06.feather\n",
      "            trip_start_time       trip_stop_time\n",
      "count                 87435                87435\n",
      "unique                  704                  714\n",
      "top     2018-06-26 17:00:00  2018-06-26 18:00:00\n",
      "freq                    428                  443\n",
      "first   2018-06-01 00:00:00  2018-06-01 00:00:00\n",
      "last    2018-07-01 00:00:00  2018-07-03 09:00:00\n",
      "--------------------------------------------------\n",
      "feather-data/vancouver_2018-07.feather\n",
      "            trip_start_time       trip_stop_time\n",
      "count                114368               114368\n",
      "unique                  737                  737\n",
      "top     2018-07-23 18:00:00  2018-07-23 18:00:00\n",
      "freq                    442                  442\n",
      "first   2018-07-01 00:00:00  2018-07-01 00:00:00\n",
      "last    2018-08-01 00:00:00  2018-08-01 00:00:00\n",
      "--------------------------------------------------\n",
      "feather-data/vancouver_2018-08.feather\n",
      "            trip_start_time       trip_stop_time\n",
      "count                110994               110994\n",
      "unique                  743                  754\n",
      "top     2018-08-14 17:00:00  2018-08-14 17:00:00\n",
      "freq                    475                  476\n",
      "first   2018-08-01 00:00:00  2018-08-01 00:00:00\n",
      "last    2018-09-01 00:00:00  2018-09-06 15:00:00\n",
      "--------------------------------------------------\n",
      "feather-data/vancouver_2018-09.feather\n",
      "            trip_start_time       trip_stop_time\n",
      "count                 77451                77451\n",
      "unique                  715                  715\n",
      "top     2018-09-17 17:00:00  2018-09-17 17:00:00\n",
      "freq                    408                  409\n",
      "first   2018-09-01 00:00:00  2018-09-01 00:00:00\n",
      "last    2018-10-01 00:00:00  2018-10-01 13:00:00\n",
      "--------------------------------------------------\n",
      "feather-data/vancouver_2018-10.feather\n",
      "            trip_start_time       trip_stop_time\n",
      "count                 65219                65219\n",
      "unique                  736                  742\n",
      "top     2018-10-15 17:00:00  2018-10-15 18:00:00\n",
      "freq                    387                  363\n",
      "first   2018-10-01 00:00:00  2018-10-01 01:00:00\n",
      "last    2018-11-01 00:00:00  2018-11-04 10:00:00\n",
      "--------------------------------------------------\n",
      "feather-data/vancouver_2018-11.feather\n",
      "            trip_start_time       trip_stop_time\n",
      "count                 39230                39230\n",
      "unique                  705                  713\n",
      "top     2018-11-02 17:00:00  2018-11-02 17:00:00\n",
      "freq                    249                  253\n",
      "first   2018-11-01 00:00:00  2018-11-01 00:00:00\n",
      "last    2018-12-01 00:00:00  2018-12-01 13:00:00\n",
      "--------------------------------------------------\n",
      "feather-data/vancouver_2018-12.feather\n",
      "         trip_start_time    trip_stop_time\n",
      "count              27563             27563\n",
      "unique               730               742\n",
      "top     2018-12-31 13:00  2018-12-31 15:00\n",
      "freq                 215               202\n",
      "--------------------------------------------------\n",
      "feather-data/vancouver_2019-01.feather\n",
      "         trip_start_time    trip_stop_time\n",
      "count              36725             36725\n",
      "unique               719               722\n",
      "top     2019-01-13 15:00  2019-01-13 15:00\n",
      "freq                 234               217\n",
      "--------------------------------------------------\n",
      "feather-data/vancouver_2019-02.feather\n",
      "         trip_start_time    trip_stop_time\n",
      "count              26095             26095\n",
      "unique               636               640\n",
      "top     2019-02-20 17:00  2019-02-28 18:00\n",
      "freq                 184               199\n",
      "--------------------------------------------------\n",
      "feather-data/vancouver_2019-03.feather\n",
      "         trip_start_time    trip_stop_time\n",
      "count              57442             57442\n",
      "unique               730               736\n",
      "top     2019-03-19 18:00  2019-03-19 18:00\n",
      "freq                 348               342\n",
      "--------------------------------------------------\n"
     ]
    }
   ],
   "source": [
    "check_dates(van_files[1:])"
   ]
  },
  {
   "cell_type": "code",
   "execution_count": 54,
   "metadata": {},
   "outputs": [
    {
     "ename": "NameError",
     "evalue": "name 'tor_files' is not defined",
     "output_type": "error",
     "traceback": [
      "\u001b[0;31m---------------------------------------------------------------------------\u001b[0m",
      "\u001b[0;31mNameError\u001b[0m                                 Traceback (most recent call last)",
      "\u001b[0;32m<ipython-input-54-d63f3720ab5c>\u001b[0m in \u001b[0;36m<module>\u001b[0;34m\u001b[0m\n\u001b[0;32m----> 1\u001b[0;31m \u001b[0mcheck_dates\u001b[0m\u001b[0;34m(\u001b[0m\u001b[0mtor_files\u001b[0m\u001b[0;34m[\u001b[0m\u001b[0;36m1\u001b[0m\u001b[0;34m:\u001b[0m\u001b[0;34m]\u001b[0m\u001b[0;34m)\u001b[0m\u001b[0;34m\u001b[0m\u001b[0;34m\u001b[0m\u001b[0m\n\u001b[0m",
      "\u001b[0;31mNameError\u001b[0m: name 'tor_files' is not defined"
     ]
    }
   ],
   "source": [
    "check_dates(tor_files[1:])"
   ]
  },
  {
   "cell_type": "code",
   "execution_count": 55,
   "metadata": {},
   "outputs": [
    {
     "name": "stdout",
     "output_type": "stream",
     "text": [
      "feather-data/montreal_2014-04.feather\n",
      "            trip_start_time       trip_stop_time\n",
      "count                108264               108264\n",
      "unique                18189                18091\n",
      "top     2014-04-25 17:23:00  2014-04-29 17:44:00\n",
      "freq                     37                   41\n",
      "first   2014-04-15 00:01:00  2014-04-15 00:08:00\n",
      "last    2014-04-30 23:59:00  2014-05-01 00:17:00\n",
      "--------------------------------------------------\n",
      "feather-data/montreal_2014-05.feather\n",
      "            trip_start_time       trip_stop_time\n",
      "count                455261               455261\n",
      "unique                39699                39720\n",
      "top     2014-05-21 17:07:00  2014-05-20 17:27:00\n",
      "freq                     74                   60\n",
      "first   2014-05-01 00:00:00  2014-05-01 00:04:00\n",
      "last    2014-05-31 23:59:00  2014-06-01 00:39:00\n",
      "--------------------------------------------------\n",
      "feather-data/montreal_2014-06.feather\n",
      "            trip_start_time       trip_stop_time\n",
      "count                525863               525863\n",
      "unique                39810                39816\n",
      "top     2014-06-04 17:10:00  2014-06-19 18:10:00\n",
      "freq                     65                   70\n",
      "first   2014-06-01 00:00:00  2014-06-01 00:03:00\n",
      "last    2014-06-30 23:59:00  2014-07-01 00:44:00\n",
      "--------------------------------------------------\n",
      "feather-data/montreal_2014-07.feather\n",
      "            trip_start_time       trip_stop_time\n",
      "count                569352               569352\n",
      "unique                41749                41769\n",
      "top     2014-07-08 17:08:00  2014-07-16 17:42:00\n",
      "freq                     68                   71\n",
      "first   2014-07-01 00:00:00  2014-07-01 00:03:00\n",
      "last    2014-07-31 23:59:00  2014-08-01 00:30:00\n",
      "--------------------------------------------------\n",
      "feather-data/montreal_2014-08.feather\n",
      "            trip_start_time       trip_stop_time\n",
      "count                556780               556780\n",
      "unique                41428                41448\n",
      "top     2014-08-06 17:09:00  2014-08-25 17:45:00\n",
      "freq                     77                   67\n",
      "first   2014-08-01 00:00:00  2014-08-01 00:02:00\n",
      "last    2014-08-31 23:59:00  2014-09-01 01:22:00\n",
      "--------------------------------------------------\n",
      "feather-data/montreal_2014-09.feather\n",
      "            trip_start_time       trip_stop_time\n",
      "count                477545               477545\n",
      "unique                38929                38954\n",
      "top     2014-09-08 17:07:00  2014-09-08 17:20:00\n",
      "freq                     66                   68\n",
      "first   2014-09-01 00:00:00  2014-09-01 00:06:00\n",
      "last    2014-09-30 23:59:00  2014-10-01 00:28:00\n",
      "--------------------------------------------------\n",
      "feather-data/montreal_2014-10.feather\n",
      "            trip_start_time       trip_stop_time\n",
      "count                331818               331818\n",
      "unique                38969                38938\n",
      "top     2014-10-01 17:09:00  2014-10-02 17:33:00\n",
      "freq                     57                   55\n",
      "first   2014-10-01 00:00:00  2014-10-01 00:06:00\n",
      "last    2014-10-31 23:59:00  2014-11-01 00:39:00\n",
      "--------------------------------------------------\n",
      "feather-data/montreal_2014-11.feather\n",
      "            trip_start_time       trip_stop_time\n",
      "count                111393               111393\n",
      "unique                18076                18014\n",
      "top     2014-11-05 17:09:00  2014-11-05 08:47:00\n",
      "freq                     35                   39\n",
      "first   2014-11-01 00:00:00  2014-11-01 00:02:00\n",
      "last    2014-11-15 23:58:00  2014-11-16 00:27:00\n",
      "--------------------------------------------------\n",
      "feather-data/montreal_2015-04.feather\n",
      "            trip_start_time       trip_stop_time\n",
      "count                150271               150271\n",
      "unique                19283                19311\n",
      "top     2015-04-28 17:08:00  2015-04-29 17:34:00\n",
      "freq                     52                   52\n",
      "first   2015-04-15 00:00:00  2015-04-15 00:06:00\n",
      "last    2015-04-30 23:59:00  2015-05-01 00:29:00\n",
      "--------------------------------------------------\n",
      "feather-data/montreal_2015-05.feather\n",
      "            trip_start_time       trip_stop_time\n",
      "count                545678               545678\n",
      "unique                40836                40845\n",
      "top     2015-05-07 17:08:00  2015-05-29 17:48:00\n",
      "freq                     67                   69\n",
      "first   2015-05-01 00:00:00  2015-05-01 00:04:00\n",
      "last    2015-05-31 23:59:00  2015-06-01 00:40:00\n",
      "--------------------------------------------------\n",
      "feather-data/montreal_2015-06.feather\n",
      "            trip_start_time       trip_stop_time\n",
      "count                547238               547238\n",
      "unique                39958                39996\n",
      "top     2015-06-25 17:10:00  2015-06-29 17:31:00\n",
      "freq                     71                   66\n",
      "first   2015-06-01 00:01:00  2015-06-01 00:03:00\n",
      "last    2015-06-30 23:59:00  2015-07-01 00:31:00\n",
      "--------------------------------------------------\n",
      "feather-data/montreal_2015-07.feather\n",
      "            trip_start_time       trip_stop_time\n",
      "count                620865               620865\n",
      "unique                41742                41822\n",
      "top     2015-07-15 17:04:00  2015-07-16 17:30:00\n",
      "freq                     68                   70\n",
      "first   2015-07-01 00:00:00  2015-07-01 00:03:00\n",
      "last    2015-07-31 23:59:00  2015-08-01 01:35:00\n",
      "--------------------------------------------------\n",
      "feather-data/montreal_2015-08.feather\n",
      "            trip_start_time       trip_stop_time\n",
      "count                597505               597505\n",
      "unique                41527                41589\n",
      "top     2015-08-25 17:05:00  2015-08-06 17:42:00\n",
      "freq                     73                   67\n",
      "first   2015-08-01 00:00:00  2015-08-01 00:02:00\n",
      "last    2015-08-31 23:59:00  2015-09-01 00:53:00\n",
      "--------------------------------------------------\n",
      "feather-data/montreal_2015-09.feather\n",
      "            trip_start_time       trip_stop_time\n",
      "count                523322               523322\n",
      "unique                39378                39460\n",
      "top     2015-09-02 17:11:00  2015-09-18 08:57:00\n",
      "freq                     67                   66\n",
      "first   2015-09-01 00:00:00  2015-09-01 00:02:00\n",
      "last    2015-09-30 23:59:00  2015-10-01 00:33:00\n",
      "--------------------------------------------------\n",
      "feather-data/montreal_2015-10.feather\n",
      "            trip_start_time       trip_stop_time\n",
      "count                332597               332597\n",
      "unique                38771                38777\n",
      "top     2015-10-08 17:10:00  2015-10-05 17:23:00\n",
      "freq                     52                   52\n",
      "first   2015-10-01 00:00:00  2015-10-01 00:05:00\n",
      "last    2015-10-31 23:59:00  2015-11-01 00:56:00\n",
      "--------------------------------------------------\n",
      "feather-data/montreal_2015-11.feather\n",
      "            trip_start_time       trip_stop_time\n",
      "count                126407               126407\n",
      "unique                18130                18171\n",
      "top     2015-11-05 17:36:00  2015-11-02 17:38:00\n",
      "freq                     42                   43\n",
      "first   2015-11-01 00:00:00  2015-11-01 00:05:00\n",
      "last    2015-11-15 23:58:00  2015-11-16 00:35:00\n",
      "--------------------------------------------------\n",
      "feather-data/montreal_2016-04.feather\n",
      "            trip_start_time       trip_stop_time\n",
      "count                194514               194514\n",
      "unique                19806                19842\n",
      "top     2016-04-21 17:12:00  2016-04-21 17:19:00\n",
      "freq                     54                   51\n",
      "first   2016-04-15 00:00:00  2016-04-15 00:05:00\n",
      "last    2016-04-30 23:59:00  2016-05-01 00:54:00\n",
      "--------------------------------------------------\n",
      "feather-data/montreal_2016-05.feather\n",
      "            trip_start_time       trip_stop_time\n",
      "count                573739               573739\n",
      "unique                40614                40609\n",
      "top     2016-05-29 17:09:00  2016-05-29 15:47:00\n",
      "freq                     76                   88\n",
      "first   2016-05-01 00:00:00  2016-05-01 00:03:00\n",
      "last    2016-05-31 23:59:00  2016-06-01 01:17:00\n",
      "--------------------------------------------------\n",
      "feather-data/montreal_2016-06.feather\n",
      "            trip_start_time       trip_stop_time\n",
      "count                645448               645448\n",
      "unique                40640                40643\n",
      "top     2016-06-16 17:08:00  2016-06-14 17:38:00\n",
      "freq                     78                   76\n",
      "first   2016-06-01 00:00:00  2016-06-01 00:05:00\n",
      "last    2016-06-30 23:59:00  2016-07-01 01:03:00\n",
      "--------------------------------------------------\n",
      "feather-data/montreal_2016-07.feather\n",
      "            trip_start_time       trip_stop_time\n",
      "count                716335               716335\n",
      "unique                42394                42421\n",
      "top     2016-07-05 17:10:00  2016-07-06 17:51:00\n",
      "freq                     84                   78\n",
      "first   2016-07-01 00:00:00  2016-07-01 00:02:00\n",
      "last    2016-07-31 23:59:00  2016-08-01 00:57:00\n",
      "--------------------------------------------------\n",
      "feather-data/montreal_2016-08.feather\n",
      "            trip_start_time       trip_stop_time\n",
      "count                688174               688174\n",
      "unique                42169                42189\n",
      "top     2016-08-09 17:28:00  2016-08-02 17:29:00\n",
      "freq                     79                   82\n",
      "first   2016-08-01 00:00:00  2016-08-01 00:04:00\n",
      "last    2016-08-31 23:59:00  2016-09-01 00:46:00\n",
      "--------------------------------------------------\n",
      "feather-data/montreal_2016-09.feather\n",
      "            trip_start_time       trip_stop_time\n",
      "count                632218               632218\n",
      "unique                40144                40152\n",
      "top     2016-09-27 17:09:00  2016-09-07 17:35:00\n",
      "freq                     74                   85\n",
      "first   2016-09-01 00:00:00  2016-09-01 00:05:00\n",
      "last    2016-09-30 23:59:00  2016-10-01 01:14:00\n",
      "--------------------------------------------------\n",
      "feather-data/montreal_2016-10.feather\n",
      "            trip_start_time       trip_stop_time\n",
      "count                397707               397707\n",
      "unique                39312                39209\n",
      "top     2016-10-04 17:06:00  2016-10-04 17:55:00\n",
      "freq                     66                   63\n",
      "first   2016-10-01 00:00:00  2016-10-01 00:04:00\n",
      "last    2016-10-31 23:59:00  2016-11-01 00:34:00\n",
      "--------------------------------------------------\n",
      "feather-data/montreal_2016-11.feather\n",
      "            trip_start_time       trip_stop_time\n",
      "count                151945               151945\n",
      "unique                18601                18656\n",
      "top     2016-11-02 17:22:00  2016-11-02 17:24:00\n",
      "freq                     45                   49\n",
      "first   2016-11-01 00:00:00  2016-11-01 00:07:00\n",
      "last    2016-11-15 23:58:00  2016-11-16 00:41:00\n",
      "--------------------------------------------------\n",
      "feather-data/montreal_2017-04.feather\n",
      "            trip_start_time       trip_stop_time\n",
      "count                196327               196327\n",
      "unique                20035                19983\n",
      "top     2017-04-27 17:13:00  2017-04-27 17:28:00\n",
      "freq                     65                   66\n",
      "first   2017-04-15 00:00:00  2017-04-15 00:04:00\n",
      "last    2017-04-30 23:59:00  2017-05-01 00:37:00\n",
      "--------------------------------------------------\n",
      "feather-data/montreal_2017-05.feather\n",
      "            trip_start_time       trip_stop_time\n",
      "count                589852               589852\n",
      "unique                40768                40815\n",
      "top     2017-05-28 16:30:00  2017-05-23 17:23:00\n",
      "freq                     95                   94\n",
      "first   2017-05-01 00:02:00  2017-05-01 00:04:00\n",
      "last    2017-05-31 23:59:00  2017-06-01 00:56:00\n",
      "--------------------------------------------------\n",
      "feather-data/montreal_2017-06.feather\n",
      "            trip_start_time       trip_stop_time\n",
      "count                748078               748078\n",
      "unique                40941                40997\n",
      "top     2017-06-07 17:19:00  2017-06-07 17:33:00\n",
      "freq                     87                   88\n",
      "first   2017-06-01 00:00:00  2017-06-01 00:03:00\n",
      "last    2017-06-30 23:59:00  2017-07-01 00:48:00\n",
      "--------------------------------------------------\n",
      "feather-data/montreal_2017-07.feather\n",
      "            trip_start_time       trip_stop_time\n",
      "count                877338               877338\n",
      "unique                42829                42871\n",
      "top     2017-07-18 17:10:00  2017-07-06 17:34:00\n",
      "freq                     95                   90\n",
      "first   2017-07-01 00:00:00  2017-07-01 00:02:00\n",
      "last    2017-07-31 23:59:00  2017-08-01 00:41:00\n",
      "--------------------------------------------------\n",
      "feather-data/montreal_2017-08.feather\n",
      "            trip_start_time       trip_stop_time\n",
      "count                859471               859471\n",
      "unique                42574                42627\n",
      "top     2017-08-08 17:10:00  2017-08-02 17:34:00\n",
      "freq                     93                   93\n",
      "first   2017-08-01 00:00:00  2017-08-01 00:04:00\n",
      "last    2017-08-31 23:59:00  2017-09-01 00:37:00\n",
      "--------------------------------------------------\n",
      "feather-data/montreal_2017-09.feather\n",
      "            trip_start_time       trip_stop_time\n",
      "count                747633               747633\n",
      "unique                40513                40600\n",
      "top     2017-09-26 17:20:00  2017-09-27 17:36:00\n",
      "freq                     83                   94\n",
      "first   2017-09-01 00:00:00  2017-09-01 00:04:00\n",
      "last    2017-09-30 23:59:00  2017-10-01 00:55:00\n",
      "--------------------------------------------------\n",
      "feather-data/montreal_2017-10.feather\n",
      "            trip_start_time       trip_stop_time\n",
      "count                569930               569930\n",
      "unique                40915                40931\n",
      "top     2017-10-04 08:24:00  2017-10-03 17:35:00\n",
      "freq                     76                   82\n",
      "first   2017-10-01 00:00:00  2017-10-01 00:05:00\n",
      "last    2017-10-31 23:59:00  2017-11-01 00:31:00\n",
      "--------------------------------------------------\n",
      "feather-data/montreal_2017-11.feather\n",
      "            trip_start_time       trip_stop_time\n",
      "count                151728               151728\n",
      "unique                18549                18592\n",
      "top     2017-11-01 17:43:00  2017-11-01 17:56:00\n",
      "freq                     44                   53\n",
      "first   2017-11-01 00:00:00  2017-11-01 00:07:00\n",
      "last    2017-11-15 23:59:00  2017-11-16 00:45:00\n",
      "--------------------------------------------------\n",
      "feather-data/montreal_2018-04.feather\n",
      "            trip_start_time       trip_stop_time\n",
      "count                236982               236982\n",
      "unique                25093                25113\n",
      "top     2018-04-24 17:30:00  2018-04-24 17:26:00\n",
      "freq                     71                   71\n",
      "first   2018-04-10 11:56:00  2018-04-10 11:57:00\n",
      "last    2018-04-30 23:59:00  2018-05-01 00:23:00\n",
      "--------------------------------------------------\n",
      "feather-data/montreal_2018-05.feather\n",
      "            trip_start_time       trip_stop_time\n",
      "count                811910               811910\n",
      "unique                41827                41863\n",
      "top     2018-05-30 17:08:00  2018-05-30 17:51:00\n",
      "freq                     99                   99\n",
      "first   2018-05-01 00:00:00  2018-05-01 00:04:00\n",
      "last    2018-05-31 23:59:00  2018-06-01 01:06:00\n",
      "--------------------------------------------------\n",
      "feather-data/montreal_2018-06.feather\n",
      "            trip_start_time       trip_stop_time\n",
      "count                888470               888470\n",
      "unique                41267                41240\n",
      "top     2018-06-12 17:09:00  2018-06-21 17:54:00\n",
      "freq                    104                   95\n",
      "first   2018-06-01 00:00:00  2018-06-01 00:03:00\n",
      "last    2018-06-30 23:59:00  2018-07-01 00:28:00\n",
      "--------------------------------------------------\n",
      "feather-data/montreal_2018-07.feather\n",
      "            trip_start_time       trip_stop_time\n",
      "count                953031               953031\n",
      "unique                43097                43123\n",
      "top     2018-07-17 17:10:00  2018-07-19 17:33:00\n",
      "freq                    103                   99\n",
      "first   2018-07-01 00:00:00  2018-07-01 00:03:00\n",
      "last    2018-07-31 23:59:00  2018-08-01 00:41:00\n",
      "--------------------------------------------------\n",
      "feather-data/montreal_2018-08.feather\n",
      "            trip_start_time       trip_stop_time\n",
      "count                956790               956790\n",
      "unique                43112                43172\n",
      "top     2018-08-14 17:08:00  2018-08-16 17:33:00\n",
      "freq                    106                  100\n",
      "first   2018-08-01 00:00:00  2018-08-01 00:03:00\n",
      "last    2018-08-31 23:59:00  2018-09-01 00:53:00\n",
      "--------------------------------------------------\n",
      "feather-data/montreal_2018-09.feather\n",
      "            trip_start_time       trip_stop_time\n",
      "count                797520               797520\n",
      "unique                41001                41037\n",
      "top     2018-09-04 17:09:00  2018-09-06 17:39:00\n",
      "freq                    105                  101\n",
      "first   2018-09-01 00:00:00  2018-09-01 00:01:00\n",
      "last    2018-09-30 23:59:00  2018-10-01 00:39:00\n",
      "--------------------------------------------------\n",
      "feather-data/montreal_2018-10.feather\n",
      "            trip_start_time       trip_stop_time\n",
      "count                488490               488490\n",
      "unique                40583                40568\n",
      "top     2018-10-09 17:06:00  2018-10-09 17:21:00\n",
      "freq                     78                   77\n",
      "first   2018-10-01 00:00:00  2018-10-01 00:03:00\n",
      "last    2018-10-31 23:59:00  2018-11-01 00:52:00\n",
      "--------------------------------------------------\n",
      "feather-data/montreal_2018-11.feather\n",
      "            trip_start_time       trip_stop_time\n",
      "count                144348               144348\n",
      "unique                18414                18423\n",
      "top     2018-11-01 17:20:00  2018-11-08 08:53:00\n",
      "freq                     47                   50\n",
      "first   2018-11-01 00:00:00  2018-11-01 00:05:00\n",
      "last    2018-11-15 23:57:00  2018-11-16 00:26:00\n",
      "--------------------------------------------------\n"
     ]
    }
   ],
   "source": [
    "check_dates(mtl_files[:-6])"
   ]
  },
  {
   "cell_type": "code",
   "execution_count": 547,
   "metadata": {},
   "outputs": [
    {
     "data": {
      "text/html": [
       "<div>\n",
       "<style scoped>\n",
       "    .dataframe tbody tr th:only-of-type {\n",
       "        vertical-align: middle;\n",
       "    }\n",
       "\n",
       "    .dataframe tbody tr th {\n",
       "        vertical-align: top;\n",
       "    }\n",
       "\n",
       "    .dataframe thead th {\n",
       "        text-align: right;\n",
       "    }\n",
       "</style>\n",
       "<table border=\"1\" class=\"dataframe\">\n",
       "  <thead>\n",
       "    <tr style=\"text-align: right;\">\n",
       "      <th></th>\n",
       "      <th>trip_start_time</th>\n",
       "      <th>trip_stop_time</th>\n",
       "    </tr>\n",
       "  </thead>\n",
       "  <tbody>\n",
       "    <tr>\n",
       "      <th>count</th>\n",
       "      <td>573538</td>\n",
       "      <td>573538</td>\n",
       "    </tr>\n",
       "    <tr>\n",
       "      <th>unique</th>\n",
       "      <td>8476</td>\n",
       "      <td>8474</td>\n",
       "    </tr>\n",
       "    <tr>\n",
       "      <th>top</th>\n",
       "      <td>2017-07-01 15:00:00</td>\n",
       "      <td>2017-07-05 18:00:00</td>\n",
       "    </tr>\n",
       "    <tr>\n",
       "      <th>freq</th>\n",
       "      <td>402</td>\n",
       "      <td>395</td>\n",
       "    </tr>\n",
       "    <tr>\n",
       "      <th>first</th>\n",
       "      <td>2017-01-01 00:00:00</td>\n",
       "      <td>2017-01-01 01:00:00</td>\n",
       "    </tr>\n",
       "    <tr>\n",
       "      <th>last</th>\n",
       "      <td>2018-01-01 00:00:00</td>\n",
       "      <td>2018-01-03 09:00:00</td>\n",
       "    </tr>\n",
       "  </tbody>\n",
       "</table>\n",
       "</div>"
      ],
      "text/plain": [
       "            trip_start_time       trip_stop_time\n",
       "count                573538               573538\n",
       "unique                 8476                 8474\n",
       "top     2017-07-01 15:00:00  2017-07-05 18:00:00\n",
       "freq                    402                  395\n",
       "first   2017-01-01 00:00:00  2017-01-01 01:00:00\n",
       "last    2018-01-01 00:00:00  2018-01-03 09:00:00"
      ]
     },
     "execution_count": 547,
     "metadata": {},
     "output_type": "execute_result"
    }
   ],
   "source": [
    "#df = feather.read_feather('feather-data/vancouver_2017.feather')\n",
    "df[['trip_start_time', 'trip_stop_time']].describe()"
   ]
  },
  {
   "cell_type": "code",
   "execution_count": 553,
   "metadata": {},
   "outputs": [
    {
     "data": {
      "text/plain": [
       "trip_start_time          datetime64[ns]\n",
       "start_station_code               object\n",
       "trip_stop_time           datetime64[ns]\n",
       "end_station_code                 object\n",
       "trip_duration_seconds             int64\n",
       "membership_type                  object\n",
       "city                             object\n",
       "dtype: object"
      ]
     },
     "execution_count": 553,
     "metadata": {},
     "output_type": "execute_result"
    }
   ],
   "source": [
    "df = feather.read_feather('feather-data/vancouver_2018-12.feather')\n",
    "df['trip_start_time'] = pd.to_datetime(df.trip_start_time)\n",
    "df['trip_stop_time'] = pd.to_datetime(df.trip_stop_time)\n",
    "feather.write_feather(df, 'feather-data/vancouver_2018-12.feather')\n",
    "df.dtypes"
   ]
  },
  {
   "cell_type": "code",
   "execution_count": 555,
   "metadata": {},
   "outputs": [
    {
     "data": {
      "text/plain": [
       "trip_start_time                         datetime64[ns]\n",
       "trip_stop_time                          datetime64[ns]\n",
       "account_id                                      object\n",
       "bike_id                                          int64\n",
       "start_station                                   object\n",
       "end_station                                     object\n",
       "membership_type                                 object\n",
       "covered_distance_meters                        float64\n",
       "trip_duration_seconds                            int64\n",
       "departure_battery_voltage_millivolts             int64\n",
       "return_battery_voltage_millivolts                int64\n",
       "departure_temperature_celsius                    int64\n",
       "return_temperature_celsius                       int64\n",
       "stopover_duration_seconds                        int64\n",
       "number_of_stopovers                              int64\n",
       "city                                            object\n",
       "start_station_code                              object\n",
       "end_station_code                                object\n",
       "dtype: object"
      ]
     },
     "execution_count": 555,
     "metadata": {},
     "output_type": "execute_result"
    }
   ],
   "source": [
    "df = feather.read_feather('feather-data/vancouver_2018-12_xtr.feather')\n",
    "df['trip_start_time'] = pd.to_datetime(df.trip_start_time)\n",
    "df['trip_stop_time'] = pd.to_datetime(df.trip_stop_time)\n",
    "feather.write_feather(df, 'feather-data/vancouver_2018-12_xtr.feather')\n",
    "df.dtypes"
   ]
  },
  {
   "cell_type": "code",
   "execution_count": 556,
   "metadata": {},
   "outputs": [
    {
     "data": {
      "text/plain": [
       "trip_start_time          datetime64[ns]\n",
       "start_station_code               object\n",
       "trip_stop_time           datetime64[ns]\n",
       "end_station_code                 object\n",
       "trip_duration_seconds             int64\n",
       "membership_type                  object\n",
       "city                             object\n",
       "dtype: object"
      ]
     },
     "execution_count": 556,
     "metadata": {},
     "output_type": "execute_result"
    }
   ],
   "source": [
    "df = feather.read_feather('feather-data/vancouver_2019-01.feather')\n",
    "df['trip_start_time'] = pd.to_datetime(df.trip_start_time)\n",
    "df['trip_stop_time'] = pd.to_datetime(df.trip_stop_time)\n",
    "feather.write_feather(df, 'feather-data/vancouver_2019-01.feather')\n",
    "df.dtypes"
   ]
  },
  {
   "cell_type": "code",
   "execution_count": 557,
   "metadata": {},
   "outputs": [
    {
     "data": {
      "text/plain": [
       "trip_start_time                         datetime64[ns]\n",
       "trip_stop_time                          datetime64[ns]\n",
       "account_id                                      object\n",
       "bike_id                                        float64\n",
       "start_station                                   object\n",
       "end_station                                     object\n",
       "membership_type                                 object\n",
       "covered_distance_meters                        float64\n",
       "trip_duration_seconds                            int64\n",
       "departure_battery_voltage_millivolts             int64\n",
       "return_battery_voltage_millivolts                int64\n",
       "departure_temperature_celsius                    int64\n",
       "return_temperature_celsius                       int64\n",
       "stopover_duration_seconds                        int64\n",
       "number_of_stopovers                              int64\n",
       "city                                            object\n",
       "start_station_code                              object\n",
       "end_station_code                                object\n",
       "dtype: object"
      ]
     },
     "execution_count": 557,
     "metadata": {},
     "output_type": "execute_result"
    }
   ],
   "source": [
    "df = feather.read_feather('feather-data/vancouver_2019-01_xtr.feather')\n",
    "df['trip_start_time'] = pd.to_datetime(df.trip_start_time)\n",
    "df['trip_stop_time'] = pd.to_datetime(df.trip_stop_time)\n",
    "feather.write_feather(df, 'feather-data/vancouver_2019-01_xtr.feather')\n",
    "df.dtypes"
   ]
  },
  {
   "cell_type": "code",
   "execution_count": 558,
   "metadata": {},
   "outputs": [
    {
     "name": "stdout",
     "output_type": "stream",
     "text": [
      "trip_start_time          datetime64[ns]\n",
      "start_station_code               object\n",
      "trip_stop_time           datetime64[ns]\n",
      "end_station_code                 object\n",
      "trip_duration_seconds             int64\n",
      "membership_type                  object\n",
      "city                             object\n",
      "dtype: object\n",
      "trip_start_time                         datetime64[ns]\n",
      "trip_stop_time                          datetime64[ns]\n",
      "account_id                                      object\n",
      "bike_id                                        float64\n",
      "start_station                                   object\n",
      "end_station                                     object\n",
      "membership_type                                 object\n",
      "covered_distance_meters                        float64\n",
      "trip_duration_seconds                            int64\n",
      "departure_battery_voltage_millivolts             int64\n",
      "return_battery_voltage_millivolts                int64\n",
      "departure_temperature_celsius                    int64\n",
      "return_temperature_celsius                       int64\n",
      "stopover_duration_seconds                        int64\n",
      "number_of_stopovers                              int64\n",
      "city                                            object\n",
      "start_station_code                              object\n",
      "end_station_code                                object\n",
      "dtype: object\n"
     ]
    }
   ],
   "source": [
    "df = feather.read_feather('feather-data/vancouver_2019-02.feather')\n",
    "df['trip_start_time'] = pd.to_datetime(df.trip_start_time)\n",
    "df['trip_stop_time'] = pd.to_datetime(df.trip_stop_time)\n",
    "feather.write_feather(df, 'feather-data/vancouver_2019-02.feather')\n",
    "print(df.dtypes)\n",
    "\n",
    "df = feather.read_feather('feather-data/vancouver_2019-02_xtr.feather')\n",
    "df['trip_start_time'] = pd.to_datetime(df.trip_start_time)\n",
    "df['trip_stop_time'] = pd.to_datetime(df.trip_stop_time)\n",
    "feather.write_feather(df, 'feather-data/vancouver_2019-02_xtr.feather')\n",
    "print(df.dtypes)"
   ]
  },
  {
   "cell_type": "code",
   "execution_count": 559,
   "metadata": {},
   "outputs": [
    {
     "name": "stdout",
     "output_type": "stream",
     "text": [
      "trip_start_time          datetime64[ns]\n",
      "start_station_code               object\n",
      "trip_stop_time           datetime64[ns]\n",
      "end_station_code                 object\n",
      "trip_duration_seconds             int64\n",
      "membership_type                  object\n",
      "city                             object\n",
      "dtype: object\n",
      "trip_start_time                         datetime64[ns]\n",
      "trip_stop_time                          datetime64[ns]\n",
      "account_id                                      object\n",
      "bike_id                                        float64\n",
      "start_station                                   object\n",
      "end_station                                     object\n",
      "membership_type                                 object\n",
      "covered_distance_meters                        float64\n",
      "trip_duration_seconds                            int64\n",
      "departure_battery_voltage_millivolts             int64\n",
      "return_battery_voltage_millivolts                int64\n",
      "departure_temperature_celsius                    int64\n",
      "return_temperature_celsius                       int64\n",
      "stopover_duration_seconds                        int64\n",
      "number_of_stopovers                              int64\n",
      "city                                            object\n",
      "start_station_code                              object\n",
      "end_station_code                                object\n",
      "dtype: object\n"
     ]
    }
   ],
   "source": [
    "df = feather.read_feather('feather-data/vancouver_2019-03.feather')\n",
    "df['trip_start_time'] = pd.to_datetime(df.trip_start_time)\n",
    "df['trip_stop_time'] = pd.to_datetime(df.trip_stop_time)\n",
    "feather.write_feather(df, 'feather-data/vancouver_2019-03.feather')\n",
    "print(df.dtypes)\n",
    "\n",
    "df = feather.read_feather('feather-data/vancouver_2019-03_xtr.feather')\n",
    "df['trip_start_time'] = pd.to_datetime(df.trip_start_time)\n",
    "df['trip_stop_time'] = pd.to_datetime(df.trip_stop_time)\n",
    "feather.write_feather(df, 'feather-data/vancouver_2019-03_xtr.feather')\n",
    "print(df.dtypes)"
   ]
  },
  {
   "cell_type": "code",
   "execution_count": 560,
   "metadata": {},
   "outputs": [
    {
     "name": "stdout",
     "output_type": "stream",
     "text": [
      "feather-data/vancouver_2018-09.feather\n",
      "            trip_start_time       trip_stop_time\n",
      "count                 77451                77451\n",
      "unique                  715                  715\n",
      "top     2018-09-17 17:00:00  2018-09-17 17:00:00\n",
      "freq                    408                  409\n",
      "first   2018-09-01 00:00:00  2018-09-01 00:00:00\n",
      "last    2018-10-01 00:00:00  2018-10-01 13:00:00\n",
      "--------------------------------------------------\n",
      "feather-data/vancouver_2018-10.feather\n",
      "            trip_start_time       trip_stop_time\n",
      "count                 65219                65219\n",
      "unique                  736                  742\n",
      "top     2018-10-15 17:00:00  2018-10-15 18:00:00\n",
      "freq                    387                  363\n",
      "first   2018-10-01 00:00:00  2018-10-01 01:00:00\n",
      "last    2018-11-01 00:00:00  2018-11-04 10:00:00\n",
      "--------------------------------------------------\n",
      "feather-data/vancouver_2018-11.feather\n",
      "            trip_start_time       trip_stop_time\n",
      "count                 39230                39230\n",
      "unique                  705                  713\n",
      "top     2018-11-02 17:00:00  2018-11-02 17:00:00\n",
      "freq                    249                  253\n",
      "first   2018-11-01 00:00:00  2018-11-01 00:00:00\n",
      "last    2018-12-01 00:00:00  2018-12-01 13:00:00\n",
      "--------------------------------------------------\n",
      "feather-data/vancouver_2018-12.feather\n",
      "            trip_start_time       trip_stop_time\n",
      "count                 27563                27563\n",
      "unique                  730                  742\n",
      "top     2018-12-31 13:00:00  2018-12-31 15:00:00\n",
      "freq                    215                  202\n",
      "first   2018-12-01 00:00:00  2018-12-01 00:00:00\n",
      "last    2019-01-01 00:00:00  2019-01-02 17:00:00\n",
      "--------------------------------------------------\n",
      "feather-data/vancouver_2019-01.feather\n",
      "            trip_start_time       trip_stop_time\n",
      "count                 36725                36725\n",
      "unique                  719                  722\n",
      "top     2019-01-13 15:00:00  2019-01-13 15:00:00\n",
      "freq                    234                  217\n",
      "first   2019-01-01 00:00:00  2019-01-01 00:00:00\n",
      "last    2019-02-01 00:00:00  2019-02-01 10:00:00\n",
      "--------------------------------------------------\n",
      "feather-data/vancouver_2019-02.feather\n",
      "            trip_start_time       trip_stop_time\n",
      "count                 26095                26095\n",
      "unique                  636                  640\n",
      "top     2019-02-20 17:00:00  2019-02-28 18:00:00\n",
      "freq                    184                  199\n",
      "first   2019-02-01 00:00:00  2019-02-01 00:00:00\n",
      "last    2019-03-01 00:00:00  2019-03-01 19:00:00\n",
      "--------------------------------------------------\n",
      "feather-data/vancouver_2019-03.feather\n",
      "            trip_start_time       trip_stop_time\n",
      "count                 57442                57442\n",
      "unique                  730                  736\n",
      "top     2019-03-19 18:00:00  2019-03-19 18:00:00\n",
      "freq                    348                  342\n",
      "first   2019-03-01 00:00:00  2019-03-01 00:00:00\n",
      "last    2019-04-01 00:00:00  2019-04-01 15:00:00\n",
      "--------------------------------------------------\n"
     ]
    }
   ],
   "source": [
    "check_dates(van_files[10:])"
   ]
  },
  {
   "cell_type": "code",
   "execution_count": 561,
   "metadata": {},
   "outputs": [],
   "source": [
    "# remove trips from april in vancouver_2019-03.feather"
   ]
  },
  {
   "cell_type": "code",
   "execution_count": 565,
   "metadata": {},
   "outputs": [
    {
     "data": {
      "text/html": [
       "<div>\n",
       "<style scoped>\n",
       "    .dataframe tbody tr th:only-of-type {\n",
       "        vertical-align: middle;\n",
       "    }\n",
       "\n",
       "    .dataframe tbody tr th {\n",
       "        vertical-align: top;\n",
       "    }\n",
       "\n",
       "    .dataframe thead th {\n",
       "        text-align: right;\n",
       "    }\n",
       "</style>\n",
       "<table border=\"1\" class=\"dataframe\">\n",
       "  <thead>\n",
       "    <tr style=\"text-align: right;\">\n",
       "      <th></th>\n",
       "      <th>trip_start_time</th>\n",
       "      <th>start_station_code</th>\n",
       "      <th>trip_stop_time</th>\n",
       "      <th>end_station_code</th>\n",
       "      <th>trip_duration_seconds</th>\n",
       "      <th>membership_type</th>\n",
       "      <th>city</th>\n",
       "    </tr>\n",
       "  </thead>\n",
       "  <tbody>\n",
       "    <tr>\n",
       "      <th>57435</th>\n",
       "      <td>2019-04-01</td>\n",
       "      <td>0123</td>\n",
       "      <td>2019-04-01 00:00:00</td>\n",
       "      <td>0044</td>\n",
       "      <td>691</td>\n",
       "      <td>1</td>\n",
       "      <td>van</td>\n",
       "    </tr>\n",
       "    <tr>\n",
       "      <th>57436</th>\n",
       "      <td>2019-04-01</td>\n",
       "      <td>0076</td>\n",
       "      <td>2019-04-01 00:00:00</td>\n",
       "      <td>0005</td>\n",
       "      <td>1363</td>\n",
       "      <td>1</td>\n",
       "      <td>van</td>\n",
       "    </tr>\n",
       "    <tr>\n",
       "      <th>57437</th>\n",
       "      <td>2019-04-01</td>\n",
       "      <td>0119</td>\n",
       "      <td>2019-04-01 00:00:00</td>\n",
       "      <td>0150</td>\n",
       "      <td>676</td>\n",
       "      <td>1</td>\n",
       "      <td>van</td>\n",
       "    </tr>\n",
       "    <tr>\n",
       "      <th>57438</th>\n",
       "      <td>2019-04-01</td>\n",
       "      <td>0050</td>\n",
       "      <td>2019-04-01 01:00:00</td>\n",
       "      <td>0096</td>\n",
       "      <td>2908</td>\n",
       "      <td>1</td>\n",
       "      <td>van</td>\n",
       "    </tr>\n",
       "    <tr>\n",
       "      <th>57439</th>\n",
       "      <td>2019-04-01</td>\n",
       "      <td>0096</td>\n",
       "      <td>2019-04-01 01:00:00</td>\n",
       "      <td>0088</td>\n",
       "      <td>2209</td>\n",
       "      <td>1</td>\n",
       "      <td>van</td>\n",
       "    </tr>\n",
       "    <tr>\n",
       "      <th>57440</th>\n",
       "      <td>2019-04-01</td>\n",
       "      <td>0002</td>\n",
       "      <td>2019-04-01 00:00:00</td>\n",
       "      <td>0237</td>\n",
       "      <td>1325</td>\n",
       "      <td>1</td>\n",
       "      <td>van</td>\n",
       "    </tr>\n",
       "    <tr>\n",
       "      <th>57441</th>\n",
       "      <td>2019-04-01</td>\n",
       "      <td>0119</td>\n",
       "      <td>2019-04-01 00:00:00</td>\n",
       "      <td>0108</td>\n",
       "      <td>1195</td>\n",
       "      <td>1</td>\n",
       "      <td>van</td>\n",
       "    </tr>\n",
       "  </tbody>\n",
       "</table>\n",
       "</div>"
      ],
      "text/plain": [
       "      trip_start_time start_station_code      trip_stop_time end_station_code  \\\n",
       "57435      2019-04-01               0123 2019-04-01 00:00:00             0044   \n",
       "57436      2019-04-01               0076 2019-04-01 00:00:00             0005   \n",
       "57437      2019-04-01               0119 2019-04-01 00:00:00             0150   \n",
       "57438      2019-04-01               0050 2019-04-01 01:00:00             0096   \n",
       "57439      2019-04-01               0096 2019-04-01 01:00:00             0088   \n",
       "57440      2019-04-01               0002 2019-04-01 00:00:00             0237   \n",
       "57441      2019-04-01               0119 2019-04-01 00:00:00             0108   \n",
       "\n",
       "       trip_duration_seconds membership_type city  \n",
       "57435                    691               1  van  \n",
       "57436                   1363               1  van  \n",
       "57437                    676               1  van  \n",
       "57438                   2908               1  van  \n",
       "57439                   2209               1  van  \n",
       "57440                   1325               1  van  \n",
       "57441                   1195               1  van  "
      ]
     },
     "execution_count": 565,
     "metadata": {},
     "output_type": "execute_result"
    }
   ],
   "source": [
    "df = feather.read_feather('feather-data/vancouver_2019-03.feather')\n",
    "df[df['trip_start_time'].dt.month > 3]"
   ]
  },
  {
   "cell_type": "code",
   "execution_count": 568,
   "metadata": {},
   "outputs": [],
   "source": [
    "df = df[df['trip_start_time'].dt.month < 4]\n",
    "feather.write_feather(df, 'feather-data/vancouver_2019-03.feather')"
   ]
  },
  {
   "cell_type": "code",
   "execution_count": 569,
   "metadata": {},
   "outputs": [
    {
     "data": {
      "text/html": [
       "<div>\n",
       "<style scoped>\n",
       "    .dataframe tbody tr th:only-of-type {\n",
       "        vertical-align: middle;\n",
       "    }\n",
       "\n",
       "    .dataframe tbody tr th {\n",
       "        vertical-align: top;\n",
       "    }\n",
       "\n",
       "    .dataframe thead th {\n",
       "        text-align: right;\n",
       "    }\n",
       "</style>\n",
       "<table border=\"1\" class=\"dataframe\">\n",
       "  <thead>\n",
       "    <tr style=\"text-align: right;\">\n",
       "      <th></th>\n",
       "      <th>trip_start_time</th>\n",
       "      <th>start_station_code</th>\n",
       "      <th>trip_stop_time</th>\n",
       "      <th>end_station_code</th>\n",
       "      <th>trip_duration_seconds</th>\n",
       "      <th>membership_type</th>\n",
       "      <th>city</th>\n",
       "    </tr>\n",
       "  </thead>\n",
       "  <tbody>\n",
       "  </tbody>\n",
       "</table>\n",
       "</div>"
      ],
      "text/plain": [
       "Empty DataFrame\n",
       "Columns: [trip_start_time, start_station_code, trip_stop_time, end_station_code, trip_duration_seconds, membership_type, city]\n",
       "Index: []"
      ]
     },
     "execution_count": 569,
     "metadata": {},
     "output_type": "execute_result"
    }
   ],
   "source": [
    "df[df['trip_start_time'].dt.month > 3]"
   ]
  },
  {
   "cell_type": "code",
   "execution_count": 570,
   "metadata": {},
   "outputs": [],
   "source": [
    "df = feather.read_feather('feather-data/vancouver_2019-03_xtr.feather')\n",
    "df = df[df['trip_start_time'].dt.month < 4]\n",
    "feather.write_feather(df, 'feather-data/vancouver_2019-03_xtr.feather')"
   ]
  },
  {
   "cell_type": "code",
   "execution_count": 571,
   "metadata": {},
   "outputs": [
    {
     "data": {
      "text/html": [
       "<div>\n",
       "<style scoped>\n",
       "    .dataframe tbody tr th:only-of-type {\n",
       "        vertical-align: middle;\n",
       "    }\n",
       "\n",
       "    .dataframe tbody tr th {\n",
       "        vertical-align: top;\n",
       "    }\n",
       "\n",
       "    .dataframe thead th {\n",
       "        text-align: right;\n",
       "    }\n",
       "</style>\n",
       "<table border=\"1\" class=\"dataframe\">\n",
       "  <thead>\n",
       "    <tr style=\"text-align: right;\">\n",
       "      <th></th>\n",
       "      <th>trip_start_time</th>\n",
       "      <th>start_station_code</th>\n",
       "      <th>trip_stop_time</th>\n",
       "      <th>end_station_code</th>\n",
       "      <th>trip_duration_seconds</th>\n",
       "      <th>membership_type</th>\n",
       "      <th>city</th>\n",
       "    </tr>\n",
       "  </thead>\n",
       "  <tbody>\n",
       "    <tr>\n",
       "      <th>0</th>\n",
       "      <td>2016-07-09 01:03:00</td>\n",
       "      <td>7104</td>\n",
       "      <td>2016-07-09 01:15:00</td>\n",
       "      <td>7264</td>\n",
       "      <td>714</td>\n",
       "      <td>1</td>\n",
       "      <td>tor</td>\n",
       "    </tr>\n",
       "    <tr>\n",
       "      <th>1</th>\n",
       "      <td>2016-07-10 17:04:00</td>\n",
       "      <td>7104</td>\n",
       "      <td>2016-07-10 17:36:00</td>\n",
       "      <td>7196</td>\n",
       "      <td>1904</td>\n",
       "      <td>1</td>\n",
       "      <td>tor</td>\n",
       "    </tr>\n",
       "    <tr>\n",
       "      <th>2</th>\n",
       "      <td>2016-07-20 13:12:00</td>\n",
       "      <td>7104</td>\n",
       "      <td>2016-07-20 13:23:00</td>\n",
       "      <td>7172</td>\n",
       "      <td>658</td>\n",
       "      <td>1</td>\n",
       "      <td>tor</td>\n",
       "    </tr>\n",
       "    <tr>\n",
       "      <th>3</th>\n",
       "      <td>2016-07-21 13:16:00</td>\n",
       "      <td>7104</td>\n",
       "      <td>2016-07-21 13:28:00</td>\n",
       "      <td>7032</td>\n",
       "      <td>718</td>\n",
       "      <td>1</td>\n",
       "      <td>tor</td>\n",
       "    </tr>\n",
       "    <tr>\n",
       "      <th>4</th>\n",
       "      <td>2016-07-27 12:21:00</td>\n",
       "      <td>7104</td>\n",
       "      <td>2016-07-27 12:33:00</td>\n",
       "      <td>7172</td>\n",
       "      <td>694</td>\n",
       "      <td>1</td>\n",
       "      <td>tor</td>\n",
       "    </tr>\n",
       "  </tbody>\n",
       "</table>\n",
       "</div>"
      ],
      "text/plain": [
       "      trip_start_time start_station_code      trip_stop_time end_station_code  \\\n",
       "0 2016-07-09 01:03:00               7104 2016-07-09 01:15:00             7264   \n",
       "1 2016-07-10 17:04:00               7104 2016-07-10 17:36:00             7196   \n",
       "2 2016-07-20 13:12:00               7104 2016-07-20 13:23:00             7172   \n",
       "3 2016-07-21 13:16:00               7104 2016-07-21 13:28:00             7032   \n",
       "4 2016-07-27 12:21:00               7104 2016-07-27 12:33:00             7172   \n",
       "\n",
       "   trip_duration_seconds membership_type city  \n",
       "0                    714               1  tor  \n",
       "1                   1904               1  tor  \n",
       "2                    658               1  tor  \n",
       "3                    718               1  tor  \n",
       "4                    694               1  tor  "
      ]
     },
     "execution_count": 571,
     "metadata": {},
     "output_type": "execute_result"
    }
   ],
   "source": [
    "df = feather.read_feather('feather-data/toronto_2016Q3.feather')\n",
    "df.head()"
   ]
  },
  {
   "cell_type": "code",
   "execution_count": 573,
   "metadata": {},
   "outputs": [
    {
     "data": {
      "text/html": [
       "<div>\n",
       "<style scoped>\n",
       "    .dataframe tbody tr th:only-of-type {\n",
       "        vertical-align: middle;\n",
       "    }\n",
       "\n",
       "    .dataframe tbody tr th {\n",
       "        vertical-align: top;\n",
       "    }\n",
       "\n",
       "    .dataframe thead th {\n",
       "        text-align: right;\n",
       "    }\n",
       "</style>\n",
       "<table border=\"1\" class=\"dataframe\">\n",
       "  <thead>\n",
       "    <tr style=\"text-align: right;\">\n",
       "      <th></th>\n",
       "      <th>trip_start_time</th>\n",
       "      <th>start_station_code</th>\n",
       "      <th>trip_stop_time</th>\n",
       "      <th>end_station_code</th>\n",
       "      <th>trip_duration_seconds</th>\n",
       "      <th>membership_type</th>\n",
       "      <th>city</th>\n",
       "    </tr>\n",
       "  </thead>\n",
       "  <tbody>\n",
       "    <tr>\n",
       "      <th>296875</th>\n",
       "      <td>2000-01-01 14:40:00</td>\n",
       "      <td>7032</td>\n",
       "      <td>2000-01-01 15:44:00</td>\n",
       "      <td>7032</td>\n",
       "      <td>3794</td>\n",
       "      <td>1</td>\n",
       "      <td>tor</td>\n",
       "    </tr>\n",
       "    <tr>\n",
       "      <th>203335</th>\n",
       "      <td>2016-07-01 00:00:00</td>\n",
       "      <td>7096</td>\n",
       "      <td>2016-07-01 00:10:00</td>\n",
       "      <td>7000</td>\n",
       "      <td>603</td>\n",
       "      <td>1</td>\n",
       "      <td>tor</td>\n",
       "    </tr>\n",
       "    <tr>\n",
       "      <th>101341</th>\n",
       "      <td>2016-07-01 00:00:00</td>\n",
       "      <td>7059</td>\n",
       "      <td>2016-07-01 00:42:00</td>\n",
       "      <td>7248</td>\n",
       "      <td>2487</td>\n",
       "      <td>0</td>\n",
       "      <td>tor</td>\n",
       "    </tr>\n",
       "    <tr>\n",
       "      <th>66001</th>\n",
       "      <td>2016-07-01 00:00:00</td>\n",
       "      <td>7212</td>\n",
       "      <td>2016-07-01 00:08:00</td>\n",
       "      <td>7082</td>\n",
       "      <td>505</td>\n",
       "      <td>1</td>\n",
       "      <td>tor</td>\n",
       "    </tr>\n",
       "    <tr>\n",
       "      <th>318527</th>\n",
       "      <td>2016-07-01 00:01:00</td>\n",
       "      <td>7288</td>\n",
       "      <td>2016-07-01 00:07:00</td>\n",
       "      <td>7268</td>\n",
       "      <td>399</td>\n",
       "      <td>1</td>\n",
       "      <td>tor</td>\n",
       "    </tr>\n",
       "  </tbody>\n",
       "</table>\n",
       "</div>"
      ],
      "text/plain": [
       "           trip_start_time start_station_code      trip_stop_time  \\\n",
       "296875 2000-01-01 14:40:00               7032 2000-01-01 15:44:00   \n",
       "203335 2016-07-01 00:00:00               7096 2016-07-01 00:10:00   \n",
       "101341 2016-07-01 00:00:00               7059 2016-07-01 00:42:00   \n",
       "66001  2016-07-01 00:00:00               7212 2016-07-01 00:08:00   \n",
       "318527 2016-07-01 00:01:00               7288 2016-07-01 00:07:00   \n",
       "\n",
       "       end_station_code  trip_duration_seconds membership_type city  \n",
       "296875             7032                   3794               1  tor  \n",
       "203335             7000                    603               1  tor  \n",
       "101341             7248                   2487               0  tor  \n",
       "66001              7082                    505               1  tor  \n",
       "318527             7268                    399               1  tor  "
      ]
     },
     "execution_count": 573,
     "metadata": {},
     "output_type": "execute_result"
    }
   ],
   "source": [
    "df.sort_values(by=['trip_start_time']).head()"
   ]
  },
  {
   "cell_type": "code",
   "execution_count": 576,
   "metadata": {},
   "outputs": [
    {
     "data": {
      "text/plain": [
       "(367957, 7)"
      ]
     },
     "execution_count": 576,
     "metadata": {},
     "output_type": "execute_result"
    }
   ],
   "source": [
    "df.shape"
   ]
  },
  {
   "cell_type": "code",
   "execution_count": 581,
   "metadata": {},
   "outputs": [],
   "source": [
    "df = df[~(df.trip_start_time.dt.year < 2016)]"
   ]
  },
  {
   "cell_type": "code",
   "execution_count": 582,
   "metadata": {},
   "outputs": [
    {
     "data": {
      "text/html": [
       "<div>\n",
       "<style scoped>\n",
       "    .dataframe tbody tr th:only-of-type {\n",
       "        vertical-align: middle;\n",
       "    }\n",
       "\n",
       "    .dataframe tbody tr th {\n",
       "        vertical-align: top;\n",
       "    }\n",
       "\n",
       "    .dataframe thead th {\n",
       "        text-align: right;\n",
       "    }\n",
       "</style>\n",
       "<table border=\"1\" class=\"dataframe\">\n",
       "  <thead>\n",
       "    <tr style=\"text-align: right;\">\n",
       "      <th></th>\n",
       "      <th>trip_start_time</th>\n",
       "      <th>start_station_code</th>\n",
       "      <th>trip_stop_time</th>\n",
       "      <th>end_station_code</th>\n",
       "      <th>trip_duration_seconds</th>\n",
       "      <th>membership_type</th>\n",
       "      <th>city</th>\n",
       "    </tr>\n",
       "  </thead>\n",
       "  <tbody>\n",
       "  </tbody>\n",
       "</table>\n",
       "</div>"
      ],
      "text/plain": [
       "Empty DataFrame\n",
       "Columns: [trip_start_time, start_station_code, trip_stop_time, end_station_code, trip_duration_seconds, membership_type, city]\n",
       "Index: []"
      ]
     },
     "execution_count": 582,
     "metadata": {},
     "output_type": "execute_result"
    }
   ],
   "source": [
    "df[df.trip_start_time.dt.year < 2016]"
   ]
  },
  {
   "cell_type": "code",
   "execution_count": 583,
   "metadata": {},
   "outputs": [],
   "source": [
    "feather.write_feather(df, 'feather-data/toronto_2016Q3.feather')"
   ]
  },
  {
   "cell_type": "code",
   "execution_count": 584,
   "metadata": {},
   "outputs": [
    {
     "data": {
      "text/html": [
       "<div>\n",
       "<style scoped>\n",
       "    .dataframe tbody tr th:only-of-type {\n",
       "        vertical-align: middle;\n",
       "    }\n",
       "\n",
       "    .dataframe tbody tr th {\n",
       "        vertical-align: top;\n",
       "    }\n",
       "\n",
       "    .dataframe thead th {\n",
       "        text-align: right;\n",
       "    }\n",
       "</style>\n",
       "<table border=\"1\" class=\"dataframe\">\n",
       "  <thead>\n",
       "    <tr style=\"text-align: right;\">\n",
       "      <th></th>\n",
       "      <th>trip_start_time</th>\n",
       "      <th>start_station_code</th>\n",
       "      <th>trip_stop_time</th>\n",
       "      <th>end_station_code</th>\n",
       "      <th>trip_duration_seconds</th>\n",
       "      <th>membership_type</th>\n",
       "      <th>city</th>\n",
       "    </tr>\n",
       "  </thead>\n",
       "  <tbody>\n",
       "    <tr>\n",
       "      <th>0</th>\n",
       "      <td>2016-01-10 00:00:00</td>\n",
       "      <td>7063</td>\n",
       "      <td>2016-01-10 00:07:00</td>\n",
       "      <td>7173</td>\n",
       "      <td>394</td>\n",
       "      <td>0</td>\n",
       "      <td>tor</td>\n",
       "    </tr>\n",
       "    <tr>\n",
       "      <th>1</th>\n",
       "      <td>2016-01-10 00:00:00</td>\n",
       "      <td>7063</td>\n",
       "      <td>2016-01-10 00:07:00</td>\n",
       "      <td>7173</td>\n",
       "      <td>383</td>\n",
       "      <td>0</td>\n",
       "      <td>tor</td>\n",
       "    </tr>\n",
       "    <tr>\n",
       "      <th>2</th>\n",
       "      <td>2016-01-10 00:15:00</td>\n",
       "      <td>7063</td>\n",
       "      <td>2016-01-10 00:34:00</td>\n",
       "      <td>7248</td>\n",
       "      <td>1118</td>\n",
       "      <td>1</td>\n",
       "      <td>tor</td>\n",
       "    </tr>\n",
       "  </tbody>\n",
       "</table>\n",
       "</div>"
      ],
      "text/plain": [
       "      trip_start_time start_station_code      trip_stop_time end_station_code  \\\n",
       "0 2016-01-10 00:00:00               7063 2016-01-10 00:07:00             7173   \n",
       "1 2016-01-10 00:00:00               7063 2016-01-10 00:07:00             7173   \n",
       "2 2016-01-10 00:15:00               7063 2016-01-10 00:34:00             7248   \n",
       "\n",
       "   trip_duration_seconds membership_type city  \n",
       "0                    394               0  tor  \n",
       "1                    383               0  tor  \n",
       "2                   1118               1  tor  "
      ]
     },
     "execution_count": 584,
     "metadata": {},
     "output_type": "execute_result"
    }
   ],
   "source": [
    "df = feather.read_feather('feather-data/toronto_2016Q4.feather')\n",
    "df.head(3)"
   ]
  },
  {
   "cell_type": "code",
   "execution_count": 585,
   "metadata": {},
   "outputs": [],
   "source": [
    "# the first ten days are miscoded: days are months and months are days. similar problems exist in other files"
   ]
  },
  {
   "cell_type": "code",
   "execution_count": 586,
   "metadata": {},
   "outputs": [
    {
     "data": {
      "text/plain": [
       "(217565, 7)"
      ]
     },
     "execution_count": 586,
     "metadata": {},
     "output_type": "execute_result"
    }
   ],
   "source": [
    "df.shape"
   ]
  },
  {
   "cell_type": "code",
   "execution_count": 587,
   "metadata": {},
   "outputs": [
    {
     "data": {
      "text/plain": [
       "trip_start_time          datetime64[ns]\n",
       "start_station_code               object\n",
       "trip_stop_time           datetime64[ns]\n",
       "end_station_code                 object\n",
       "trip_duration_seconds             int64\n",
       "membership_type                  object\n",
       "city                             object\n",
       "dtype: object"
      ]
     },
     "execution_count": 587,
     "metadata": {},
     "output_type": "execute_result"
    }
   ],
   "source": [
    "df.dtypes"
   ]
  },
  {
   "cell_type": "code",
   "execution_count": 597,
   "metadata": {},
   "outputs": [
    {
     "data": {
      "text/plain": [
       "(80105,)"
      ]
     },
     "execution_count": 597,
     "metadata": {},
     "output_type": "execute_result"
    }
   ],
   "source": [
    "start_inc = df['trip_start_time'][df.trip_start_time.dt.month < 10]\n",
    "start_inc.shape"
   ]
  },
  {
   "cell_type": "code",
   "execution_count": 598,
   "metadata": {},
   "outputs": [
    {
     "data": {
      "text/plain": [
       "(80094,)"
      ]
     },
     "execution_count": 598,
     "metadata": {},
     "output_type": "execute_result"
    }
   ],
   "source": [
    "stop_inc = df['trip_stop_time'][df.trip_stop_time.dt.month < 10]\n",
    "stop_inc.shape"
   ]
  },
  {
   "cell_type": "code",
   "execution_count": 599,
   "metadata": {},
   "outputs": [
    {
     "data": {
      "text/plain": [
       "(137460,)"
      ]
     },
     "execution_count": 599,
     "metadata": {},
     "output_type": "execute_result"
    }
   ],
   "source": [
    "start_corr = df['trip_start_time'][df.trip_start_time.dt.month >= 10]\n",
    "start_corr.shape"
   ]
  },
  {
   "cell_type": "code",
   "execution_count": 600,
   "metadata": {},
   "outputs": [
    {
     "data": {
      "text/plain": [
       "(137471,)"
      ]
     },
     "execution_count": 600,
     "metadata": {},
     "output_type": "execute_result"
    }
   ],
   "source": [
    "stop_corr = df['trip_stop_time'][df.trip_stop_time.dt.month >= 10]\n",
    "stop_corr.shape"
   ]
  },
  {
   "cell_type": "code",
   "execution_count": 601,
   "metadata": {},
   "outputs": [],
   "source": [
    "start_inc = start_inc.apply(lambda x: x.strftime(\"%Y-%d-%m %H:%M:%S\"))\n",
    "stop_inc = stop_inc.apply(lambda x: x.strftime(\"%Y-%d-%m %H:%M:%S\"))"
   ]
  },
  {
   "cell_type": "code",
   "execution_count": 602,
   "metadata": {},
   "outputs": [
    {
     "data": {
      "text/plain": [
       "0    2016-10-01 00:00:00\n",
       "1    2016-10-01 00:00:00\n",
       "2    2016-10-01 00:15:00\n",
       "3    2016-10-01 04:55:00\n",
       "4    2016-10-01 14:27:00\n",
       "Name: trip_start_time, dtype: object"
      ]
     },
     "execution_count": 602,
     "metadata": {},
     "output_type": "execute_result"
    }
   ],
   "source": [
    "start_inc.head(5)"
   ]
  },
  {
   "cell_type": "code",
   "execution_count": 603,
   "metadata": {},
   "outputs": [
    {
     "data": {
      "text/plain": [
       "0    2016-10-01 00:07:00\n",
       "1    2016-10-01 00:07:00\n",
       "2    2016-10-01 00:34:00\n",
       "3    2016-10-01 05:07:00\n",
       "4    2016-10-01 14:48:00\n",
       "Name: trip_stop_time, dtype: object"
      ]
     },
     "execution_count": 603,
     "metadata": {},
     "output_type": "execute_result"
    }
   ],
   "source": [
    "stop_inc.head(5)"
   ]
  },
  {
   "cell_type": "code",
   "execution_count": 604,
   "metadata": {},
   "outputs": [
    {
     "data": {
      "text/plain": [
       "(217565,)"
      ]
     },
     "execution_count": 604,
     "metadata": {},
     "output_type": "execute_result"
    }
   ],
   "source": [
    "start_all = pd.concat([start_inc, start_corr])\n",
    "start_all.shape"
   ]
  },
  {
   "cell_type": "code",
   "execution_count": 605,
   "metadata": {},
   "outputs": [
    {
     "data": {
      "text/plain": [
       "(217565,)"
      ]
     },
     "execution_count": 605,
     "metadata": {},
     "output_type": "execute_result"
    }
   ],
   "source": [
    "stop_all = pd.concat([stop_inc, stop_corr])\n",
    "stop_all.shape"
   ]
  },
  {
   "cell_type": "code",
   "execution_count": 606,
   "metadata": {},
   "outputs": [
    {
     "data": {
      "text/html": [
       "<div>\n",
       "<style scoped>\n",
       "    .dataframe tbody tr th:only-of-type {\n",
       "        vertical-align: middle;\n",
       "    }\n",
       "\n",
       "    .dataframe tbody tr th {\n",
       "        vertical-align: top;\n",
       "    }\n",
       "\n",
       "    .dataframe thead th {\n",
       "        text-align: right;\n",
       "    }\n",
       "</style>\n",
       "<table border=\"1\" class=\"dataframe\">\n",
       "  <thead>\n",
       "    <tr style=\"text-align: right;\">\n",
       "      <th></th>\n",
       "      <th>trip_start_time</th>\n",
       "      <th>trip_start_time</th>\n",
       "      <th>trip_stop_time</th>\n",
       "      <th>trip_stop_time</th>\n",
       "    </tr>\n",
       "  </thead>\n",
       "  <tbody>\n",
       "    <tr>\n",
       "      <th>0</th>\n",
       "      <td>2016-01-10 00:00:00</td>\n",
       "      <td>2016-10-01 00:00:00</td>\n",
       "      <td>2016-01-10 00:07:00</td>\n",
       "      <td>2016-10-01 00:07:00</td>\n",
       "    </tr>\n",
       "    <tr>\n",
       "      <th>1</th>\n",
       "      <td>2016-01-10 00:00:00</td>\n",
       "      <td>2016-10-01 00:00:00</td>\n",
       "      <td>2016-01-10 00:07:00</td>\n",
       "      <td>2016-10-01 00:07:00</td>\n",
       "    </tr>\n",
       "    <tr>\n",
       "      <th>2</th>\n",
       "      <td>2016-01-10 00:15:00</td>\n",
       "      <td>2016-10-01 00:15:00</td>\n",
       "      <td>2016-01-10 00:34:00</td>\n",
       "      <td>2016-10-01 00:34:00</td>\n",
       "    </tr>\n",
       "    <tr>\n",
       "      <th>3</th>\n",
       "      <td>2016-01-10 04:55:00</td>\n",
       "      <td>2016-10-01 04:55:00</td>\n",
       "      <td>2016-01-10 05:07:00</td>\n",
       "      <td>2016-10-01 05:07:00</td>\n",
       "    </tr>\n",
       "    <tr>\n",
       "      <th>4</th>\n",
       "      <td>2016-01-10 14:27:00</td>\n",
       "      <td>2016-10-01 14:27:00</td>\n",
       "      <td>2016-01-10 14:48:00</td>\n",
       "      <td>2016-10-01 14:48:00</td>\n",
       "    </tr>\n",
       "    <tr>\n",
       "      <th>5</th>\n",
       "      <td>2016-01-10 15:28:00</td>\n",
       "      <td>2016-10-01 15:28:00</td>\n",
       "      <td>2016-01-10 15:37:00</td>\n",
       "      <td>2016-10-01 15:37:00</td>\n",
       "    </tr>\n",
       "    <tr>\n",
       "      <th>6</th>\n",
       "      <td>2016-01-10 18:54:00</td>\n",
       "      <td>2016-10-01 18:54:00</td>\n",
       "      <td>2016-01-10 19:08:00</td>\n",
       "      <td>2016-10-01 19:08:00</td>\n",
       "    </tr>\n",
       "    <tr>\n",
       "      <th>7</th>\n",
       "      <td>2016-01-10 18:55:00</td>\n",
       "      <td>2016-10-01 18:55:00</td>\n",
       "      <td>2016-01-10 19:07:00</td>\n",
       "      <td>2016-10-01 19:07:00</td>\n",
       "    </tr>\n",
       "    <tr>\n",
       "      <th>8</th>\n",
       "      <td>2016-01-10 21:25:00</td>\n",
       "      <td>2016-10-01 21:25:00</td>\n",
       "      <td>2016-01-10 21:46:00</td>\n",
       "      <td>2016-10-01 21:46:00</td>\n",
       "    </tr>\n",
       "    <tr>\n",
       "      <th>9</th>\n",
       "      <td>2016-01-10 21:26:00</td>\n",
       "      <td>2016-10-01 21:26:00</td>\n",
       "      <td>2016-01-10 21:45:00</td>\n",
       "      <td>2016-10-01 21:45:00</td>\n",
       "    </tr>\n",
       "  </tbody>\n",
       "</table>\n",
       "</div>"
      ],
      "text/plain": [
       "      trip_start_time      trip_start_time      trip_stop_time  \\\n",
       "0 2016-01-10 00:00:00  2016-10-01 00:00:00 2016-01-10 00:07:00   \n",
       "1 2016-01-10 00:00:00  2016-10-01 00:00:00 2016-01-10 00:07:00   \n",
       "2 2016-01-10 00:15:00  2016-10-01 00:15:00 2016-01-10 00:34:00   \n",
       "3 2016-01-10 04:55:00  2016-10-01 04:55:00 2016-01-10 05:07:00   \n",
       "4 2016-01-10 14:27:00  2016-10-01 14:27:00 2016-01-10 14:48:00   \n",
       "5 2016-01-10 15:28:00  2016-10-01 15:28:00 2016-01-10 15:37:00   \n",
       "6 2016-01-10 18:54:00  2016-10-01 18:54:00 2016-01-10 19:08:00   \n",
       "7 2016-01-10 18:55:00  2016-10-01 18:55:00 2016-01-10 19:07:00   \n",
       "8 2016-01-10 21:25:00  2016-10-01 21:25:00 2016-01-10 21:46:00   \n",
       "9 2016-01-10 21:26:00  2016-10-01 21:26:00 2016-01-10 21:45:00   \n",
       "\n",
       "        trip_stop_time  \n",
       "0  2016-10-01 00:07:00  \n",
       "1  2016-10-01 00:07:00  \n",
       "2  2016-10-01 00:34:00  \n",
       "3  2016-10-01 05:07:00  \n",
       "4  2016-10-01 14:48:00  \n",
       "5  2016-10-01 15:37:00  \n",
       "6  2016-10-01 19:08:00  \n",
       "7  2016-10-01 19:07:00  \n",
       "8  2016-10-01 21:46:00  \n",
       "9  2016-10-01 21:45:00  "
      ]
     },
     "execution_count": 606,
     "metadata": {},
     "output_type": "execute_result"
    }
   ],
   "source": [
    "pd.concat([df.trip_start_time, start_all, df.trip_stop_time, stop_all], axis = 1).head(10)"
   ]
  },
  {
   "cell_type": "code",
   "execution_count": 607,
   "metadata": {},
   "outputs": [
    {
     "data": {
      "text/plain": [
       "trip_start_time    datetime64[ns]\n",
       "trip_start_time            object\n",
       "trip_stop_time     datetime64[ns]\n",
       "trip_stop_time             object\n",
       "dtype: object"
      ]
     },
     "execution_count": 607,
     "metadata": {},
     "output_type": "execute_result"
    }
   ],
   "source": [
    "pd.concat([df.trip_start_time, start_all, df.trip_stop_time, stop_all], axis = 1).dtypes"
   ]
  },
  {
   "cell_type": "code",
   "execution_count": 608,
   "metadata": {},
   "outputs": [],
   "source": [
    "start_all = pd.to_datetime(start_all)\n",
    "stop_all = pd.to_datetime(stop_all)"
   ]
  },
  {
   "cell_type": "code",
   "execution_count": 609,
   "metadata": {},
   "outputs": [],
   "source": [
    "df1 = df.copy()\n",
    "df1.drop(['trip_start_time', 'trip_stop_time'], inplace = True, axis = 1)"
   ]
  },
  {
   "cell_type": "code",
   "execution_count": 611,
   "metadata": {},
   "outputs": [
    {
     "data": {
      "text/html": [
       "<div>\n",
       "<style scoped>\n",
       "    .dataframe tbody tr th:only-of-type {\n",
       "        vertical-align: middle;\n",
       "    }\n",
       "\n",
       "    .dataframe tbody tr th {\n",
       "        vertical-align: top;\n",
       "    }\n",
       "\n",
       "    .dataframe thead th {\n",
       "        text-align: right;\n",
       "    }\n",
       "</style>\n",
       "<table border=\"1\" class=\"dataframe\">\n",
       "  <thead>\n",
       "    <tr style=\"text-align: right;\">\n",
       "      <th></th>\n",
       "      <th>trip_start_time</th>\n",
       "      <th>start_station_code</th>\n",
       "      <th>trip_stop_time</th>\n",
       "      <th>end_station_code</th>\n",
       "      <th>trip_duration_seconds</th>\n",
       "      <th>membership_type</th>\n",
       "      <th>city</th>\n",
       "    </tr>\n",
       "  </thead>\n",
       "  <tbody>\n",
       "    <tr>\n",
       "      <th>0</th>\n",
       "      <td>2016-10-01 00:00:00</td>\n",
       "      <td>7063</td>\n",
       "      <td>2016-10-01 00:07:00</td>\n",
       "      <td>7173</td>\n",
       "      <td>394</td>\n",
       "      <td>0</td>\n",
       "      <td>tor</td>\n",
       "    </tr>\n",
       "    <tr>\n",
       "      <th>1</th>\n",
       "      <td>2016-10-01 00:00:00</td>\n",
       "      <td>7063</td>\n",
       "      <td>2016-10-01 00:07:00</td>\n",
       "      <td>7173</td>\n",
       "      <td>383</td>\n",
       "      <td>0</td>\n",
       "      <td>tor</td>\n",
       "    </tr>\n",
       "    <tr>\n",
       "      <th>2</th>\n",
       "      <td>2016-10-01 00:15:00</td>\n",
       "      <td>7063</td>\n",
       "      <td>2016-10-01 00:34:00</td>\n",
       "      <td>7248</td>\n",
       "      <td>1118</td>\n",
       "      <td>1</td>\n",
       "      <td>tor</td>\n",
       "    </tr>\n",
       "    <tr>\n",
       "      <th>3</th>\n",
       "      <td>2016-10-01 04:55:00</td>\n",
       "      <td>7063</td>\n",
       "      <td>2016-10-01 05:07:00</td>\n",
       "      <td>7172</td>\n",
       "      <td>685</td>\n",
       "      <td>1</td>\n",
       "      <td>tor</td>\n",
       "    </tr>\n",
       "  </tbody>\n",
       "</table>\n",
       "</div>"
      ],
      "text/plain": [
       "      trip_start_time start_station_code      trip_stop_time end_station_code  \\\n",
       "0 2016-10-01 00:00:00               7063 2016-10-01 00:07:00             7173   \n",
       "1 2016-10-01 00:00:00               7063 2016-10-01 00:07:00             7173   \n",
       "2 2016-10-01 00:15:00               7063 2016-10-01 00:34:00             7248   \n",
       "3 2016-10-01 04:55:00               7063 2016-10-01 05:07:00             7172   \n",
       "\n",
       "   trip_duration_seconds membership_type city  \n",
       "0                    394               0  tor  \n",
       "1                    383               0  tor  \n",
       "2                   1118               1  tor  \n",
       "3                    685               1  tor  "
      ]
     },
     "execution_count": 611,
     "metadata": {},
     "output_type": "execute_result"
    }
   ],
   "source": [
    "df1.insert(0, 'trip_start_time', start_all)\n",
    "df1.insert(2, 'trip_stop_time', stop_all)\n",
    "df1.head(4)"
   ]
  },
  {
   "cell_type": "code",
   "execution_count": 612,
   "metadata": {},
   "outputs": [
    {
     "data": {
      "text/plain": [
       "(217565, 7)"
      ]
     },
     "execution_count": 612,
     "metadata": {},
     "output_type": "execute_result"
    }
   ],
   "source": [
    "df1.shape"
   ]
  },
  {
   "cell_type": "code",
   "execution_count": 613,
   "metadata": {},
   "outputs": [
    {
     "data": {
      "text/html": [
       "<div>\n",
       "<style scoped>\n",
       "    .dataframe tbody tr th:only-of-type {\n",
       "        vertical-align: middle;\n",
       "    }\n",
       "\n",
       "    .dataframe tbody tr th {\n",
       "        vertical-align: top;\n",
       "    }\n",
       "\n",
       "    .dataframe thead th {\n",
       "        text-align: right;\n",
       "    }\n",
       "</style>\n",
       "<table border=\"1\" class=\"dataframe\">\n",
       "  <thead>\n",
       "    <tr style=\"text-align: right;\">\n",
       "      <th></th>\n",
       "      <th>trip_start_time</th>\n",
       "      <th>trip_stop_time</th>\n",
       "    </tr>\n",
       "  </thead>\n",
       "  <tbody>\n",
       "    <tr>\n",
       "      <th>count</th>\n",
       "      <td>217565</td>\n",
       "      <td>217565</td>\n",
       "    </tr>\n",
       "    <tr>\n",
       "      <th>unique</th>\n",
       "      <td>75935</td>\n",
       "      <td>75695</td>\n",
       "    </tr>\n",
       "    <tr>\n",
       "      <th>top</th>\n",
       "      <td>2016-10-19 12:44:00</td>\n",
       "      <td>2016-10-05 13:06:00</td>\n",
       "    </tr>\n",
       "    <tr>\n",
       "      <th>freq</th>\n",
       "      <td>24</td>\n",
       "      <td>23</td>\n",
       "    </tr>\n",
       "    <tr>\n",
       "      <th>first</th>\n",
       "      <td>2016-10-01 00:00:00</td>\n",
       "      <td>2016-10-01 00:04:00</td>\n",
       "    </tr>\n",
       "    <tr>\n",
       "      <th>last</th>\n",
       "      <td>2016-12-31 23:40:00</td>\n",
       "      <td>2016-12-31 23:58:00</td>\n",
       "    </tr>\n",
       "  </tbody>\n",
       "</table>\n",
       "</div>"
      ],
      "text/plain": [
       "            trip_start_time       trip_stop_time\n",
       "count                217565               217565\n",
       "unique                75935                75695\n",
       "top     2016-10-19 12:44:00  2016-10-05 13:06:00\n",
       "freq                     24                   23\n",
       "first   2016-10-01 00:00:00  2016-10-01 00:04:00\n",
       "last    2016-12-31 23:40:00  2016-12-31 23:58:00"
      ]
     },
     "execution_count": 613,
     "metadata": {},
     "output_type": "execute_result"
    }
   ],
   "source": [
    "df1[['trip_start_time', 'trip_stop_time']].describe()"
   ]
  },
  {
   "cell_type": "code",
   "execution_count": 614,
   "metadata": {},
   "outputs": [],
   "source": [
    "feather.write_feather(df1, 'feather-data/toronto_2016Q4.feather')"
   ]
  },
  {
   "cell_type": "code",
   "execution_count": 615,
   "metadata": {},
   "outputs": [],
   "source": [
    "df = feather.read_feather('feather-data/toronto_2017Q1.feather')"
   ]
  },
  {
   "cell_type": "code",
   "execution_count": 616,
   "metadata": {},
   "outputs": [
    {
     "data": {
      "text/plain": [
       "(132123, 7)"
      ]
     },
     "execution_count": 616,
     "metadata": {},
     "output_type": "execute_result"
    }
   ],
   "source": [
    "df.shape"
   ]
  },
  {
   "cell_type": "code",
   "execution_count": 622,
   "metadata": {},
   "outputs": [
    {
     "data": {
      "text/html": [
       "<div>\n",
       "<style scoped>\n",
       "    .dataframe tbody tr th:only-of-type {\n",
       "        vertical-align: middle;\n",
       "    }\n",
       "\n",
       "    .dataframe tbody tr th {\n",
       "        vertical-align: top;\n",
       "    }\n",
       "\n",
       "    .dataframe thead th {\n",
       "        text-align: right;\n",
       "    }\n",
       "</style>\n",
       "<table border=\"1\" class=\"dataframe\">\n",
       "  <thead>\n",
       "    <tr style=\"text-align: right;\">\n",
       "      <th></th>\n",
       "      <th>trip_start_time</th>\n",
       "      <th>start_station_code</th>\n",
       "      <th>trip_stop_time</th>\n",
       "      <th>end_station_code</th>\n",
       "      <th>trip_duration_seconds</th>\n",
       "      <th>membership_type</th>\n",
       "      <th>city</th>\n",
       "    </tr>\n",
       "  </thead>\n",
       "  <tbody>\n",
       "    <tr>\n",
       "      <th>9060</th>\n",
       "      <td>2017-12-03 23:58:00</td>\n",
       "      <td>7098</td>\n",
       "      <td>2017-03-13 00:16:00</td>\n",
       "      <td>7070</td>\n",
       "      <td>1077</td>\n",
       "      <td>1</td>\n",
       "      <td>tor</td>\n",
       "    </tr>\n",
       "    <tr>\n",
       "      <th>5413</th>\n",
       "      <td>2017-12-03 23:56:00</td>\n",
       "      <td>7141</td>\n",
       "      <td>2017-03-13 00:19:00</td>\n",
       "      <td>7064</td>\n",
       "      <td>1410</td>\n",
       "      <td>1</td>\n",
       "      <td>tor</td>\n",
       "    </tr>\n",
       "    <tr>\n",
       "      <th>121970</th>\n",
       "      <td>2017-12-03 23:49:00</td>\n",
       "      <td>7050</td>\n",
       "      <td>2017-03-13 00:12:00</td>\n",
       "      <td>7270</td>\n",
       "      <td>1421</td>\n",
       "      <td>1</td>\n",
       "      <td>tor</td>\n",
       "    </tr>\n",
       "  </tbody>\n",
       "</table>\n",
       "</div>"
      ],
      "text/plain": [
       "           trip_start_time start_station_code      trip_stop_time  \\\n",
       "9060   2017-12-03 23:58:00               7098 2017-03-13 00:16:00   \n",
       "5413   2017-12-03 23:56:00               7141 2017-03-13 00:19:00   \n",
       "121970 2017-12-03 23:49:00               7050 2017-03-13 00:12:00   \n",
       "\n",
       "       end_station_code  trip_duration_seconds membership_type city  \n",
       "9060               7070                   1077               1  tor  \n",
       "5413               7064                   1410               1  tor  \n",
       "121970             7270                   1421               1  tor  "
      ]
     },
     "execution_count": 622,
     "metadata": {},
     "output_type": "execute_result"
    }
   ],
   "source": [
    "df.sort_values(by=['trip_start_time'], ascending = False).head(3)"
   ]
  },
  {
   "cell_type": "code",
   "execution_count": 631,
   "metadata": {},
   "outputs": [
    {
     "data": {
      "text/html": [
       "<div>\n",
       "<style scoped>\n",
       "    .dataframe tbody tr th:only-of-type {\n",
       "        vertical-align: middle;\n",
       "    }\n",
       "\n",
       "    .dataframe tbody tr th {\n",
       "        vertical-align: top;\n",
       "    }\n",
       "\n",
       "    .dataframe thead th {\n",
       "        text-align: right;\n",
       "    }\n",
       "</style>\n",
       "<table border=\"1\" class=\"dataframe\">\n",
       "  <thead>\n",
       "    <tr style=\"text-align: right;\">\n",
       "      <th></th>\n",
       "      <th>trip_start_time</th>\n",
       "      <th>trip_stop_time</th>\n",
       "    </tr>\n",
       "  </thead>\n",
       "  <tbody>\n",
       "    <tr>\n",
       "      <th>count</th>\n",
       "      <td>132123</td>\n",
       "      <td>132123</td>\n",
       "    </tr>\n",
       "    <tr>\n",
       "      <th>unique</th>\n",
       "      <td>61704</td>\n",
       "      <td>61551</td>\n",
       "    </tr>\n",
       "    <tr>\n",
       "      <th>top</th>\n",
       "      <td>2017-03-21 12:31:00</td>\n",
       "      <td>2017-01-13 14:06:00</td>\n",
       "    </tr>\n",
       "    <tr>\n",
       "      <th>freq</th>\n",
       "      <td>17</td>\n",
       "      <td>16</td>\n",
       "    </tr>\n",
       "    <tr>\n",
       "      <th>first</th>\n",
       "      <td>2017-01-01 00:00:00</td>\n",
       "      <td>2017-01-01 00:03:00</td>\n",
       "    </tr>\n",
       "    <tr>\n",
       "      <th>last</th>\n",
       "      <td>2017-12-03 23:58:00</td>\n",
       "      <td>2017-12-03 23:59:00</td>\n",
       "    </tr>\n",
       "  </tbody>\n",
       "</table>\n",
       "</div>"
      ],
      "text/plain": [
       "            trip_start_time       trip_stop_time\n",
       "count                132123               132123\n",
       "unique                61704                61551\n",
       "top     2017-03-21 12:31:00  2017-01-13 14:06:00\n",
       "freq                     17                   16\n",
       "first   2017-01-01 00:00:00  2017-01-01 00:03:00\n",
       "last    2017-12-03 23:58:00  2017-12-03 23:59:00"
      ]
     },
     "execution_count": 631,
     "metadata": {},
     "output_type": "execute_result"
    }
   ],
   "source": [
    "df[['trip_start_time', 'trip_stop_time']].describe()"
   ]
  },
  {
   "cell_type": "code",
   "execution_count": 644,
   "metadata": {},
   "outputs": [
    {
     "data": {
      "text/plain": [
       "(32810,)"
      ]
     },
     "execution_count": 644,
     "metadata": {},
     "output_type": "execute_result"
    }
   ],
   "source": [
    "start_inc = df['trip_start_time'][df.trip_start_time.dt.month > 3]\n",
    "start_inc.shape"
   ]
  },
  {
   "cell_type": "code",
   "execution_count": 645,
   "metadata": {},
   "outputs": [
    {
     "data": {
      "text/plain": [
       "(32830,)"
      ]
     },
     "execution_count": 645,
     "metadata": {},
     "output_type": "execute_result"
    }
   ],
   "source": [
    "stop_inc = df['trip_stop_time'][df.trip_stop_time.dt.month > 3]\n",
    "stop_inc.shape"
   ]
  },
  {
   "cell_type": "code",
   "execution_count": 646,
   "metadata": {},
   "outputs": [
    {
     "data": {
      "text/plain": [
       "(99313,)"
      ]
     },
     "execution_count": 646,
     "metadata": {},
     "output_type": "execute_result"
    }
   ],
   "source": [
    "start_corr = df['trip_start_time'][df.trip_start_time.dt.month <= 3]\n",
    "start_corr.shape"
   ]
  },
  {
   "cell_type": "code",
   "execution_count": 647,
   "metadata": {},
   "outputs": [
    {
     "data": {
      "text/plain": [
       "(99293,)"
      ]
     },
     "execution_count": 647,
     "metadata": {},
     "output_type": "execute_result"
    }
   ],
   "source": [
    "stop_corr = df['trip_stop_time'][df.trip_stop_time.dt.month <= 3]\n",
    "stop_corr.shape"
   ]
  },
  {
   "cell_type": "code",
   "execution_count": 648,
   "metadata": {},
   "outputs": [],
   "source": [
    "start_inc = start_inc.apply(lambda x: x.strftime(\"%Y-%d-%m %H:%M:%S\"))\n",
    "stop_inc = stop_inc.apply(lambda x: x.strftime(\"%Y-%d-%m %H:%M:%S\"))"
   ]
  },
  {
   "cell_type": "code",
   "execution_count": 649,
   "metadata": {},
   "outputs": [
    {
     "data": {
      "text/plain": [
       "18    2017-01-04 11:35:00\n",
       "19    2017-01-04 11:46:00\n",
       "20    2017-01-04 17:51:00\n",
       "21    2017-01-04 21:59:00\n",
       "22    2017-01-04 23:35:00\n",
       "Name: trip_start_time, dtype: object"
      ]
     },
     "execution_count": 649,
     "metadata": {},
     "output_type": "execute_result"
    }
   ],
   "source": [
    "start_inc.head()"
   ]
  },
  {
   "cell_type": "code",
   "execution_count": 650,
   "metadata": {},
   "outputs": [
    {
     "data": {
      "text/plain": [
       "18    2017-01-04 11:45:00\n",
       "19    2017-01-04 11:53:00\n",
       "20    2017-01-04 17:58:00\n",
       "21    2017-01-04 22:05:00\n",
       "22    2017-01-04 23:44:00\n",
       "Name: trip_stop_time, dtype: object"
      ]
     },
     "execution_count": 650,
     "metadata": {},
     "output_type": "execute_result"
    }
   ],
   "source": [
    "stop_inc.head()"
   ]
  },
  {
   "cell_type": "code",
   "execution_count": 651,
   "metadata": {},
   "outputs": [
    {
     "data": {
      "text/plain": [
       "(132123,)"
      ]
     },
     "execution_count": 651,
     "metadata": {},
     "output_type": "execute_result"
    }
   ],
   "source": [
    "start_all = pd.concat([start_inc, start_corr])\n",
    "start_all.shape"
   ]
  },
  {
   "cell_type": "code",
   "execution_count": 652,
   "metadata": {},
   "outputs": [
    {
     "data": {
      "text/plain": [
       "(132123,)"
      ]
     },
     "execution_count": 652,
     "metadata": {},
     "output_type": "execute_result"
    }
   ],
   "source": [
    "stop_all = pd.concat([stop_inc, stop_corr])\n",
    "stop_all.shape"
   ]
  },
  {
   "cell_type": "code",
   "execution_count": 653,
   "metadata": {},
   "outputs": [
    {
     "data": {
      "text/html": [
       "<div>\n",
       "<style scoped>\n",
       "    .dataframe tbody tr th:only-of-type {\n",
       "        vertical-align: middle;\n",
       "    }\n",
       "\n",
       "    .dataframe tbody tr th {\n",
       "        vertical-align: top;\n",
       "    }\n",
       "\n",
       "    .dataframe thead th {\n",
       "        text-align: right;\n",
       "    }\n",
       "</style>\n",
       "<table border=\"1\" class=\"dataframe\">\n",
       "  <thead>\n",
       "    <tr style=\"text-align: right;\">\n",
       "      <th></th>\n",
       "      <th>trip_start_time</th>\n",
       "      <th>start_station_code</th>\n",
       "      <th>trip_stop_time</th>\n",
       "      <th>end_station_code</th>\n",
       "      <th>trip_duration_seconds</th>\n",
       "      <th>membership_type</th>\n",
       "      <th>city</th>\n",
       "    </tr>\n",
       "  </thead>\n",
       "  <tbody>\n",
       "    <tr>\n",
       "      <th>0</th>\n",
       "      <td>2017-01-01 00:00:00</td>\n",
       "      <td>7180</td>\n",
       "      <td>2017-01-01 00:03:00</td>\n",
       "      <td>7282</td>\n",
       "      <td>223</td>\n",
       "      <td>1</td>\n",
       "      <td>tor</td>\n",
       "    </tr>\n",
       "    <tr>\n",
       "      <th>1</th>\n",
       "      <td>2017-01-01 04:36:00</td>\n",
       "      <td>7180</td>\n",
       "      <td>2017-01-01 04:40:00</td>\n",
       "      <td>7108</td>\n",
       "      <td>248</td>\n",
       "      <td>1</td>\n",
       "      <td>tor</td>\n",
       "    </tr>\n",
       "    <tr>\n",
       "      <th>2</th>\n",
       "      <td>2017-01-01 07:24:00</td>\n",
       "      <td>7180</td>\n",
       "      <td>2017-01-01 07:41:00</td>\n",
       "      <td>7125</td>\n",
       "      <td>1001</td>\n",
       "      <td>1</td>\n",
       "      <td>tor</td>\n",
       "    </tr>\n",
       "    <tr>\n",
       "      <th>3</th>\n",
       "      <td>2017-01-01 07:52:00</td>\n",
       "      <td>7180</td>\n",
       "      <td>2017-01-01 07:56:00</td>\n",
       "      <td>7041</td>\n",
       "      <td>243</td>\n",
       "      <td>1</td>\n",
       "      <td>tor</td>\n",
       "    </tr>\n",
       "  </tbody>\n",
       "</table>\n",
       "</div>"
      ],
      "text/plain": [
       "      trip_start_time start_station_code      trip_stop_time end_station_code  \\\n",
       "0 2017-01-01 00:00:00               7180 2017-01-01 00:03:00             7282   \n",
       "1 2017-01-01 04:36:00               7180 2017-01-01 04:40:00             7108   \n",
       "2 2017-01-01 07:24:00               7180 2017-01-01 07:41:00             7125   \n",
       "3 2017-01-01 07:52:00               7180 2017-01-01 07:56:00             7041   \n",
       "\n",
       "   trip_duration_seconds membership_type city  \n",
       "0                    223               1  tor  \n",
       "1                    248               1  tor  \n",
       "2                   1001               1  tor  \n",
       "3                    243               1  tor  "
      ]
     },
     "execution_count": 653,
     "metadata": {},
     "output_type": "execute_result"
    }
   ],
   "source": [
    "start_all = pd.to_datetime(start_all)\n",
    "stop_all = pd.to_datetime(stop_all)\n",
    "\n",
    "df1 = df.copy()\n",
    "df1.drop(['trip_start_time', 'trip_stop_time'], inplace = True, axis = 1)\n",
    "\n",
    "df1.insert(0, 'trip_start_time', start_all)\n",
    "df1.insert(2, 'trip_stop_time', stop_all)\n",
    "\n",
    "df1.head(4)"
   ]
  },
  {
   "cell_type": "code",
   "execution_count": 654,
   "metadata": {},
   "outputs": [
    {
     "data": {
      "text/plain": [
       "(132123, 7)"
      ]
     },
     "execution_count": 654,
     "metadata": {},
     "output_type": "execute_result"
    }
   ],
   "source": [
    "df1.shape"
   ]
  },
  {
   "cell_type": "code",
   "execution_count": 655,
   "metadata": {},
   "outputs": [
    {
     "data": {
      "text/html": [
       "<div>\n",
       "<style scoped>\n",
       "    .dataframe tbody tr th:only-of-type {\n",
       "        vertical-align: middle;\n",
       "    }\n",
       "\n",
       "    .dataframe tbody tr th {\n",
       "        vertical-align: top;\n",
       "    }\n",
       "\n",
       "    .dataframe thead th {\n",
       "        text-align: right;\n",
       "    }\n",
       "</style>\n",
       "<table border=\"1\" class=\"dataframe\">\n",
       "  <thead>\n",
       "    <tr style=\"text-align: right;\">\n",
       "      <th></th>\n",
       "      <th>trip_start_time</th>\n",
       "      <th>trip_stop_time</th>\n",
       "    </tr>\n",
       "  </thead>\n",
       "  <tbody>\n",
       "    <tr>\n",
       "      <th>count</th>\n",
       "      <td>132123</td>\n",
       "      <td>132123</td>\n",
       "    </tr>\n",
       "    <tr>\n",
       "      <th>unique</th>\n",
       "      <td>61704</td>\n",
       "      <td>61549</td>\n",
       "    </tr>\n",
       "    <tr>\n",
       "      <th>top</th>\n",
       "      <td>2017-03-21 12:31:00</td>\n",
       "      <td>2017-01-13 14:06:00</td>\n",
       "    </tr>\n",
       "    <tr>\n",
       "      <th>freq</th>\n",
       "      <td>17</td>\n",
       "      <td>16</td>\n",
       "    </tr>\n",
       "    <tr>\n",
       "      <th>first</th>\n",
       "      <td>2017-01-01 00:00:00</td>\n",
       "      <td>2017-01-01 00:03:00</td>\n",
       "    </tr>\n",
       "    <tr>\n",
       "      <th>last</th>\n",
       "      <td>2017-03-31 23:54:00</td>\n",
       "      <td>2017-03-31 23:57:00</td>\n",
       "    </tr>\n",
       "  </tbody>\n",
       "</table>\n",
       "</div>"
      ],
      "text/plain": [
       "            trip_start_time       trip_stop_time\n",
       "count                132123               132123\n",
       "unique                61704                61549\n",
       "top     2017-03-21 12:31:00  2017-01-13 14:06:00\n",
       "freq                     17                   16\n",
       "first   2017-01-01 00:00:00  2017-01-01 00:03:00\n",
       "last    2017-03-31 23:54:00  2017-03-31 23:57:00"
      ]
     },
     "execution_count": 655,
     "metadata": {},
     "output_type": "execute_result"
    }
   ],
   "source": [
    "df1[['trip_start_time', 'trip_stop_time']].describe()"
   ]
  },
  {
   "cell_type": "code",
   "execution_count": 657,
   "metadata": {},
   "outputs": [],
   "source": [
    "feather.write_feather(df1, 'feather-data/toronto_2017Q1.feather')"
   ]
  },
  {
   "cell_type": "code",
   "execution_count": 658,
   "metadata": {},
   "outputs": [
    {
     "data": {
      "text/plain": [
       "(333353, 7)"
      ]
     },
     "execution_count": 658,
     "metadata": {},
     "output_type": "execute_result"
    }
   ],
   "source": [
    "df = feather.read_feather('feather-data/toronto_2017Q2.feather')\n",
    "df.shape"
   ]
  },
  {
   "cell_type": "code",
   "execution_count": 659,
   "metadata": {},
   "outputs": [
    {
     "data": {
      "text/html": [
       "<div>\n",
       "<style scoped>\n",
       "    .dataframe tbody tr th:only-of-type {\n",
       "        vertical-align: middle;\n",
       "    }\n",
       "\n",
       "    .dataframe tbody tr th {\n",
       "        vertical-align: top;\n",
       "    }\n",
       "\n",
       "    .dataframe thead th {\n",
       "        text-align: right;\n",
       "    }\n",
       "</style>\n",
       "<table border=\"1\" class=\"dataframe\">\n",
       "  <thead>\n",
       "    <tr style=\"text-align: right;\">\n",
       "      <th></th>\n",
       "      <th>trip_start_time</th>\n",
       "      <th>start_station_code</th>\n",
       "      <th>trip_stop_time</th>\n",
       "      <th>end_station_code</th>\n",
       "      <th>trip_duration_seconds</th>\n",
       "      <th>membership_type</th>\n",
       "      <th>city</th>\n",
       "    </tr>\n",
       "  </thead>\n",
       "  <tbody>\n",
       "    <tr>\n",
       "      <th>0</th>\n",
       "      <td>2017-01-04 00:01:00</td>\n",
       "      <td>7046</td>\n",
       "      <td>2017-01-04 00:06:00</td>\n",
       "      <td>7173</td>\n",
       "      <td>297</td>\n",
       "      <td>1</td>\n",
       "      <td>tor</td>\n",
       "    </tr>\n",
       "    <tr>\n",
       "      <th>1</th>\n",
       "      <td>2017-01-04 10:42:00</td>\n",
       "      <td>7046</td>\n",
       "      <td>2017-01-04 10:46:00</td>\n",
       "      <td>7045</td>\n",
       "      <td>207</td>\n",
       "      <td>1</td>\n",
       "      <td>tor</td>\n",
       "    </tr>\n",
       "    <tr>\n",
       "      <th>2</th>\n",
       "      <td>2017-01-04 13:50:00</td>\n",
       "      <td>7046</td>\n",
       "      <td>2017-01-04 13:55:00</td>\n",
       "      <td>7080</td>\n",
       "      <td>287</td>\n",
       "      <td>1</td>\n",
       "      <td>tor</td>\n",
       "    </tr>\n",
       "    <tr>\n",
       "      <th>3</th>\n",
       "      <td>2017-01-04 13:53:00</td>\n",
       "      <td>7046</td>\n",
       "      <td>2017-01-04 13:59:00</td>\n",
       "      <td>7183</td>\n",
       "      <td>358</td>\n",
       "      <td>1</td>\n",
       "      <td>tor</td>\n",
       "    </tr>\n",
       "    <tr>\n",
       "      <th>4</th>\n",
       "      <td>2017-01-04 18:56:00</td>\n",
       "      <td>7046</td>\n",
       "      <td>2017-01-04 20:19:00</td>\n",
       "      <td>7046</td>\n",
       "      <td>4967</td>\n",
       "      <td>1</td>\n",
       "      <td>tor</td>\n",
       "    </tr>\n",
       "  </tbody>\n",
       "</table>\n",
       "</div>"
      ],
      "text/plain": [
       "      trip_start_time start_station_code      trip_stop_time end_station_code  \\\n",
       "0 2017-01-04 00:01:00               7046 2017-01-04 00:06:00             7173   \n",
       "1 2017-01-04 10:42:00               7046 2017-01-04 10:46:00             7045   \n",
       "2 2017-01-04 13:50:00               7046 2017-01-04 13:55:00             7080   \n",
       "3 2017-01-04 13:53:00               7046 2017-01-04 13:59:00             7183   \n",
       "4 2017-01-04 18:56:00               7046 2017-01-04 20:19:00             7046   \n",
       "\n",
       "   trip_duration_seconds membership_type city  \n",
       "0                    297               1  tor  \n",
       "1                    207               1  tor  \n",
       "2                    287               1  tor  \n",
       "3                    358               1  tor  \n",
       "4                   4967               1  tor  "
      ]
     },
     "execution_count": 659,
     "metadata": {},
     "output_type": "execute_result"
    }
   ],
   "source": [
    "df.head()"
   ]
  },
  {
   "cell_type": "code",
   "execution_count": 662,
   "metadata": {},
   "outputs": [
    {
     "data": {
      "text/plain": [
       "68370"
      ]
     },
     "execution_count": 662,
     "metadata": {},
     "output_type": "execute_result"
    }
   ],
   "source": [
    "len(df['trip_start_time'][df.trip_start_time.dt.month > 6])"
   ]
  },
  {
   "cell_type": "code",
   "execution_count": 663,
   "metadata": {},
   "outputs": [
    {
     "data": {
      "text/plain": [
       "29336"
      ]
     },
     "execution_count": 663,
     "metadata": {},
     "output_type": "execute_result"
    }
   ],
   "source": [
    "len(df['trip_start_time'][df.trip_start_time.dt.month <= 3])"
   ]
  },
  {
   "cell_type": "code",
   "execution_count": 664,
   "metadata": {},
   "outputs": [
    {
     "data": {
      "text/plain": [
       "235647"
      ]
     },
     "execution_count": 664,
     "metadata": {},
     "output_type": "execute_result"
    }
   ],
   "source": [
    "333353 - 68370 - 29336"
   ]
  },
  {
   "cell_type": "code",
   "execution_count": 665,
   "metadata": {},
   "outputs": [
    {
     "data": {
      "text/plain": [
       "97706"
      ]
     },
     "execution_count": 665,
     "metadata": {},
     "output_type": "execute_result"
    }
   ],
   "source": [
    "68370 + 29336"
   ]
  },
  {
   "cell_type": "code",
   "execution_count": 667,
   "metadata": {},
   "outputs": [
    {
     "data": {
      "text/plain": [
       "(97706,)"
      ]
     },
     "execution_count": 667,
     "metadata": {},
     "output_type": "execute_result"
    }
   ],
   "source": [
    "start_inc = df['trip_start_time'][(df.trip_start_time.dt.month > 6) | (df.trip_start_time.dt.month <= 3)]\n",
    "start_inc.shape"
   ]
  },
  {
   "cell_type": "code",
   "execution_count": 668,
   "metadata": {},
   "outputs": [
    {
     "data": {
      "text/plain": [
       "(97649,)"
      ]
     },
     "execution_count": 668,
     "metadata": {},
     "output_type": "execute_result"
    }
   ],
   "source": [
    "stop_inc = df['trip_stop_time'][(df.trip_stop_time.dt.month > 6) | (df.trip_stop_time.dt.month <= 3)]\n",
    "stop_inc.shape"
   ]
  },
  {
   "cell_type": "code",
   "execution_count": 670,
   "metadata": {},
   "outputs": [
    {
     "data": {
      "text/plain": [
       "(235647,)"
      ]
     },
     "execution_count": 670,
     "metadata": {},
     "output_type": "execute_result"
    }
   ],
   "source": [
    "start_corr = df['trip_start_time'][(df.trip_start_time.dt.month <= 6) & (df.trip_start_time.dt.month > 3)]\n",
    "start_corr.shape"
   ]
  },
  {
   "cell_type": "code",
   "execution_count": 671,
   "metadata": {},
   "outputs": [
    {
     "data": {
      "text/plain": [
       "(235704,)"
      ]
     },
     "execution_count": 671,
     "metadata": {},
     "output_type": "execute_result"
    }
   ],
   "source": [
    "stop_corr = df['trip_stop_time'][(df.trip_stop_time.dt.month <= 6) & (df.trip_stop_time.dt.month > 3)]\n",
    "stop_corr.shape"
   ]
  },
  {
   "cell_type": "code",
   "execution_count": 672,
   "metadata": {},
   "outputs": [],
   "source": [
    "start_inc = start_inc.apply(lambda x: x.strftime(\"%Y-%d-%m %H:%M:%S\"))\n",
    "stop_inc = stop_inc.apply(lambda x: x.strftime(\"%Y-%d-%m %H:%M:%S\"))"
   ]
  },
  {
   "cell_type": "code",
   "execution_count": 673,
   "metadata": {},
   "outputs": [
    {
     "data": {
      "text/plain": [
       "0    2017-04-01 00:01:00\n",
       "1    2017-04-01 10:42:00\n",
       "2    2017-04-01 13:50:00\n",
       "3    2017-04-01 13:53:00\n",
       "4    2017-04-01 18:56:00\n",
       "Name: trip_start_time, dtype: object"
      ]
     },
     "execution_count": 673,
     "metadata": {},
     "output_type": "execute_result"
    }
   ],
   "source": [
    "start_inc.head()"
   ]
  },
  {
   "cell_type": "code",
   "execution_count": 674,
   "metadata": {},
   "outputs": [
    {
     "data": {
      "text/plain": [
       "0    2017-04-01 00:06:00\n",
       "1    2017-04-01 10:46:00\n",
       "2    2017-04-01 13:55:00\n",
       "3    2017-04-01 13:59:00\n",
       "4    2017-04-01 20:19:00\n",
       "Name: trip_stop_time, dtype: object"
      ]
     },
     "execution_count": 674,
     "metadata": {},
     "output_type": "execute_result"
    }
   ],
   "source": [
    "stop_inc.head()"
   ]
  },
  {
   "cell_type": "code",
   "execution_count": 675,
   "metadata": {},
   "outputs": [
    {
     "data": {
      "text/plain": [
       "((333353,), (333353,))"
      ]
     },
     "execution_count": 675,
     "metadata": {},
     "output_type": "execute_result"
    }
   ],
   "source": [
    "start_all = pd.concat([start_inc, start_corr])\n",
    "stop_all = pd.concat([stop_inc, stop_corr])\n",
    "start_all.shape, stop_all.shape"
   ]
  },
  {
   "cell_type": "code",
   "execution_count": 676,
   "metadata": {},
   "outputs": [
    {
     "data": {
      "text/html": [
       "<div>\n",
       "<style scoped>\n",
       "    .dataframe tbody tr th:only-of-type {\n",
       "        vertical-align: middle;\n",
       "    }\n",
       "\n",
       "    .dataframe tbody tr th {\n",
       "        vertical-align: top;\n",
       "    }\n",
       "\n",
       "    .dataframe thead th {\n",
       "        text-align: right;\n",
       "    }\n",
       "</style>\n",
       "<table border=\"1\" class=\"dataframe\">\n",
       "  <thead>\n",
       "    <tr style=\"text-align: right;\">\n",
       "      <th></th>\n",
       "      <th>trip_start_time</th>\n",
       "      <th>start_station_code</th>\n",
       "      <th>trip_stop_time</th>\n",
       "      <th>end_station_code</th>\n",
       "      <th>trip_duration_seconds</th>\n",
       "      <th>membership_type</th>\n",
       "      <th>city</th>\n",
       "    </tr>\n",
       "  </thead>\n",
       "  <tbody>\n",
       "    <tr>\n",
       "      <th>0</th>\n",
       "      <td>2017-04-01 00:01:00</td>\n",
       "      <td>7046</td>\n",
       "      <td>2017-04-01 00:06:00</td>\n",
       "      <td>7173</td>\n",
       "      <td>297</td>\n",
       "      <td>1</td>\n",
       "      <td>tor</td>\n",
       "    </tr>\n",
       "    <tr>\n",
       "      <th>1</th>\n",
       "      <td>2017-04-01 10:42:00</td>\n",
       "      <td>7046</td>\n",
       "      <td>2017-04-01 10:46:00</td>\n",
       "      <td>7045</td>\n",
       "      <td>207</td>\n",
       "      <td>1</td>\n",
       "      <td>tor</td>\n",
       "    </tr>\n",
       "    <tr>\n",
       "      <th>2</th>\n",
       "      <td>2017-04-01 13:50:00</td>\n",
       "      <td>7046</td>\n",
       "      <td>2017-04-01 13:55:00</td>\n",
       "      <td>7080</td>\n",
       "      <td>287</td>\n",
       "      <td>1</td>\n",
       "      <td>tor</td>\n",
       "    </tr>\n",
       "    <tr>\n",
       "      <th>3</th>\n",
       "      <td>2017-04-01 13:53:00</td>\n",
       "      <td>7046</td>\n",
       "      <td>2017-04-01 13:59:00</td>\n",
       "      <td>7183</td>\n",
       "      <td>358</td>\n",
       "      <td>1</td>\n",
       "      <td>tor</td>\n",
       "    </tr>\n",
       "  </tbody>\n",
       "</table>\n",
       "</div>"
      ],
      "text/plain": [
       "      trip_start_time start_station_code      trip_stop_time end_station_code  \\\n",
       "0 2017-04-01 00:01:00               7046 2017-04-01 00:06:00             7173   \n",
       "1 2017-04-01 10:42:00               7046 2017-04-01 10:46:00             7045   \n",
       "2 2017-04-01 13:50:00               7046 2017-04-01 13:55:00             7080   \n",
       "3 2017-04-01 13:53:00               7046 2017-04-01 13:59:00             7183   \n",
       "\n",
       "   trip_duration_seconds membership_type city  \n",
       "0                    297               1  tor  \n",
       "1                    207               1  tor  \n",
       "2                    287               1  tor  \n",
       "3                    358               1  tor  "
      ]
     },
     "execution_count": 676,
     "metadata": {},
     "output_type": "execute_result"
    }
   ],
   "source": [
    "start_all = pd.to_datetime(start_all)\n",
    "stop_all = pd.to_datetime(stop_all)\n",
    "\n",
    "df1 = df.copy()\n",
    "df1.drop(['trip_start_time', 'trip_stop_time'], inplace = True, axis = 1)\n",
    "\n",
    "df1.insert(0, 'trip_start_time', start_all)\n",
    "df1.insert(2, 'trip_stop_time', stop_all)\n",
    "\n",
    "df1.head(4)"
   ]
  },
  {
   "cell_type": "code",
   "execution_count": 677,
   "metadata": {},
   "outputs": [
    {
     "data": {
      "text/plain": [
       "(333353, 7)"
      ]
     },
     "execution_count": 677,
     "metadata": {},
     "output_type": "execute_result"
    }
   ],
   "source": [
    "df1.shape"
   ]
  },
  {
   "cell_type": "code",
   "execution_count": 678,
   "metadata": {},
   "outputs": [
    {
     "data": {
      "text/html": [
       "<div>\n",
       "<style scoped>\n",
       "    .dataframe tbody tr th:only-of-type {\n",
       "        vertical-align: middle;\n",
       "    }\n",
       "\n",
       "    .dataframe tbody tr th {\n",
       "        vertical-align: top;\n",
       "    }\n",
       "\n",
       "    .dataframe thead th {\n",
       "        text-align: right;\n",
       "    }\n",
       "</style>\n",
       "<table border=\"1\" class=\"dataframe\">\n",
       "  <thead>\n",
       "    <tr style=\"text-align: right;\">\n",
       "      <th></th>\n",
       "      <th>trip_start_time</th>\n",
       "      <th>trip_stop_time</th>\n",
       "    </tr>\n",
       "  </thead>\n",
       "  <tbody>\n",
       "    <tr>\n",
       "      <th>count</th>\n",
       "      <td>333353</td>\n",
       "      <td>333353</td>\n",
       "    </tr>\n",
       "    <tr>\n",
       "      <th>unique</th>\n",
       "      <td>87695</td>\n",
       "      <td>87404</td>\n",
       "    </tr>\n",
       "    <tr>\n",
       "      <th>top</th>\n",
       "      <td>2017-06-13 12:41:00</td>\n",
       "      <td>2017-06-14 21:25:00</td>\n",
       "    </tr>\n",
       "    <tr>\n",
       "      <th>freq</th>\n",
       "      <td>24</td>\n",
       "      <td>26</td>\n",
       "    </tr>\n",
       "    <tr>\n",
       "      <th>first</th>\n",
       "      <td>2017-04-01 00:01:00</td>\n",
       "      <td>2017-04-01 00:06:00</td>\n",
       "    </tr>\n",
       "    <tr>\n",
       "      <th>last</th>\n",
       "      <td>2017-06-30 23:59:00</td>\n",
       "      <td>2017-07-01 01:48:00</td>\n",
       "    </tr>\n",
       "  </tbody>\n",
       "</table>\n",
       "</div>"
      ],
      "text/plain": [
       "            trip_start_time       trip_stop_time\n",
       "count                333353               333353\n",
       "unique                87695                87404\n",
       "top     2017-06-13 12:41:00  2017-06-14 21:25:00\n",
       "freq                     24                   26\n",
       "first   2017-04-01 00:01:00  2017-04-01 00:06:00\n",
       "last    2017-06-30 23:59:00  2017-07-01 01:48:00"
      ]
     },
     "execution_count": 678,
     "metadata": {},
     "output_type": "execute_result"
    }
   ],
   "source": [
    "df1[['trip_start_time', 'trip_stop_time']].describe()"
   ]
  },
  {
   "cell_type": "code",
   "execution_count": 679,
   "metadata": {},
   "outputs": [],
   "source": [
    "feather.write_feather(df1, 'feather-data/toronto_2017Q2.feather')"
   ]
  },
  {
   "cell_type": "code",
   "execution_count": 17,
   "metadata": {},
   "outputs": [
    {
     "data": {
      "text/plain": [
       "['feather-data/toronto_2016Q3.feather',\n",
       " 'feather-data/toronto_2016Q4.feather',\n",
       " 'feather-data/toronto_2017Q1.feather',\n",
       " 'feather-data/toronto_2017Q2.feather',\n",
       " 'feather-data/toronto_2017Q3.feather',\n",
       " 'feather-data/toronto_2017Q4.feather']"
      ]
     },
     "execution_count": 17,
     "metadata": {},
     "output_type": "execute_result"
    }
   ],
   "source": [
    "tor_files = subprocess.getoutput('ls feather-data/t*.feather').split('\\n')\n",
    "tor_files[1:]"
   ]
  },
  {
   "cell_type": "code",
   "execution_count": 20,
   "metadata": {},
   "outputs": [
    {
     "name": "stdout",
     "output_type": "stream",
     "text": [
      "feather-data/toronto_2016Q3.feather\n",
      "            trip_start_time       trip_stop_time\n",
      "count                367956               367956\n",
      "unique                95724                95169\n",
      "top     2016-09-26 12:32:00  2016-09-13 13:00:00\n",
      "freq                     24                   22\n",
      "first   2016-07-01 00:00:00  2016-07-01 00:07:00\n",
      "last    2016-09-30 23:59:00  2016-10-01 00:58:00\n",
      "--------------------------------------------------\n",
      "feather-data/toronto_2016Q4.feather\n",
      "            trip_start_time       trip_stop_time\n",
      "count                217565               217565\n",
      "unique                75935                75695\n",
      "top     2016-10-19 12:44:00  2016-10-05 13:06:00\n",
      "freq                     24                   23\n",
      "first   2016-10-01 00:00:00  2016-10-01 00:04:00\n",
      "last    2016-12-31 23:40:00  2016-12-31 23:58:00\n",
      "--------------------------------------------------\n",
      "feather-data/toronto_2017Q1.feather\n",
      "            trip_start_time       trip_stop_time\n",
      "count                132123               132123\n",
      "unique                61704                61549\n",
      "top     2017-03-21 12:31:00  2017-01-13 14:06:00\n",
      "freq                     17                   16\n",
      "first   2017-01-01 00:00:00  2017-01-01 00:03:00\n",
      "last    2017-03-31 23:54:00  2017-03-31 23:57:00\n",
      "--------------------------------------------------\n",
      "feather-data/toronto_2017Q2.feather\n",
      "            trip_start_time       trip_stop_time\n",
      "count                333353               333353\n",
      "unique                87695                87404\n",
      "top     2017-06-13 12:41:00  2017-06-14 21:25:00\n",
      "freq                     24                   26\n",
      "first   2017-04-01 00:01:00  2017-04-01 00:06:00\n",
      "last    2017-06-30 23:59:00  2017-07-01 01:48:00\n",
      "--------------------------------------------------\n",
      "feather-data/toronto_2017Q3.feather\n",
      "            trip_start_time       trip_stop_time\n",
      "count                663488               663488\n",
      "unique               106315               106314\n",
      "top     2017-09-27 17:39:00  2017-08-28 17:22:00\n",
      "freq                     40                   38\n",
      "first   2017-07-01 00:00:00  2017-07-01 00:09:00\n",
      "last    2017-09-30 23:59:00  2017-11-02 20:30:00\n",
      "--------------------------------------------------\n",
      "feather-data/toronto_2017Q4.feather\n",
      "            trip_start_time       trip_stop_time\n",
      "count                363404               363404\n",
      "unique               343273               337512\n",
      "top     2017-10-10 17:06:41  2017-10-26 17:25:06\n",
      "freq                      5                    6\n",
      "first   2017-10-01 00:00:01  2017-10-01 00:00:27\n",
      "last    2017-12-31 23:49:41  2018-01-01 00:11:40\n",
      "--------------------------------------------------\n"
     ]
    }
   ],
   "source": [
    "check_dates(tor_files[1:])"
   ]
  },
  {
   "cell_type": "code",
   "execution_count": 22,
   "metadata": {},
   "outputs": [
    {
     "data": {
      "text/plain": [
       "['feather-data/vancouver_2017.feather',\n",
       " 'feather-data/vancouver_2017_xtr.feather',\n",
       " 'feather-data/vancouver_2017_xtrx.feather',\n",
       " 'feather-data/vancouver_2017x.feather',\n",
       " 'feather-data/vancouver_2018-01.feather',\n",
       " 'feather-data/vancouver_2018-01_xtr.feather',\n",
       " 'feather-data/vancouver_2018-02.feather',\n",
       " 'feather-data/vancouver_2018-02_xtr.feather',\n",
       " 'feather-data/vancouver_2018-03.feather',\n",
       " 'feather-data/vancouver_2018-03_xtr.feather',\n",
       " 'feather-data/vancouver_2018-04.feather',\n",
       " 'feather-data/vancouver_2018-04_xtr.feather',\n",
       " 'feather-data/vancouver_2018-05.feather',\n",
       " 'feather-data/vancouver_2018-05_xtr.feather',\n",
       " 'feather-data/vancouver_2018-06.feather',\n",
       " 'feather-data/vancouver_2018-06_xtr.feather',\n",
       " 'feather-data/vancouver_2018-07.feather',\n",
       " 'feather-data/vancouver_2018-07_xtr.feather',\n",
       " 'feather-data/vancouver_2018-08.feather',\n",
       " 'feather-data/vancouver_2018-08_xtr.feather',\n",
       " 'feather-data/vancouver_2018-09.feather',\n",
       " 'feather-data/vancouver_2018-09_xtr.feather',\n",
       " 'feather-data/vancouver_2018-10.feather',\n",
       " 'feather-data/vancouver_2018-10_xtr.feather',\n",
       " 'feather-data/vancouver_2018-11.feather',\n",
       " 'feather-data/vancouver_2018-11_xtr.feather',\n",
       " 'feather-data/vancouver_2018-12.feather',\n",
       " 'feather-data/vancouver_2018-12_xtr.feather',\n",
       " 'feather-data/vancouver_2019-01.feather',\n",
       " 'feather-data/vancouver_2019-01_xtr.feather',\n",
       " 'feather-data/vancouver_2019-02.feather',\n",
       " 'feather-data/vancouver_2019-02_xtr.feather',\n",
       " 'feather-data/vancouver_2019-03.feather',\n",
       " 'feather-data/vancouver_2019-03_xtr.feather']"
      ]
     },
     "execution_count": 22,
     "metadata": {},
     "output_type": "execute_result"
    }
   ],
   "source": [
    "van_files = subprocess.getoutput('ls feather-data/v*.feather').split('\\n')\n",
    "van_files[1:]"
   ]
  },
  {
   "cell_type": "code",
   "execution_count": 24,
   "metadata": {},
   "outputs": [
    {
     "name": "stdout",
     "output_type": "stream",
     "text": [
      "feather-data/vancouver_2017.feather\n",
      "            trip_start_time       trip_stop_time\n",
      "count                573538               573538\n",
      "unique                 8476                 8474\n",
      "top     2017-07-01 15:00:00  2017-07-05 18:00:00\n",
      "freq                    402                  395\n",
      "first   2017-01-01 00:00:00  2017-01-01 01:00:00\n",
      "last    2018-01-01 00:00:00  2018-01-03 09:00:00\n",
      "--------------------------------------------------\n",
      "feather-data/vancouver_2017_xtr.feather\n",
      "            trip_start_time       trip_stop_time\n",
      "count                573538               573538\n",
      "unique                 8476                 8474\n",
      "top     2017-07-01 15:00:00  2017-07-05 18:00:00\n",
      "freq                    402                  395\n",
      "first   2017-01-01 00:00:00  2017-01-01 01:00:00\n",
      "last    2018-01-01 00:00:00  2018-01-03 09:00:00\n",
      "--------------------------------------------------\n",
      "feather-data/vancouver_2017_xtrx.feather\n",
      "            trip_start_time       trip_stop_time\n",
      "count                573538               573538\n",
      "unique                 8476                 8474\n",
      "top     2017-07-01 15:00:00  2017-07-05 18:00:00\n",
      "freq                    402                  395\n",
      "first   2017-01-01 00:00:00  2017-01-01 01:00:00\n",
      "last    2018-01-01 00:00:00  2018-01-03 09:00:00\n",
      "--------------------------------------------------\n",
      "feather-data/vancouver_2017x.feather\n",
      "            trip_start_time       trip_stop_time\n",
      "count                573531               573531\n",
      "unique                 8475                 8474\n",
      "top     2017-07-01 15:00:00  2017-07-05 18:00:00\n",
      "freq                    402                  395\n",
      "first   2017-01-01 00:00:00  2017-01-01 01:00:00\n",
      "last    2017-12-31 23:00:00  2018-01-03 09:00:00\n",
      "--------------------------------------------------\n",
      "feather-data/vancouver_2018-01.feather\n",
      "            trip_start_time       trip_stop_time\n",
      "count                 20391                20391\n",
      "unique                  697                  696\n",
      "top     2018-01-22 17:00:00  2018-01-10 09:00:00\n",
      "freq                    132                  135\n",
      "first   2018-01-01 00:00:00  2018-01-01 00:00:00\n",
      "last    2018-02-01 00:00:00  2018-02-01 09:00:00\n",
      "--------------------------------------------------\n",
      "feather-data/vancouver_2018-01_xtr.feather\n",
      "            trip_start_time       trip_stop_time\n",
      "count                 20391                20391\n",
      "unique                  697                  696\n",
      "top     2018-01-22 17:00:00  2018-01-10 09:00:00\n",
      "freq                    132                  135\n",
      "first   2018-01-01 00:00:00  2018-01-01 00:00:00\n",
      "last    2018-02-01 00:00:00  2018-02-01 09:00:00\n",
      "--------------------------------------------------\n",
      "feather-data/vancouver_2018-02.feather\n",
      "            trip_start_time       trip_stop_time\n",
      "count                 22257                22257\n",
      "unique                  624                  629\n",
      "top     2018-02-10 16:00:00  2018-02-10 16:00:00\n",
      "freq                    149                  153\n",
      "first   2018-02-01 00:00:00  2018-02-01 00:00:00\n",
      "last    2018-03-01 00:00:00  2018-03-01 07:00:00\n",
      "--------------------------------------------------\n",
      "feather-data/vancouver_2018-02_xtr.feather\n",
      "            trip_start_time       trip_stop_time\n",
      "count                 22257                22257\n",
      "unique                  624                  629\n",
      "top     2018-02-10 16:00:00  2018-02-10 16:00:00\n",
      "freq                    149                  153\n",
      "first   2018-02-01 00:00:00  2018-02-01 00:00:00\n",
      "last    2018-03-01 00:00:00  2018-03-01 07:00:00\n",
      "--------------------------------------------------\n",
      "feather-data/vancouver_2018-03.feather\n",
      "            trip_start_time       trip_stop_time\n",
      "count                 36802                36802\n",
      "unique                  702                  701\n",
      "top     2018-03-11 15:00:00  2018-03-21 18:00:00\n",
      "freq                    238                  227\n",
      "first   2018-03-01 00:00:00  2018-03-01 00:00:00\n",
      "last    2018-04-01 00:00:00  2018-04-01 11:00:00\n",
      "--------------------------------------------------\n",
      "feather-data/vancouver_2018-03_xtr.feather\n",
      "            trip_start_time       trip_stop_time\n",
      "count                 36802                36802\n",
      "unique                  702                  701\n",
      "top     2018-03-11 15:00:00  2018-03-21 18:00:00\n",
      "freq                    238                  227\n",
      "first   2018-03-01 00:00:00  2018-03-01 00:00:00\n",
      "last    2018-04-01 00:00:00  2018-04-01 11:00:00\n",
      "--------------------------------------------------\n",
      "feather-data/vancouver_2018-04.feather\n",
      "            trip_start_time       trip_stop_time\n",
      "count                 42641                42641\n",
      "unique                  683                  688\n",
      "top     2018-04-26 18:00:00  2018-04-26 18:00:00\n",
      "freq                    316                  321\n",
      "first   2018-04-01 00:00:00  2018-04-01 00:00:00\n",
      "last    2018-05-01 00:00:00  2018-05-01 09:00:00\n",
      "--------------------------------------------------\n",
      "feather-data/vancouver_2018-04_xtr.feather\n",
      "            trip_start_time       trip_stop_time\n",
      "count                 42641                42641\n",
      "unique                  683                  688\n",
      "top     2018-04-26 18:00:00  2018-04-26 18:00:00\n",
      "freq                    316                  321\n",
      "first   2018-04-01 00:00:00  2018-04-01 00:00:00\n",
      "last    2018-05-01 00:00:00  2018-05-01 09:00:00\n",
      "--------------------------------------------------\n",
      "feather-data/vancouver_2018-05.feather\n",
      "            trip_start_time       trip_stop_time\n",
      "count                 88491                88491\n",
      "unique                  720                  726\n",
      "top     2018-05-23 17:00:00  2018-05-26 17:00:00\n",
      "freq                    385                  410\n",
      "first   2018-05-01 00:00:00  2018-05-01 00:00:00\n",
      "last    2018-06-01 00:00:00  2018-06-01 11:00:00\n",
      "--------------------------------------------------\n",
      "feather-data/vancouver_2018-05_xtr.feather\n",
      "            trip_start_time       trip_stop_time\n",
      "count                 88491                88491\n",
      "unique                  720                  726\n",
      "top     2018-05-23 17:00:00  2018-05-26 17:00:00\n",
      "freq                    385                  410\n",
      "first   2018-05-01 00:00:00  2018-05-01 00:00:00\n",
      "last    2018-06-01 00:00:00  2018-06-01 11:00:00\n",
      "--------------------------------------------------\n",
      "feather-data/vancouver_2018-06.feather\n",
      "            trip_start_time       trip_stop_time\n",
      "count                 87435                87435\n",
      "unique                  704                  714\n",
      "top     2018-06-26 17:00:00  2018-06-26 18:00:00\n",
      "freq                    428                  443\n",
      "first   2018-06-01 00:00:00  2018-06-01 00:00:00\n",
      "last    2018-07-01 00:00:00  2018-07-03 09:00:00\n",
      "--------------------------------------------------\n",
      "feather-data/vancouver_2018-06_xtr.feather\n",
      "            trip_start_time       trip_stop_time\n",
      "count                 87435                87435\n",
      "unique                  704                  714\n",
      "top     2018-06-26 17:00:00  2018-06-26 18:00:00\n",
      "freq                    428                  443\n",
      "first   2018-06-01 00:00:00  2018-06-01 00:00:00\n",
      "last    2018-07-01 00:00:00  2018-07-03 09:00:00\n",
      "--------------------------------------------------\n",
      "feather-data/vancouver_2018-07.feather\n",
      "            trip_start_time       trip_stop_time\n",
      "count                114368               114368\n",
      "unique                  737                  737\n",
      "top     2018-07-23 18:00:00  2018-07-23 18:00:00\n",
      "freq                    442                  442\n",
      "first   2018-07-01 00:00:00  2018-07-01 00:00:00\n",
      "last    2018-08-01 00:00:00  2018-08-01 00:00:00\n",
      "--------------------------------------------------\n",
      "feather-data/vancouver_2018-07_xtr.feather\n",
      "            trip_start_time       trip_stop_time\n",
      "count                114368               114368\n",
      "unique                  737                  737\n",
      "top     2018-07-23 18:00:00  2018-07-23 18:00:00\n",
      "freq                    442                  442\n",
      "first   2018-07-01 00:00:00  2018-07-01 00:00:00\n",
      "last    2018-08-01 00:00:00  2018-08-01 00:00:00\n",
      "--------------------------------------------------\n",
      "feather-data/vancouver_2018-08.feather\n",
      "            trip_start_time       trip_stop_time\n",
      "count                110994               110994\n",
      "unique                  743                  754\n",
      "top     2018-08-14 17:00:00  2018-08-14 17:00:00\n",
      "freq                    475                  476\n",
      "first   2018-08-01 00:00:00  2018-08-01 00:00:00\n",
      "last    2018-09-01 00:00:00  2018-09-06 15:00:00\n",
      "--------------------------------------------------\n",
      "feather-data/vancouver_2018-08_xtr.feather\n",
      "            trip_start_time       trip_stop_time\n",
      "count                110994               110994\n",
      "unique                  743                  754\n",
      "top     2018-08-14 17:00:00  2018-08-14 17:00:00\n",
      "freq                    475                  476\n",
      "first   2018-08-01 00:00:00  2018-08-01 00:00:00\n",
      "last    2018-09-01 00:00:00  2018-09-06 15:00:00\n",
      "--------------------------------------------------\n",
      "feather-data/vancouver_2018-09.feather\n",
      "            trip_start_time       trip_stop_time\n",
      "count                 77451                77451\n",
      "unique                  715                  715\n",
      "top     2018-09-17 17:00:00  2018-09-17 17:00:00\n",
      "freq                    408                  409\n",
      "first   2018-09-01 00:00:00  2018-09-01 00:00:00\n",
      "last    2018-10-01 00:00:00  2018-10-01 13:00:00\n",
      "--------------------------------------------------\n",
      "feather-data/vancouver_2018-09_xtr.feather\n",
      "            trip_start_time       trip_stop_time\n",
      "count                 77451                77451\n",
      "unique                  715                  715\n",
      "top     2018-09-17 17:00:00  2018-09-17 17:00:00\n",
      "freq                    408                  409\n",
      "first   2018-09-01 00:00:00  2018-09-01 00:00:00\n",
      "last    2018-10-01 00:00:00  2018-10-01 13:00:00\n",
      "--------------------------------------------------\n",
      "feather-data/vancouver_2018-10.feather\n",
      "            trip_start_time       trip_stop_time\n",
      "count                 65219                65219\n",
      "unique                  736                  742\n",
      "top     2018-10-15 17:00:00  2018-10-15 18:00:00\n",
      "freq                    387                  363\n",
      "first   2018-10-01 00:00:00  2018-10-01 01:00:00\n",
      "last    2018-11-01 00:00:00  2018-11-04 10:00:00\n",
      "--------------------------------------------------\n",
      "feather-data/vancouver_2018-10_xtr.feather\n",
      "            trip_start_time       trip_stop_time\n",
      "count                 65219                65219\n",
      "unique                  736                  742\n",
      "top     2018-10-15 17:00:00  2018-10-15 18:00:00\n",
      "freq                    387                  363\n",
      "first   2018-10-01 00:00:00  2018-10-01 01:00:00\n",
      "last    2018-11-01 00:00:00  2018-11-04 10:00:00\n",
      "--------------------------------------------------\n",
      "feather-data/vancouver_2018-11.feather\n",
      "            trip_start_time       trip_stop_time\n",
      "count                 39230                39230\n",
      "unique                  705                  713\n",
      "top     2018-11-02 17:00:00  2018-11-02 17:00:00\n",
      "freq                    249                  253\n",
      "first   2018-11-01 00:00:00  2018-11-01 00:00:00\n",
      "last    2018-12-01 00:00:00  2018-12-01 13:00:00\n",
      "--------------------------------------------------\n",
      "feather-data/vancouver_2018-11_xtr.feather\n",
      "            trip_start_time       trip_stop_time\n",
      "count                 39230                39230\n",
      "unique                  705                  713\n",
      "top     2018-11-02 17:00:00  2018-11-02 17:00:00\n",
      "freq                    249                  253\n",
      "first   2018-11-01 00:00:00  2018-11-01 00:00:00\n",
      "last    2018-12-01 00:00:00  2018-12-01 13:00:00\n",
      "--------------------------------------------------\n",
      "feather-data/vancouver_2018-12.feather\n",
      "            trip_start_time       trip_stop_time\n",
      "count                 27563                27563\n",
      "unique                  730                  742\n",
      "top     2018-12-31 13:00:00  2018-12-31 15:00:00\n",
      "freq                    215                  202\n",
      "first   2018-12-01 00:00:00  2018-12-01 00:00:00\n",
      "last    2019-01-01 00:00:00  2019-01-02 17:00:00\n",
      "--------------------------------------------------\n",
      "feather-data/vancouver_2018-12_xtr.feather\n",
      "            trip_start_time       trip_stop_time\n",
      "count                 27563                27563\n",
      "unique                  730                  742\n",
      "top     2018-12-31 13:00:00  2018-12-31 15:00:00\n",
      "freq                    215                  202\n",
      "first   2018-12-01 00:00:00  2018-12-01 00:00:00\n",
      "last    2019-01-01 00:00:00  2019-01-02 17:00:00\n",
      "--------------------------------------------------\n",
      "feather-data/vancouver_2019-01.feather\n",
      "            trip_start_time       trip_stop_time\n",
      "count                 36725                36725\n",
      "unique                  719                  722\n",
      "top     2019-01-13 15:00:00  2019-01-13 15:00:00\n",
      "freq                    234                  217\n",
      "first   2019-01-01 00:00:00  2019-01-01 00:00:00\n",
      "last    2019-02-01 00:00:00  2019-02-01 10:00:00\n",
      "--------------------------------------------------\n",
      "feather-data/vancouver_2019-01_xtr.feather\n",
      "            trip_start_time       trip_stop_time\n",
      "count                 36725                36725\n",
      "unique                  719                  722\n",
      "top     2019-01-13 15:00:00  2019-01-13 15:00:00\n",
      "freq                    234                  217\n",
      "first   2019-01-01 00:00:00  2019-01-01 00:00:00\n",
      "last    2019-02-01 00:00:00  2019-02-01 10:00:00\n",
      "--------------------------------------------------\n",
      "feather-data/vancouver_2019-02.feather\n",
      "            trip_start_time       trip_stop_time\n",
      "count                 26095                26095\n",
      "unique                  636                  640\n",
      "top     2019-02-20 17:00:00  2019-02-28 18:00:00\n",
      "freq                    184                  199\n",
      "first   2019-02-01 00:00:00  2019-02-01 00:00:00\n",
      "last    2019-03-01 00:00:00  2019-03-01 19:00:00\n",
      "--------------------------------------------------\n",
      "feather-data/vancouver_2019-02_xtr.feather\n",
      "            trip_start_time       trip_stop_time\n",
      "count                 26095                26095\n",
      "unique                  636                  640\n",
      "top     2019-02-20 17:00:00  2019-02-28 18:00:00\n",
      "freq                    184                  199\n",
      "first   2019-02-01 00:00:00  2019-02-01 00:00:00\n",
      "last    2019-03-01 00:00:00  2019-03-01 19:00:00\n",
      "--------------------------------------------------\n",
      "feather-data/vancouver_2019-03.feather\n",
      "            trip_start_time       trip_stop_time\n",
      "count                 57435                57435\n",
      "unique                  729                  735\n",
      "top     2019-03-19 18:00:00  2019-03-19 18:00:00\n",
      "freq                    348                  342\n",
      "first   2019-03-01 00:00:00  2019-03-01 00:00:00\n",
      "last    2019-03-31 23:00:00  2019-04-01 15:00:00\n",
      "--------------------------------------------------\n",
      "feather-data/vancouver_2019-03_xtr.feather\n",
      "            trip_start_time       trip_stop_time\n",
      "count                 57435                57435\n",
      "unique                  729                  735\n",
      "top     2019-03-19 18:00:00  2019-03-19 18:00:00\n",
      "freq                    348                  342\n",
      "first   2019-03-01 00:00:00  2019-03-01 00:00:00\n",
      "last    2019-03-31 23:00:00  2019-04-01 15:00:00\n",
      "--------------------------------------------------\n"
     ]
    }
   ],
   "source": [
    "check_dates(van_files[1:])"
   ]
  },
  {
   "cell_type": "code",
   "execution_count": 3,
   "metadata": {},
   "outputs": [],
   "source": [
    "tor = feather.read_feather('feather-data/tor_stations.feather')\n",
    "van = feather.read_feather('feather-data/van_stations.feather')\n",
    "mtl = feather.read_feather('feather-data/mtl_stations.feather')"
   ]
  },
  {
   "cell_type": "code",
   "execution_count": 3,
   "metadata": {},
   "outputs": [
    {
     "data": {
      "text/html": [
       "<div>\n",
       "<style scoped>\n",
       "    .dataframe tbody tr th:only-of-type {\n",
       "        vertical-align: middle;\n",
       "    }\n",
       "\n",
       "    .dataframe tbody tr th {\n",
       "        vertical-align: top;\n",
       "    }\n",
       "\n",
       "    .dataframe thead th {\n",
       "        text-align: right;\n",
       "    }\n",
       "</style>\n",
       "<table border=\"1\" class=\"dataframe\">\n",
       "  <thead>\n",
       "    <tr style=\"text-align: right;\">\n",
       "      <th></th>\n",
       "      <th>code</th>\n",
       "      <th>intersection</th>\n",
       "      <th>city</th>\n",
       "      <th>latitude</th>\n",
       "      <th>longitude</th>\n",
       "    </tr>\n",
       "  </thead>\n",
       "  <tbody>\n",
       "    <tr>\n",
       "      <th>0</th>\n",
       "      <td>7000</td>\n",
       "      <td>King St W &amp; Spadina Ave</td>\n",
       "      <td>tor</td>\n",
       "      <td>43.250575</td>\n",
       "      <td>-79.833498</td>\n",
       "    </tr>\n",
       "    <tr>\n",
       "      <th>1</th>\n",
       "      <td>7001</td>\n",
       "      <td>519 Church St</td>\n",
       "      <td>tor</td>\n",
       "      <td>43.666552</td>\n",
       "      <td>-79.380943</td>\n",
       "    </tr>\n",
       "    <tr>\n",
       "      <th>2</th>\n",
       "      <td>7002</td>\n",
       "      <td>51 Parliament St</td>\n",
       "      <td>tor</td>\n",
       "      <td>43.651951</td>\n",
       "      <td>-79.362142</td>\n",
       "    </tr>\n",
       "  </tbody>\n",
       "</table>\n",
       "</div>"
      ],
      "text/plain": [
       "   code             intersection city   latitude  longitude\n",
       "0  7000  King St W & Spadina Ave  tor  43.250575 -79.833498\n",
       "1  7001            519 Church St  tor  43.666552 -79.380943\n",
       "2  7002         51 Parliament St  tor  43.651951 -79.362142"
      ]
     },
     "execution_count": 3,
     "metadata": {},
     "output_type": "execute_result"
    }
   ],
   "source": [
    "tor.head(3)"
   ]
  },
  {
   "cell_type": "code",
   "execution_count": 4,
   "metadata": {},
   "outputs": [
    {
     "data": {
      "text/html": [
       "<div>\n",
       "<style scoped>\n",
       "    .dataframe tbody tr th:only-of-type {\n",
       "        vertical-align: middle;\n",
       "    }\n",
       "\n",
       "    .dataframe tbody tr th {\n",
       "        vertical-align: top;\n",
       "    }\n",
       "\n",
       "    .dataframe thead th {\n",
       "        text-align: right;\n",
       "    }\n",
       "</style>\n",
       "<table border=\"1\" class=\"dataframe\">\n",
       "  <thead>\n",
       "    <tr style=\"text-align: right;\">\n",
       "      <th></th>\n",
       "      <th>code</th>\n",
       "      <th>intersection</th>\n",
       "      <th>city</th>\n",
       "      <th>latitude</th>\n",
       "      <th>longitude</th>\n",
       "    </tr>\n",
       "  </thead>\n",
       "  <tbody>\n",
       "    <tr>\n",
       "      <th>0</th>\n",
       "      <td>0278</td>\n",
       "      <td>15th &amp; Victoria</td>\n",
       "      <td>van</td>\n",
       "      <td>49.249660</td>\n",
       "      <td>-123.11934</td>\n",
       "    </tr>\n",
       "    <tr>\n",
       "      <th>1</th>\n",
       "      <td>0273</td>\n",
       "      <td>Victoria &amp; 4th</td>\n",
       "      <td>van</td>\n",
       "      <td>49.266851</td>\n",
       "      <td>-123.06582</td>\n",
       "    </tr>\n",
       "    <tr>\n",
       "      <th>2</th>\n",
       "      <td>0171</td>\n",
       "      <td>5th &amp; Yukon</td>\n",
       "      <td>van</td>\n",
       "      <td>49.249660</td>\n",
       "      <td>-123.11934</td>\n",
       "    </tr>\n",
       "  </tbody>\n",
       "</table>\n",
       "</div>"
      ],
      "text/plain": [
       "   code     intersection city   latitude  longitude\n",
       "0  0278  15th & Victoria  van  49.249660 -123.11934\n",
       "1  0273   Victoria & 4th  van  49.266851 -123.06582\n",
       "2  0171      5th & Yukon  van  49.249660 -123.11934"
      ]
     },
     "execution_count": 4,
     "metadata": {},
     "output_type": "execute_result"
    }
   ],
   "source": [
    "van.head(3)"
   ]
  },
  {
   "cell_type": "code",
   "execution_count": 5,
   "metadata": {},
   "outputs": [
    {
     "data": {
      "text/html": [
       "<div>\n",
       "<style scoped>\n",
       "    .dataframe tbody tr th:only-of-type {\n",
       "        vertical-align: middle;\n",
       "    }\n",
       "\n",
       "    .dataframe tbody tr th {\n",
       "        vertical-align: top;\n",
       "    }\n",
       "\n",
       "    .dataframe thead th {\n",
       "        text-align: right;\n",
       "    }\n",
       "</style>\n",
       "<table border=\"1\" class=\"dataframe\">\n",
       "  <thead>\n",
       "    <tr style=\"text-align: right;\">\n",
       "      <th></th>\n",
       "      <th>code</th>\n",
       "      <th>intersection</th>\n",
       "      <th>latitude</th>\n",
       "      <th>longitude</th>\n",
       "      <th>city</th>\n",
       "    </tr>\n",
       "  </thead>\n",
       "  <tbody>\n",
       "    <tr>\n",
       "      <th>0</th>\n",
       "      <td>6209</td>\n",
       "      <td>Milton &amp; Clark</td>\n",
       "      <td>45.512520</td>\n",
       "      <td>-73.570620</td>\n",
       "      <td>mtl</td>\n",
       "    </tr>\n",
       "    <tr>\n",
       "      <th>1</th>\n",
       "      <td>6436</td>\n",
       "      <td>Côte St-Antoine &amp; Clarke</td>\n",
       "      <td>45.486452</td>\n",
       "      <td>-73.595234</td>\n",
       "      <td>mtl</td>\n",
       "    </tr>\n",
       "    <tr>\n",
       "      <th>2</th>\n",
       "      <td>6214</td>\n",
       "      <td>Square St-Louis</td>\n",
       "      <td>45.517350</td>\n",
       "      <td>-73.569060</td>\n",
       "      <td>mtl</td>\n",
       "    </tr>\n",
       "  </tbody>\n",
       "</table>\n",
       "</div>"
      ],
      "text/plain": [
       "   code              intersection   latitude  longitude city\n",
       "0  6209            Milton & Clark  45.512520 -73.570620  mtl\n",
       "1  6436  Côte St-Antoine & Clarke  45.486452 -73.595234  mtl\n",
       "2  6214           Square St-Louis  45.517350 -73.569060  mtl"
      ]
     },
     "execution_count": 5,
     "metadata": {},
     "output_type": "execute_result"
    }
   ],
   "source": [
    "mtl.head(3)"
   ]
  },
  {
   "cell_type": "code",
   "execution_count": 6,
   "metadata": {},
   "outputs": [
    {
     "data": {
      "text/html": [
       "<div>\n",
       "<style scoped>\n",
       "    .dataframe tbody tr th:only-of-type {\n",
       "        vertical-align: middle;\n",
       "    }\n",
       "\n",
       "    .dataframe tbody tr th {\n",
       "        vertical-align: top;\n",
       "    }\n",
       "\n",
       "    .dataframe thead th {\n",
       "        text-align: right;\n",
       "    }\n",
       "</style>\n",
       "<table border=\"1\" class=\"dataframe\">\n",
       "  <thead>\n",
       "    <tr style=\"text-align: right;\">\n",
       "      <th></th>\n",
       "      <th>code</th>\n",
       "      <th>intersection</th>\n",
       "      <th>latitude</th>\n",
       "      <th>longitude</th>\n",
       "      <th>city</th>\n",
       "    </tr>\n",
       "  </thead>\n",
       "  <tbody>\n",
       "    <tr>\n",
       "      <th>0</th>\n",
       "      <td>7000</td>\n",
       "      <td>King St W &amp; Spadina Ave</td>\n",
       "      <td>43.250575</td>\n",
       "      <td>-79.833498</td>\n",
       "      <td>tor</td>\n",
       "    </tr>\n",
       "    <tr>\n",
       "      <th>1</th>\n",
       "      <td>7001</td>\n",
       "      <td>519 Church St</td>\n",
       "      <td>43.666552</td>\n",
       "      <td>-79.380943</td>\n",
       "      <td>tor</td>\n",
       "    </tr>\n",
       "    <tr>\n",
       "      <th>2</th>\n",
       "      <td>7002</td>\n",
       "      <td>51 Parliament St</td>\n",
       "      <td>43.651951</td>\n",
       "      <td>-79.362142</td>\n",
       "      <td>tor</td>\n",
       "    </tr>\n",
       "  </tbody>\n",
       "</table>\n",
       "</div>"
      ],
      "text/plain": [
       "   code             intersection   latitude  longitude city\n",
       "0  7000  King St W & Spadina Ave  43.250575 -79.833498  tor\n",
       "1  7001            519 Church St  43.666552 -79.380943  tor\n",
       "2  7002         51 Parliament St  43.651951 -79.362142  tor"
      ]
     },
     "execution_count": 6,
     "metadata": {},
     "output_type": "execute_result"
    }
   ],
   "source": [
    "tor = tor[['code', 'intersection', 'latitude', 'longitude', 'city']]\n",
    "tor.head(3)"
   ]
  },
  {
   "cell_type": "code",
   "execution_count": 7,
   "metadata": {},
   "outputs": [
    {
     "data": {
      "text/html": [
       "<div>\n",
       "<style scoped>\n",
       "    .dataframe tbody tr th:only-of-type {\n",
       "        vertical-align: middle;\n",
       "    }\n",
       "\n",
       "    .dataframe tbody tr th {\n",
       "        vertical-align: top;\n",
       "    }\n",
       "\n",
       "    .dataframe thead th {\n",
       "        text-align: right;\n",
       "    }\n",
       "</style>\n",
       "<table border=\"1\" class=\"dataframe\">\n",
       "  <thead>\n",
       "    <tr style=\"text-align: right;\">\n",
       "      <th></th>\n",
       "      <th>code</th>\n",
       "      <th>intersection</th>\n",
       "      <th>latitude</th>\n",
       "      <th>longitude</th>\n",
       "      <th>city</th>\n",
       "    </tr>\n",
       "  </thead>\n",
       "  <tbody>\n",
       "    <tr>\n",
       "      <th>0</th>\n",
       "      <td>0278</td>\n",
       "      <td>15th &amp; Victoria</td>\n",
       "      <td>49.249660</td>\n",
       "      <td>-123.11934</td>\n",
       "      <td>van</td>\n",
       "    </tr>\n",
       "    <tr>\n",
       "      <th>1</th>\n",
       "      <td>0273</td>\n",
       "      <td>Victoria &amp; 4th</td>\n",
       "      <td>49.266851</td>\n",
       "      <td>-123.06582</td>\n",
       "      <td>van</td>\n",
       "    </tr>\n",
       "    <tr>\n",
       "      <th>2</th>\n",
       "      <td>0171</td>\n",
       "      <td>5th &amp; Yukon</td>\n",
       "      <td>49.249660</td>\n",
       "      <td>-123.11934</td>\n",
       "      <td>van</td>\n",
       "    </tr>\n",
       "  </tbody>\n",
       "</table>\n",
       "</div>"
      ],
      "text/plain": [
       "   code     intersection   latitude  longitude city\n",
       "0  0278  15th & Victoria  49.249660 -123.11934  van\n",
       "1  0273   Victoria & 4th  49.266851 -123.06582  van\n",
       "2  0171      5th & Yukon  49.249660 -123.11934  van"
      ]
     },
     "execution_count": 7,
     "metadata": {},
     "output_type": "execute_result"
    }
   ],
   "source": [
    "van = van[['code', 'intersection', 'latitude', 'longitude', 'city']]\n",
    "van.head(3)"
   ]
  },
  {
   "cell_type": "markdown",
   "metadata": {},
   "source": [
    "Single file with stations for all three cities"
   ]
  },
  {
   "cell_type": "code",
   "execution_count": 10,
   "metadata": {},
   "outputs": [
    {
     "data": {
      "text/plain": [
       "(1055, 5)"
      ]
     },
     "execution_count": 10,
     "metadata": {},
     "output_type": "execute_result"
    }
   ],
   "source": [
    "stations_all = pd.concat([tor, van, mtl], axis = 0, sort = False)\n",
    "stations_all.shape"
   ]
  },
  {
   "cell_type": "code",
   "execution_count": 11,
   "metadata": {},
   "outputs": [
    {
     "data": {
      "text/plain": [
       "False"
      ]
     },
     "execution_count": 11,
     "metadata": {},
     "output_type": "execute_result"
    }
   ],
   "source": [
    "stations_all.isna().values.any()"
   ]
  },
  {
   "cell_type": "code",
   "execution_count": 15,
   "metadata": {},
   "outputs": [
    {
     "data": {
      "text/html": [
       "<div>\n",
       "<style scoped>\n",
       "    .dataframe tbody tr th:only-of-type {\n",
       "        vertical-align: middle;\n",
       "    }\n",
       "\n",
       "    .dataframe tbody tr th {\n",
       "        vertical-align: top;\n",
       "    }\n",
       "\n",
       "    .dataframe thead th {\n",
       "        text-align: right;\n",
       "    }\n",
       "</style>\n",
       "<table border=\"1\" class=\"dataframe\">\n",
       "  <thead>\n",
       "    <tr style=\"text-align: right;\">\n",
       "      <th></th>\n",
       "      <th>code</th>\n",
       "      <th>intersection</th>\n",
       "      <th>latitude</th>\n",
       "      <th>longitude</th>\n",
       "      <th>city</th>\n",
       "    </tr>\n",
       "  </thead>\n",
       "  <tbody>\n",
       "    <tr>\n",
       "      <th>0</th>\n",
       "      <td>7000</td>\n",
       "      <td>King St W &amp; Spadina Ave</td>\n",
       "      <td>43.250575</td>\n",
       "      <td>-79.833498</td>\n",
       "      <td>tor</td>\n",
       "    </tr>\n",
       "    <tr>\n",
       "      <th>1</th>\n",
       "      <td>7001</td>\n",
       "      <td>519 Church St</td>\n",
       "      <td>43.666552</td>\n",
       "      <td>-79.380943</td>\n",
       "      <td>tor</td>\n",
       "    </tr>\n",
       "    <tr>\n",
       "      <th>2</th>\n",
       "      <td>7002</td>\n",
       "      <td>51 Parliament St</td>\n",
       "      <td>43.651951</td>\n",
       "      <td>-79.362142</td>\n",
       "      <td>tor</td>\n",
       "    </tr>\n",
       "    <tr>\n",
       "      <th>3</th>\n",
       "      <td>7003</td>\n",
       "      <td>25 York St (ACC&amp;Union Station South)</td>\n",
       "      <td>43.643432</td>\n",
       "      <td>-79.381214</td>\n",
       "      <td>tor</td>\n",
       "    </tr>\n",
       "    <tr>\n",
       "      <th>4</th>\n",
       "      <td>7004</td>\n",
       "      <td>Liberty St &amp; Fraser Ave Green P</td>\n",
       "      <td>43.637585</td>\n",
       "      <td>-79.424121</td>\n",
       "      <td>tor</td>\n",
       "    </tr>\n",
       "  </tbody>\n",
       "</table>\n",
       "</div>"
      ],
      "text/plain": [
       "   code                          intersection   latitude  longitude city\n",
       "0  7000               King St W & Spadina Ave  43.250575 -79.833498  tor\n",
       "1  7001                         519 Church St  43.666552 -79.380943  tor\n",
       "2  7002                      51 Parliament St  43.651951 -79.362142  tor\n",
       "3  7003  25 York St (ACC&Union Station South)  43.643432 -79.381214  tor\n",
       "4  7004       Liberty St & Fraser Ave Green P  43.637585 -79.424121  tor"
      ]
     },
     "execution_count": 15,
     "metadata": {},
     "output_type": "execute_result"
    }
   ],
   "source": [
    "stations_all.head()"
   ]
  },
  {
   "cell_type": "code",
   "execution_count": 17,
   "metadata": {},
   "outputs": [
    {
     "ename": "ValueError",
     "evalue": "Index has duplicate keys: MultiIndex(levels=[['0044', '0108', '0148', '0173', '0221', '0997', '1000'], ['van']],\n           codes=[[3, 5, 2, 1, 0, 4, 6], [0, 0, 0, 0, 0, 0, 0]],\n           names=['code', 'city'])",
     "output_type": "error",
     "traceback": [
      "\u001b[0;31m---------------------------------------------------------------------------\u001b[0m",
      "\u001b[0;31mValueError\u001b[0m                                Traceback (most recent call last)",
      "\u001b[0;32m<ipython-input-17-813a9a63df33>\u001b[0m in \u001b[0;36m<module>\u001b[0;34m\u001b[0m\n\u001b[0;32m----> 1\u001b[0;31m \u001b[0mstations_all\u001b[0m\u001b[0;34m.\u001b[0m\u001b[0mset_index\u001b[0m\u001b[0;34m(\u001b[0m\u001b[0;34m[\u001b[0m\u001b[0;34m'code'\u001b[0m\u001b[0;34m,\u001b[0m \u001b[0;34m'city'\u001b[0m\u001b[0;34m]\u001b[0m\u001b[0;34m,\u001b[0m \u001b[0minplace\u001b[0m \u001b[0;34m=\u001b[0m \u001b[0;32mTrue\u001b[0m\u001b[0;34m,\u001b[0m \u001b[0mverify_integrity\u001b[0m \u001b[0;34m=\u001b[0m \u001b[0;32mTrue\u001b[0m\u001b[0;34m)\u001b[0m\u001b[0;34m\u001b[0m\u001b[0;34m\u001b[0m\u001b[0m\n\u001b[0m",
      "\u001b[0;32m/usr/local/miniconda3/envs/py37/lib/python3.7/site-packages/pandas/core/frame.py\u001b[0m in \u001b[0;36mset_index\u001b[0;34m(self, keys, drop, append, inplace, verify_integrity)\u001b[0m\n\u001b[1;32m   4187\u001b[0m             \u001b[0mduplicates\u001b[0m \u001b[0;34m=\u001b[0m \u001b[0mindex\u001b[0m\u001b[0;34m[\u001b[0m\u001b[0mindex\u001b[0m\u001b[0;34m.\u001b[0m\u001b[0mduplicated\u001b[0m\u001b[0;34m(\u001b[0m\u001b[0;34m)\u001b[0m\u001b[0;34m]\u001b[0m\u001b[0;34m.\u001b[0m\u001b[0munique\u001b[0m\u001b[0;34m(\u001b[0m\u001b[0;34m)\u001b[0m\u001b[0;34m\u001b[0m\u001b[0;34m\u001b[0m\u001b[0m\n\u001b[1;32m   4188\u001b[0m             raise ValueError('Index has duplicate keys: {dup}'.format(\n\u001b[0;32m-> 4189\u001b[0;31m                 dup=duplicates))\n\u001b[0m\u001b[1;32m   4190\u001b[0m \u001b[0;34m\u001b[0m\u001b[0m\n\u001b[1;32m   4191\u001b[0m         \u001b[0;31m# use set to handle duplicate column names gracefully in case of drop\u001b[0m\u001b[0;34m\u001b[0m\u001b[0;34m\u001b[0m\u001b[0;34m\u001b[0m\u001b[0m\n",
      "\u001b[0;31mValueError\u001b[0m: Index has duplicate keys: MultiIndex(levels=[['0044', '0108', '0148', '0173', '0221', '0997', '1000'], ['van']],\n           codes=[[3, 5, 2, 1, 0, 4, 6], [0, 0, 0, 0, 0, 0, 0]],\n           names=['code', 'city'])"
     ]
    }
   ],
   "source": [
    "stations_all.set_index(['code', 'city'], inplace = True, verify_integrity = True) # duplicate indices"
   ]
  },
  {
   "cell_type": "code",
   "execution_count": 20,
   "metadata": {},
   "outputs": [
    {
     "data": {
      "text/html": [
       "<div>\n",
       "<style scoped>\n",
       "    .dataframe tbody tr th:only-of-type {\n",
       "        vertical-align: middle;\n",
       "    }\n",
       "\n",
       "    .dataframe tbody tr th {\n",
       "        vertical-align: top;\n",
       "    }\n",
       "\n",
       "    .dataframe thead th {\n",
       "        text-align: right;\n",
       "    }\n",
       "</style>\n",
       "<table border=\"1\" class=\"dataframe\">\n",
       "  <thead>\n",
       "    <tr style=\"text-align: right;\">\n",
       "      <th></th>\n",
       "      <th>code</th>\n",
       "      <th>intersection</th>\n",
       "      <th>latitude</th>\n",
       "      <th>longitude</th>\n",
       "      <th>city</th>\n",
       "    </tr>\n",
       "  </thead>\n",
       "  <tbody>\n",
       "    <tr>\n",
       "      <th>38</th>\n",
       "      <td>0044</td>\n",
       "      <td>Richards &amp; Beach</td>\n",
       "      <td>49.283085</td>\n",
       "      <td>-123.113368</td>\n",
       "      <td>van</td>\n",
       "    </tr>\n",
       "    <tr>\n",
       "      <th>181</th>\n",
       "      <td>0044</td>\n",
       "      <td>Pacific &amp; Richards</td>\n",
       "      <td>49.273738</td>\n",
       "      <td>-123.127517</td>\n",
       "      <td>van</td>\n",
       "    </tr>\n",
       "  </tbody>\n",
       "</table>\n",
       "</div>"
      ],
      "text/plain": [
       "     code        intersection   latitude   longitude city\n",
       "38   0044    Richards & Beach  49.283085 -123.113368  van\n",
       "181  0044  Pacific & Richards  49.273738 -123.127517  van"
      ]
     },
     "execution_count": 20,
     "metadata": {},
     "output_type": "execute_result"
    }
   ],
   "source": [
    "van[van.code == '0044']"
   ]
  },
  {
   "cell_type": "code",
   "execution_count": 21,
   "metadata": {},
   "outputs": [
    {
     "data": {
      "text/html": [
       "<div>\n",
       "<style scoped>\n",
       "    .dataframe tbody tr th:only-of-type {\n",
       "        vertical-align: middle;\n",
       "    }\n",
       "\n",
       "    .dataframe tbody tr th {\n",
       "        vertical-align: top;\n",
       "    }\n",
       "\n",
       "    .dataframe thead th {\n",
       "        text-align: right;\n",
       "    }\n",
       "</style>\n",
       "<table border=\"1\" class=\"dataframe\">\n",
       "  <thead>\n",
       "    <tr style=\"text-align: right;\">\n",
       "      <th></th>\n",
       "      <th>code</th>\n",
       "      <th>intersection</th>\n",
       "      <th>latitude</th>\n",
       "      <th>longitude</th>\n",
       "      <th>city</th>\n",
       "    </tr>\n",
       "  </thead>\n",
       "  <tbody>\n",
       "    <tr>\n",
       "      <th>22</th>\n",
       "      <td>0108</td>\n",
       "      <td>1st &amp; Chestnut</td>\n",
       "      <td>49.249660</td>\n",
       "      <td>-123.119340</td>\n",
       "      <td>van</td>\n",
       "    </tr>\n",
       "    <tr>\n",
       "      <th>177</th>\n",
       "      <td>0108</td>\n",
       "      <td>Cypress &amp; 1st</td>\n",
       "      <td>49.270704</td>\n",
       "      <td>-123.147877</td>\n",
       "      <td>van</td>\n",
       "    </tr>\n",
       "  </tbody>\n",
       "</table>\n",
       "</div>"
      ],
      "text/plain": [
       "     code    intersection   latitude   longitude city\n",
       "22   0108  1st & Chestnut  49.249660 -123.119340  van\n",
       "177  0108   Cypress & 1st  49.270704 -123.147877  van"
      ]
     },
     "execution_count": 21,
     "metadata": {},
     "output_type": "execute_result"
    }
   ],
   "source": [
    "van[van.code == '0108']"
   ]
  },
  {
   "cell_type": "code",
   "execution_count": 22,
   "metadata": {},
   "outputs": [
    {
     "data": {
      "text/html": [
       "<div>\n",
       "<style scoped>\n",
       "    .dataframe tbody tr th:only-of-type {\n",
       "        vertical-align: middle;\n",
       "    }\n",
       "\n",
       "    .dataframe tbody tr th {\n",
       "        vertical-align: top;\n",
       "    }\n",
       "\n",
       "    .dataframe thead th {\n",
       "        text-align: right;\n",
       "    }\n",
       "</style>\n",
       "<table border=\"1\" class=\"dataframe\">\n",
       "  <thead>\n",
       "    <tr style=\"text-align: right;\">\n",
       "      <th></th>\n",
       "      <th>code</th>\n",
       "      <th>intersection</th>\n",
       "      <th>latitude</th>\n",
       "      <th>longitude</th>\n",
       "      <th>city</th>\n",
       "    </tr>\n",
       "  </thead>\n",
       "  <tbody>\n",
       "    <tr>\n",
       "      <th>98</th>\n",
       "      <td>0148</td>\n",
       "      <td>Creekside Park North</td>\n",
       "      <td>49.316360</td>\n",
       "      <td>-123.069340</td>\n",
       "      <td>van</td>\n",
       "    </tr>\n",
       "    <tr>\n",
       "      <th>103</th>\n",
       "      <td>0148</td>\n",
       "      <td>Quebec &amp; Milross</td>\n",
       "      <td>49.276082</td>\n",
       "      <td>-123.102074</td>\n",
       "      <td>van</td>\n",
       "    </tr>\n",
       "  </tbody>\n",
       "</table>\n",
       "</div>"
      ],
      "text/plain": [
       "     code          intersection   latitude   longitude city\n",
       "98   0148  Creekside Park North  49.316360 -123.069340  van\n",
       "103  0148      Quebec & Milross  49.276082 -123.102074  van"
      ]
     },
     "execution_count": 22,
     "metadata": {},
     "output_type": "execute_result"
    }
   ],
   "source": [
    "van[van.code == '0148']"
   ]
  },
  {
   "cell_type": "code",
   "execution_count": 23,
   "metadata": {},
   "outputs": [
    {
     "data": {
      "text/html": [
       "<div>\n",
       "<style scoped>\n",
       "    .dataframe tbody tr th:only-of-type {\n",
       "        vertical-align: middle;\n",
       "    }\n",
       "\n",
       "    .dataframe tbody tr th {\n",
       "        vertical-align: top;\n",
       "    }\n",
       "\n",
       "    .dataframe thead th {\n",
       "        text-align: right;\n",
       "    }\n",
       "</style>\n",
       "<table border=\"1\" class=\"dataframe\">\n",
       "  <thead>\n",
       "    <tr style=\"text-align: right;\">\n",
       "      <th></th>\n",
       "      <th>code</th>\n",
       "      <th>intersection</th>\n",
       "      <th>latitude</th>\n",
       "      <th>longitude</th>\n",
       "      <th>city</th>\n",
       "    </tr>\n",
       "  </thead>\n",
       "  <tbody>\n",
       "    <tr>\n",
       "      <th>19</th>\n",
       "      <td>0173</td>\n",
       "      <td>Columbia &amp; 2nd</td>\n",
       "      <td>49.269231</td>\n",
       "      <td>-123.109428</td>\n",
       "      <td>van</td>\n",
       "    </tr>\n",
       "    <tr>\n",
       "      <th>55</th>\n",
       "      <td>0173</td>\n",
       "      <td>1st &amp; Columbia</td>\n",
       "      <td>49.249660</td>\n",
       "      <td>-123.119340</td>\n",
       "      <td>van</td>\n",
       "    </tr>\n",
       "  </tbody>\n",
       "</table>\n",
       "</div>"
      ],
      "text/plain": [
       "    code    intersection   latitude   longitude city\n",
       "19  0173  Columbia & 2nd  49.269231 -123.109428  van\n",
       "55  0173  1st & Columbia  49.249660 -123.119340  van"
      ]
     },
     "execution_count": 23,
     "metadata": {},
     "output_type": "execute_result"
    }
   ],
   "source": [
    "van[van.code == '0173']"
   ]
  },
  {
   "cell_type": "code",
   "execution_count": 24,
   "metadata": {},
   "outputs": [
    {
     "data": {
      "text/html": [
       "<div>\n",
       "<style scoped>\n",
       "    .dataframe tbody tr th:only-of-type {\n",
       "        vertical-align: middle;\n",
       "    }\n",
       "\n",
       "    .dataframe tbody tr th {\n",
       "        vertical-align: top;\n",
       "    }\n",
       "\n",
       "    .dataframe thead th {\n",
       "        text-align: right;\n",
       "    }\n",
       "</style>\n",
       "<table border=\"1\" class=\"dataframe\">\n",
       "  <thead>\n",
       "    <tr style=\"text-align: right;\">\n",
       "      <th></th>\n",
       "      <th>code</th>\n",
       "      <th>intersection</th>\n",
       "      <th>latitude</th>\n",
       "      <th>longitude</th>\n",
       "      <th>city</th>\n",
       "    </tr>\n",
       "  </thead>\n",
       "  <tbody>\n",
       "    <tr>\n",
       "      <th>68</th>\n",
       "      <td>0221</td>\n",
       "      <td>Glen &amp; Union</td>\n",
       "      <td>49.24966</td>\n",
       "      <td>-123.11934</td>\n",
       "      <td>van</td>\n",
       "    </tr>\n",
       "    <tr>\n",
       "      <th>194</th>\n",
       "      <td>0221</td>\n",
       "      <td>Union &amp; Glen</td>\n",
       "      <td>49.24966</td>\n",
       "      <td>-123.11934</td>\n",
       "      <td>van</td>\n",
       "    </tr>\n",
       "  </tbody>\n",
       "</table>\n",
       "</div>"
      ],
      "text/plain": [
       "     code  intersection  latitude  longitude city\n",
       "68   0221  Glen & Union  49.24966 -123.11934  van\n",
       "194  0221  Union & Glen  49.24966 -123.11934  van"
      ]
     },
     "execution_count": 24,
     "metadata": {},
     "output_type": "execute_result"
    }
   ],
   "source": [
    "van[van.code == '0221']"
   ]
  },
  {
   "cell_type": "code",
   "execution_count": 25,
   "metadata": {},
   "outputs": [
    {
     "data": {
      "text/html": [
       "<div>\n",
       "<style scoped>\n",
       "    .dataframe tbody tr th:only-of-type {\n",
       "        vertical-align: middle;\n",
       "    }\n",
       "\n",
       "    .dataframe tbody tr th {\n",
       "        vertical-align: top;\n",
       "    }\n",
       "\n",
       "    .dataframe thead th {\n",
       "        text-align: right;\n",
       "    }\n",
       "</style>\n",
       "<table border=\"1\" class=\"dataframe\">\n",
       "  <thead>\n",
       "    <tr style=\"text-align: right;\">\n",
       "      <th></th>\n",
       "      <th>code</th>\n",
       "      <th>intersection</th>\n",
       "      <th>latitude</th>\n",
       "      <th>longitude</th>\n",
       "      <th>city</th>\n",
       "    </tr>\n",
       "  </thead>\n",
       "  <tbody>\n",
       "    <tr>\n",
       "      <th>39</th>\n",
       "      <td>0997</td>\n",
       "      <td>HQ Workshop</td>\n",
       "      <td>49.24966</td>\n",
       "      <td>-123.11934</td>\n",
       "      <td>van</td>\n",
       "    </tr>\n",
       "    <tr>\n",
       "      <th>82</th>\n",
       "      <td>0997</td>\n",
       "      <td>WareHouse Workshop</td>\n",
       "      <td>49.24966</td>\n",
       "      <td>-123.11934</td>\n",
       "      <td>van</td>\n",
       "    </tr>\n",
       "  </tbody>\n",
       "</table>\n",
       "</div>"
      ],
      "text/plain": [
       "    code        intersection  latitude  longitude city\n",
       "39  0997         HQ Workshop  49.24966 -123.11934  van\n",
       "82  0997  WareHouse Workshop  49.24966 -123.11934  van"
      ]
     },
     "execution_count": 25,
     "metadata": {},
     "output_type": "execute_result"
    }
   ],
   "source": [
    "van[van.code == '0997']"
   ]
  },
  {
   "cell_type": "code",
   "execution_count": 26,
   "metadata": {},
   "outputs": [
    {
     "data": {
      "text/html": [
       "<div>\n",
       "<style scoped>\n",
       "    .dataframe tbody tr th:only-of-type {\n",
       "        vertical-align: middle;\n",
       "    }\n",
       "\n",
       "    .dataframe tbody tr th {\n",
       "        vertical-align: top;\n",
       "    }\n",
       "\n",
       "    .dataframe thead th {\n",
       "        text-align: right;\n",
       "    }\n",
       "</style>\n",
       "<table border=\"1\" class=\"dataframe\">\n",
       "  <thead>\n",
       "    <tr style=\"text-align: right;\">\n",
       "      <th></th>\n",
       "      <th>code</th>\n",
       "      <th>intersection</th>\n",
       "      <th>latitude</th>\n",
       "      <th>longitude</th>\n",
       "      <th>city</th>\n",
       "    </tr>\n",
       "  </thead>\n",
       "  <tbody>\n",
       "    <tr>\n",
       "      <th>120</th>\n",
       "      <td>1000</td>\n",
       "      <td>Temporary Events Station</td>\n",
       "      <td>49.24966</td>\n",
       "      <td>-123.11934</td>\n",
       "      <td>van</td>\n",
       "    </tr>\n",
       "    <tr>\n",
       "      <th>206</th>\n",
       "      <td>1000</td>\n",
       "      <td>Temporary Station - Marketing Events</td>\n",
       "      <td>49.24966</td>\n",
       "      <td>-123.11934</td>\n",
       "      <td>van</td>\n",
       "    </tr>\n",
       "  </tbody>\n",
       "</table>\n",
       "</div>"
      ],
      "text/plain": [
       "     code                          intersection  latitude  longitude city\n",
       "120  1000              Temporary Events Station  49.24966 -123.11934  van\n",
       "206  1000  Temporary Station - Marketing Events  49.24966 -123.11934  van"
      ]
     },
     "execution_count": 26,
     "metadata": {},
     "output_type": "execute_result"
    }
   ],
   "source": [
    "van[van.code == '1000']"
   ]
  },
  {
   "cell_type": "code",
   "execution_count": 4,
   "metadata": {},
   "outputs": [],
   "source": [
    "van.drop_duplicates('code', keep = 'first', inplace = True) # keep one address from each pair"
   ]
  },
  {
   "cell_type": "code",
   "execution_count": 36,
   "metadata": {},
   "outputs": [
    {
     "data": {
      "text/plain": [
       "(1048, 5)"
      ]
     },
     "execution_count": 36,
     "metadata": {},
     "output_type": "execute_result"
    }
   ],
   "source": [
    "stations_all = pd.concat([tor, van, mtl], axis = 0, sort = False)\n",
    "stations_all.shape"
   ]
  },
  {
   "cell_type": "code",
   "execution_count": 37,
   "metadata": {},
   "outputs": [],
   "source": [
    "stations_all.set_index(['code', 'city'], inplace = True, verify_integrity = True)"
   ]
  },
  {
   "cell_type": "code",
   "execution_count": 38,
   "metadata": {},
   "outputs": [
    {
     "data": {
      "text/html": [
       "<div>\n",
       "<style scoped>\n",
       "    .dataframe tbody tr th:only-of-type {\n",
       "        vertical-align: middle;\n",
       "    }\n",
       "\n",
       "    .dataframe tbody tr th {\n",
       "        vertical-align: top;\n",
       "    }\n",
       "\n",
       "    .dataframe thead th {\n",
       "        text-align: right;\n",
       "    }\n",
       "</style>\n",
       "<table border=\"1\" class=\"dataframe\">\n",
       "  <thead>\n",
       "    <tr style=\"text-align: right;\">\n",
       "      <th></th>\n",
       "      <th></th>\n",
       "      <th>intersection</th>\n",
       "      <th>latitude</th>\n",
       "      <th>longitude</th>\n",
       "    </tr>\n",
       "    <tr>\n",
       "      <th>code</th>\n",
       "      <th>city</th>\n",
       "      <th></th>\n",
       "      <th></th>\n",
       "      <th></th>\n",
       "    </tr>\n",
       "  </thead>\n",
       "  <tbody>\n",
       "    <tr>\n",
       "      <th>7000</th>\n",
       "      <th>tor</th>\n",
       "      <td>King St W &amp; Spadina Ave</td>\n",
       "      <td>43.250575</td>\n",
       "      <td>-79.833498</td>\n",
       "    </tr>\n",
       "    <tr>\n",
       "      <th>7001</th>\n",
       "      <th>tor</th>\n",
       "      <td>519 Church St</td>\n",
       "      <td>43.666552</td>\n",
       "      <td>-79.380943</td>\n",
       "    </tr>\n",
       "    <tr>\n",
       "      <th>7002</th>\n",
       "      <th>tor</th>\n",
       "      <td>51 Parliament St</td>\n",
       "      <td>43.651951</td>\n",
       "      <td>-79.362142</td>\n",
       "    </tr>\n",
       "    <tr>\n",
       "      <th>7003</th>\n",
       "      <th>tor</th>\n",
       "      <td>25 York St (ACC&amp;Union Station South)</td>\n",
       "      <td>43.643432</td>\n",
       "      <td>-79.381214</td>\n",
       "    </tr>\n",
       "    <tr>\n",
       "      <th>7004</th>\n",
       "      <th>tor</th>\n",
       "      <td>Liberty St &amp; Fraser Ave Green P</td>\n",
       "      <td>43.637585</td>\n",
       "      <td>-79.424121</td>\n",
       "    </tr>\n",
       "  </tbody>\n",
       "</table>\n",
       "</div>"
      ],
      "text/plain": [
       "                                   intersection   latitude  longitude\n",
       "code city                                                            \n",
       "7000 tor                King St W & Spadina Ave  43.250575 -79.833498\n",
       "7001 tor                          519 Church St  43.666552 -79.380943\n",
       "7002 tor                       51 Parliament St  43.651951 -79.362142\n",
       "7003 tor   25 York St (ACC&Union Station South)  43.643432 -79.381214\n",
       "7004 tor        Liberty St & Fraser Ave Green P  43.637585 -79.424121"
      ]
     },
     "execution_count": 38,
     "metadata": {},
     "output_type": "execute_result"
    }
   ],
   "source": [
    "stations_all.head()"
   ]
  },
  {
   "cell_type": "code",
   "execution_count": 39,
   "metadata": {},
   "outputs": [],
   "source": [
    "stations_all.reset_index(inplace = True)"
   ]
  },
  {
   "cell_type": "code",
   "execution_count": 40,
   "metadata": {},
   "outputs": [],
   "source": [
    "stations_all = stations_all[['code', 'intersection', 'latitude', 'longitude', 'city']]"
   ]
  },
  {
   "cell_type": "code",
   "execution_count": 41,
   "metadata": {},
   "outputs": [],
   "source": [
    "feather.write_feather(stations_all, 'feather-data/stations-all.feather')"
   ]
  },
  {
   "cell_type": "code",
   "execution_count": null,
   "metadata": {},
   "outputs": [],
   "source": [
    "\n"
   ]
  }
 ],
 "metadata": {
  "kernelspec": {
   "display_name": "py37",
   "language": "python",
   "name": "py37"
  },
  "language_info": {
   "codemirror_mode": {
    "name": "ipython",
    "version": 3
   },
   "file_extension": ".py",
   "mimetype": "text/x-python",
   "name": "python",
   "nbconvert_exporter": "python",
   "pygments_lexer": "ipython3",
   "version": "3.7.3"
  }
 },
 "nbformat": 4,
 "nbformat_minor": 4
}
