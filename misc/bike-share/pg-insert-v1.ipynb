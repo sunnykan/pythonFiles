{
 "cells": [
  {
   "cell_type": "code",
   "execution_count": 4,
   "metadata": {},
   "outputs": [],
   "source": [
    "import psycopg2\n",
    "from psycopg2 import sql\n",
    "import psycopg2.extras\n",
    "from config import config\n",
    "\n",
    "import pandas as pd\n",
    "from pyarrow import feather\n",
    "\n",
    "from typing import Iterator, Dict, Any\n",
    "\n",
    "import subprocess\n",
    "\n",
    "import urllib\n",
    "import requests as r\n",
    "import csv"
   ]
  },
  {
   "cell_type": "code",
   "execution_count": 5,
   "metadata": {},
   "outputs": [],
   "source": [
    "conn = None\n",
    "params = config()\n",
    "conn = psycopg2.connect(**params)\n",
    "conn.autocommit = True"
   ]
  },
  {
   "cell_type": "code",
   "execution_count": 3,
   "metadata": {},
   "outputs": [],
   "source": [
    "def create_stations_table(cursor) -> None:\n",
    "    cursor.execute(\"\"\"\n",
    "        DROP TABLE IF EXISTS stations;\n",
    "        CREATE TABLE stations (\n",
    "            code                TEXT NOT NULL,\n",
    "            intersection        TEXT,\n",
    "            latitude            DOUBLE PRECISION,\n",
    "            longitude           DOUBLE PRECISION,\n",
    "            city                TEXT NOT NULL,\n",
    "            PRIMARY KEY(code, city)\n",
    "        );\n",
    "    \"\"\")"
   ]
  },
  {
   "cell_type": "code",
   "execution_count": 4,
   "metadata": {},
   "outputs": [],
   "source": [
    "with conn.cursor() as cursor:\n",
    "    create_stations_table(cursor)"
   ]
  },
  {
   "cell_type": "code",
   "execution_count": 25,
   "metadata": {},
   "outputs": [],
   "source": [
    "def insert_execute_values(connection, all_stns) -> None:\n",
    "    with connection.cursor() as cursor:\n",
    "        create_stations_table(cursor)\n",
    "        psycopg2.extras.execute_values(cursor, \"\"\"\n",
    "            INSERT INTO stations VALUES %s;\n",
    "        \"\"\", ((\n",
    "            stn[0],\n",
    "            stn[1],\n",
    "            stn[2],\n",
    "            stn[3],\n",
    "            stn[4]\n",
    "\n",
    "        ) for stn in all_stns))"
   ]
  },
  {
   "cell_type": "code",
   "execution_count": 28,
   "metadata": {},
   "outputs": [
    {
     "data": {
      "text/html": [
       "<div>\n",
       "<style scoped>\n",
       "    .dataframe tbody tr th:only-of-type {\n",
       "        vertical-align: middle;\n",
       "    }\n",
       "\n",
       "    .dataframe tbody tr th {\n",
       "        vertical-align: top;\n",
       "    }\n",
       "\n",
       "    .dataframe thead th {\n",
       "        text-align: right;\n",
       "    }\n",
       "</style>\n",
       "<table border=\"1\" class=\"dataframe\">\n",
       "  <thead>\n",
       "    <tr style=\"text-align: right;\">\n",
       "      <th></th>\n",
       "      <th>code</th>\n",
       "      <th>intersection</th>\n",
       "      <th>latitude</th>\n",
       "      <th>longitude</th>\n",
       "      <th>city</th>\n",
       "    </tr>\n",
       "  </thead>\n",
       "  <tbody>\n",
       "    <tr>\n",
       "      <th>0</th>\n",
       "      <td>7000</td>\n",
       "      <td>King St W &amp; Spadina Ave</td>\n",
       "      <td>43.250575</td>\n",
       "      <td>-79.833498</td>\n",
       "      <td>tor</td>\n",
       "    </tr>\n",
       "    <tr>\n",
       "      <th>1</th>\n",
       "      <td>7001</td>\n",
       "      <td>519 Church St</td>\n",
       "      <td>43.666552</td>\n",
       "      <td>-79.380943</td>\n",
       "      <td>tor</td>\n",
       "    </tr>\n",
       "    <tr>\n",
       "      <th>2</th>\n",
       "      <td>7002</td>\n",
       "      <td>51 Parliament St</td>\n",
       "      <td>43.651951</td>\n",
       "      <td>-79.362142</td>\n",
       "      <td>tor</td>\n",
       "    </tr>\n",
       "    <tr>\n",
       "      <th>3</th>\n",
       "      <td>7003</td>\n",
       "      <td>25 York St (ACC&amp;Union Station South)</td>\n",
       "      <td>43.643432</td>\n",
       "      <td>-79.381214</td>\n",
       "      <td>tor</td>\n",
       "    </tr>\n",
       "    <tr>\n",
       "      <th>4</th>\n",
       "      <td>7004</td>\n",
       "      <td>Liberty St &amp; Fraser Ave Green P</td>\n",
       "      <td>43.637585</td>\n",
       "      <td>-79.424121</td>\n",
       "      <td>tor</td>\n",
       "    </tr>\n",
       "  </tbody>\n",
       "</table>\n",
       "</div>"
      ],
      "text/plain": [
       "   code                          intersection   latitude  longitude city\n",
       "0  7000               King St W & Spadina Ave  43.250575 -79.833498  tor\n",
       "1  7001                         519 Church St  43.666552 -79.380943  tor\n",
       "2  7002                      51 Parliament St  43.651951 -79.362142  tor\n",
       "3  7003  25 York St (ACC&Union Station South)  43.643432 -79.381214  tor\n",
       "4  7004       Liberty St & Fraser Ave Green P  43.637585 -79.424121  tor"
      ]
     },
     "execution_count": 28,
     "metadata": {},
     "output_type": "execute_result"
    }
   ],
   "source": [
    "stations = feather.read_feather('feather-data/stations-all.feather')\n",
    "stations.head()"
   ]
  },
  {
   "cell_type": "code",
   "execution_count": 29,
   "metadata": {},
   "outputs": [
    {
     "data": {
      "text/plain": [
       "code             object\n",
       "intersection     object\n",
       "latitude        float64\n",
       "longitude       float64\n",
       "city             object\n",
       "dtype: object"
      ]
     },
     "execution_count": 29,
     "metadata": {},
     "output_type": "execute_result"
    }
   ],
   "source": [
    "stations.dtypes"
   ]
  },
  {
   "cell_type": "code",
   "execution_count": 33,
   "metadata": {},
   "outputs": [],
   "source": [
    "stations_list = [tuple(x) for x in stations.values] # convert dataframe to tuples. Faster than converting to dict using to_dict"
   ]
  },
  {
   "cell_type": "code",
   "execution_count": 32,
   "metadata": {},
   "outputs": [],
   "source": [
    "insert_execute_values(conn, tuples)"
   ]
  },
  {
   "cell_type": "code",
   "execution_count": 33,
   "metadata": {},
   "outputs": [],
   "source": [
    "def create_trips_list(f):\n",
    "    df = feather.read_feather(f)\n",
    "    trips_list = (tuple(x) for x in df.values) #generator?\n",
    "    \n",
    "    return trips_list"
   ]
  },
  {
   "cell_type": "code",
   "execution_count": 10,
   "metadata": {},
   "outputs": [],
   "source": [
    "def create_trips_table(cursor) -> None:\n",
    "    cursor.execute(\"\"\"\n",
    "        DROP TABLE IF EXISTS trips;\n",
    "        CREATE TABLE trips (\n",
    "            trip_start_time         TIMESTAMP,\n",
    "            start_station_code      TEXT,\n",
    "            trip_stop_time          TIMESTAMP,\n",
    "            end_station_code        TEXT,\n",
    "            trip_duration_seconds   INT,\n",
    "            membership_type         TEXT,\n",
    "            city                    TEXT\n",
    "        );\n",
    "    \"\"\") "
   ]
  },
  {
   "cell_type": "code",
   "execution_count": 13,
   "metadata": {},
   "outputs": [],
   "source": [
    "def insert_trips_ev(cursor, trips) -> None:\n",
    "        psycopg2.extras.execute_values(cursor, \"\"\"\n",
    "            INSERT INTO trips VALUES %s;\n",
    "        \"\"\", ((\n",
    "            trip[0],\n",
    "            trip[1],\n",
    "            trip[2],\n",
    "            trip[3],\n",
    "            trip[4],\n",
    "            trip[5],\n",
    "            trip[6]\n",
    "        ) for trip in trips))"
   ]
  },
  {
   "cell_type": "code",
   "execution_count": 9,
   "metadata": {},
   "outputs": [],
   "source": [
    "with conn.cursor() as cursor:\n",
    "    create_trips_table(cursor)"
   ]
  },
  {
   "cell_type": "code",
   "execution_count": 29,
   "metadata": {},
   "outputs": [],
   "source": [
    "def insert_city_trips(fnames):\n",
    "    with conn.cursor() as cursor:\n",
    "        for f in fnames:\n",
    "            print(f)\n",
    "            trips = create_trips_list(f)\n",
    "            insert_trips_ev(cursor, trips)"
   ]
  },
  {
   "cell_type": "code",
   "execution_count": 36,
   "metadata": {},
   "outputs": [
    {
     "data": {
      "text/plain": [
       "['feather-data/toronto_2016Q3.feather',\n",
       " 'feather-data/toronto_2016Q4.feather',\n",
       " 'feather-data/toronto_2017Q1.feather',\n",
       " 'feather-data/toronto_2017Q2.feather',\n",
       " 'feather-data/toronto_2017Q3.feather',\n",
       " 'feather-data/toronto_2017Q4.feather']"
      ]
     },
     "execution_count": 36,
     "metadata": {},
     "output_type": "execute_result"
    }
   ],
   "source": [
    "tor_files = subprocess.getoutput('ls feather-data/t*.feather').split('\\n')\n",
    "tor_files[1:]"
   ]
  },
  {
   "cell_type": "code",
   "execution_count": 63,
   "metadata": {},
   "outputs": [
    {
     "name": "stdout",
     "output_type": "stream",
     "text": [
      "feather-data/toronto_2016Q3.feather\n",
      "feather-data/toronto_2016Q4.feather\n",
      "feather-data/toronto_2017Q1.feather\n",
      "feather-data/toronto_2017Q2.feather\n",
      "feather-data/toronto_2017Q3.feather\n",
      "feather-data/toronto_2017Q4.feather\n"
     ]
    }
   ],
   "source": [
    "insert_city_trips(tor_files[1:])"
   ]
  },
  {
   "cell_type": "code",
   "execution_count": 74,
   "metadata": {},
   "outputs": [],
   "source": [
    "mtl_files = subprocess.getoutput('ls feather-data/m*.feather').split('\\n')"
   ]
  },
  {
   "cell_type": "code",
   "execution_count": 80,
   "metadata": {},
   "outputs": [
    {
     "name": "stdout",
     "output_type": "stream",
     "text": [
      "feather-data/montreal_2014-04.feather\n",
      "feather-data/montreal_2014-05.feather\n",
      "feather-data/montreal_2014-06.feather\n",
      "feather-data/montreal_2014-07.feather\n",
      "feather-data/montreal_2014-08.feather\n",
      "feather-data/montreal_2014-09.feather\n",
      "feather-data/montreal_2014-10.feather\n",
      "feather-data/montreal_2014-11.feather\n",
      "feather-data/montreal_2015-04.feather\n",
      "feather-data/montreal_2015-05.feather\n",
      "feather-data/montreal_2015-06.feather\n",
      "feather-data/montreal_2015-07.feather\n",
      "feather-data/montreal_2015-08.feather\n",
      "feather-data/montreal_2015-09.feather\n",
      "feather-data/montreal_2015-10.feather\n",
      "feather-data/montreal_2015-11.feather\n",
      "feather-data/montreal_2016-04.feather\n",
      "feather-data/montreal_2016-05.feather\n",
      "feather-data/montreal_2016-06.feather\n",
      "feather-data/montreal_2016-07.feather\n",
      "feather-data/montreal_2016-08.feather\n",
      "feather-data/montreal_2016-09.feather\n",
      "feather-data/montreal_2016-10.feather\n",
      "feather-data/montreal_2016-11.feather\n",
      "feather-data/montreal_2017-04.feather\n",
      "feather-data/montreal_2017-05.feather\n",
      "feather-data/montreal_2017-06.feather\n",
      "feather-data/montreal_2017-07.feather\n",
      "feather-data/montreal_2017-08.feather\n",
      "feather-data/montreal_2017-09.feather\n",
      "feather-data/montreal_2017-10.feather\n",
      "feather-data/montreal_2017-11.feather\n",
      "feather-data/montreal_2018-04.feather\n",
      "feather-data/montreal_2018-05.feather\n",
      "feather-data/montreal_2018-06.feather\n",
      "feather-data/montreal_2018-07.feather\n",
      "feather-data/montreal_2018-08.feather\n",
      "feather-data/montreal_2018-09.feather\n",
      "feather-data/montreal_2018-10.feather\n",
      "feather-data/montreal_2018-11.feather\n"
     ]
    }
   ],
   "source": [
    "insert_city_trips(mtl_files[:-6])"
   ]
  },
  {
   "cell_type": "code",
   "execution_count": 81,
   "metadata": {},
   "outputs": [],
   "source": [
    "van_files = subprocess.getoutput('ls feather-data/v*.feather').split('\\n')"
   ]
  },
  {
   "cell_type": "code",
   "execution_count": 85,
   "metadata": {},
   "outputs": [
    {
     "name": "stdout",
     "output_type": "stream",
     "text": [
      "feather-data/vancouver_2017.feather\n",
      "feather-data/vancouver_2018-01.feather\n",
      "feather-data/vancouver_2018-02.feather\n",
      "feather-data/vancouver_2018-03.feather\n",
      "feather-data/vancouver_2018-04.feather\n",
      "feather-data/vancouver_2018-05.feather\n",
      "feather-data/vancouver_2018-06.feather\n",
      "feather-data/vancouver_2018-07.feather\n",
      "feather-data/vancouver_2018-08.feather\n",
      "feather-data/vancouver_2018-09.feather\n",
      "feather-data/vancouver_2018-10.feather\n",
      "feather-data/vancouver_2018-11.feather\n",
      "feather-data/vancouver_2018-12.feather\n",
      "feather-data/vancouver_2019-01.feather\n",
      "feather-data/vancouver_2019-02.feather\n",
      "feather-data/vancouver_2019-03.feather\n"
     ]
    }
   ],
   "source": [
    "insert_city_trips(van_files[1:])"
   ]
  },
  {
   "cell_type": "code",
   "execution_count": 86,
   "metadata": {},
   "outputs": [],
   "source": [
    "query = \"\"\"ALTER TABLE trips ADD COLUMN trip_id SERIAL PRIMARY KEY;\"\"\"\n",
    "with conn.cursor() as cursor:\n",
    "    cursor.execute(query)"
   ]
  },
  {
   "cell_type": "code",
   "execution_count": 91,
   "metadata": {},
   "outputs": [],
   "source": [
    "query = \"\"\"ALTER TABLE trips ADD CONSTRAINT stations_fk FOREIGN KEY (start_station_code, city) REFERENCES stations (code, city);\"\"\"\n",
    "with conn.cursor() as cursor:\n",
    "    cursor.execute(query)"
   ]
  },
  {
   "cell_type": "code",
   "execution_count": 93,
   "metadata": {},
   "outputs": [],
   "source": [
    "def get_weather_data(stationid, year, month):\n",
    "    \n",
    "    base_url = 'http://climate.weather.gc.ca/climate_data/bulk_data_e.html?'\n",
    "\n",
    "    params = {\n",
    "    'format': 'csv',\n",
    "    'stationID': stationid,\n",
    "    'Year': year,\n",
    "    'Month': month, \n",
    "    'timeframe': 1,\n",
    "    'submit': 'Download Data'}\n",
    "    \n",
    "    url = f'{base_url}{urllib.parse.urlencode(params)}'\n",
    "    \n",
    "    with r.Session() as session: # why use session?\n",
    "        response = session.get(url)\n",
    "        response.raise_for_status()\n",
    "\n",
    "        decoded_response = response.content.decode('utf-8-sig') #https://stackoverflow.com/questions/17912307/u-ufeff-in-python-string\n",
    "        data = decoded_response[decoded_response.index('\"Date/'):].splitlines() #finds header row\n",
    "        \n",
    "        reader = csv.DictReader(data[1:], fieldnames = new_colnames)\n",
    "        for record in reader:\n",
    "            yield record # not really necessary here but useful if there were a large number of records"
   ]
  },
  {
   "cell_type": "code",
   "execution_count": 94,
   "metadata": {},
   "outputs": [
    {
     "data": {
      "text/plain": [
       "['date_time',\n",
       " 'year',\n",
       " 'month',\n",
       " 'day',\n",
       " 'time',\n",
       " 'temp_deg_c',\n",
       " 'temp_flag',\n",
       " 'dew_point_temp_deg_c',\n",
       " 'dew_point_temp_flag',\n",
       " 'rel_hum_perc',\n",
       " 'rel_hum_flag',\n",
       " 'wind_dir_10s_deg',\n",
       " 'wind_dir_flag',\n",
       " 'wind_spd_km_h',\n",
       " 'wind_spd_flag',\n",
       " 'visibility_km',\n",
       " 'visibility_flag',\n",
       " 'stn_press_kpa',\n",
       " 'stn_press_flag',\n",
       " 'hmdx',\n",
       " 'hmdx_flag',\n",
       " 'wind_chill',\n",
       " 'wind_chill_flag',\n",
       " 'weather']"
      ]
     },
     "execution_count": 94,
     "metadata": {},
     "output_type": "execute_result"
    }
   ],
   "source": [
    "a = \"\"\" ()%Â°/\"\"\" #characters to replace\n",
    "b = \"_\", \"\", \"\",\"perc\",\"\",\"deg_\",\"_\" #replacements (match on index)\n",
    "\n",
    "orig_colnames = ['Date/Time', 'Year', 'Month', 'Day', 'Time', 'Temp (Â°C)', 'Temp Flag',\n",
    "       'Dew Point Temp (Â°C)', 'Dew Point Temp Flag', 'Rel Hum (%)',\n",
    "       'Rel Hum Flag', 'Wind Dir (10s deg)', 'Wind Dir Flag',\n",
    "       'Wind Spd (km/h)', 'Wind Spd Flag', 'Visibility (km)',\n",
    "       'Visibility Flag', 'Stn Press (kPa)', 'Stn Press Flag', 'Hmdx',\n",
    "       'Hmdx Flag', 'Wind Chill', 'Wind Chill Flag', 'Weather']\n",
    "\n",
    "trans_names = [col_name.translate(str.maketrans(dict(zip(a,b)))) for col_name in orig_colnames] #translation table\n",
    "new_colnames = list(map(str.lower, trans_names))\n",
    "new_colnames"
   ]
  },
  {
   "cell_type": "code",
   "execution_count": 95,
   "metadata": {},
   "outputs": [],
   "source": [
    "mtl_stationid = 30165 #Trudeau Intl\n",
    "tor_stationid = 48549 #Toronto City Ctr\n",
    "van_stationid = 51442 #Vancouver Intl Airport"
   ]
  },
  {
   "cell_type": "code",
   "execution_count": 96,
   "metadata": {},
   "outputs": [],
   "source": [
    "def create_weather_table(cursor) -> None:\n",
    "    cursor.execute(\"\"\"\n",
    "        DROP TABLE IF EXISTS weather;\n",
    "        CREATE TABLE weather (\n",
    "            date_time               TIMESTAMP,\n",
    "            temp_deg_c              REAL,\n",
    "            rel_hum_perc            REAL,\n",
    "            wind_spd_km_h           REAL,\n",
    "            visibility_km           REAL,\n",
    "            wind_chill              REAL,\n",
    "            weather                 TEXT,\n",
    "            city                    TEXT\n",
    "        );\n",
    "    \"\"\") "
   ]
  },
  {
   "cell_type": "code",
   "execution_count": 97,
   "metadata": {},
   "outputs": [],
   "source": [
    "def insert_weather(cursor, weather_data:Iterator[Dict[str, Any]], city) -> None:\n",
    "        psycopg2.extras.execute_values(cursor, \"\"\"\n",
    "            INSERT INTO weather VALUES %s;\n",
    "        \"\"\", ((\n",
    "            w['date_time'],\n",
    "            w['temp_deg_c'],\n",
    "            w['rel_hum_perc'],\n",
    "            w['wind_spd_km_h'],\n",
    "            w['visibility_km'],\n",
    "            w['wind_chill'],\n",
    "            w['weather'],\n",
    "            city\n",
    "        ) for w in weather_data))"
   ]
  },
  {
   "cell_type": "code",
   "execution_count": 98,
   "metadata": {},
   "outputs": [],
   "source": [
    "def clean_weather_data(gen_weather):\n",
    "    weather_data = []\n",
    "    for rec in gen_weather:\n",
    "        rec.update((k, None) for k,v in rec.items() if not v or v == 'NA') \n",
    "        weather_data.append(rec)\n",
    "    return weather_data #list of dicts"
   ]
  },
  {
   "cell_type": "code",
   "execution_count": 99,
   "metadata": {},
   "outputs": [],
   "source": [
    "with conn.cursor() as cursor:\n",
    "    create_weather_table(cursor)"
   ]
  },
  {
   "cell_type": "code",
   "execution_count": 100,
   "metadata": {},
   "outputs": [
    {
     "name": "stdout",
     "output_type": "stream",
     "text": [
      "2014 4\n",
      "2014 5\n",
      "2014 6\n",
      "2014 7\n",
      "2014 8\n",
      "2014 9\n",
      "2014 10\n",
      "2014 11\n",
      "2015 4\n",
      "2015 5\n",
      "2015 6\n",
      "2015 7\n",
      "2015 8\n",
      "2015 9\n",
      "2015 10\n",
      "2015 11\n",
      "2016 4\n",
      "2016 5\n",
      "2016 6\n",
      "2016 7\n",
      "2016 8\n",
      "2016 9\n",
      "2016 10\n",
      "2016 11\n",
      "2017 4\n",
      "2017 5\n",
      "2017 6\n",
      "2017 7\n",
      "2017 8\n",
      "2017 9\n",
      "2017 10\n",
      "2017 11\n",
      "2018 4\n",
      "2018 5\n",
      "2018 6\n",
      "2018 7\n",
      "2018 8\n",
      "2018 9\n",
      "2018 10\n",
      "2018 11\n"
     ]
    }
   ],
   "source": [
    "from time import sleep\n",
    "\n",
    "city = 'mtl'\n",
    "\n",
    "with conn.cursor() as cursor:\n",
    "    for year in [2014, 2015, 2016, 2017, 2018]:\n",
    "        for month in [4, 5, 6, 7, 8, 9, 10, 11]:\n",
    "            print(year, month)\n",
    "            weather_data = clean_weather_data(get_weather_data(stationid = mtl_stationid, year = year, month = month))\n",
    "            insert_weather(cursor, weather_data, city)\n",
    "            sleep(1) #time delay for api call"
   ]
  },
  {
   "cell_type": "code",
   "execution_count": 101,
   "metadata": {},
   "outputs": [],
   "source": [
    "def insert_city_weather(stationid, year, startmth, endmth, city):\n",
    "    \n",
    "    with conn.cursor() as cursor:\n",
    "        for month in range(startmth, endmth+1):\n",
    "            print(year, month)\n",
    "            weather_data = clean_weather_data(get_weather_data(stationid = stationid, year = year, month = month))\n",
    "            insert_weather(cursor, weather_data, city)\n",
    "            sleep(1) #time delay for api call"
   ]
  },
  {
   "cell_type": "code",
   "execution_count": 105,
   "metadata": {},
   "outputs": [
    {
     "name": "stdout",
     "output_type": "stream",
     "text": [
      "2017 1\n",
      "2017 2\n",
      "2017 3\n",
      "2017 4\n",
      "2017 5\n",
      "2017 6\n",
      "2017 7\n",
      "2017 8\n",
      "2017 9\n",
      "2017 10\n",
      "2017 11\n",
      "2017 12\n"
     ]
    }
   ],
   "source": [
    "insert_city_weather(tor_stationid, 2017, 1, 12, 'tor')"
   ]
  },
  {
   "cell_type": "code",
   "execution_count": 106,
   "metadata": {},
   "outputs": [
    {
     "name": "stdout",
     "output_type": "stream",
     "text": [
      "2016 7\n",
      "2016 8\n",
      "2016 9\n",
      "2016 10\n",
      "2016 11\n",
      "2016 12\n"
     ]
    }
   ],
   "source": [
    "insert_city_weather(tor_stationid, 2016, 7, 12, 'tor')"
   ]
  },
  {
   "cell_type": "code",
   "execution_count": 107,
   "metadata": {},
   "outputs": [
    {
     "name": "stdout",
     "output_type": "stream",
     "text": [
      "2017 1\n",
      "2017 2\n",
      "2017 3\n",
      "2017 4\n",
      "2017 5\n",
      "2017 6\n",
      "2017 7\n",
      "2017 8\n",
      "2017 9\n",
      "2017 10\n",
      "2017 11\n",
      "2017 12\n"
     ]
    }
   ],
   "source": [
    "insert_city_weather(van_stationid, 2017, 1, 12, 'van')"
   ]
  },
  {
   "cell_type": "code",
   "execution_count": 108,
   "metadata": {},
   "outputs": [
    {
     "name": "stdout",
     "output_type": "stream",
     "text": [
      "2018 1\n",
      "2018 2\n",
      "2018 3\n",
      "2018 4\n",
      "2018 5\n",
      "2018 6\n",
      "2018 7\n",
      "2018 8\n",
      "2018 9\n",
      "2018 10\n",
      "2018 11\n",
      "2018 12\n"
     ]
    }
   ],
   "source": [
    "insert_city_weather(van_stationid, 2018, 1, 12, 'van')"
   ]
  },
  {
   "cell_type": "code",
   "execution_count": 109,
   "metadata": {},
   "outputs": [
    {
     "name": "stdout",
     "output_type": "stream",
     "text": [
      "2019 1\n",
      "2019 2\n",
      "2019 3\n"
     ]
    }
   ],
   "source": [
    "insert_city_weather(van_stationid, 2019, 1, 3, 'van')"
   ]
  },
  {
   "cell_type": "code",
   "execution_count": 110,
   "metadata": {},
   "outputs": [],
   "source": [
    "query = \"\"\"ALTER TABLE weather ADD PRIMARY KEY (date_time, city);\"\"\"\n",
    "with conn.cursor() as cursor:\n",
    "    cursor.execute(query)"
   ]
  },
  {
   "cell_type": "code",
   "execution_count": 111,
   "metadata": {},
   "outputs": [],
   "source": [
    "query = \"\"\"ALTER TABLE trips ADD COLUMN trip_start_time_hr TIMESTAMP;\"\"\"\n",
    "with conn.cursor() as cursor:\n",
    "    cursor.execute(query)"
   ]
  },
  {
   "cell_type": "code",
   "execution_count": 112,
   "metadata": {},
   "outputs": [],
   "source": [
    "query = \"\"\"UPDATE trips SET trip_start_time_hr = date_trunc('hour', trip_start_time);\"\"\"\n",
    "with conn.cursor() as cursor:\n",
    "    cursor.execute(query)"
   ]
  },
  {
   "cell_type": "code",
   "execution_count": 113,
   "metadata": {},
   "outputs": [],
   "source": [
    "query = \"\"\"ALTER TABLE trips ADD CONSTRAINT weather_fk FOREIGN KEY (trip_start_time_hr, city) REFERENCES weather (date_time, city);\"\"\"\n",
    "with conn.cursor() as cursor:\n",
    "    cursor.execute(query)"
   ]
  },
  {
   "cell_type": "code",
   "execution_count": 114,
   "metadata": {},
   "outputs": [],
   "source": [
    "# remove extra days for montreal in weather table"
   ]
  },
  {
   "cell_type": "code",
   "execution_count": null,
   "metadata": {},
   "outputs": [],
   "source": []
  },
  {
   "cell_type": "code",
   "execution_count": null,
   "metadata": {},
   "outputs": [],
   "source": [
    "conn.close()"
   ]
  },
  {
   "cell_type": "code",
   "execution_count": null,
   "metadata": {},
   "outputs": [],
   "source": []
  }
 ],
 "metadata": {
  "kernelspec": {
   "display_name": "py37",
   "language": "python",
   "name": "py37"
  },
  "language_info": {
   "codemirror_mode": {
    "name": "ipython",
    "version": 3
   },
   "file_extension": ".py",
   "mimetype": "text/x-python",
   "name": "python",
   "nbconvert_exporter": "python",
   "pygments_lexer": "ipython3",
   "version": "3.7.3"
  }
 },
 "nbformat": 4,
 "nbformat_minor": 4
}
