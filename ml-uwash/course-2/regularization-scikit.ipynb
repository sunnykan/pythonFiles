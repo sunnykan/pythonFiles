{
 "cells": [
  {
   "cell_type": "code",
   "execution_count": 122,
   "metadata": {},
   "outputs": [],
   "source": [
    "import pandas as pd\n",
    "import numpy as np\n",
    "from math import sqrt, log\n",
    "import matplotlib.pyplot as plt\n",
    "%matplotlib inline\n",
    "\n",
    "from sklearn.linear_model import Ridge, Lasso\n",
    "from sklearn.preprocessing import PolynomialFeatures"
   ]
  },
  {
   "cell_type": "code",
   "execution_count": 123,
   "metadata": {},
   "outputs": [],
   "source": [
    "dtype_dict = {'bathrooms':float, 'waterfront':int, 'sqft_above':int, \n",
    "              'sqft_living15':float, 'grade':int, 'yr_renovated':int, \n",
    "              'price':float, 'bedrooms':float, 'zipcode':str, 'long':float, \n",
    "              'sqft_lot15':float, 'sqft_living':float, 'floors':float, \n",
    "              'condition':int, 'lat':float, 'date':str, 'sqft_basement':int, \n",
    "              'yr_built':int, 'id':str, 'sqft_lot':int, 'view':int}\n",
    "\n",
    "sales = pd.read_csv('./data/kc_house_data.csv', dtype=dtype_dict)\n",
    "sales = sales.sort_values(['sqft_living', 'price'])"
   ]
  },
  {
   "cell_type": "code",
   "execution_count": 124,
   "metadata": {},
   "outputs": [],
   "source": [
    "l2_small_penalty = 1.5e-5"
   ]
  },
  {
   "cell_type": "code",
   "execution_count": 125,
   "metadata": {},
   "outputs": [],
   "source": [
    "poly15 = PolynomialFeatures(degree = 15)\n",
    "poly15_data = poly15.fit_transform(sales[['sqft_living']])"
   ]
  },
  {
   "cell_type": "markdown",
   "metadata": {},
   "source": [
    "### RIDGE"
   ]
  },
  {
   "cell_type": "code",
   "execution_count": 126,
   "metadata": {},
   "outputs": [
    {
     "data": {
      "text/plain": [
       "Ridge(alpha=1.5e-05, copy_X=True, fit_intercept=True, max_iter=None,\n",
       "   normalize=True, random_state=None, solver='auto', tol=0.001)"
      ]
     },
     "execution_count": 126,
     "metadata": {},
     "output_type": "execute_result"
    }
   ],
   "source": [
    "model = Ridge(alpha = l2_small_penalty, normalize = True)\n",
    "model.fit(poly15_data, sales['price'])"
   ]
  },
  {
   "cell_type": "code",
   "execution_count": 127,
   "metadata": {},
   "outputs": [
    {
     "data": {
      "text/plain": [
       "(array([ 0.00000000e+00,  1.24873306e+02, -4.77376011e-02,  3.01446238e-05,\n",
       "        -2.44419942e-09, -1.94153675e-13,  8.54085686e-18,  1.51142121e-21,\n",
       "         8.27979094e-26,  6.52603100e-31, -3.27895017e-34, -3.87962315e-38,\n",
       "        -2.72437650e-42, -1.07790800e-46,  3.78242694e-51,  1.39790296e-54]),\n",
       " 220664.37505489454)"
      ]
     },
     "execution_count": 127,
     "metadata": {},
     "output_type": "execute_result"
    }
   ],
   "source": [
    "model.coef_, model.intercept_"
   ]
  },
  {
   "cell_type": "code",
   "execution_count": 128,
   "metadata": {},
   "outputs": [
    {
     "data": {
      "text/plain": [
       "124.8733064800461"
      ]
     },
     "execution_count": 128,
     "metadata": {},
     "output_type": "execute_result"
    }
   ],
   "source": [
    "model.coef_[1]"
   ]
  },
  {
   "cell_type": "code",
   "execution_count": 129,
   "metadata": {},
   "outputs": [],
   "source": [
    "set_1 = pd.read_csv('./data/wk3_kc_house_set_1_data.csv', dtype=dtype_dict)\n",
    "set_2 = pd.read_csv('./data/wk3_kc_house_set_2_data.csv', dtype=dtype_dict)\n",
    "set_3 = pd.read_csv('./data/wk3_kc_house_set_3_data.csv', dtype=dtype_dict)\n",
    "set_4 = pd.read_csv('./data/wk3_kc_house_set_4_data.csv', dtype=dtype_dict)"
   ]
  },
  {
   "cell_type": "code",
   "execution_count": 130,
   "metadata": {},
   "outputs": [
    {
     "data": {
      "text/plain": [
       "((5404, 21), (5398, 21), (5409, 21), (5402, 21))"
      ]
     },
     "execution_count": 130,
     "metadata": {},
     "output_type": "execute_result"
    }
   ],
   "source": [
    "set_1.shape, set_2.shape, set_3.shape, set_4.shape"
   ]
  },
  {
   "cell_type": "code",
   "execution_count": 131,
   "metadata": {},
   "outputs": [],
   "source": [
    "def poly15_models(sales):\n",
    "    l2_small_penalty = 1e-9\n",
    "    \n",
    "    poly15 = PolynomialFeatures(degree = 15)\n",
    "    poly15_data = poly15.fit_transform(sales[['sqft_living']])\n",
    "    \n",
    "    poly15_r = Ridge(alpha = l2_small_penalty, normalize = True).fit(poly15_data, sales['price'])\n",
    "    print(\"Coefficients: {}\".format(poly15_r.coef_))\n",
    "    print(\"Intercept: {}\".format(poly15_r.intercept_))\n",
    "    \n",
    "    plt.plot(poly15_data[:, 1], sales['price'],'.',\n",
    "        poly15_data[:, 1], poly15_r.predict(poly15_data),'-')\n",
    "    \n",
    "    plt.show()\n",
    "    plt.clf()"
   ]
  },
  {
   "cell_type": "code",
   "execution_count": 132,
   "metadata": {},
   "outputs": [
    {
     "name": "stdout",
     "output_type": "stream",
     "text": [
      "Coefficients: [ 0.00000000e+00  5.44669386e+02 -3.55447593e-01  1.22446376e-04\n",
      " -1.17175302e-08 -3.90512590e-13 -1.39076078e-17  1.47860247e-20\n",
      "  6.87492292e-25 -7.57203882e-29 -1.04097323e-32 -3.71844307e-37\n",
      "  3.39989360e-41  5.56592104e-45  2.53761428e-49 -3.35152958e-53]\n",
      "Intercept: 23888.829963321798\n"
     ]
    },
    {
     "data": {
      "image/png": "[encoded data removed]",
      "text/plain": [
       "<Figure size 432x288 with 1 Axes>"
      ]
     },
     "metadata": {
      "needs_background": "light"
     },
     "output_type": "display_data"
    },
    {
     "data": {
      "text/plain": [
       "<Figure size 432x288 with 0 Axes>"
      ]
     },
     "metadata": {},
     "output_type": "display_data"
    }
   ],
   "source": [
    "poly15_models(set_1)"
   ]
  },
  {
   "cell_type": "code",
   "execution_count": 133,
   "metadata": {},
   "outputs": [
    {
     "name": "stdout",
     "output_type": "stream",
     "text": [
      "Coefficients: [ 0.00000000e+00  8.59362772e+02 -8.18118432e-01  4.28880073e-04\n",
      " -9.12770880e-08 -2.69604526e-12  3.73980477e-15 -1.42712195e-19\n",
      " -6.30794644e-23 -1.44559364e-27  7.44321388e-31  9.25865568e-35\n",
      "  3.28000393e-41 -1.29543484e-42 -1.38781245e-46  1.66546431e-50]\n",
      "Intercept: -55614.67652170104\n"
     ]
    },
    {
     "data": {
      "image/png": "[encoded data removed]",
      "text/plain": [
       "<Figure size 432x288 with 1 Axes>"
      ]
     },
     "metadata": {
      "needs_background": "light"
     },
     "output_type": "display_data"
    },
    {
     "data": {
      "text/plain": [
       "<Figure size 432x288 with 0 Axes>"
      ]
     },
     "metadata": {},
     "output_type": "display_data"
    }
   ],
   "source": [
    "poly15_models(set_2)"
   ]
  },
  {
   "cell_type": "code",
   "execution_count": 134,
   "metadata": {},
   "outputs": [
    {
     "name": "stdout",
     "output_type": "stream",
     "text": [
      "Coefficients: [ 0.00000000e+00 -7.55395966e+02  9.75579554e-01 -4.58946022e-04\n",
      "  7.77958203e-08  7.15013159e-12 -2.88601964e-15 -2.13678057e-20\n",
      "  3.38085254e-23  2.19178133e-27 -1.97067824e-31 -4.15992970e-35\n",
      " -1.80196322e-39  3.19071164e-43  5.08456945e-47 -3.93304268e-51]\n",
      "Intercept: 470987.8732264717\n"
     ]
    },
    {
     "data": {
      "image/png": "[encoded data removed]",
      "text/plain": [
       "<Figure size 432x288 with 1 Axes>"
      ]
     },
     "metadata": {
      "needs_background": "light"
     },
     "output_type": "display_data"
    },
    {
     "data": {
      "text/plain": [
       "<Figure size 432x288 with 0 Axes>"
      ]
     },
     "metadata": {},
     "output_type": "display_data"
    }
   ],
   "source": [
    "poly15_models(set_3)"
   ]
  },
  {
   "cell_type": "code",
   "execution_count": 135,
   "metadata": {},
   "outputs": [
    {
     "name": "stdout",
     "output_type": "stream",
     "text": [
      "Coefficients: [ 0.00000000e+00  1.11944572e+03 -9.83760248e-01  3.38770946e-04\n",
      "  3.60376914e-08 -4.37813940e-11  5.77191685e-15  7.66794835e-19\n",
      " -9.49297121e-23 -1.96030772e-26 -2.10892409e-32  3.31005012e-34\n",
      "  3.47734025e-38 -2.43039154e-42 -8.79553558e-46  6.44569800e-50]\n",
      "Intercept: -145655.6166632648\n"
     ]
    },
    {
     "data": {
      "image/png": "[encoded data removed]",
      "text/plain": [
       "<Figure size 432x288 with 1 Axes>"
      ]
     },
     "metadata": {
      "needs_background": "light"
     },
     "output_type": "display_data"
    },
    {
     "data": {
      "text/plain": [
       "<Figure size 432x288 with 0 Axes>"
      ]
     },
     "metadata": {},
     "output_type": "display_data"
    }
   ],
   "source": [
    "poly15_models(set_4)"
   ]
  },
  {
   "cell_type": "markdown",
   "metadata": {},
   "source": [
    "smallest (power_1): -7.55395966e+02, set_3\n",
    "largest (power_1): 1.11944572e+03, set_4"
   ]
  },
  {
   "cell_type": "code",
   "execution_count": 136,
   "metadata": {},
   "outputs": [],
   "source": [
    "train_valid_shuffled = pd.read_csv('./data/wk3_kc_house_train_valid_shuffled.csv', dtype=dtype_dict)\n",
    "test = pd.read_csv('./data/wk3_kc_house_test_data.csv', dtype=dtype_dict)"
   ]
  },
  {
   "cell_type": "code",
   "execution_count": 137,
   "metadata": {},
   "outputs": [],
   "source": [
    "def k_fold_cross_validation(k, l2_penalty, data_mat):\n",
    "    total_error = 0\n",
    "    n = len(data_mat)\n",
    "    \n",
    "    for i in range(k):\n",
    "        start = (n*i)//k\n",
    "        end = (n*(i+1))//k-1\n",
    "        \n",
    "        validation = data_mat[start:end+1, :]\n",
    "        train = np.vstack((data_mat[0:start, :], data_mat[end+1:n, :]))\n",
    "\n",
    "        model = Ridge(alpha = l2_penalty, normalize = True).fit(train[:,:-1], train[:,-1])\n",
    "                \n",
    "        residuals = validation[:, -1] - model.predict(validation[:,:-1])\n",
    "        total_error += (residuals * residuals).sum()\n",
    "        \n",
    "    return total_error/n"
   ]
  },
  {
   "cell_type": "code",
   "execution_count": 138,
   "metadata": {},
   "outputs": [
    {
     "data": {
      "text/plain": [
       "float"
      ]
     },
     "execution_count": 138,
     "metadata": {},
     "output_type": "execute_result"
    }
   ],
   "source": [
    "import numpy as np\n",
    "type(np.logspace(1, 7, num=13)[2].item())"
   ]
  },
  {
   "cell_type": "code",
   "execution_count": 139,
   "metadata": {},
   "outputs": [],
   "source": [
    "poly15 = PolynomialFeatures(degree = 15)\n",
    "poly15_data = poly15.fit_transform(train_valid_shuffled[['sqft_living']])\n",
    "data_mat = np.hstack((poly15_data, train_valid_shuffled['price'].values.reshape(-1, 1)))"
   ]
  },
  {
   "cell_type": "code",
   "execution_count": 140,
   "metadata": {},
   "outputs": [
    {
     "data": {
      "text/plain": [
       "array([1.00000000e+01, 3.16227766e+01, 1.00000000e+02, 3.16227766e+02,\n",
       "       1.00000000e+03, 3.16227766e+03, 1.00000000e+04, 3.16227766e+04,\n",
       "       1.00000000e+05, 3.16227766e+05, 1.00000000e+06, 3.16227766e+06,\n",
       "       1.00000000e+07])"
      ]
     },
     "execution_count": 140,
     "metadata": {},
     "output_type": "execute_result"
    }
   ],
   "source": [
    "penalties = np.logspace(1, 7, num = 13)\n",
    "penalties"
   ]
  },
  {
   "cell_type": "code",
   "execution_count": 141,
   "metadata": {},
   "outputs": [
    {
     "data": {
      "text/plain": [
       "[115328328885.48781,\n",
       " 127059335781.64384,\n",
       " 132707483065.96605,\n",
       " 135525819079.20337,\n",
       " 136614436500.81252,\n",
       " 136983365569.3536,\n",
       " 137102685583.2211,\n",
       " 137140689579.98692,\n",
       " 137152734870.06625,\n",
       " 137156546668.75876,\n",
       " 137157752339.8989,\n",
       " 137158133634.05208,\n",
       " 137158254212.59666]"
      ]
     },
     "execution_count": 141,
     "metadata": {},
     "output_type": "execute_result"
    }
   ],
   "source": [
    "folds = 10\n",
    "average_validation_rss = list()\n",
    "\n",
    "for penalty in penalties:\n",
    "    average_validation_rss.append(k_fold_cross_validation(folds, penalty, data_mat))\n",
    "average_validation_rss"
   ]
  },
  {
   "cell_type": "code",
   "execution_count": 142,
   "metadata": {},
   "outputs": [],
   "source": [
    "best_penalty_rss = sorted(zip(penalties, average_validation_rss), key = lambda x: x[1])[0]"
   ]
  },
  {
   "cell_type": "code",
   "execution_count": 143,
   "metadata": {},
   "outputs": [
    {
     "data": {
      "image/png": "[encoded data removed]",
      "text/plain": [
       "<Figure size 432x288 with 1 Axes>"
      ]
     },
     "metadata": {
      "needs_background": "light"
     },
     "output_type": "display_data"
    }
   ],
   "source": [
    "plt.plot(penalties, average_validation_rss, 'o')\n",
    "plt.xscale('log')"
   ]
  },
  {
   "cell_type": "code",
   "execution_count": 144,
   "metadata": {},
   "outputs": [
    {
     "data": {
      "text/plain": [
       "10.0"
      ]
     },
     "execution_count": 144,
     "metadata": {},
     "output_type": "execute_result"
    }
   ],
   "source": [
    "penalty = best_penalty_rss[0]\n",
    "penalty"
   ]
  },
  {
   "cell_type": "code",
   "execution_count": 145,
   "metadata": {},
   "outputs": [],
   "source": [
    "model_train = Ridge(alpha = penalty, normalize = True).fit(data_mat[:,:-1], data_mat[:,-1])"
   ]
  },
  {
   "cell_type": "code",
   "execution_count": 146,
   "metadata": {},
   "outputs": [
    {
     "data": {
      "text/plain": [
       "(array([ 0.00000000e+00,  2.19743689e+01,  3.74232632e-03,  4.39535849e-07,\n",
       "         2.88188879e-11,  1.39445522e-15,  6.21936915e-20,  2.68144984e-24,\n",
       "         1.06798106e-28,  3.28628828e-33, -1.90695891e-39, -1.37034425e-41,\n",
       "        -1.78842251e-45, -1.77613529e-49, -1.58381866e-53, -1.33471666e-57]),\n",
       " 465262.67268124176)"
      ]
     },
     "execution_count": 146,
     "metadata": {},
     "output_type": "execute_result"
    }
   ],
   "source": [
    "model_train.coef_, model_train.intercept_"
   ]
  },
  {
   "cell_type": "code",
   "execution_count": 147,
   "metadata": {},
   "outputs": [
    {
     "data": {
      "text/plain": [
       "array([[1.00000000e+00, 1.89000000e+03, 3.57210000e+06, 6.75126900e+09,\n",
       "        1.27598984e+13, 2.41162080e+16, 4.55796331e+19, 8.61455066e+22,\n",
       "        1.62815007e+26, 3.07720364e+29, 5.81591488e+32, 1.09920791e+36,\n",
       "        2.07750295e+39, 3.92648058e+42, 7.42104830e+45, 1.40257813e+49],\n",
       "       [1.00000000e+00, 1.81000000e+03, 3.27610000e+06, 5.92974100e+09,\n",
       "        1.07328312e+13, 1.94264245e+16, 3.51618283e+19, 6.36429093e+22,\n",
       "        1.15193666e+26, 2.08500535e+29, 3.77385968e+32, 6.83068603e+35,\n",
       "        1.23635417e+39, 2.23780105e+42, 4.05041990e+45, 7.33126002e+48]])"
      ]
     },
     "execution_count": 147,
     "metadata": {},
     "output_type": "execute_result"
    }
   ],
   "source": [
    "poly15_test = PolynomialFeatures(degree = 15)\n",
    "poly15_test_data = poly15_test.fit_transform(test[['sqft_living']])\n",
    "poly15_test_data[:2,:]"
   ]
  },
  {
   "cell_type": "code",
   "execution_count": 148,
   "metadata": {},
   "outputs": [
    {
     "data": {
      "text/plain": [
       "229953745232505.5"
      ]
     },
     "execution_count": 148,
     "metadata": {},
     "output_type": "execute_result"
    }
   ],
   "source": [
    "residuals = test['price'] - model_train.predict(poly15_test_data)\n",
    "rss_test = (residuals * residuals).sum()\n",
    "rss_test"
   ]
  },
  {
   "cell_type": "code",
   "execution_count": 149,
   "metadata": {},
   "outputs": [
    {
     "data": {
      "text/plain": [
       "(21613, 21)"
      ]
     },
     "execution_count": 149,
     "metadata": {},
     "output_type": "execute_result"
    }
   ],
   "source": [
    "sales.shape"
   ]
  },
  {
   "cell_type": "code",
   "execution_count": 150,
   "metadata": {},
   "outputs": [],
   "source": [
    "training = pd.read_csv(\"./data/kc_house_train_data.csv\", dtype = dtype_dict)\n",
    "testing = pd.read_csv(\"./data/kc_house_test_data.csv\", dtype = dtype_dict)\n",
    "\n",
    "X_train = training[training.columns.difference(['price'])]\n",
    "y_train = training[['price']]\n",
    "\n",
    "X_test = testing[testing.columns.difference(['price'])]\n",
    "y_test = testing[['price']]"
   ]
  },
  {
   "cell_type": "code",
   "execution_count": 151,
   "metadata": {},
   "outputs": [],
   "source": [
    "def predict_output(feature_matrix, weights):\n",
    "    predictions = np.dot(feature_matrix, weights)\n",
    "    return(predictions)"
   ]
  },
  {
   "cell_type": "code",
   "execution_count": 152,
   "metadata": {},
   "outputs": [],
   "source": [
    "def feature_derivative_ridge(errors, feature, weight, l2_penalty, feature_is_constant):\n",
    "    # If feature_is_constant is True, derivative is twice the dot product of errors and feature\n",
    "    if feature_is_constant:\n",
    "        derivative = 2*(np.dot(errors, feature))\n",
    "    # Otherwise, derivative is twice the dot product plus 2*l2_penalty*weight\n",
    "    else:\n",
    "        derivative = 2*(np.dot(errors, feature)+ l2_penalty*weight)\n",
    "    return derivative"
   ]
  },
  {
   "cell_type": "code",
   "execution_count": 153,
   "metadata": {},
   "outputs": [],
   "source": [
    "def ridge_regression_gradient_descent(feature_matrix, output, initial_weights, step_size, l2_penalty, max_iterations=100):    \n",
    "    weights = np.array(initial_weights) # make sure it's a numpy array\n",
    "    iteration = 0 # iteration counter\n",
    "    \n",
    "    #while not reached maximum number of iterations:\n",
    "    while iteration < max_iterations:\n",
    "        predictions = predict_output(feature_matrix, weights) \n",
    "\n",
    "        errors = predictions - output # prediction errors\n",
    "               \n",
    "        for i in range(len(weights)): # loop over each weight\n",
    "            if i == 0:\n",
    "                derivative = feature_derivative_ridge(errors, feature_matrix[:, i], weights[i], l2_penalty, True)\n",
    "            else:\n",
    "                derivative = feature_derivative_ridge(errors, feature_matrix[:, i], weights[i], l2_penalty, False)\n",
    "\n",
    "            weights[i] = weights[i] - step_size * derivative\n",
    "            \n",
    "        iteration += 1  # increment iteration counter\n",
    "    return weights"
   ]
  },
  {
   "cell_type": "code",
   "execution_count": 154,
   "metadata": {},
   "outputs": [],
   "source": [
    "simple_features = ['sqft_living']\n",
    "my_output = 'price'"
   ]
  },
  {
   "cell_type": "code",
   "execution_count": 155,
   "metadata": {},
   "outputs": [
    {
     "data": {
      "text/plain": [
       "((4229, 2), (4229,))"
      ]
     },
     "execution_count": 155,
     "metadata": {},
     "output_type": "execute_result"
    }
   ],
   "source": [
    "#https://stackoverflow.com/questions/8486294/how-to-add-an-extra-column-to-a-numpy-array\n",
    "simple_feature_matrix = np.c_[np.ones(X_train.shape[0]), X_train[simple_features]] \n",
    "output = y_train[my_output].values\n",
    "\n",
    "simple_test_feature_matrix = np.c_[np.ones(X_test.shape[0]), X_test[simple_features]] \n",
    "test_output = y_test[my_output].values\n",
    "\n",
    "simple_test_feature_matrix.shape, test_output.shape"
   ]
  },
  {
   "cell_type": "code",
   "execution_count": 156,
   "metadata": {},
   "outputs": [],
   "source": [
    "initial_weights = np.array([0., 0.])\n",
    "step_size = 1e-12\n",
    "max_iterations=1000"
   ]
  },
  {
   "cell_type": "code",
   "execution_count": 157,
   "metadata": {},
   "outputs": [
    {
     "data": {
      "text/plain": [
       "(2,)"
      ]
     },
     "execution_count": 157,
     "metadata": {},
     "output_type": "execute_result"
    }
   ],
   "source": [
    "initial_weights.shape"
   ]
  },
  {
   "cell_type": "code",
   "execution_count": 158,
   "metadata": {},
   "outputs": [],
   "source": [
    "l2_penalty = 0.0\n",
    "simple_weights_0_penalty = ridge_regression_gradient_descent(simple_feature_matrix, output, initial_weights, step_size, l2_penalty, max_iterations)"
   ]
  },
  {
   "cell_type": "code",
   "execution_count": 159,
   "metadata": {},
   "outputs": [
    {
     "data": {
      "text/plain": [
       "array([-1.63113515e-01,  2.63024369e+02])"
      ]
     },
     "execution_count": 159,
     "metadata": {},
     "output_type": "execute_result"
    }
   ],
   "source": [
    "simple_weights_0_penalty"
   ]
  },
  {
   "cell_type": "code",
   "execution_count": 160,
   "metadata": {},
   "outputs": [],
   "source": [
    "l2_penalty = 1e11\n",
    "simple_weights_high_penalty = ridge_regression_gradient_descent(simple_feature_matrix, output, \n",
    "                                                                initial_weights, step_size, l2_penalty, max_iterations)"
   ]
  },
  {
   "cell_type": "code",
   "execution_count": 161,
   "metadata": {},
   "outputs": [
    {
     "data": {
      "text/plain": [
       "array([  9.76730382, 124.57217567])"
      ]
     },
     "execution_count": 161,
     "metadata": {},
     "output_type": "execute_result"
    }
   ],
   "source": [
    "simple_weights_high_penalty"
   ]
  },
  {
   "cell_type": "code",
   "execution_count": 162,
   "metadata": {},
   "outputs": [
    {
     "data": {
      "text/plain": [
       "[<matplotlib.lines.Line2D at 0x1a2302e978>,\n",
       " <matplotlib.lines.Line2D at 0x1a2302e6a0>,\n",
       " <matplotlib.lines.Line2D at 0x1a2302e710>,\n",
       " <matplotlib.lines.Line2D at 0x1a2302e0b8>,\n",
       " <matplotlib.lines.Line2D at 0x1a243634e0>,\n",
       " <matplotlib.lines.Line2D at 0x1a24363f98>]"
      ]
     },
     "execution_count": 162,
     "metadata": {},
     "output_type": "execute_result"
    },
    {
     "data": {
      "image/png": "[encoded data removed]",
      "text/plain": [
       "<Figure size 432x288 with 1 Axes>"
      ]
     },
     "metadata": {
      "needs_background": "light"
     },
     "output_type": "display_data"
    }
   ],
   "source": [
    "import matplotlib.pyplot as plt\n",
    "%matplotlib inline\n",
    "plt.plot(simple_feature_matrix,output,'k.',\n",
    "         simple_feature_matrix,predict_output(simple_feature_matrix, simple_weights_0_penalty),'b-',\n",
    "        simple_feature_matrix,predict_output(simple_feature_matrix, simple_weights_high_penalty),'r-')"
   ]
  },
  {
   "cell_type": "code",
   "execution_count": 163,
   "metadata": {},
   "outputs": [],
   "source": [
    "def calc_rss(feature_matrix, output, weights):\n",
    "    predictions = predict_output(feature_matrix, weights)\n",
    "    residuals = predictions - output\n",
    "    rss_test = (residuals * residuals).sum()\n",
    "    return rss_test"
   ]
  },
  {
   "cell_type": "code",
   "execution_count": 164,
   "metadata": {},
   "outputs": [],
   "source": [
    "weights = [0.0, 0.0]\n",
    "rss_zerowgt =  calc_rss(simple_test_feature_matrix, test_output, weights) \n",
    "\n",
    "weights = simple_weights_0_penalty\n",
    "rss_0penalty =  calc_rss(simple_test_feature_matrix, test_output, weights) \n",
    "\n",
    "weights = simple_weights_high_penalty\n",
    "rss_highpenalty = calc_rss(simple_test_feature_matrix, test_output, weights) "
   ]
  },
  {
   "cell_type": "code",
   "execution_count": 165,
   "metadata": {},
   "outputs": [
    {
     "name": "stdout",
     "output_type": "stream",
     "text": [
      "no regularization: 263.024369\n",
      "high regularization: 124.572176\n"
     ]
    }
   ],
   "source": [
    "print(\"no regularization: {:1f}\".format(simple_weights_0_penalty[1]))\n",
    "print(\"high regularization: {:1f}\".format(simple_weights_high_penalty[1]))"
   ]
  },
  {
   "cell_type": "code",
   "execution_count": 166,
   "metadata": {},
   "outputs": [
    {
     "name": "stdout",
     "output_type": "stream",
     "text": [
      "rss zero initial weights: 1.78e+15\n",
      "rss weights (no regularization): 2.76e+14\n",
      "rss weights (high regularization): 6.95e+14\n"
     ]
    }
   ],
   "source": [
    "print(\"rss zero initial weights: {:.2e}\".format(rss_zerowgt))\n",
    "print(\"rss weights (no regularization): {:.2e}\".format(rss_0penalty))\n",
    "print(\"rss weights (high regularization): {:.2e}\".format(rss_highpenalty))"
   ]
  },
  {
   "cell_type": "code",
   "execution_count": 167,
   "metadata": {},
   "outputs": [],
   "source": [
    "model_features = ['sqft_living', 'sqft_living15']\n",
    "my_output = 'price'"
   ]
  },
  {
   "cell_type": "code",
   "execution_count": 168,
   "metadata": {},
   "outputs": [
    {
     "data": {
      "text/plain": [
       "((17384, 3), (17384,), (4229, 3), (4229,))"
      ]
     },
     "execution_count": 168,
     "metadata": {},
     "output_type": "execute_result"
    }
   ],
   "source": [
    "feature_matrix = np.c_[np.ones(X_train.shape[0]), X_train[model_features]] \n",
    "output = y_train[my_output].values\n",
    "\n",
    "test_feature_matrix = np.c_[np.ones(X_test.shape[0]), X_test[model_features]] \n",
    "test_output = y_test[my_output].values\n",
    "\n",
    "feature_matrix.shape, output.shape, test_feature_matrix.shape, test_output.shape"
   ]
  },
  {
   "cell_type": "code",
   "execution_count": 169,
   "metadata": {},
   "outputs": [],
   "source": [
    "initial_weights = np.array([0.0,0.0,0.0])\n",
    "step_size = 1e-12\n",
    "max_iterations = 1000"
   ]
  },
  {
   "cell_type": "code",
   "execution_count": 170,
   "metadata": {},
   "outputs": [
    {
     "data": {
      "text/plain": [
       "array([ -0.35743483, 243.05416982,  22.41481497])"
      ]
     },
     "execution_count": 170,
     "metadata": {},
     "output_type": "execute_result"
    }
   ],
   "source": [
    "l2_penalty = 0.0\n",
    "multiple_weights_0_penalty = ridge_regression_gradient_descent(feature_matrix, output, \n",
    "                                                                initial_weights, step_size, l2_penalty, max_iterations)\n",
    "multiple_weights_0_penalty"
   ]
  },
  {
   "cell_type": "code",
   "execution_count": 171,
   "metadata": {},
   "outputs": [],
   "source": [
    "l2_penalty = 1e11\n",
    "multiple_weights_high_penalty = ridge_regression_gradient_descent(feature_matrix, output, \n",
    "                                                                initial_weights, step_size, l2_penalty, max_iterations)"
   ]
  },
  {
   "cell_type": "code",
   "execution_count": 172,
   "metadata": {},
   "outputs": [],
   "source": [
    "weights = np.array([0.0, 0.0, 0.0])\n",
    "rss_zerowgt =  calc_rss(test_feature_matrix, test_output, weights) \n",
    "\n",
    "weights = multiple_weights_0_penalty\n",
    "rss_0penalty =  calc_rss(test_feature_matrix, test_output, weights) \n",
    "\n",
    "weights = multiple_weights_high_penalty\n",
    "rss_highpenalty = calc_rss(test_feature_matrix, test_output, weights) "
   ]
  },
  {
   "cell_type": "code",
   "execution_count": 173,
   "metadata": {},
   "outputs": [
    {
     "name": "stdout",
     "output_type": "stream",
     "text": [
      "rss zero initial weights: 1.78e+15\n",
      "rss weights (no regularization): 2.74e+14\n",
      "rss weights (high regularization): 5.00e+14\n"
     ]
    }
   ],
   "source": [
    "print(\"rss zero initial weights: {:.2e}\".format(rss_zerowgt))\n",
    "print(\"rss weights (no regularization): {:.2e}\".format(rss_0penalty))\n",
    "print(\"rss weights (high regularization): {:.2e}\".format(rss_highpenalty))"
   ]
  },
  {
   "cell_type": "code",
   "execution_count": 174,
   "metadata": {},
   "outputs": [
    {
     "data": {
      "text/plain": [
       "(array([387465.47605824]), 310000.0)"
      ]
     },
     "execution_count": 174,
     "metadata": {},
     "output_type": "execute_result"
    }
   ],
   "source": [
    "np.dot(test_feature_matrix[:1, :], multiple_weights_0_penalty), test_output[0]"
   ]
  },
  {
   "cell_type": "code",
   "execution_count": 175,
   "metadata": {},
   "outputs": [
    {
     "data": {
      "text/plain": [
       "array([77465.47605824])"
      ]
     },
     "execution_count": 175,
     "metadata": {},
     "output_type": "execute_result"
    }
   ],
   "source": [
    "np.dot(test_feature_matrix[:1, :], multiple_weights_0_penalty) - test_output[0]"
   ]
  },
  {
   "cell_type": "code",
   "execution_count": 176,
   "metadata": {},
   "outputs": [
    {
     "data": {
      "text/plain": [
       "(array([270453.53032194]), 310000.0)"
      ]
     },
     "execution_count": 176,
     "metadata": {},
     "output_type": "execute_result"
    }
   ],
   "source": [
    "np.dot(test_feature_matrix[:1, :], multiple_weights_high_penalty), test_output[0]"
   ]
  },
  {
   "cell_type": "code",
   "execution_count": 177,
   "metadata": {},
   "outputs": [
    {
     "data": {
      "text/plain": [
       "array([-39546.46967806])"
      ]
     },
     "execution_count": 177,
     "metadata": {},
     "output_type": "execute_result"
    }
   ],
   "source": [
    "np.dot(test_feature_matrix[:1, :], multiple_weights_high_penalty) - test_output[0]"
   ]
  },
  {
   "cell_type": "markdown",
   "metadata": {},
   "source": [
    "High regularization model is better. It underpredicts by a smaller amount compared to the no-regularization model\n",
    "which overpredicts by almost twice as much."
   ]
  },
  {
   "cell_type": "code",
   "execution_count": 178,
   "metadata": {},
   "outputs": [
    {
     "data": {
      "text/plain": [
       "(243.1, 91.5)"
      ]
     },
     "execution_count": 178,
     "metadata": {},
     "output_type": "execute_result"
    }
   ],
   "source": [
    "round(multiple_weights_0_penalty[1], 1), round(multiple_weights_high_penalty[1], 1)"
   ]
  },
  {
   "cell_type": "markdown",
   "metadata": {},
   "source": [
    "### LASSO"
   ]
  },
  {
   "cell_type": "code",
   "execution_count": 179,
   "metadata": {},
   "outputs": [],
   "source": [
    "sales['sqft_living_sqrt'] = sales['sqft_living'].apply(sqrt)\n",
    "sales['sqft_lot_sqrt'] = sales['sqft_lot'].apply(sqrt)\n",
    "sales['bedrooms_square'] = sales['bedrooms']*sales['bedrooms']\n",
    "\n",
    "# In the dataset, 'floors' was defined with type string, \n",
    "# so we'll convert them to float, before creating a new feature.\n",
    "sales['floors'] = sales['floors'].astype(float) \n",
    "sales['floors_square'] = sales['floors']*sales['floors']"
   ]
  },
  {
   "cell_type": "code",
   "execution_count": 180,
   "metadata": {},
   "outputs": [
    {
     "data": {
      "text/plain": [
       "Index(['id', 'date', 'price', 'bedrooms', 'bathrooms', 'sqft_living',\n",
       "       'sqft_lot', 'floors', 'waterfront', 'view', 'condition', 'grade',\n",
       "       'sqft_above', 'sqft_basement', 'yr_built', 'yr_renovated', 'zipcode',\n",
       "       'lat', 'long', 'sqft_living15', 'sqft_lot15', 'sqft_living_sqrt',\n",
       "       'sqft_lot_sqrt', 'bedrooms_square', 'floors_square'],\n",
       "      dtype='object')"
      ]
     },
     "execution_count": 180,
     "metadata": {},
     "output_type": "execute_result"
    }
   ],
   "source": [
    "sales.columns"
   ]
  },
  {
   "cell_type": "code",
   "execution_count": 181,
   "metadata": {},
   "outputs": [],
   "source": [
    "all_features = ['bedrooms', 'bedrooms_square', 'bathrooms', 'sqft_living', 'sqft_living_sqrt',\n",
    "                'sqft_lot', 'sqft_lot_sqrt', 'floors', 'floors_square', 'waterfront', 'view', \n",
    "                'condition', 'grade', 'sqft_above','sqft_basement', 'yr_built', 'yr_renovated']"
   ]
  },
  {
   "cell_type": "code",
   "execution_count": 193,
   "metadata": {},
   "outputs": [
    {
     "name": "stdout",
     "output_type": "stream",
     "text": [
      "[(0.0, 'bedrooms'), (0.0, 'bedrooms_square'), (0.0, 'bathrooms'), (134.43931395540557, 'sqft_living'), (0.0, 'sqft_living_sqrt'), (0.0, 'sqft_lot'), (0.0, 'sqft_lot_sqrt'), (0.0, 'floors'), (0.0, 'floors_square'), (0.0, 'waterfront'), (24750.00458561002, 'view'), (0.0, 'condition'), (61749.10309071687, 'grade'), (0.0, 'sqft_above'), (0.0, 'sqft_basement'), (-0.0, 'yr_built'), (0.0, 'yr_renovated')]\n"
     ]
    }
   ],
   "source": [
    "# Fit Lasso \n",
    "model_all = Lasso(alpha=5e2, normalize=True)\n",
    "model_all.fit(sales[all_features], sales['price'])\n",
    "print(list(zip(model_all.coef_, all_features)))"
   ]
  },
  {
   "cell_type": "code",
   "execution_count": 194,
   "metadata": {},
   "outputs": [
    {
     "data": {
      "text/plain": [
       "(array([    0.        ,     0.        ,     0.        ,   134.43931396,\n",
       "            0.        ,     0.        ,     0.        ,     0.        ,\n",
       "            0.        ,     0.        , 24750.00458561,     0.        ,\n",
       "        61749.10309072,     0.        ,     0.        ,    -0.        ,\n",
       "            0.        ]), -218136.2140351897)"
      ]
     },
     "execution_count": 194,
     "metadata": {},
     "output_type": "execute_result"
    }
   ],
   "source": [
    "model_all.coef_, model_all.intercept_"
   ]
  },
  {
   "cell_type": "code",
   "execution_count": 200,
   "metadata": {},
   "outputs": [
    {
     "data": {
      "text/plain": [
       "[(134.43931395540557, 'sqft_living'),\n",
       " (24750.00458561002, 'view'),\n",
       " (61749.10309071687, 'grade')]"
      ]
     },
     "execution_count": 200,
     "metadata": {},
     "output_type": "execute_result"
    }
   ],
   "source": [
    "# features assigned non-zero weights\n",
    "[(c, f) for c, f in list(zip(model_all.coef_, all_features)) if c > 0.0]"
   ]
  },
  {
   "cell_type": "code",
   "execution_count": 202,
   "metadata": {},
   "outputs": [],
   "source": [
    "testing = pd.read_csv('./data/wk3_kc_house_test_data.csv', dtype=dtype_dict)\n",
    "training = pd.read_csv('./data/wk3_kc_house_train_data.csv', dtype=dtype_dict)\n",
    "validation = pd.read_csv('./data/wk3_kc_house_valid_data.csv', dtype=dtype_dict)"
   ]
  },
  {
   "cell_type": "code",
   "execution_count": 203,
   "metadata": {},
   "outputs": [],
   "source": [
    "testing['sqft_living_sqrt'] = testing['sqft_living'].apply(sqrt)\n",
    "testing['sqft_lot_sqrt'] = testing['sqft_lot'].apply(sqrt)\n",
    "testing['bedrooms_square'] = testing['bedrooms']*testing['bedrooms']\n",
    "testing['floors_square'] = testing['floors']*testing['floors']\n",
    "\n",
    "training['sqft_living_sqrt'] = training['sqft_living'].apply(sqrt)\n",
    "training['sqft_lot_sqrt'] = training['sqft_lot'].apply(sqrt)\n",
    "training['bedrooms_square'] = training['bedrooms']*training['bedrooms']\n",
    "training['floors_square'] = training['floors']*training['floors']\n",
    "\n",
    "validation['sqft_living_sqrt'] = validation['sqft_living'].apply(sqrt)\n",
    "validation['sqft_lot_sqrt'] = validation['sqft_lot'].apply(sqrt)\n",
    "validation['bedrooms_square'] = validation['bedrooms']*validation['bedrooms']\n",
    "validation['floors_square'] = validation['floors']*validation['floors']"
   ]
  },
  {
   "cell_type": "code",
   "execution_count": 204,
   "metadata": {},
   "outputs": [],
   "source": [
    "penalties = np.logspace(1, 7, num=13)"
   ]
  },
  {
   "cell_type": "code",
   "execution_count": 206,
   "metadata": {},
   "outputs": [],
   "source": [
    "rss_validation = list()\n",
    "\n",
    "for penalty in penalties:\n",
    "    model_all = Lasso(alpha = penalty, normalize=True).fit(training[all_features], training['price'])\n",
    "    residuals_validation = validation['price'] - model_all.predict(validation[all_features])\n",
    "    rss_validation.append((residuals_validation * residuals_validation).sum())"
   ]
  },
  {
   "cell_type": "code",
   "execution_count": 207,
   "metadata": {},
   "outputs": [
    {
     "data": {
      "text/plain": [
       "[398213327300134.94,\n",
       " 399041900253346.8,\n",
       " 429791604072559.6,\n",
       " 463739831045121.1,\n",
       " 645898733633800.6,\n",
       " 1222506859427163.0,\n",
       " 1222506859427163.0,\n",
       " 1222506859427163.0,\n",
       " 1222506859427163.0,\n",
       " 1222506859427163.0,\n",
       " 1222506859427163.0,\n",
       " 1222506859427163.0,\n",
       " 1222506859427163.0]"
      ]
     },
     "execution_count": 207,
     "metadata": {},
     "output_type": "execute_result"
    }
   ],
   "source": [
    "rss_validation"
   ]
  },
  {
   "cell_type": "code",
   "execution_count": 216,
   "metadata": {},
   "outputs": [
    {
     "data": {
      "text/plain": [
       "10.0"
      ]
     },
     "execution_count": 216,
     "metadata": {},
     "output_type": "execute_result"
    }
   ],
   "source": [
    "# best value for the l1_penalty\n",
    "best_penalty = sorted(list(zip(penalties, rss_validation)), key = lambda x: x[1])[0][0]\n",
    "best_penalty"
   ]
  },
  {
   "cell_type": "code",
   "execution_count": 220,
   "metadata": {},
   "outputs": [
    {
     "name": "stdout",
     "output_type": "stream",
     "text": [
      "rss (test) using l1_penalty = 10: 9.85e+13\n"
     ]
    }
   ],
   "source": [
    "# fit model with best penalty on test set\n",
    "model_best = Lasso(alpha = best_penalty, normalize=True).fit(training[all_features], training['price'])\n",
    "resids_test = testing['price'] - model_best.predict(testing[all_features])\n",
    "rss_test = (resids_test * resids_test).sum()\n",
    "print(\"rss (test) using l1_penalty = 10: {:.2e}\".format(rss_test))"
   ]
  },
  {
   "cell_type": "code",
   "execution_count": 223,
   "metadata": {},
   "outputs": [
    {
     "data": {
      "text/plain": [
       "15"
      ]
     },
     "execution_count": 223,
     "metadata": {},
     "output_type": "execute_result"
    }
   ],
   "source": [
    "# number of non-zero coeffs \n",
    "np.count_nonzero(model_best.coef_) + np.count_nonzero(model_best.intercept_)"
   ]
  },
  {
   "cell_type": "code",
   "execution_count": 225,
   "metadata": {},
   "outputs": [
    {
     "data": {
      "text/plain": [
       "(array([-1.61445628e+04,  3.73245384e+02,  5.08412433e+04,  6.17853560e+02,\n",
       "        -4.44113549e+04,  7.85623065e-01, -7.01194765e+02, -0.00000000e+00,\n",
       "         5.01420046e+03,  6.19488752e+05,  3.80418557e+04,  2.49987718e+04,\n",
       "         1.28716235e+05,  0.00000000e+00,  0.00000000e+00, -3.29383118e+03,\n",
       "         1.00573209e+01]), 6630155.668628361)"
      ]
     },
     "execution_count": 225,
     "metadata": {},
     "output_type": "execute_result"
    }
   ],
   "source": [
    "model_best.coef_, model_best.intercept_"
   ]
  },
  {
   "cell_type": "code",
   "execution_count": 249,
   "metadata": {},
   "outputs": [],
   "source": [
    "max_nonzeros = 7"
   ]
  },
  {
   "cell_type": "code",
   "execution_count": 250,
   "metadata": {},
   "outputs": [
    {
     "data": {
      "text/plain": [
       "array([   10.        ,    14.38449888,    20.69138081,    29.76351442,\n",
       "          42.81332399,    61.58482111,    88.58667904,   127.42749857,\n",
       "         183.29807108,   263.66508987,   379.26901907,   545.55947812,\n",
       "         784.75997035,  1128.83789168,  1623.77673919,  2335.72146909,\n",
       "        3359.81828628,  4832.93023857,  6951.92796178, 10000.        ])"
      ]
     },
     "execution_count": 250,
     "metadata": {},
     "output_type": "execute_result"
    }
   ],
   "source": [
    "penalties = np.logspace(1, 4, num=20)\n",
    "penalties"
   ]
  },
  {
   "cell_type": "code",
   "execution_count": 251,
   "metadata": {},
   "outputs": [],
   "source": [
    "non_zero = list()\n",
    "for l1_penalty in penalties:\n",
    "    model = Lasso(alpha = l1_penalty, normalize=True).fit(training[all_features], training['price'])\n",
    "    non_zero.append((l1_penalty, np.count_nonzero(model.coef_) + np.count_nonzero(model.intercept_)))"
   ]
  },
  {
   "cell_type": "code",
   "execution_count": 252,
   "metadata": {},
   "outputs": [
    {
     "data": {
      "text/plain": [
       "[(10.0, 15),\n",
       " (14.38449888287663, 15),\n",
       " (20.6913808111479, 15),\n",
       " (29.76351441631318, 15),\n",
       " (42.81332398719393, 13),\n",
       " (61.58482110660264, 12),\n",
       " (88.58667904100822, 11),\n",
       " (127.42749857031335, 10),\n",
       " (183.29807108324357, 7),\n",
       " (263.6650898730358, 6),\n",
       " (379.26901907322497, 6),\n",
       " (545.5594781168514, 6),\n",
       " (784.7599703514607, 5),\n",
       " (1128.8378916846884, 3),\n",
       " (1623.776739188721, 3),\n",
       " (2335.7214690901214, 2),\n",
       " (3359.818286283781, 1),\n",
       " (4832.930238571752, 1),\n",
       " (6951.927961775606, 1),\n",
       " (10000.0, 1)]"
      ]
     },
     "execution_count": 252,
     "metadata": {},
     "output_type": "execute_result"
    }
   ],
   "source": [
    "non_zero"
   ]
  },
  {
   "cell_type": "code",
   "execution_count": 253,
   "metadata": {},
   "outputs": [
    {
     "name": "stdout",
     "output_type": "stream",
     "text": [
      "127.42749857031335\n",
      "263.6650898730358\n"
     ]
    }
   ],
   "source": [
    "for p, z in non_zero:\n",
    "    if z > max_nonzeros:\n",
    "        l1_penalty_min = p\n",
    "    elif z < max_nonzeros:\n",
    "        l1_penalty_max = p\n",
    "        break;\n",
    "print(l1_penalty_min)\n",
    "print(l1_penalty_max)"
   ]
  },
  {
   "cell_type": "code",
   "execution_count": 254,
   "metadata": {},
   "outputs": [
    {
     "data": {
      "text/plain": [
       "array([127.42749857, 134.59789811, 141.76829765, 148.9386972 ,\n",
       "       156.10909674, 163.27949628, 170.44989582, 177.62029537,\n",
       "       184.79069491, 191.96109445, 199.13149399, 206.30189354,\n",
       "       213.47229308, 220.64269262, 227.81309216, 234.9834917 ,\n",
       "       242.15389125, 249.32429079, 256.49469033, 263.66508987])"
      ]
     },
     "execution_count": 254,
     "metadata": {},
     "output_type": "execute_result"
    }
   ],
   "source": [
    "l1_penalty_values = np.linspace(l1_penalty_min, l1_penalty_max, 20)\n",
    "l1_penalty_values"
   ]
  },
  {
   "cell_type": "code",
   "execution_count": 256,
   "metadata": {},
   "outputs": [],
   "source": [
    "rss_validation = list()\n",
    "\n",
    "for l1_penalty in l1_penalty_values:    \n",
    "    model_all = Lasso(alpha = l1_penalty, normalize=True).fit(training[all_features], training['price'])\n",
    "    \n",
    "    num_nz = np.count_nonzero(model_all.coef_) + np.count_nonzero(model_all.intercept_)\n",
    "    residuals_validation = validation['price'] - model_all.predict(validation[all_features])\n",
    "    rss_validation.append(((residuals_validation * residuals_validation).sum(), l1_penalty, num_nz))"
   ]
  },
  {
   "cell_type": "code",
   "execution_count": 257,
   "metadata": {},
   "outputs": [
    {
     "data": {
      "text/plain": [
       "[(435374677102680.7, 127.42749857031335, 10),\n",
       " (437009229124471.3, 134.5978981125619, 10),\n",
       " (438236128386912.1, 141.76829765481045, 8),\n",
       " (439158937799660.0, 148.938697197059, 8),\n",
       " (440037365263316.56, 156.10909673930755, 7),\n",
       " (440777489641605.2, 163.2794962815561, 7),\n",
       " (441566698090139.94, 170.44989582380464, 7),\n",
       " (442406413188666.25, 177.6202953660532, 7),\n",
       " (443296716874315.0, 184.79069490830176, 7),\n",
       " (444239780526141.6, 191.96109445055032, 7),\n",
       " (445230739842614.2, 199.13149399279888, 7),\n",
       " (446268896864706.4, 206.3018935350474, 6),\n",
       " (447112919434640.6, 213.47229307729594, 6),\n",
       " (447998187851564.94, 220.6426926195445, 6),\n",
       " (448924706673255.06, 227.81309216179307, 6),\n",
       " (449892475899711.06, 234.98349170404163, 6),\n",
       " (450901498778123.25, 242.1538912462902, 6),\n",
       " (451952426654987.06, 249.32429078853872, 6),\n",
       " (453043924367599.3, 256.49469033078725, 6),\n",
       " (454176669662635.25, 263.6650898730358, 6)]"
      ]
     },
     "execution_count": 257,
     "metadata": {},
     "output_type": "execute_result"
    }
   ],
   "source": [
    "rss_validation"
   ]
  },
  {
   "cell_type": "code",
   "execution_count": 259,
   "metadata": {},
   "outputs": [
    {
     "data": {
      "text/plain": [
       "[(440037365263316.56, 156.10909673930755),\n",
       " (440777489641605.2, 163.2794962815561),\n",
       " (441566698090139.94, 170.44989582380464),\n",
       " (442406413188666.25, 177.6202953660532),\n",
       " (443296716874315.0, 184.79069490830176),\n",
       " (444239780526141.6, 191.96109445055032),\n",
       " (445230739842614.2, 199.13149399279888)]"
      ]
     },
     "execution_count": 259,
     "metadata": {},
     "output_type": "execute_result"
    }
   ],
   "source": [
    "x = []\n",
    "[x.append((r, p)) for r, p, z in rss_validation if z == 7]\n",
    "x"
   ]
  },
  {
   "cell_type": "code",
   "execution_count": 260,
   "metadata": {},
   "outputs": [
    {
     "data": {
      "text/plain": [
       "(440037365263316.56, 156.10909673930755)"
      ]
     },
     "execution_count": 260,
     "metadata": {},
     "output_type": "execute_result"
    }
   ],
   "source": [
    "sorted(x, key = lambda y: y[0])[0]"
   ]
  },
  {
   "cell_type": "code",
   "execution_count": 265,
   "metadata": {},
   "outputs": [
    {
     "data": {
      "text/plain": [
       "([('bedrooms', -0.0),\n",
       "  ('bedrooms_square', -0.0),\n",
       "  ('bathrooms', 10610.890284398312),\n",
       "  ('sqft_living', 163.38025164762888),\n",
       "  ('sqft_living_sqrt', 0.0),\n",
       "  ('sqft_lot', -0.0),\n",
       "  ('sqft_lot_sqrt', -0.0),\n",
       "  ('floors', 0.0),\n",
       "  ('floors_square', 0.0),\n",
       "  ('waterfront', 506451.68711484916),\n",
       "  ('view', 41960.04355485288),\n",
       "  ('condition', 0.0),\n",
       "  ('grade', 116253.5536997075),\n",
       "  ('sqft_above', 0.0),\n",
       "  ('sqft_basement', 0.0),\n",
       "  ('yr_built', -2612.2348803574873),\n",
       "  ('yr_renovated', 0.0)],\n",
       " 4422190.27912035)"
      ]
     },
     "execution_count": 265,
     "metadata": {},
     "output_type": "execute_result"
    }
   ],
   "source": [
    "selected_penalty = sorted(x, key = lambda y: y[0])[0][1]\n",
    "model_best = Lasso(alpha = selected_penalty, normalize=True).fit(training[all_features], training['price'])\n",
    "list(zip(all_features, model_best.coef_)), model_best.intercept_"
   ]
  },
  {
   "cell_type": "code",
   "execution_count": 262,
   "metadata": {},
   "outputs": [
    {
     "data": {
      "text/plain": [
       "6"
      ]
     },
     "execution_count": 262,
     "metadata": {},
     "output_type": "execute_result"
    }
   ],
   "source": [
    "np.count_nonzero(model_best.coef_)"
   ]
  },
  {
   "cell_type": "code",
   "execution_count": null,
   "metadata": {},
   "outputs": [],
   "source": []
  }
 ],
 "metadata": {
  "kernelspec": {
   "display_name": "Python 2",
   "language": "python",
   "name": "python2"
  },
  "language_info": {
   "codemirror_mode": {
    "name": "ipython",
    "version": 2
   },
   "file_extension": ".py",
   "mimetype": "text/x-python",
   "name": "python",
   "nbconvert_exporter": "python",
   "pygments_lexer": "ipython2",
   "version": "2.7.15"
  }
 },
 "nbformat": 4,
 "nbformat_minor": 2
}
