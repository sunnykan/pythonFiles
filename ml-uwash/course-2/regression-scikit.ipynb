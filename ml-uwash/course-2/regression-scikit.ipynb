{
 "cells": [
  {
   "cell_type": "raw",
   "metadata": {},
   "source": [
    "import numpy as np\n",
    "import pandas as pd\n",
    "from math import log, sqrt\n",
    "\n",
    "from sklearn.linear_model import LinearRegression\n",
    "from sklearn.model_selection import train_test_split\n",
    "from sklearn.preprocessing import PolynomialFeatures\n",
    "\n",
    "import matplotlib.pyplot as plt\n",
    "%matplotlib inline"
   ]
  },
  {
   "cell_type": "code",
   "execution_count": 2,
   "metadata": {},
   "outputs": [],
   "source": [
    "dtype_dict = {'bathrooms':float, 'waterfront':int, 'sqft_above':int, \n",
    "              'sqft_living15':float, 'grade':int, 'yr_renovated':int, \n",
    "              'price':float, 'bedrooms':float, 'zipcode':str, 'long':float, \n",
    "              'sqft_lot15':float, 'sqft_living':float, 'floors':str, \n",
    "              'condition':int, 'lat':float, 'date':str, 'sqft_basement':int, 'yr_built':int, \n",
    "              'id':str, 'sqft_lot':int, 'view':int}"
   ]
  },
  {
   "cell_type": "code",
   "execution_count": 3,
   "metadata": {},
   "outputs": [],
   "source": [
    "sales = pd.read_csv(\"./data/kc_house_data.csv\", dtype = dtype_dict)"
   ]
  },
  {
   "cell_type": "code",
   "execution_count": 4,
   "metadata": {},
   "outputs": [
    {
     "data": {
      "text/html": [
       "<div>\n",
       "<style scoped>\n",
       "    .dataframe tbody tr th:only-of-type {\n",
       "        vertical-align: middle;\n",
       "    }\n",
       "\n",
       "    .dataframe tbody tr th {\n",
       "        vertical-align: top;\n",
       "    }\n",
       "\n",
       "    .dataframe thead th {\n",
       "        text-align: right;\n",
       "    }\n",
       "</style>\n",
       "<table border=\"1\" class=\"dataframe\">\n",
       "  <thead>\n",
       "    <tr style=\"text-align: right;\">\n",
       "      <th></th>\n",
       "      <th>id</th>\n",
       "      <th>date</th>\n",
       "      <th>price</th>\n",
       "      <th>bedrooms</th>\n",
       "      <th>bathrooms</th>\n",
       "      <th>sqft_living</th>\n",
       "      <th>sqft_lot</th>\n",
       "      <th>floors</th>\n",
       "      <th>waterfront</th>\n",
       "      <th>view</th>\n",
       "      <th>...</th>\n",
       "      <th>grade</th>\n",
       "      <th>sqft_above</th>\n",
       "      <th>sqft_basement</th>\n",
       "      <th>yr_built</th>\n",
       "      <th>yr_renovated</th>\n",
       "      <th>zipcode</th>\n",
       "      <th>lat</th>\n",
       "      <th>long</th>\n",
       "      <th>sqft_living15</th>\n",
       "      <th>sqft_lot15</th>\n",
       "    </tr>\n",
       "  </thead>\n",
       "  <tbody>\n",
       "    <tr>\n",
       "      <th>0</th>\n",
       "      <td>7129300520</td>\n",
       "      <td>20141013T000000</td>\n",
       "      <td>221900.0</td>\n",
       "      <td>3.0</td>\n",
       "      <td>1.00</td>\n",
       "      <td>1180.0</td>\n",
       "      <td>5650</td>\n",
       "      <td>1</td>\n",
       "      <td>0</td>\n",
       "      <td>0</td>\n",
       "      <td>...</td>\n",
       "      <td>7</td>\n",
       "      <td>1180</td>\n",
       "      <td>0</td>\n",
       "      <td>1955</td>\n",
       "      <td>0</td>\n",
       "      <td>98178</td>\n",
       "      <td>47.5112</td>\n",
       "      <td>-122.257</td>\n",
       "      <td>1340.0</td>\n",
       "      <td>5650.0</td>\n",
       "    </tr>\n",
       "    <tr>\n",
       "      <th>1</th>\n",
       "      <td>6414100192</td>\n",
       "      <td>20141209T000000</td>\n",
       "      <td>538000.0</td>\n",
       "      <td>3.0</td>\n",
       "      <td>2.25</td>\n",
       "      <td>2570.0</td>\n",
       "      <td>7242</td>\n",
       "      <td>2</td>\n",
       "      <td>0</td>\n",
       "      <td>0</td>\n",
       "      <td>...</td>\n",
       "      <td>7</td>\n",
       "      <td>2170</td>\n",
       "      <td>400</td>\n",
       "      <td>1951</td>\n",
       "      <td>1991</td>\n",
       "      <td>98125</td>\n",
       "      <td>47.7210</td>\n",
       "      <td>-122.319</td>\n",
       "      <td>1690.0</td>\n",
       "      <td>7639.0</td>\n",
       "    </tr>\n",
       "    <tr>\n",
       "      <th>2</th>\n",
       "      <td>5631500400</td>\n",
       "      <td>20150225T000000</td>\n",
       "      <td>180000.0</td>\n",
       "      <td>2.0</td>\n",
       "      <td>1.00</td>\n",
       "      <td>770.0</td>\n",
       "      <td>10000</td>\n",
       "      <td>1</td>\n",
       "      <td>0</td>\n",
       "      <td>0</td>\n",
       "      <td>...</td>\n",
       "      <td>6</td>\n",
       "      <td>770</td>\n",
       "      <td>0</td>\n",
       "      <td>1933</td>\n",
       "      <td>0</td>\n",
       "      <td>98028</td>\n",
       "      <td>47.7379</td>\n",
       "      <td>-122.233</td>\n",
       "      <td>2720.0</td>\n",
       "      <td>8062.0</td>\n",
       "    </tr>\n",
       "    <tr>\n",
       "      <th>3</th>\n",
       "      <td>2487200875</td>\n",
       "      <td>20141209T000000</td>\n",
       "      <td>604000.0</td>\n",
       "      <td>4.0</td>\n",
       "      <td>3.00</td>\n",
       "      <td>1960.0</td>\n",
       "      <td>5000</td>\n",
       "      <td>1</td>\n",
       "      <td>0</td>\n",
       "      <td>0</td>\n",
       "      <td>...</td>\n",
       "      <td>7</td>\n",
       "      <td>1050</td>\n",
       "      <td>910</td>\n",
       "      <td>1965</td>\n",
       "      <td>0</td>\n",
       "      <td>98136</td>\n",
       "      <td>47.5208</td>\n",
       "      <td>-122.393</td>\n",
       "      <td>1360.0</td>\n",
       "      <td>5000.0</td>\n",
       "    </tr>\n",
       "    <tr>\n",
       "      <th>4</th>\n",
       "      <td>1954400510</td>\n",
       "      <td>20150218T000000</td>\n",
       "      <td>510000.0</td>\n",
       "      <td>3.0</td>\n",
       "      <td>2.00</td>\n",
       "      <td>1680.0</td>\n",
       "      <td>8080</td>\n",
       "      <td>1</td>\n",
       "      <td>0</td>\n",
       "      <td>0</td>\n",
       "      <td>...</td>\n",
       "      <td>8</td>\n",
       "      <td>1680</td>\n",
       "      <td>0</td>\n",
       "      <td>1987</td>\n",
       "      <td>0</td>\n",
       "      <td>98074</td>\n",
       "      <td>47.6168</td>\n",
       "      <td>-122.045</td>\n",
       "      <td>1800.0</td>\n",
       "      <td>7503.0</td>\n",
       "    </tr>\n",
       "  </tbody>\n",
       "</table>\n",
       "<p>5 rows × 21 columns</p>\n",
       "</div>"
      ],
      "text/plain": [
       "           id             date     price  bedrooms  bathrooms  sqft_living  \\\n",
       "0  7129300520  20141013T000000  221900.0       3.0       1.00       1180.0   \n",
       "1  6414100192  20141209T000000  538000.0       3.0       2.25       2570.0   \n",
       "2  5631500400  20150225T000000  180000.0       2.0       1.00        770.0   \n",
       "3  2487200875  20141209T000000  604000.0       4.0       3.00       1960.0   \n",
       "4  1954400510  20150218T000000  510000.0       3.0       2.00       1680.0   \n",
       "\n",
       "   sqft_lot floors  waterfront  view  ...  grade  sqft_above  sqft_basement  \\\n",
       "0      5650      1           0     0  ...      7        1180              0   \n",
       "1      7242      2           0     0  ...      7        2170            400   \n",
       "2     10000      1           0     0  ...      6         770              0   \n",
       "3      5000      1           0     0  ...      7        1050            910   \n",
       "4      8080      1           0     0  ...      8        1680              0   \n",
       "\n",
       "   yr_built  yr_renovated  zipcode      lat     long  sqft_living15  \\\n",
       "0      1955             0    98178  47.5112 -122.257         1340.0   \n",
       "1      1951          1991    98125  47.7210 -122.319         1690.0   \n",
       "2      1933             0    98028  47.7379 -122.233         2720.0   \n",
       "3      1965             0    98136  47.5208 -122.393         1360.0   \n",
       "4      1987             0    98074  47.6168 -122.045         1800.0   \n",
       "\n",
       "   sqft_lot15  \n",
       "0      5650.0  \n",
       "1      7639.0  \n",
       "2      8062.0  \n",
       "3      5000.0  \n",
       "4      7503.0  \n",
       "\n",
       "[5 rows x 21 columns]"
      ]
     },
     "execution_count": 4,
     "metadata": {},
     "output_type": "execute_result"
    }
   ],
   "source": [
    "sales.head()"
   ]
  },
  {
   "cell_type": "code",
   "execution_count": 5,
   "metadata": {},
   "outputs": [
    {
     "data": {
      "text/plain": [
       "id                object\n",
       "date              object\n",
       "price            float64\n",
       "bedrooms         float64\n",
       "bathrooms        float64\n",
       "sqft_living      float64\n",
       "sqft_lot           int64\n",
       "floors            object\n",
       "waterfront         int64\n",
       "view               int64\n",
       "condition          int64\n",
       "grade              int64\n",
       "sqft_above         int64\n",
       "sqft_basement      int64\n",
       "yr_built           int64\n",
       "yr_renovated       int64\n",
       "zipcode           object\n",
       "lat              float64\n",
       "long             float64\n",
       "sqft_living15    float64\n",
       "sqft_lot15       float64\n",
       "dtype: object"
      ]
     },
     "execution_count": 5,
     "metadata": {},
     "output_type": "execute_result"
    }
   ],
   "source": [
    "sales.dtypes"
   ]
  },
  {
   "cell_type": "code",
   "execution_count": 6,
   "metadata": {},
   "outputs": [],
   "source": [
    "X_sales = sales[sales.columns.difference(['price'])]\n",
    "y_sales = sales[['price']]"
   ]
  },
  {
   "cell_type": "code",
   "execution_count": 7,
   "metadata": {},
   "outputs": [],
   "source": [
    "#X_train, X_test, y_train, y_test = train_test_split(X_sales, y_sales, test_size = 0.2, \n",
    "#                                                    random_state = 0, shuffle = False)\n",
    "\n",
    "training = pd.read_csv(\"./data/kc_house_train_data.csv\", dtype = dtype_dict)\n",
    "testing = pd.read_csv(\"./data/kc_house_test_data.csv\", dtype = dtype_dict)\n",
    "\n",
    "X_train = training[training.columns.difference(['price'])]\n",
    "y_train = training[['price']]\n",
    "\n",
    "X_test = testing[testing.columns.difference(['price'])]\n",
    "y_test = testing[['price']]"
   ]
  },
  {
   "cell_type": "code",
   "execution_count": 8,
   "metadata": {},
   "outputs": [
    {
     "data": {
      "text/plain": [
       "((17384, 20), (4229, 20), (17384, 1), (4229, 1))"
      ]
     },
     "execution_count": 8,
     "metadata": {},
     "output_type": "execute_result"
    }
   ],
   "source": [
    "X_train.shape, X_test.shape, y_train.shape, y_test.shape"
   ]
  },
  {
   "cell_type": "code",
   "execution_count": 9,
   "metadata": {},
   "outputs": [],
   "source": [
    "def simple_linear_regression(input_feature, output):\n",
    "    N = output.size\n",
    "    sum_y = output.sum()\n",
    "    sum_X = input_feature.sum()\n",
    "    Xy = input_feature * output\n",
    "    sum_Xy = Xy.sum()\n",
    "    sq_X = input_feature * input_feature\n",
    "    sum_sq_X = sq_X.sum()\n",
    "    \n",
    "    numerator = sum_Xy - np.divide((sum_y * sum_X), N)\n",
    "    denominator = sum_sq_X - np.divide((sum_X * sum_X), N)\n",
    "    \n",
    "    slope = np.divide(numerator, denominator)\n",
    "    intercept = output.mean() - slope * (input_feature.mean())\n",
    "         \n",
    "    return (intercept, slope)"
   ]
  },
  {
   "cell_type": "code",
   "execution_count": 10,
   "metadata": {},
   "outputs": [
    {
     "name": "stdout",
     "output_type": "stream",
     "text": [
      "Intercept: -47116.07907289418\n",
      "Slope: 281.9588396303426\n"
     ]
    }
   ],
   "source": [
    "sqft_intercept, sqft_slope = simple_linear_regression(X_train['sqft_living'], y_train['price'])\n",
    "\n",
    "print(\"Intercept: {0}\".format(sqft_intercept))\n",
    "print(\"Slope: {0}\".format(sqft_slope))"
   ]
  },
  {
   "cell_type": "code",
   "execution_count": 11,
   "metadata": {},
   "outputs": [],
   "source": [
    "def get_regression_predictions(input_feature, intercept, slope):\n",
    "    # calculate the predicted values:\n",
    "    predicted_values = intercept + slope * input_feature\n",
    "    return predicted_values"
   ]
  },
  {
   "cell_type": "code",
   "execution_count": 12,
   "metadata": {},
   "outputs": [
    {
     "name": "stdout",
     "output_type": "stream",
     "text": [
      "The estimated price for a house with 2650 squarefeet is $700074.85\n"
     ]
    }
   ],
   "source": [
    "my_house_sqft = 2650\n",
    "estimated_price = get_regression_predictions(my_house_sqft, sqft_intercept, sqft_slope)\n",
    "print(\"The estimated price for a house with {:d} squarefeet is ${:.2f}\".format(my_house_sqft, estimated_price))"
   ]
  },
  {
   "cell_type": "code",
   "execution_count": 13,
   "metadata": {},
   "outputs": [],
   "source": [
    "def get_residual_sum_of_squares(input_feature, output, intercept, slope):\n",
    "    predictions = get_regression_predictions(input_feature, intercept, slope)\n",
    "    residuals = predictions - output\n",
    "    residuals_sq = residuals * residuals\n",
    "    RSS = residuals_sq.sum()\n",
    "    \n",
    "    return(RSS)"
   ]
  },
  {
   "cell_type": "code",
   "execution_count": 14,
   "metadata": {},
   "outputs": [
    {
     "name": "stdout",
     "output_type": "stream",
     "text": [
      "The RSS of predicting Prices based on Square Feet is : 1.201918e+15\n"
     ]
    }
   ],
   "source": [
    "rss_prices_on_sqft = get_residual_sum_of_squares(X_train['sqft_living'], y_train['price'], sqft_intercept, sqft_slope)\n",
    "print('The RSS of predicting Prices based on Square Feet is : {:e}'.format(rss_prices_on_sqft))"
   ]
  },
  {
   "cell_type": "code",
   "execution_count": 15,
   "metadata": {},
   "outputs": [],
   "source": [
    "def inverse_regression_predictions(output, intercept, slope):\n",
    "    # solve output = intercept + slope*input_feature for input_feature. Use this equation to compute the inverse predictions:\n",
    "    estimated_feature = np.divide((output - intercept), slope)\n",
    "    return estimated_feature"
   ]
  },
  {
   "cell_type": "code",
   "execution_count": 16,
   "metadata": {},
   "outputs": [
    {
     "name": "stdout",
     "output_type": "stream",
     "text": [
      "The estimated squarefeet for a house worth $800000.00 is 3004\n"
     ]
    }
   ],
   "source": [
    "my_house_price = 800000\n",
    "estimated_squarefeet = inverse_regression_predictions(my_house_price, sqft_intercept, sqft_slope)\n",
    "print(\"The estimated squarefeet for a house worth ${:.2f} is {:.0f}\".format(my_house_price, estimated_squarefeet))"
   ]
  },
  {
   "cell_type": "code",
   "execution_count": 17,
   "metadata": {},
   "outputs": [
    {
     "name": "stdout",
     "output_type": "stream",
     "text": [
      "Intercept: 109473.18\n",
      "Slope: 127588.95\n"
     ]
    }
   ],
   "source": [
    "bdrm_intercept, bdrm_slope = simple_linear_regression(X_train['bedrooms'], y_train['price'])\n",
    "\n",
    "print(\"Intercept: {:.2f}\".format(bdrm_intercept))\n",
    "print(\"Slope: {:.2f}\".format(bdrm_slope))"
   ]
  },
  {
   "cell_type": "code",
   "execution_count": 18,
   "metadata": {},
   "outputs": [
    {
     "name": "stdout",
     "output_type": "stream",
     "text": [
      "The RSS of predicting Prices based on Square Feet is : 2.754029e+14\n"
     ]
    }
   ],
   "source": [
    "# Compute RSS when using squarefeet on TEST data:\n",
    "rss_prices_on_sqft = get_residual_sum_of_squares(X_test['sqft_living'], y_test['price'], sqft_intercept, sqft_slope)\n",
    "print('The RSS of predicting Prices based on Square Feet is : {:e}'.format(rss_prices_on_sqft))"
   ]
  },
  {
   "cell_type": "code",
   "execution_count": 19,
   "metadata": {},
   "outputs": [],
   "source": [
    "mlr = LinearRegression().fit(X_train[['sqft_living', 'bedrooms', 'bathrooms']],\n",
    "                y_train['price'])"
   ]
  },
  {
   "cell_type": "code",
   "execution_count": 20,
   "metadata": {},
   "outputs": [
    {
     "data": {
      "text/plain": [
       "(array([   315.40669062, -65081.88711588,   6942.16598637]), 87912.86581496504)"
      ]
     },
     "execution_count": 20,
     "metadata": {},
     "output_type": "execute_result"
    }
   ],
   "source": [
    "mlr.coef_, mlr.intercept_"
   ]
  },
  {
   "cell_type": "code",
   "execution_count": 21,
   "metadata": {},
   "outputs": [],
   "source": [
    "def get_rss(model, data, outcome):\n",
    "    predictions = model.predict(data)\n",
    "    residuals = predictions - outcome\n",
    "    residuals_sq = residuals * residuals\n",
    "    RSS = residuals_sq.sum()\n",
    "\n",
    "    return(RSS)  "
   ]
  },
  {
   "cell_type": "code",
   "execution_count": 22,
   "metadata": {},
   "outputs": [],
   "source": [
    "rss_train = get_rss(mlr, X_test[['sqft_living', 'bedrooms', 'bathrooms']], y_test['price'])"
   ]
  },
  {
   "cell_type": "code",
   "execution_count": 23,
   "metadata": {},
   "outputs": [
    {
     "name": "stdout",
     "output_type": "stream",
     "text": [
      "rss on test data: 2.737619e+14\n"
     ]
    }
   ],
   "source": [
    "print(\"rss on test data: {:e}\".format(rss_train))"
   ]
  },
  {
   "cell_type": "code",
   "execution_count": 24,
   "metadata": {},
   "outputs": [],
   "source": [
    "X_train.loc[:, 'bedrooms_squared'] = X_train['bedrooms'].apply(lambda x: x**2)\n",
    "X_test.loc[:, 'bedrooms_squared'] = X_test['bedrooms'].apply(lambda x: x**2)"
   ]
  },
  {
   "cell_type": "code",
   "execution_count": 25,
   "metadata": {},
   "outputs": [],
   "source": [
    "X_train.loc[:, 'bed_bath_rooms'] = X_train['bedrooms'] * X_train['bathrooms']\n",
    "X_test.loc[:, 'bed_bath_rooms'] = X_test['bedrooms'] * X_test['bathrooms']"
   ]
  },
  {
   "cell_type": "code",
   "execution_count": 26,
   "metadata": {},
   "outputs": [],
   "source": [
    "X_train.loc[:, 'log_sqft_living'] = X_train['sqft_living'].apply(lambda x: log(x))\n",
    "X_test.loc[:, 'log_sqft_living'] = X_test['sqft_living'].apply(lambda x: log(x))"
   ]
  },
  {
   "cell_type": "code",
   "execution_count": 27,
   "metadata": {},
   "outputs": [],
   "source": [
    "X_train.loc[:, 'lat_plus_long'] = X_train['lat'] + X_train['long']\n",
    "X_test.loc[:, 'lat_plus_long'] = X_test['lat'] + X_test['long']"
   ]
  },
  {
   "cell_type": "code",
   "execution_count": 28,
   "metadata": {},
   "outputs": [
    {
     "data": {
      "text/plain": [
       "(12.45, 7.5, 7.55, -74.65)"
      ]
     },
     "execution_count": 28,
     "metadata": {},
     "output_type": "execute_result"
    }
   ],
   "source": [
    "round(X_test['bedrooms_squared'].mean(), 2), round(X_test['bed_bath_rooms'].mean(), 2), round(X_test['log_sqft_living'].mean(), 2), round(X_test['lat_plus_long'].mean(), 2)"
   ]
  },
  {
   "cell_type": "code",
   "execution_count": 29,
   "metadata": {},
   "outputs": [],
   "source": [
    "model1_features = ['sqft_living', 'bedrooms', 'bathrooms', 'lat', 'long']\n",
    "model2_features = model1_features + ['bed_bath_rooms']\n",
    "model3_features = model2_features + ['bedrooms_squared', 'log_sqft_living', 'lat_plus_long']"
   ]
  },
  {
   "cell_type": "code",
   "execution_count": 30,
   "metadata": {},
   "outputs": [],
   "source": [
    "mlr.model1 = LinearRegression().fit(X_train[model1_features], y_train['price'])\n",
    "mlr.model2 = LinearRegression().fit(X_train[model2_features], y_train['price'])\n",
    "mlr.model3 = LinearRegression().fit(X_train[model3_features], y_train['price'])"
   ]
  },
  {
   "cell_type": "code",
   "execution_count": 31,
   "metadata": {},
   "outputs": [
    {
     "data": {
      "text/plain": [
       "(array([ 3.12258646e+02, -5.95865332e+04,  1.57067421e+04,  6.58619264e+05,\n",
       "        -3.09374351e+05]), -69075726.79256974)"
      ]
     },
     "execution_count": 31,
     "metadata": {},
     "output_type": "execute_result"
    }
   ],
   "source": [
    "mlr.model1.coef_, mlr.model1.intercept_"
   ]
  },
  {
   "cell_type": "code",
   "execution_count": 32,
   "metadata": {},
   "outputs": [
    {
     "data": {
      "text/plain": [
       "(array([ 3.06610053e+02, -1.13446368e+05, -7.14613083e+04,  6.54844630e+05,\n",
       "        -2.94298969e+05,  2.55796520e+04]), -66867968.87107877)"
      ]
     },
     "execution_count": 32,
     "metadata": {},
     "output_type": "execute_result"
    }
   ],
   "source": [
    "mlr.model2.coef_, mlr.model2.intercept_"
   ]
  },
  {
   "cell_type": "code",
   "execution_count": 33,
   "metadata": {},
   "outputs": [
    {
     "data": {
      "text/plain": [
       "(array([ 5.29422820e+02,  3.45142296e+04,  6.70607813e+04,  5.34085611e+05,\n",
       "        -4.06750711e+05, -8.57050439e+03, -6.78858667e+03, -5.61831484e+05,\n",
       "         1.27334900e+05]), -62036084.986098304)"
      ]
     },
     "execution_count": 33,
     "metadata": {},
     "output_type": "execute_result"
    }
   ],
   "source": [
    "mlr.model3.coef_, mlr.model3.intercept_"
   ]
  },
  {
   "cell_type": "code",
   "execution_count": 34,
   "metadata": {},
   "outputs": [
    {
     "name": "stdout",
     "output_type": "stream",
     "text": [
      "rss model1: 9.678800e+14\n"
     ]
    }
   ],
   "source": [
    "rss_model_1 = get_rss(mlr.model1, X_train[model1_features], y_train['price'])\n",
    "print(\"rss model1: {:e}\".format(rss_model_1))"
   ]
  },
  {
   "cell_type": "code",
   "execution_count": 35,
   "metadata": {},
   "outputs": [
    {
     "name": "stdout",
     "output_type": "stream",
     "text": [
      "rss model1: 9.584196e+14\n"
     ]
    }
   ],
   "source": [
    "rss_model_2 = get_rss(mlr.model2, X_train[model2_features], y_train['price'])\n",
    "print(\"rss model1: {:e}\".format(rss_model_2))"
   ]
  },
  {
   "cell_type": "code",
   "execution_count": 36,
   "metadata": {},
   "outputs": [
    {
     "name": "stdout",
     "output_type": "stream",
     "text": [
      "rss model1: 9.034365e+14\n"
     ]
    }
   ],
   "source": [
    "rss_model_3 = get_rss(mlr.model3, X_train[model3_features], y_train['price'])\n",
    "print(\"rss model1: {:e}\".format(rss_model_3))"
   ]
  },
  {
   "cell_type": "code",
   "execution_count": 37,
   "metadata": {},
   "outputs": [
    {
     "name": "stdout",
     "output_type": "stream",
     "text": [
      "rss model1: 2.255005e+14\n"
     ]
    }
   ],
   "source": [
    "rss_model_1_test = get_rss(mlr.model1, X_test[model1_features], y_test['price'])\n",
    "print(\"rss model1: {:e}\".format(rss_model_1_test))"
   ]
  },
  {
   "cell_type": "code",
   "execution_count": 38,
   "metadata": {},
   "outputs": [
    {
     "name": "stdout",
     "output_type": "stream",
     "text": [
      "rss model2: 2.233775e+14\n"
     ]
    }
   ],
   "source": [
    "rss_model_2_test = get_rss(mlr.model2, X_test[model2_features], y_test['price'])\n",
    "print(\"rss model2: {:e}\".format(rss_model_2_test))"
   ]
  },
  {
   "cell_type": "code",
   "execution_count": 39,
   "metadata": {},
   "outputs": [
    {
     "name": "stdout",
     "output_type": "stream",
     "text": [
      "rss model3: 2.592363e+14\n"
     ]
    }
   ],
   "source": [
    "rss_model_3_test = get_rss(mlr.model3, X_test[model3_features], y_test['price'])\n",
    "print(\"rss model3: {:e}\".format(rss_model_3_test))"
   ]
  },
  {
   "cell_type": "markdown",
   "metadata": {},
   "source": [
    "why is test error less than train error?"
   ]
  },
  {
   "cell_type": "code",
   "execution_count": 40,
   "metadata": {},
   "outputs": [],
   "source": [
    "def predict_output(feature_matrix, weights):\n",
    "    predictions = np.dot(feature_matrix, weights)\n",
    "    return(predictions)"
   ]
  },
  {
   "cell_type": "code",
   "execution_count": 41,
   "metadata": {},
   "outputs": [],
   "source": [
    "def feature_derivative(errors, feature):\n",
    "    # Assume that errors and feature are both numpy arrays of the same length (number of data points)\n",
    "    # compute twice the dot product of these vectors as 'derivative' and return the value\n",
    "    derivative = 2 * np.dot(errors, feature)\n",
    "    return(derivative)"
   ]
  },
  {
   "cell_type": "code",
   "execution_count": 42,
   "metadata": {},
   "outputs": [],
   "source": [
    "def regression_gradient_descent(feature_matrix, output, initial_weights, step_size, tolerance):\n",
    "    converged = False \n",
    "    weights = np.array(initial_weights) # make sure it's a numpy array\n",
    "    while not converged:\n",
    "        predictions = predict_output(feature_matrix, weights)\n",
    "        errors = predictions - output\n",
    "        gradient_sum_squares = 0 \n",
    "        \n",
    "        for i in range(len(weights)): # loop over each weight\n",
    "            derivative = feature_derivative(errors, feature_matrix[:, i])\n",
    "            gradient_sum_squares = (derivative * derivative) + gradient_sum_squares\n",
    "            weights[i] = weights[i] - (step_size * derivative)            \n",
    "        gradient_magnitude = sqrt(gradient_sum_squares)\n",
    "\n",
    "        if gradient_magnitude < tolerance:\n",
    "            converged = True\n",
    "    return(weights)"
   ]
  },
  {
   "cell_type": "code",
   "execution_count": 43,
   "metadata": {},
   "outputs": [],
   "source": [
    "simple_features = ['sqft_living']\n",
    "my_output = 'price'\n",
    "simple_feature_matrix = np.c_[np.ones(X_train.shape[0]), X_train[simple_features].values] #add constant term\n",
    "output = y_train[my_output].values\n",
    "initial_weights = np.array([-47000., 1.])\n",
    "step_size = 7e-12\n",
    "tolerance = 2.5e7"
   ]
  },
  {
   "cell_type": "code",
   "execution_count": 44,
   "metadata": {},
   "outputs": [
    {
     "data": {
      "text/plain": [
       "array([-46999.88716555,    281.91211918])"
      ]
     },
     "execution_count": 44,
     "metadata": {},
     "output_type": "execute_result"
    }
   ],
   "source": [
    "model_gd = regression_gradient_descent(simple_feature_matrix, output, initial_weights, step_size, tolerance)\n",
    "model_gd"
   ]
  },
  {
   "cell_type": "code",
   "execution_count": 45,
   "metadata": {},
   "outputs": [
    {
     "data": {
      "text/plain": [
       "281.9"
      ]
     },
     "execution_count": 45,
     "metadata": {},
     "output_type": "execute_result"
    }
   ],
   "source": [
    "round(model_gd[1], 1)"
   ]
  },
  {
   "cell_type": "code",
   "execution_count": 46,
   "metadata": {},
   "outputs": [],
   "source": [
    "test_simple_feature_matrix = np.c_[np.ones(X_test.shape[0]), X_test[simple_features].values]\n",
    "test_output = y_test[my_output].values"
   ]
  },
  {
   "cell_type": "code",
   "execution_count": 47,
   "metadata": {},
   "outputs": [
    {
     "data": {
      "text/plain": [
       "((4229, 2), (4229,))"
      ]
     },
     "execution_count": 47,
     "metadata": {},
     "output_type": "execute_result"
    }
   ],
   "source": [
    "test_simple_feature_matrix.shape, test_output.shape"
   ]
  },
  {
   "cell_type": "code",
   "execution_count": 48,
   "metadata": {},
   "outputs": [],
   "source": [
    "test_predictions = predict_output(test_simple_feature_matrix, model_gd) "
   ]
  },
  {
   "cell_type": "code",
   "execution_count": 49,
   "metadata": {},
   "outputs": [
    {
     "name": "stdout",
     "output_type": "stream",
     "text": [
      "test rss: 2.754000e+14\n"
     ]
    }
   ],
   "source": [
    "errors = test_predictions - test_output\n",
    "rss_test = np.dot(errors, errors)\n",
    "print(\"test rss: {:e}\".format(rss_test))"
   ]
  },
  {
   "cell_type": "code",
   "execution_count": 50,
   "metadata": {},
   "outputs": [],
   "source": [
    "multiple_features = ['sqft_living', 'sqft_living15']\n",
    "mult_output = 'price'\n",
    "\n",
    "mult_feature_matrix = np.c_[np.ones(X_train.shape[0]), X_train[multiple_features].values] #add constant term\n",
    "output = y_train[mult_output].values\n",
    "\n",
    "initial_weights = np.array([-100000., 1., 1.])\n",
    "step_size = 4e-12\n",
    "tolerance = 1e9"
   ]
  },
  {
   "cell_type": "code",
   "execution_count": 51,
   "metadata": {},
   "outputs": [],
   "source": [
    "mult_rgd = regression_gradient_descent(mult_feature_matrix, output, initial_weights, step_size, tolerance)"
   ]
  },
  {
   "cell_type": "code",
   "execution_count": 52,
   "metadata": {},
   "outputs": [
    {
     "data": {
      "text/plain": [
       "array([-9.99999688e+04,  2.45072603e+02,  6.52795267e+01])"
      ]
     },
     "execution_count": 52,
     "metadata": {},
     "output_type": "execute_result"
    }
   ],
   "source": [
    "mult_rgd"
   ]
  },
  {
   "cell_type": "code",
   "execution_count": 53,
   "metadata": {},
   "outputs": [],
   "source": [
    "test_mult_feature_matrix = np.c_[np.ones(X_test.shape[0]), X_test[multiple_features].values]\n",
    "test_mult_output = y_test[mult_output].values"
   ]
  },
  {
   "cell_type": "code",
   "execution_count": 54,
   "metadata": {},
   "outputs": [],
   "source": [
    "test_mult_predictions = predict_output(test_mult_feature_matrix, mult_rgd)"
   ]
  },
  {
   "cell_type": "code",
   "execution_count": 55,
   "metadata": {},
   "outputs": [
    {
     "name": "stdout",
     "output_type": "stream",
     "text": [
      "test mult rss: 2.702634e+14\n"
     ]
    }
   ],
   "source": [
    "test_errors = test_mult_predictions - test_mult_output\n",
    "rss_mult_test = np.dot(test_errors, test_errors)\n",
    "print(\"test mult rss: {:e}\".format(rss_mult_test))"
   ]
  },
  {
   "cell_type": "code",
   "execution_count": 56,
   "metadata": {},
   "outputs": [
    {
     "data": {
      "text/plain": [
       "True"
      ]
     },
     "execution_count": 56,
     "metadata": {},
     "output_type": "execute_result"
    }
   ],
   "source": [
    "rss_test > rss_mult_test"
   ]
  },
  {
   "cell_type": "code",
   "execution_count": 57,
   "metadata": {},
   "outputs": [],
   "source": [
    "sales = sales.sort_values(['sqft_living', 'price'])"
   ]
  },
  {
   "cell_type": "code",
   "execution_count": 58,
   "metadata": {},
   "outputs": [],
   "source": [
    "poly1 = PolynomialFeatures(degree = 1)\n",
    "poly1_data = poly1.fit_transform(sales[['sqft_living']])"
   ]
  },
  {
   "cell_type": "code",
   "execution_count": 59,
   "metadata": {},
   "outputs": [
    {
     "data": {
      "text/plain": [
       "array([[1.000e+00, 2.900e+02],\n",
       "       [1.000e+00, 3.700e+02],\n",
       "       [1.000e+00, 3.800e+02],\n",
       "       ...,\n",
       "       [1.000e+00, 1.004e+04],\n",
       "       [1.000e+00, 1.205e+04],\n",
       "       [1.000e+00, 1.354e+04]])"
      ]
     },
     "execution_count": 59,
     "metadata": {},
     "output_type": "execute_result"
    }
   ],
   "source": [
    "poly1_data"
   ]
  },
  {
   "cell_type": "code",
   "execution_count": 60,
   "metadata": {},
   "outputs": [],
   "source": [
    "poly1_r = LinearRegression().fit(poly1_data, sales['price'])"
   ]
  },
  {
   "cell_type": "code",
   "execution_count": 62,
   "metadata": {},
   "outputs": [
    {
     "data": {
      "text/plain": [
       "(array([  0.       , 280.6235679]), -43580.74309447361)"
      ]
     },
     "execution_count": 62,
     "metadata": {},
     "output_type": "execute_result"
    }
   ],
   "source": [
    "poly1_r.coef_, poly1_r.intercept_"
   ]
  },
  {
   "cell_type": "code",
   "execution_count": 63,
   "metadata": {},
   "outputs": [
    {
     "data": {
      "text/plain": [
       "array([  290.,   370.,   380., ..., 10040., 12050., 13540.])"
      ]
     },
     "execution_count": 63,
     "metadata": {},
     "output_type": "execute_result"
    }
   ],
   "source": [
    "poly1_data[:,1]"
   ]
  },
  {
   "cell_type": "code",
   "execution_count": 64,
   "metadata": {},
   "outputs": [
    {
     "data": {
      "text/plain": [
       "[<matplotlib.lines.Line2D at 0x1a16943b38>,\n",
       " <matplotlib.lines.Line2D at 0x102b08d30>]"
      ]
     },
     "execution_count": 64,
     "metadata": {},
     "output_type": "execute_result"
    },
    {
     "data": {
      "image/png": "[encoded data removed]",
      "text/plain": [
       "<Figure size 432x288 with 1 Axes>"
      ]
     },
     "metadata": {
      "needs_background": "light"
     },
     "output_type": "display_data"
    }
   ],
   "source": [
    "plt.plot(poly1_data[:, 1], sales['price'],'.',\n",
    "        poly1_data[:, 1], poly1_r.predict(poly1_data),'-')"
   ]
  },
  {
   "cell_type": "code",
   "execution_count": 65,
   "metadata": {},
   "outputs": [
    {
     "data": {
      "text/plain": [
       "(array([0.00000000e+00, 6.79940947e+01, 3.85812609e-02]), 199222.27930564433)"
      ]
     },
     "execution_count": 65,
     "metadata": {},
     "output_type": "execute_result"
    }
   ],
   "source": [
    "poly2 = PolynomialFeatures(degree = 2)\n",
    "poly2_data = poly2.fit_transform(sales[['sqft_living']])\n",
    "poly2_r = LinearRegression().fit(poly2_data, sales['price'])\n",
    "poly2_r.coef_, poly2_r.intercept_"
   ]
  },
  {
   "cell_type": "code",
   "execution_count": 66,
   "metadata": {},
   "outputs": [
    {
     "data": {
      "text/plain": [
       "[<matplotlib.lines.Line2D at 0x1a16ae3898>,\n",
       " <matplotlib.lines.Line2D at 0x1a16ae3978>]"
      ]
     },
     "execution_count": 66,
     "metadata": {},
     "output_type": "execute_result"
    },
    {
     "data": {
      "image/png": "[encoded data removed]",
      "text/plain": [
       "<Figure size 432x288 with 1 Axes>"
      ]
     },
     "metadata": {
      "needs_background": "light"
     },
     "output_type": "display_data"
    }
   ],
   "source": [
    "plt.plot(poly2_data[:, 1], sales['price'],'.',\n",
    "        poly2_data[:, 1], poly2_r.predict(poly2_data),'-')"
   ]
  },
  {
   "cell_type": "code",
   "execution_count": 67,
   "metadata": {},
   "outputs": [
    {
     "data": {
      "text/plain": [
       "array([ 0.00000000e+00, -9.01819864e+01,  8.70465088e-02, -3.84055259e-06])"
      ]
     },
     "execution_count": 67,
     "metadata": {},
     "output_type": "execute_result"
    }
   ],
   "source": [
    "from sklearn.pipeline import Pipeline # using a pipeline\n",
    "\n",
    "model = Pipeline([('poly', PolynomialFeatures(degree=3)),\n",
    "                  ('linear', LinearRegression())])\n",
    "model = model.fit(sales[['sqft_living']], sales['price'])\n",
    "model.named_steps['linear'].coef_"
   ]
  },
  {
   "cell_type": "code",
   "execution_count": 68,
   "metadata": {},
   "outputs": [
    {
     "data": {
      "text/plain": [
       "(array([ 0.00000000e+00, -9.01819864e+01,  8.70465088e-02, -3.84055259e-06]),\n",
       " 336819.7482679542)"
      ]
     },
     "execution_count": 68,
     "metadata": {},
     "output_type": "execute_result"
    }
   ],
   "source": [
    "poly3 = PolynomialFeatures(degree = 3)\n",
    "poly3_data = poly3.fit_transform(sales[['sqft_living']])\n",
    "poly3_r = LinearRegression().fit(poly3_data, sales['price'])\n",
    "poly3_r.coef_, poly3_r.intercept_"
   ]
  },
  {
   "cell_type": "code",
   "execution_count": 69,
   "metadata": {},
   "outputs": [
    {
     "data": {
      "text/plain": [
       "[<matplotlib.lines.Line2D at 0x1a16ed35f8>,\n",
       " <matplotlib.lines.Line2D at 0x1a16ed36d8>]"
      ]
     },
     "execution_count": 69,
     "metadata": {},
     "output_type": "execute_result"
    },
    {
     "data": {
      "image/png": "[encoded data removed]",
      "text/plain": [
       "<Figure size 432x288 with 1 Axes>"
      ]
     },
     "metadata": {
      "needs_background": "light"
     },
     "output_type": "display_data"
    }
   ],
   "source": [
    "plt.plot(poly3_data[:, 1], sales['price'],'.',\n",
    "        poly3_data[:, 1], poly3_r.predict(poly3_data),'-')"
   ]
  },
  {
   "cell_type": "code",
   "execution_count": 70,
   "metadata": {},
   "outputs": [
    {
     "data": {
      "text/plain": [
       "(array([ 0.00000000e+00,  1.38184378e-50,  1.02680916e-55,  2.48920611e-60,\n",
       "         6.46712511e-78,  3.14372684e-75,  2.68575522e-71,  2.26147568e-67,\n",
       "         1.85900299e-63,  1.47144116e-59,  1.09771012e-55,  7.43509038e-52,\n",
       "         4.23015578e-48,  1.61618577e-44, -2.49283826e-48,  9.59718336e-53]),\n",
       " 537116.3296377152)"
      ]
     },
     "execution_count": 70,
     "metadata": {},
     "output_type": "execute_result"
    }
   ],
   "source": [
    "poly15 = PolynomialFeatures(degree = 15)\n",
    "poly15_data = poly15.fit_transform(sales[['sqft_living']])\n",
    "poly15_r = LinearRegression().fit(poly15_data, sales['price'])\n",
    "poly15_r.coef_, poly15_r.intercept_"
   ]
  },
  {
   "cell_type": "code",
   "execution_count": 71,
   "metadata": {},
   "outputs": [
    {
     "data": {
      "text/plain": [
       "[<matplotlib.lines.Line2D at 0x1a170c5a58>,\n",
       " <matplotlib.lines.Line2D at 0x1a170c5b38>]"
      ]
     },
     "execution_count": 71,
     "metadata": {},
     "output_type": "execute_result"
    },
    {
     "data": {
      "image/png": "[encoded data removed]",
      "text/plain": [
       "<Figure size 432x288 with 1 Axes>"
      ]
     },
     "metadata": {
      "needs_background": "light"
     },
     "output_type": "display_data"
    }
   ],
   "source": [
    "plt.plot(poly15_data[:, 1], sales['price'],'.',\n",
    "        poly15_data[:, 1], poly15_r.predict(poly15_data),'-')"
   ]
  },
  {
   "cell_type": "code",
   "execution_count": 72,
   "metadata": {},
   "outputs": [],
   "source": [
    "set1 = pd.read_csv(\"./data/wk3_kc_house_set_1_data.csv\", dtype = dtype_dict)\n",
    "set2 = pd.read_csv(\"./data/wk3_kc_house_set_2_data.csv\", dtype = dtype_dict)\n",
    "set3 = pd.read_csv(\"./data/wk3_kc_house_set_3_data.csv\", dtype = dtype_dict)\n",
    "set4 = pd.read_csv(\"./data/wk3_kc_house_set_4_data.csv\", dtype = dtype_dict)"
   ]
  },
  {
   "cell_type": "code",
   "execution_count": 73,
   "metadata": {},
   "outputs": [],
   "source": [
    "def poly15_models(sales):\n",
    "    \n",
    "    poly15 = PolynomialFeatures(degree = 15)\n",
    "    poly15_data = poly15.fit_transform(sales[['sqft_living']])\n",
    "    poly15_r = LinearRegression().fit(poly15_data, sales['price'])\n",
    "    print(\"Coefficients: {}\".format(poly15_r.coef_))\n",
    "    print(\"Intercept: {}\".format(poly15_r.intercept_))\n",
    "    \n",
    "    plt.plot(poly15_data[:, 1], sales['price'],'.',\n",
    "        poly15_data[:, 1], poly15_r.predict(poly15_data),'-')\n",
    "    \n",
    "    plt.show()\n",
    "    plt.clf()"
   ]
  },
  {
   "cell_type": "code",
   "execution_count": 74,
   "metadata": {},
   "outputs": [
    {
     "name": "stdout",
     "output_type": "stream",
     "text": [
      "Coefficients: [ 0.00000000e+00  6.33540315e-50 -2.03745288e-56  1.72116306e-91\n",
      "  1.33208608e-77  1.43630527e-74  1.10358333e-70  8.37724029e-67\n",
      "  6.23411957e-63  4.49156442e-59  3.06938763e-55  1.91749300e-51\n",
      "  1.01335180e-47  3.62176959e-44 -5.63501661e-48  2.18641116e-52]\n",
      "Intercept: 539058.8186677867\n"
     ]
    },
    {
     "data": {
      "image/png": "[encoded data removed]",
      "text/plain": [
       "<Figure size 432x288 with 1 Axes>"
      ]
     },
     "metadata": {
      "needs_background": "light"
     },
     "output_type": "display_data"
    },
    {
     "data": {
      "text/plain": [
       "<Figure size 432x288 with 0 Axes>"
      ]
     },
     "metadata": {},
     "output_type": "display_data"
    }
   ],
   "source": [
    "poly15_models(set1)"
   ]
  },
  {
   "cell_type": "code",
   "execution_count": 75,
   "metadata": {},
   "outputs": [
    {
     "name": "stdout",
     "output_type": "stream",
     "text": [
      "Coefficients: [ 0.00000000e+00  3.40105702e-39  3.47414634e-44  2.86331991e-50\n",
      "  3.30319658e-74  6.14409047e-62  8.23283038e-59  3.62352454e-55\n",
      "  1.49599410e-51  5.73163831e-48  1.94877552e-44  5.37108690e-41\n",
      "  9.36636464e-38 -3.61949030e-41  4.63300802e-45 -1.96221126e-49]\n",
      "Intercept: 506909.3894831238\n"
     ]
    },
    {
     "data": {
      "image/png": "[encoded data removed]",
      "text/plain": [
       "<Figure size 432x288 with 1 Axes>"
      ]
     },
     "metadata": {
      "needs_background": "light"
     },
     "output_type": "display_data"
    },
    {
     "data": {
      "text/plain": [
       "<Figure size 432x288 with 0 Axes>"
      ]
     },
     "metadata": {},
     "output_type": "display_data"
    }
   ],
   "source": [
    "poly15_models(set2)"
   ]
  },
  {
   "cell_type": "code",
   "execution_count": 76,
   "metadata": {},
   "outputs": [
    {
     "name": "stdout",
     "output_type": "stream",
     "text": [
      "Coefficients: [ 0.00000000e+00  5.94972747e-49 -1.11795144e-54  3.14856579e-88\n",
      "  7.30952961e-76  6.72328695e-73  4.27894908e-69  2.68009626e-65\n",
      "  1.63911362e-61  9.66435015e-58  5.38044653e-54  2.72563636e-50\n",
      "  1.16253248e-46  3.33756141e-43 -6.76238818e-47  3.43132932e-51]\n",
      "Intercept: 530874.3166533592\n"
     ]
    },
    {
     "data": {
      "image/png": "[encoded data removed]",
      "text/plain": [
       "<Figure size 432x288 with 1 Axes>"
      ]
     },
     "metadata": {
      "needs_background": "light"
     },
     "output_type": "display_data"
    },
    {
     "data": {
      "text/plain": [
       "<Figure size 432x288 with 0 Axes>"
      ]
     },
     "metadata": {},
     "output_type": "display_data"
    }
   ],
   "source": [
    "poly15_models(set3)"
   ]
  },
  {
   "cell_type": "code",
   "execution_count": 77,
   "metadata": {},
   "outputs": [
    {
     "name": "stdout",
     "output_type": "stream",
     "text": [
      "Coefficients: [ 0.00000000e+00  3.39050009e-39 -9.39120287e-45 -5.59211864e-50\n",
      "  1.69259671e-73  2.25351932e-61  3.13653138e-58  1.27123514e-54\n",
      "  4.88047059e-51  1.73604391e-47  5.47212235e-44  1.39622551e-40\n",
      "  2.25092472e-37 -9.44166791e-41  1.31602795e-44 -6.09301610e-49]\n",
      "Intercept: 494810.0345691459\n"
     ]
    },
    {
     "data": {
      "image/png": "[encoded data removed]",
      "text/plain": [
       "<Figure size 432x288 with 1 Axes>"
      ]
     },
     "metadata": {
      "needs_background": "light"
     },
     "output_type": "display_data"
    },
    {
     "data": {
      "text/plain": [
       "<Figure size 432x288 with 0 Axes>"
      ]
     },
     "metadata": {},
     "output_type": "display_data"
    }
   ],
   "source": [
    "poly15_models(set4)"
   ]
  },
  {
   "cell_type": "code",
   "execution_count": 78,
   "metadata": {},
   "outputs": [],
   "source": [
    "training = pd.read_csv(\"./data/wk3_kc_house_train_data.csv\", dtype = dtype_dict)\n",
    "validation = pd.read_csv(\"./data/wk3_kc_house_valid_data.csv\", dtype = dtype_dict)\n",
    "testing = pd.read_csv(\"./data/wk3_kc_house_test_data.csv\", dtype = dtype_dict)"
   ]
  },
  {
   "cell_type": "code",
   "execution_count": 79,
   "metadata": {},
   "outputs": [
    {
     "data": {
      "text/plain": [
       "((9761, 21), (9635, 21), (2217, 21))"
      ]
     },
     "execution_count": 79,
     "metadata": {},
     "output_type": "execute_result"
    }
   ],
   "source": [
    "training.shape, validation.shape, testing.shape"
   ]
  },
  {
   "cell_type": "code",
   "execution_count": 80,
   "metadata": {},
   "outputs": [],
   "source": [
    "def calc_rss(data, output, model):\n",
    "    residuals = output - model.predict(data)\n",
    "    rss = (residuals * residuals).sum()\n",
    "    return rss"
   ]
  },
  {
   "cell_type": "code",
   "execution_count": 81,
   "metadata": {},
   "outputs": [],
   "source": [
    "rss = list()\n",
    "\n",
    "for power in range(1, 15+1):\n",
    "    \n",
    "    poly15 = PolynomialFeatures(degree = power)\n",
    "    poly15_data = poly15.fit_transform(training[['sqft_living']])\n",
    "    poly15_r = LinearRegression().fit(poly15_data, training['price'])\n",
    "\n",
    "    validation_data = PolynomialFeatures(degree = power)\n",
    "    validation15_data = validation_data.fit_transform(validation[['sqft_living']])\n",
    "    \n",
    "    rss.append(calc_rss(validation15_data, validation['price'], poly15_r))"
   ]
  },
  {
   "cell_type": "code",
   "execution_count": 82,
   "metadata": {},
   "outputs": [
    {
     "data": {
      "text/plain": [
       "[629097886299585.5,\n",
       " 623955062706517.8,\n",
       " 625820280237056.5,\n",
       " 629987341492119.1,\n",
       " 628247484251984.8,\n",
       " 566268541131185.8,\n",
       " 1073846247428393.4,\n",
       " 7087999013199630.0,\n",
       " 4.530215256317489e+16,\n",
       " 2.4753418402465597e+17,\n",
       " 1.1954397554324467e+18,\n",
       " 5.198565714943959e+18,\n",
       " 7.616230021199416e+17,\n",
       " 2.2975609251223862e+18,\n",
       " 6.955038097699055e+18]"
      ]
     },
     "execution_count": 82,
     "metadata": {},
     "output_type": "execute_result"
    }
   ],
   "source": [
    "rss"
   ]
  },
  {
   "cell_type": "code",
   "execution_count": 83,
   "metadata": {},
   "outputs": [
    {
     "name": "stdout",
     "output_type": "stream",
     "text": [
      "degree with lowest RSS: 6, rss = 566268541131185.8\n"
     ]
    }
   ],
   "source": [
    "print(\"degree with lowest RSS: {0}, rss = {1}\".format(np.argmin(rss) + 1, np.min(rss)))"
   ]
  },
  {
   "cell_type": "code",
   "execution_count": 84,
   "metadata": {},
   "outputs": [
    {
     "data": {
      "text/plain": [
       "(array([ 0.00000000e+00,  1.99363169e-08,  2.44826283e-08,  3.79412496e-05,\n",
       "        -9.89793412e-09,  1.06074595e-12, -3.90873908e-17]),\n",
       " 297506.78714612906)"
      ]
     },
     "execution_count": 84,
     "metadata": {},
     "output_type": "execute_result"
    }
   ],
   "source": [
    "power = 6\n",
    "\n",
    "poly6 = PolynomialFeatures(degree = power)\n",
    "poly_data = poly6.fit_transform(training[['sqft_living']])\n",
    "poly_r = LinearRegression().fit(poly_data, training['price'])\n",
    "poly_r.coef_, poly_r.intercept_\n"
   ]
  },
  {
   "cell_type": "code",
   "execution_count": 85,
   "metadata": {},
   "outputs": [
    {
     "name": "stdout",
     "output_type": "stream",
     "text": [
      "1.35e+14\n"
     ]
    }
   ],
   "source": [
    "testing_data = PolynomialFeatures(degree = power)\n",
    "testing6_data = testing_data.fit_transform(testing[['sqft_living']])\n",
    "\n",
    "rss_test = calc_rss(testing6_data, testing['price'], poly_r)\n",
    "rss_test\n",
    "print(\"{:.2e}\".format(rss_test))"
   ]
  },
  {
   "cell_type": "code",
   "execution_count": null,
   "metadata": {},
   "outputs": [],
   "source": []
  },
  {
   "cell_type": "code",
   "execution_count": null,
   "metadata": {},
   "outputs": [],
   "source": []
  }
 ],
 "metadata": {
  "kernelspec": {
   "display_name": "Python 2",
   "language": "python",
   "name": "python2"
  },
  "language_info": {
   "codemirror_mode": {
    "name": "ipython",
    "version": 2
   },
   "file_extension": ".py",
   "mimetype": "text/x-python",
   "name": "python",
   "nbconvert_exporter": "python",
   "pygments_lexer": "ipython2",
   "version": "2.7.15"
  }
 },
 "nbformat": 4,
 "nbformat_minor": 2
}
